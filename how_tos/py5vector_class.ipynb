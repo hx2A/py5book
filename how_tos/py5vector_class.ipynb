{
 "cells": [
  {
   "cell_type": "markdown",
   "id": "464f08a2-6004-40a6-a7a0-bf3b0a7f8287",
   "metadata": {},
   "source": [
    "# How to Use the Py5Vector Class\n",
    "\n",
    "Over the past few months, one of the most requested py5 features has been a dedicated vector class. Since there is a lot of interest, I wanted to build a draft version of a vector class that I am now making available for discussion with the growing py5 community.\n",
    "\n",
    "The vector class code associated with this blog post is available on [gist](https://gist.github.com/hx2A/8153536086d63beba28b496ce007309f), but since this is an evolving process, the most current version will always be in the [github repo](https://github.com/hx2A/py5generator/blob/vectors/py5_resources/py5_module/py5/vector.py). I've also created a [discussion on github for feedback](https://github.com/hx2A/py5generator/discussions/55); please direct your comments and questions there. Feel free to comment or question anything you like.\n",
    "\n",
    "<!-- TEASER_END -->"
   ]
  },
  {
   "cell_type": "markdown",
   "id": "61c4dcd7-4478-42ac-9578-4028068222a8",
   "metadata": {},
   "source": [
    "## Background\n",
    "\n",
    "The py5 library, as you know, is a Python version of Processing that uses the JPype bridge to connect Python to the Processing Java code. Therefore, the functionality provided by py5 comes from actual Java objects that are created while programming in Python. Early on in the development of py5 I had to make choices about which Java classes to include and which fields and methods to expose to Python. It was at that time that I made the decision that Processing's PVector and PMatrix classes would be left out, because it didn't make sense to me to make calls to Java to do math calculations that could also be done with numpy arrays. Recall the goal of py5 is to create a new version of Processing that is integrated into the Python ecosystem. I want to leverage Python's strengths whenever possible, while making intelligent choices about when to provide functionality with Processing's code and when to use other Python libraries instead.\n",
    "\n",
    "Also be aware that there would be performance implications to using Processing's PVector and PMatrix classes from Python. A likely use case for these classes is to do many math operations in each call to `draw()`, which would result in a lot of going back and forth between Python and Java. I don't want py5 to be slow for reasons that are hard for beginners to understand.\n",
    "\n",
    "Using numpy arrays for vector calculations does work well but it quickly became apparent that for some vector uses cases, such as rotations, it can be a real drag. Can any of you type out the code for a rotation matrix to rotate one vector around another without looking it up? I can't. Does anyone want to stop and look that up when they are writing code? I don't. Instead, let's make our lives easier by providing a dedicated vector class to do this stuff for us. This new class will be backed by a numpy array and provide methods for useful vector operations so we will get good performance without having to think so much about the details of the vector calculations."
   ]
  },
  {
   "cell_type": "markdown",
   "id": "bd1f5adb-4513-4f66-baae-88c119d0d744",
   "metadata": {},
   "source": [
    "## Goals\n",
    "\n",
    "Before delving into the details, I wanted to list the goals or guiding principles that drove the design decisions. Feel free to comment or question these as well.\n",
    "\n",
    "* Consistency with general programming conventions established by numpy, Processing, and general Python programming. This will accomplish two things:\n",
    "   1. The vector class will be more intuitive for folks who already have experience with numpy and Processing\n",
    "   2. The vector class will help introduce new concepts that beginner programmers will see again in their learning paths. This will help build the foundation for intuition and help py5 become a useful teaching tool.\n",
    "* Leverage Python's strengths where it makes sense to do so.\n",
    "* This shouldn't expand into a scientific computing vector library. There are already other Python libraries that provide that functionality, and I know it would be a tremendous amount of work to try to duplicate that. I'm willing to sacrifice some performance in favor of simplicity and usability.\n",
    "* The vector class should work well with numpy functions so users are not limited to only the mathematical operations built into the class. I don't want the vector class to need to include every possible linear algebra function to maximize its potential.\n",
    "* The quantitative calculations need to be correct because to do otherwise is misleading and a disservice to beginners.\n",
    "* Error messages should be appropriate and helpful. Any error message that falls short of that should be reported. (This applies to all of py5.)"
   ]
  },
  {
   "cell_type": "markdown",
   "id": "aa0e115b-c64b-4f60-89dc-b9c9db78d3b0",
   "metadata": {},
   "source": [
    "## Creating Vectors\n",
    "\n",
    "Now let's get to the fun part: creating our first `Py5Vector`."
   ]
  },
  {
   "cell_type": "code",
   "execution_count": 1,
   "id": "d57e08aa-4c4e-47d3-90be-548ade129e72",
   "metadata": {},
   "outputs": [
    {
     "data": {
      "text/plain": [
       "Py5Vector3D([1., 2., 3.])"
      ]
     },
     "execution_count": 1,
     "metadata": {},
     "output_type": "execute_result"
    }
   ],
   "source": [
    "import numpy as np\n",
    "from py5 import Py5Vector\n",
    "\n",
    "v1 = Py5Vector(1, 2, 3)\n",
    "\n",
    "v1"
   ]
  },
  {
   "cell_type": "markdown",
   "id": "745049ce-a020-4691-83a2-8b40d48e477f",
   "metadata": {},
   "source": [
    "Observe that we used the `Py5Vector` constructor and got an instance of `Py5Vector3D` back. What's actually happening here is there are 3 vector classes: `Py5Vector2D`, `Py5Vector3D`, and `Py5Vector4D`, all of which inherit from `Py5Vector`, and all of which can be constructed with `Py5Vector`. (All of this comes about by implementing `__new__` instead of `__init__` in the parent class). You'll really only need `Py5Vector` except when you want to use `isinstance`."
   ]
  },
  {
   "cell_type": "code",
   "execution_count": 2,
   "id": "a274824c-dd0f-4759-8816-3805fef43cc6",
   "metadata": {},
   "outputs": [
    {
     "name": "stdout",
     "output_type": "stream",
     "text": [
      "is Py5Vector? True\n",
      "is Py5Vector2D? False\n",
      "is Py5Vector3D? True\n",
      "is Py5Vector4D? False\n"
     ]
    }
   ],
   "source": [
    "from py5 import Py5Vector2D, Py5Vector3D, Py5Vector4D\n",
    "\n",
    "print('is Py5Vector?', isinstance(v1, Py5Vector))\n",
    "print('is Py5Vector2D?', isinstance(v1, Py5Vector2D))\n",
    "print('is Py5Vector3D?', isinstance(v1, Py5Vector3D))\n",
    "print('is Py5Vector4D?', isinstance(v1, Py5Vector4D))"
   ]
  },
  {
   "cell_type": "markdown",
   "id": "60379419-6e0c-42b6-aaa7-8016771bf92e",
   "metadata": {},
   "source": [
    "The `Py5Vector` constructor is reasonably sophisticated in what inputs it will accept. It will figure out the appropriate dimensionality of the inputs and create an instance of the proper vector class. The other vector classes like `Py5Vector3D` are similar except they are specific to vectors with a certain dimension (i.e., only 3D vectors). Most of the time you'll only need `Py5Vector`."
   ]
  },
  {
   "cell_type": "code",
   "execution_count": 3,
   "id": "936eaa08-c580-4e64-b97c-5052df2229d6",
   "metadata": {},
   "outputs": [
    {
     "data": {
      "text/plain": [
       "Py5Vector3D([10., 20., 30.])"
      ]
     },
     "execution_count": 3,
     "metadata": {},
     "output_type": "execute_result"
    }
   ],
   "source": [
    "Py5Vector3D(10, 20, 30)"
   ]
  },
  {
   "cell_type": "code",
   "execution_count": 4,
   "id": "85066307-9489-4bc4-a7c7-a5bdbe5f7c5f",
   "metadata": {},
   "outputs": [
    {
     "name": "stdout",
     "output_type": "stream",
     "text": [
      "Error: dim parameter is 2 but Py5Vector values imply dimension of 3\n"
     ]
    }
   ],
   "source": [
    "try:\n",
    "    Py5Vector2D(10, 20, 30)\n",
    "except RuntimeError as e:\n",
    "    print(e)"
   ]
  },
  {
   "cell_type": "code",
   "execution_count": 5,
   "id": "6cca8e01-e35c-4bd0-adeb-99bdab8d8570",
   "metadata": {},
   "outputs": [
    {
     "data": {
      "text/plain": [
       "Py5Vector2D([10., 20.])"
      ]
     },
     "execution_count": 5,
     "metadata": {},
     "output_type": "execute_result"
    }
   ],
   "source": [
    "Py5Vector2D(10, 20)"
   ]
  },
  {
   "cell_type": "markdown",
   "id": "0798385c-acc6-48bd-8295-585e89365238",
   "metadata": {},
   "source": [
    "You can create a vector using other inputs besides a sequence of numbers."
   ]
  },
  {
   "cell_type": "code",
   "execution_count": 6,
   "id": "32c03691-0aac-4b9b-98c8-61c18bc404f6",
   "metadata": {},
   "outputs": [
    {
     "data": {
      "text/plain": [
       "Py5Vector3D([2., 4., 6.])"
      ]
     },
     "execution_count": 6,
     "metadata": {},
     "output_type": "execute_result"
    }
   ],
   "source": [
    "Py5Vector([2, 4, 6])"
   ]
  },
  {
   "cell_type": "code",
   "execution_count": 7,
   "id": "1dab2fd2-60af-4e54-8e84-e9674e3ec2de",
   "metadata": {},
   "outputs": [
    {
     "data": {
      "text/plain": [
       "Py5Vector3D([0, 1, 2])"
      ]
     },
     "execution_count": 7,
     "metadata": {},
     "output_type": "execute_result"
    }
   ],
   "source": [
    "Py5Vector(np.arange(3))"
   ]
  },
  {
   "cell_type": "markdown",
   "id": "190abd57-dbca-4b36-9bf1-39056b38ae6e",
   "metadata": {},
   "source": [
    "You can create a vector using another vector. In this example, we create a 4D vector from a 3D vector and an extra number (0) for the 4th dimension:"
   ]
  },
  {
   "cell_type": "code",
   "execution_count": 8,
   "id": "4f663a25-2ca3-4d08-93e2-18874bc69895",
   "metadata": {},
   "outputs": [
    {
     "data": {
      "text/plain": [
       "Py5Vector4D([1., 2., 3., 0.])"
      ]
     },
     "execution_count": 8,
     "metadata": {},
     "output_type": "execute_result"
    }
   ],
   "source": [
    "Py5Vector(v1, 0)"
   ]
  },
  {
   "cell_type": "markdown",
   "id": "0086a2cd-10b3-4502-a04e-454df9fcb6bb",
   "metadata": {},
   "source": [
    "Sometimes you need a vector of zeros. Either of the following will work:"
   ]
  },
  {
   "cell_type": "code",
   "execution_count": 9,
   "id": "2df96cce-4ebb-4e83-8427-ac8d91f2fa4c",
   "metadata": {},
   "outputs": [
    {
     "data": {
      "text/plain": [
       "Py5Vector3D([0., 0., 0.])"
      ]
     },
     "execution_count": 9,
     "metadata": {},
     "output_type": "execute_result"
    }
   ],
   "source": [
    "Py5Vector(dim=3)"
   ]
  },
  {
   "cell_type": "code",
   "execution_count": 10,
   "id": "b161dc7b-c833-4c65-9324-3a03c5ad10b8",
   "metadata": {},
   "outputs": [
    {
     "data": {
      "text/plain": [
       "Py5Vector3D([0., 0., 0.])"
      ]
     },
     "execution_count": 10,
     "metadata": {},
     "output_type": "execute_result"
    }
   ],
   "source": [
    "Py5Vector3D()"
   ]
  },
  {
   "cell_type": "markdown",
   "id": "1eb75fa9-c9c1-4ab6-bdce-6e93ebf3e32a",
   "metadata": {},
   "source": [
    "There are class methods for creating random vectors. Random vectors will have a magnitude of 1."
   ]
  },
  {
   "cell_type": "code",
   "execution_count": 11,
   "id": "5173f36a-726d-4f08-9b48-97db16f743a6",
   "metadata": {},
   "outputs": [
    {
     "data": {
      "text/plain": [
       "Py5Vector4D([-0.19608574, -0.03775483,  0.67372136,  0.71149454])"
      ]
     },
     "execution_count": 11,
     "metadata": {},
     "output_type": "execute_result"
    }
   ],
   "source": [
    "Py5Vector.random(dim=4)"
   ]
  },
  {
   "cell_type": "code",
   "execution_count": 12,
   "id": "ca4d81ca-00c5-49fc-8ed1-07b65a86647d",
   "metadata": {},
   "outputs": [
    {
     "data": {
      "text/plain": [
       "Py5Vector4D([ 0.48237797,  0.02526025, -0.81360335, -0.32360935])"
      ]
     },
     "execution_count": 12,
     "metadata": {},
     "output_type": "execute_result"
    }
   ],
   "source": [
    "Py5Vector4D.random()"
   ]
  },
  {
   "cell_type": "markdown",
   "id": "2a460f08-6cef-40e5-a1d4-711b0ae6206e",
   "metadata": {},
   "source": [
    "Also, a `from_heading()` class method, for creating vectors with a specific heading:"
   ]
  },
  {
   "cell_type": "code",
   "execution_count": 13,
   "id": "6e903077-870a-4a2c-86dc-1fc6284672b5",
   "metadata": {},
   "outputs": [
    {
     "data": {
      "text/plain": [
       "Py5Vector2D([0.70710678, 0.70710678])"
      ]
     },
     "execution_count": 13,
     "metadata": {},
     "output_type": "execute_result"
    }
   ],
   "source": [
    "Py5Vector.from_heading(np.pi / 4)"
   ]
  },
  {
   "cell_type": "markdown",
   "id": "884f8cb2-b991-4344-9d32-3da11cb1de28",
   "metadata": {},
   "source": [
    "Implementing 3D headings caused some headaches. The 3D heading calculations are consistent with [Wikipedia's Spherical Coordinate System article](https://en.wikipedia.org/wiki/Spherical_coordinate_system#Cartesian_coordinates), which is also consistent with this [Coding Train video](https://www.youtube.com/watch?v=RkuBWEkBrZA). Note that neither will give the same results as [p5's `fromAngles()`](https://p5js.org/reference/#/p5.Vector/fromAngles) calculations because p5 measures angles relative to different axes."
   ]
  },
  {
   "cell_type": "code",
   "execution_count": 14,
   "id": "734a84e9-4112-44a3-9aa4-1b67fd27e7f6",
   "metadata": {},
   "outputs": [
    {
     "data": {
      "text/plain": [
       "Py5Vector3D([0.0978434 , 0.01983384, 0.99500417])"
      ]
     },
     "execution_count": 14,
     "metadata": {},
     "output_type": "execute_result"
    }
   ],
   "source": [
    "Py5Vector.from_heading(0.1, 0.2)"
   ]
  },
  {
   "cell_type": "markdown",
   "id": "fa82cf00-d410-40dc-a574-3492e310ec2d",
   "metadata": {},
   "source": [
    "Implementing 4D headings caused even bigger headaches. The 4D heading calculations are consistent with [Wikipedia's N-Sphere article](https://en.wikipedia.org/wiki/N-sphere#Spherical_coordinates)."
   ]
  },
  {
   "cell_type": "code",
   "execution_count": 15,
   "id": "a9a48dd8-00c8-4ec7-acef-ac04eca90c25",
   "metadata": {},
   "outputs": [
    {
     "data": {
      "text/plain": [
       "Py5Vector4D([0.99500417, 0.0978434 , 0.01894799, 0.0058613 ])"
      ]
     },
     "execution_count": 15,
     "metadata": {},
     "output_type": "execute_result"
    }
   ],
   "source": [
    "Py5Vector.from_heading(0.1, 0.2, 0.3)"
   ]
  },
  {
   "cell_type": "markdown",
   "id": "626f0c6e-7359-47e7-a51d-31a35e612c99",
   "metadata": {},
   "source": [
    "## Data Types\n",
    "\n",
    "Like numpy arrays, `Py5Vector` instances have a data type (dtype)."
   ]
  },
  {
   "cell_type": "code",
   "execution_count": 16,
   "id": "4fa059c1-7ef1-4c42-8f66-ee05c0c3b43a",
   "metadata": {},
   "outputs": [
    {
     "data": {
      "text/plain": [
       "Py5Vector3D([1., 2., 3.])"
      ]
     },
     "execution_count": 16,
     "metadata": {},
     "output_type": "execute_result"
    }
   ],
   "source": [
    "v1"
   ]
  },
  {
   "cell_type": "code",
   "execution_count": 17,
   "id": "8f9306d6-2f2f-48fd-bbfc-f499542e21b9",
   "metadata": {},
   "outputs": [
    {
     "data": {
      "text/plain": [
       "dtype('float64')"
      ]
     },
     "execution_count": 17,
     "metadata": {},
     "output_type": "execute_result"
    }
   ],
   "source": [
    "v1.dtype"
   ]
  },
  {
   "cell_type": "markdown",
   "id": "27944af6-082d-4e88-aa5b-15e9e5563e8c",
   "metadata": {},
   "source": [
    "On 64 bit computers, the data type of vectors will default to 64 bit floating point numbers.\n",
    "\n",
    "If you like, you can specify a different sized floating data type. Only floating types are allowed."
   ]
  },
  {
   "cell_type": "code",
   "execution_count": 18,
   "id": "ce112c0d-5084-4483-8f28-557ed78dda29",
   "metadata": {},
   "outputs": [
    {
     "data": {
      "text/plain": [
       "Py5Vector3D([1., 3., 5.], dtype=float16)"
      ]
     },
     "execution_count": 18,
     "metadata": {},
     "output_type": "execute_result"
    }
   ],
   "source": [
    "v2 = Py5Vector(1, 3, 5, dtype=np.float16)\n",
    "\n",
    "v2"
   ]
  },
  {
   "cell_type": "markdown",
   "id": "ad5df24b-4767-4910-9e69-4892a3e0e33b",
   "metadata": {},
   "source": [
    "Much like numpy arrays, the data type will be propagated through math operations:"
   ]
  },
  {
   "cell_type": "code",
   "execution_count": 19,
   "id": "ca75ccfb-3dcc-4cec-aad6-3a9403820666",
   "metadata": {},
   "outputs": [
    {
     "data": {
      "text/plain": [
       "Py5Vector3D([1.1, 3.2, 5.3], dtype=float128)"
      ]
     },
     "execution_count": 19,
     "metadata": {},
     "output_type": "execute_result"
    }
   ],
   "source": [
    "v3 = Py5Vector(0.1, 0.2, 0.3, dtype=np.float128)\n",
    "\n",
    "v2 + v3"
   ]
  },
  {
   "cell_type": "markdown",
   "id": "aafc1ee3-c743-4eab-bf8b-4c2ec4c609f3",
   "metadata": {},
   "source": [
    "## Accessing Vector Data\n",
    "\n",
    "You can access the vector's data using array indexing or vector properties."
   ]
  },
  {
   "cell_type": "code",
   "execution_count": 20,
   "id": "5b29999a-517f-4865-8658-fae91e7677f2",
   "metadata": {},
   "outputs": [
    {
     "data": {
      "text/plain": [
       "Py5Vector3D([1., 2., 3.])"
      ]
     },
     "execution_count": 20,
     "metadata": {},
     "output_type": "execute_result"
    }
   ],
   "source": [
    "v1 = Py5Vector(1, 2, 3)\n",
    "\n",
    "v1"
   ]
  },
  {
   "cell_type": "code",
   "execution_count": 21,
   "id": "d2026783-af28-4910-a4f7-a0322534c62a",
   "metadata": {},
   "outputs": [
    {
     "data": {
      "text/plain": [
       "(1.0, 2.0, 3.0)"
      ]
     },
     "execution_count": 21,
     "metadata": {},
     "output_type": "execute_result"
    }
   ],
   "source": [
    "v1.x, v1.y, v1.z"
   ]
  },
  {
   "cell_type": "code",
   "execution_count": 22,
   "id": "07ce3e37-c08f-4522-8622-0475bfee0ea0",
   "metadata": {},
   "outputs": [
    {
     "data": {
      "text/plain": [
       "(1.0, 2.0, 3.0)"
      ]
     },
     "execution_count": 22,
     "metadata": {},
     "output_type": "execute_result"
    }
   ],
   "source": [
    "v1[0], v1[1], v1[2]"
   ]
  },
  {
   "cell_type": "markdown",
   "id": "8b515fe6-e346-4d7e-8086-2c9f934a05b2",
   "metadata": {},
   "source": [
    "A 2D vector does not have the third `z` attribute. A 4D vector has a fourth `w` attribute.\n",
    "\n",
    "All of these support assignment, including inplace operations."
   ]
  },
  {
   "cell_type": "code",
   "execution_count": 23,
   "id": "475a8a8a-e7df-477f-ada1-18ceae1cdd98",
   "metadata": {},
   "outputs": [
    {
     "data": {
      "text/plain": [
       "Py5Vector3D([10., 20., 33.])"
      ]
     },
     "execution_count": 23,
     "metadata": {},
     "output_type": "execute_result"
    }
   ],
   "source": [
    "v1.x = 10\n",
    "v1[1] = 20\n",
    "v1.z += 30\n",
    "\n",
    "v1"
   ]
  },
  {
   "cell_type": "markdown",
   "id": "b85a7646-669f-47d4-a554-28a74373056c",
   "metadata": {},
   "source": [
    "The vector has properties such as magnitude and heading that work the same way:"
   ]
  },
  {
   "cell_type": "code",
   "execution_count": 24,
   "id": "916b2834-57a6-401a-9a5d-39dd8630836b",
   "metadata": {},
   "outputs": [
    {
     "data": {
      "text/plain": [
       "39.8622628559895"
      ]
     },
     "execution_count": 24,
     "metadata": {},
     "output_type": "execute_result"
    }
   ],
   "source": [
    "v1.mag"
   ]
  },
  {
   "cell_type": "code",
   "execution_count": 25,
   "id": "ff5b8f83-823c-45d0-9600-2a54a363346c",
   "metadata": {},
   "outputs": [
    {
     "data": {
      "text/plain": [
       "Py5Vector3D([0.7525915 , 1.50518299, 2.48355193])"
      ]
     },
     "execution_count": 25,
     "metadata": {},
     "output_type": "execute_result"
    }
   ],
   "source": [
    "v1.mag = 3\n",
    "\n",
    "v1"
   ]
  },
  {
   "cell_type": "code",
   "execution_count": 26,
   "id": "9449da43-d573-4094-abc8-74da72d85764",
   "metadata": {},
   "outputs": [
    {
     "data": {
      "text/plain": [
       "3.0"
      ]
     },
     "execution_count": 26,
     "metadata": {},
     "output_type": "execute_result"
    }
   ],
   "source": [
    "v1.mag"
   ]
  },
  {
   "cell_type": "code",
   "execution_count": 27,
   "id": "80624253-f2dd-41fb-ba05-57bbcedb8009",
   "metadata": {},
   "outputs": [
    {
     "data": {
      "text/plain": [
       "(0.5955311914005236, 1.1071487177940904)"
      ]
     },
     "execution_count": 27,
     "metadata": {},
     "output_type": "execute_result"
    }
   ],
   "source": [
    "v1.heading"
   ]
  },
  {
   "cell_type": "code",
   "execution_count": 28,
   "id": "3952ee2a-be42-402e-834e-b519660b1d18",
   "metadata": {},
   "outputs": [
    {
     "data": {
      "text/plain": [
       "Py5Vector3D([1.5       , 1.5       , 2.12132034])"
      ]
     },
     "execution_count": 28,
     "metadata": {},
     "output_type": "execute_result"
    }
   ],
   "source": [
    "v1.heading = np.pi / 4, np.pi / 4\n",
    "\n",
    "v1"
   ]
  },
  {
   "cell_type": "code",
   "execution_count": 29,
   "id": "00208e4f-9036-4f24-be18-434613443caf",
   "metadata": {},
   "outputs": [
    {
     "data": {
      "text/plain": [
       "(0.7853981633974482, 0.7853981633974483)"
      ]
     },
     "execution_count": 29,
     "metadata": {},
     "output_type": "execute_result"
    }
   ],
   "source": [
    "v1.heading"
   ]
  },
  {
   "cell_type": "code",
   "execution_count": 30,
   "id": "529c816b-c658-446f-a3d5-662701a8b191",
   "metadata": {},
   "outputs": [
    {
     "data": {
      "text/plain": [
       "3.0"
      ]
     },
     "execution_count": 30,
     "metadata": {},
     "output_type": "execute_result"
    }
   ],
   "source": [
    "v1.mag"
   ]
  },
  {
   "cell_type": "code",
   "execution_count": 31,
   "id": "5ee5b31f-0ff7-4169-ac15-266bf1119c52",
   "metadata": {},
   "outputs": [
    {
     "data": {
      "text/plain": [
       "9.0"
      ]
     },
     "execution_count": 31,
     "metadata": {},
     "output_type": "execute_result"
    }
   ],
   "source": [
    "v1.mag_sq"
   ]
  },
  {
   "cell_type": "code",
   "execution_count": 32,
   "id": "66f6c071-0cf5-497d-8298-ed9401e92424",
   "metadata": {},
   "outputs": [
    {
     "data": {
      "text/plain": [
       "10.0"
      ]
     },
     "execution_count": 32,
     "metadata": {},
     "output_type": "execute_result"
    }
   ],
   "source": [
    "v1.mag_sq = 100\n",
    "\n",
    "v1.mag"
   ]
  },
  {
   "cell_type": "code",
   "execution_count": 33,
   "id": "9bc7844f-bff5-4056-8f29-4129529a90ba",
   "metadata": {},
   "outputs": [
    {
     "data": {
      "text/plain": [
       "Py5Vector3D([5.        , 5.        , 7.07106781])"
      ]
     },
     "execution_count": 33,
     "metadata": {},
     "output_type": "execute_result"
    }
   ],
   "source": [
    "v1"
   ]
  },
  {
   "cell_type": "markdown",
   "id": "4ba2eac0-7015-40ba-9651-be1e18ddef9e",
   "metadata": {},
   "source": [
    "There are also methods like `set_mag()`, `set_mag_sq()`, `set_limit()`, and `set_heading()` if you don't want to use the properties. Each of these will modify the vector in place and will return the vector itself to support method chaining."
   ]
  },
  {
   "cell_type": "code",
   "execution_count": 34,
   "id": "c1c479ae-7a78-483c-b5e0-bba0c1598b00",
   "metadata": {},
   "outputs": [
    {
     "data": {
      "text/plain": [
       "Py5Vector3D([-3.90580284,  2.76823014, -1.44277721])"
      ]
     },
     "execution_count": 34,
     "metadata": {},
     "output_type": "execute_result"
    }
   ],
   "source": [
    "v1 = Py5Vector.random(dim=3)\n",
    "\n",
    "v1.set_mag(5)"
   ]
  },
  {
   "cell_type": "code",
   "execution_count": 35,
   "id": "7af38b0e-0c6f-4176-bb98-d84dc7f5a580",
   "metadata": {},
   "outputs": [
    {
     "data": {
      "text/plain": [
       "Py5Vector3D([-3.90580284,  2.76823014, -1.44277721])"
      ]
     },
     "execution_count": 35,
     "metadata": {},
     "output_type": "execute_result"
    }
   ],
   "source": [
    "v1"
   ]
  },
  {
   "cell_type": "code",
   "execution_count": 94,
   "id": "c463ddcf-7d90-4d40-9ec5-0eaf21d459a6",
   "metadata": {},
   "outputs": [
    {
     "data": {
      "text/plain": [
       "Py5Vector3D([1.        , 1.        , 1.41421356])"
      ]
     },
     "execution_count": 94,
     "metadata": {},
     "output_type": "execute_result"
    }
   ],
   "source": [
    "v1.set_mag(2).set_heading(np.pi / 4, np.pi / 4)"
   ]
  },
  {
   "cell_type": "code",
   "execution_count": 95,
   "id": "91afe85a-f80d-4f83-894a-46ca3c2a611f",
   "metadata": {},
   "outputs": [
    {
     "data": {
      "text/plain": [
       "Py5Vector3D([1.        , 1.        , 1.41421356])"
      ]
     },
     "execution_count": 95,
     "metadata": {},
     "output_type": "execute_result"
    }
   ],
   "source": [
    "v1"
   ]
  },
  {
   "cell_type": "markdown",
   "id": "b02cb2b4-8061-48dd-845c-59d48c401b63",
   "metadata": {},
   "source": [
    "Use `normalize()` to modify the vector in place and normalize it. This will set the vector magnitude to `1`."
   ]
  },
  {
   "cell_type": "code",
   "execution_count": 96,
   "id": "61a6057e-6781-4e1d-83ab-1a8c88da9a17",
   "metadata": {},
   "outputs": [
    {
     "data": {
      "text/plain": [
       "2.0"
      ]
     },
     "execution_count": 96,
     "metadata": {},
     "output_type": "execute_result"
    }
   ],
   "source": [
    "v1.mag"
   ]
  },
  {
   "cell_type": "code",
   "execution_count": 97,
   "id": "f1f28e99-1dfb-42ba-bb39-c0025c5294be",
   "metadata": {},
   "outputs": [
    {
     "data": {
      "text/plain": [
       "Py5Vector3D([0.5       , 0.5       , 0.70710678])"
      ]
     },
     "execution_count": 97,
     "metadata": {},
     "output_type": "execute_result"
    }
   ],
   "source": [
    "v1.normalize()\n",
    "\n",
    "v1"
   ]
  },
  {
   "cell_type": "code",
   "execution_count": 98,
   "id": "8a8ac7e5-1481-4d30-b9c6-1efd2c4a8647",
   "metadata": {},
   "outputs": [
    {
     "data": {
      "text/plain": [
       "1.0"
      ]
     },
     "execution_count": 98,
     "metadata": {},
     "output_type": "execute_result"
    }
   ],
   "source": [
    "v1.mag"
   ]
  },
  {
   "cell_type": "markdown",
   "id": "25aaf8fc-78c1-4842-ad6c-23e1a13e2166",
   "metadata": {},
   "source": [
    "Each Py5Vector stores its vector data in a small numpy array. To access that, use the `data` attribute."
   ]
  },
  {
   "cell_type": "code",
   "execution_count": 99,
   "id": "8437b5d2-863b-4778-8901-512d89707ef1",
   "metadata": {},
   "outputs": [
    {
     "data": {
      "text/plain": [
       "array([0.5       , 0.5       , 0.70710678])"
      ]
     },
     "execution_count": 99,
     "metadata": {},
     "output_type": "execute_result"
    }
   ],
   "source": [
    "v1.data"
   ]
  },
  {
   "cell_type": "markdown",
   "id": "771c65ee-33bf-4ad1-abe1-9209f71c9475",
   "metadata": {},
   "source": [
    "You can also use the `dim` and `dtype` attributes to get the size and data type."
   ]
  },
  {
   "cell_type": "code",
   "execution_count": 100,
   "id": "0c19a1a2-6b9a-4f17-b713-7ce1f8e1df84",
   "metadata": {},
   "outputs": [
    {
     "data": {
      "text/plain": [
       "3"
      ]
     },
     "execution_count": 100,
     "metadata": {},
     "output_type": "execute_result"
    }
   ],
   "source": [
    "v1.dim"
   ]
  },
  {
   "cell_type": "code",
   "execution_count": 101,
   "id": "39cf00cc-cf43-4a61-9089-4e8a5f56c3a7",
   "metadata": {},
   "outputs": [
    {
     "data": {
      "text/plain": [
       "dtype('float64')"
      ]
     },
     "execution_count": 101,
     "metadata": {},
     "output_type": "execute_result"
    }
   ],
   "source": [
    "v1.dtype"
   ]
  },
  {
   "cell_type": "markdown",
   "id": "2eef5d31-2cc9-4cad-9f3f-ddacd3de580b",
   "metadata": {},
   "source": [
    "Use the `norm` attribute to create a normalized copy of a vector:"
   ]
  },
  {
   "cell_type": "code",
   "execution_count": 102,
   "id": "8296a702-3325-4a57-a8d8-d3b592e7c16b",
   "metadata": {},
   "outputs": [
    {
     "data": {
      "text/plain": [
       "Py5Vector3D([5.        , 5.        , 7.07106781])"
      ]
     },
     "execution_count": 102,
     "metadata": {},
     "output_type": "execute_result"
    }
   ],
   "source": [
    "v1 *= 10\n",
    "\n",
    "v1"
   ]
  },
  {
   "cell_type": "code",
   "execution_count": 103,
   "id": "d65b031c-2dc3-4773-ac1e-35762b3f9d12",
   "metadata": {},
   "outputs": [
    {
     "data": {
      "text/plain": [
       "Py5Vector3D([0.5       , 0.5       , 0.70710678])"
      ]
     },
     "execution_count": 103,
     "metadata": {},
     "output_type": "execute_result"
    }
   ],
   "source": [
    "v1.norm"
   ]
  },
  {
   "cell_type": "markdown",
   "id": "7bc19dcd-e6ee-4c67-98b7-4af6b69dc7ed",
   "metadata": {},
   "source": [
    "Use the `copy` attribute to create an unmodified copy of the vector:"
   ]
  },
  {
   "cell_type": "code",
   "execution_count": 104,
   "id": "0c7f5483-3547-4406-b10e-5e00051d9b03",
   "metadata": {},
   "outputs": [
    {
     "data": {
      "text/plain": [
       "Py5Vector3D([42.        ,  5.        ,  7.07106781])"
      ]
     },
     "execution_count": 104,
     "metadata": {},
     "output_type": "execute_result"
    }
   ],
   "source": [
    "v2 = v1.copy\n",
    "\n",
    "v2.x = 42\n",
    "\n",
    "v2"
   ]
  },
  {
   "cell_type": "markdown",
   "id": "c1db100f-01d0-4f91-a9a2-0c64ac962bff",
   "metadata": {},
   "source": [
    "Observe that `v1` is unchanged."
   ]
  },
  {
   "cell_type": "code",
   "execution_count": 105,
   "id": "3f517203-cbe3-4389-a61c-6e50e41012e5",
   "metadata": {},
   "outputs": [
    {
     "data": {
      "text/plain": [
       "Py5Vector3D([5.        , 5.        , 7.07106781])"
      ]
     },
     "execution_count": 105,
     "metadata": {},
     "output_type": "execute_result"
    }
   ],
   "source": [
    "v1"
   ]
  },
  {
   "cell_type": "markdown",
   "id": "72b7bd30-2ac5-47fa-b323-5414fc4147c1",
   "metadata": {},
   "source": [
    "## Swizzling\n",
    "\n",
    "[Vector Swizzling](https://en.wikipedia.org/wiki/Swizzling_(computer_graphics)) is a useful feature inspired by [OpenGL's vector class](https://www.khronos.org/opengl/wiki/Data_Type_(GLSL)#Vectors). The basic idea is you can compose new vectors by rearranging components of other vectors. For example:"
   ]
  },
  {
   "cell_type": "code",
   "execution_count": 106,
   "id": "536812b2-b836-495d-9a73-d4a85b056f8c",
   "metadata": {},
   "outputs": [
    {
     "data": {
      "text/plain": [
       "Py5Vector3D([1., 2., 3.])"
      ]
     },
     "execution_count": 106,
     "metadata": {},
     "output_type": "execute_result"
    }
   ],
   "source": [
    "v1 = Py5Vector(1, 2, 3)\n",
    "\n",
    "v1"
   ]
  },
  {
   "cell_type": "code",
   "execution_count": 107,
   "id": "c15b6fa3-59b7-41de-9672-718be40e0872",
   "metadata": {},
   "outputs": [
    {
     "data": {
      "text/plain": [
       "Py5Vector2D([2., 1.])"
      ]
     },
     "execution_count": 107,
     "metadata": {},
     "output_type": "execute_result"
    }
   ],
   "source": [
    "v1.yx"
   ]
  },
  {
   "cell_type": "code",
   "execution_count": 108,
   "id": "9aea0809-32df-4acc-976e-419b1e217454",
   "metadata": {},
   "outputs": [
    {
     "data": {
      "text/plain": [
       "Py5Vector4D([1., 2., 3., 3.])"
      ]
     },
     "execution_count": 108,
     "metadata": {},
     "output_type": "execute_result"
    }
   ],
   "source": [
    "v1.xyzz"
   ]
  },
  {
   "cell_type": "markdown",
   "id": "0f9a2061-3fbc-4197-92e5-b2d8bd004f1d",
   "metadata": {},
   "source": [
    "Swizzles support item assignment. Possible assignments include constants as well as and properly sized numpy arrays, Py5Vectors, and iterables."
   ]
  },
  {
   "cell_type": "code",
   "execution_count": 109,
   "id": "43ec395f-5cce-4ffc-b701-2dc7e34fec1b",
   "metadata": {},
   "outputs": [
    {
     "data": {
      "text/plain": [
       "Py5Vector3D([10., 20.,  3.])"
      ]
     },
     "execution_count": 109,
     "metadata": {},
     "output_type": "execute_result"
    }
   ],
   "source": [
    "v1.xy = 10, 20\n",
    "\n",
    "v1"
   ]
  },
  {
   "cell_type": "code",
   "execution_count": 110,
   "id": "025a0466-8ee7-4f47-876d-a2d9061f6aff",
   "metadata": {},
   "outputs": [
    {
     "data": {
      "text/plain": [
       "Py5Vector3D([110.,  20., 103.])"
      ]
     },
     "execution_count": 110,
     "metadata": {},
     "output_type": "execute_result"
    }
   ],
   "source": [
    "v1.zx += 100\n",
    "\n",
    "v1"
   ]
  },
  {
   "cell_type": "markdown",
   "id": "85a09748-6f37-440e-8c4f-78d55d618cfb",
   "metadata": {},
   "source": [
    "You can use `x`, `y`, `z`, and `w` to refer to the first, second, third, and fourth components. A \"swizzle\" can be up to 4 components in length. Using the same component multiple times is allowed when accessing data but not for assignments."
   ]
  },
  {
   "cell_type": "markdown",
   "id": "dd8afd80-a401-4d80-bc08-2dc7bbd14bd5",
   "metadata": {},
   "source": [
    "## Math Operations\n",
    "\n",
    "You can do math operations on Py5Vectors. Operands can be constants, or properly sized numpy arrays, Py5Vectors, or iterables."
   ]
  },
  {
   "cell_type": "code",
   "execution_count": 111,
   "id": "435b1b6e-1dee-437d-93ed-4b7ea662de2c",
   "metadata": {},
   "outputs": [
    {
     "data": {
      "text/plain": [
       "Py5Vector3D([11., 12., 13.])"
      ]
     },
     "execution_count": 111,
     "metadata": {},
     "output_type": "execute_result"
    }
   ],
   "source": [
    "v1 = Py5Vector(1, 2, 3)\n",
    "v2 = Py5Vector(10, 20, 30)\n",
    "\n",
    "v1 + 10"
   ]
  },
  {
   "cell_type": "code",
   "execution_count": 112,
   "id": "ad9e3e65-b041-4bdf-b920-10ebfba5a66a",
   "metadata": {},
   "outputs": [
    {
     "data": {
      "text/plain": [
       "Py5Vector3D([11., 22., 33.])"
      ]
     },
     "execution_count": 112,
     "metadata": {},
     "output_type": "execute_result"
    }
   ],
   "source": [
    "v1 + v2"
   ]
  },
  {
   "cell_type": "markdown",
   "id": "14dd1fc1-80aa-4e25-860b-3f1a4ff2b961",
   "metadata": {},
   "source": [
    "Numpy array operands must be broadcastable to a shape that numpy can work with. If operation's result is appropriate for a Py5Vector, the result will be a Py5Vector. Otherwise, it will be a numpy array. For example:"
   ]
  },
  {
   "cell_type": "code",
   "execution_count": 113,
   "id": "d2785073-db7e-4465-908c-ccd626655d9b",
   "metadata": {},
   "outputs": [
    {
     "data": {
      "text/plain": [
       "Py5Vector3D([1.33601529, 2.54840901, 3.22092252])"
      ]
     },
     "execution_count": 113,
     "metadata": {},
     "output_type": "execute_result"
    }
   ],
   "source": [
    "v1 + np.random.rand(3)"
   ]
  },
  {
   "cell_type": "markdown",
   "id": "6781ed8e-7c4e-4f04-907f-96f512a23794",
   "metadata": {},
   "source": [
    "Below, the numpy array is broadcastable because the size of the last dimension is 3, which matches the size of the vector `v1`. The result of the operation is a 2D array and cannot be a vector. This operation effectively adds `v1` to each row of the numpy array."
   ]
  },
  {
   "cell_type": "code",
   "execution_count": 114,
   "id": "df08ca3f-2c16-44e2-89a5-85959405fe68",
   "metadata": {},
   "outputs": [
    {
     "data": {
      "text/plain": [
       "array([[1.36492683, 2.534238  , 3.03382322],\n",
       "       [1.98618679, 2.74935798, 3.80628041],\n",
       "       [1.60972545, 2.29602945, 3.99954846],\n",
       "       [1.11146893, 2.04949383, 3.30554232]])"
      ]
     },
     "execution_count": 114,
     "metadata": {},
     "output_type": "execute_result"
    }
   ],
   "source": [
    "v1 + np.random.rand(4, 3)"
   ]
  },
  {
   "cell_type": "markdown",
   "id": "90f05e6b-2770-4ff5-99c1-96b036f51b72",
   "metadata": {},
   "source": [
    "Next, a 3D vector is matrix multiplied with a 3x2 array. The result of the calculation is an array with 2 elements, which will be returned as a 2D vector:"
   ]
  },
  {
   "cell_type": "code",
   "execution_count": 115,
   "id": "3c62dd0d-7054-4c9a-b2fc-a62d8fc9dd9c",
   "metadata": {},
   "outputs": [
    {
     "data": {
      "text/plain": [
       "Py5Vector2D([0.37575242, 2.22185454])"
      ]
     },
     "execution_count": 115,
     "metadata": {},
     "output_type": "execute_result"
    }
   ],
   "source": [
    "v1 @ np.random.rand(3, 2)"
   ]
  },
  {
   "cell_type": "markdown",
   "id": "43d52853-7acb-4f7d-ad6d-c2e319a16671",
   "metadata": {},
   "source": [
    "Note that if the operands are reversed (and the matrix size is modified appropriately) the result is a numpy array, not a Py5Vector. It is a numpy array because this calculation is done by numpy's matrix multiplication method and not py5's."
   ]
  },
  {
   "cell_type": "code",
   "execution_count": 116,
   "id": "27d63596-d577-4200-9f94-53def60b618b",
   "metadata": {},
   "outputs": [
    {
     "data": {
      "text/plain": [
       "array([3.42223233, 1.87167682])"
      ]
     },
     "execution_count": 116,
     "metadata": {},
     "output_type": "execute_result"
    }
   ],
   "source": [
    "np.random.rand(2, 3) @ v1"
   ]
  },
  {
   "cell_type": "markdown",
   "id": "bace59c9-13f6-4e7e-978a-496c2a84c430",
   "metadata": {},
   "source": [
    "Doing a matrix multiplication with a 3x5 array creates a 5 element numpy array because py5 does not support 5D vectors:"
   ]
  },
  {
   "cell_type": "code",
   "execution_count": 117,
   "id": "fe4930c1-c243-4406-b1e5-fb3b4cec7ec2",
   "metadata": {},
   "outputs": [
    {
     "data": {
      "text/plain": [
       "array([1.67496132, 3.05884219, 3.60909022, 2.8925475 , 4.47391309])"
      ]
     },
     "execution_count": 117,
     "metadata": {},
     "output_type": "execute_result"
    }
   ],
   "source": [
    "v1 @ np.random.rand(3, 5)"
   ]
  },
  {
   "cell_type": "markdown",
   "id": "252e4148-599f-4992-b83d-73fac41978e9",
   "metadata": {},
   "source": [
    "You can add or subtract Py5Vectors, like so:"
   ]
  },
  {
   "cell_type": "code",
   "execution_count": 118,
   "id": "4cc53abb-4b96-4d2e-b2e0-3f91b70976d4",
   "metadata": {},
   "outputs": [
    {
     "data": {
      "text/plain": [
       "Py5Vector3D([ -9., -18., -27.])"
      ]
     },
     "execution_count": 118,
     "metadata": {},
     "output_type": "execute_result"
    }
   ],
   "source": [
    "v1 - v2"
   ]
  },
  {
   "cell_type": "markdown",
   "id": "b6b955d4-3581-4143-b356-c4e663ec8c6e",
   "metadata": {},
   "source": [
    "Other operations like multiplication, division, modular division, or power don't really make sense for two vectors and are not allowed. But that's ok because you can just use the vector's `data` attribute to access the vector's data as a numpy array. Any properly sized operation with a Py5Vector and a numpy array is always allowed:"
   ]
  },
  {
   "cell_type": "code",
   "execution_count": 119,
   "id": "5c169a6e-297c-4571-853b-a6109b562e5a",
   "metadata": {},
   "outputs": [
    {
     "data": {
      "text/plain": [
       "Py5Vector3D([0.1, 0.1, 0.1])"
      ]
     },
     "execution_count": 119,
     "metadata": {},
     "output_type": "execute_result"
    }
   ],
   "source": [
    "v1 / v2.data"
   ]
  },
  {
   "cell_type": "code",
   "execution_count": 120,
   "id": "1983a4a3-ef0c-4c92-abef-705a38c1518a",
   "metadata": {},
   "outputs": [
    {
     "data": {
      "text/plain": [
       "Py5Vector3D([1.0e+01, 4.0e+02, 2.7e+04])"
      ]
     },
     "execution_count": 120,
     "metadata": {},
     "output_type": "execute_result"
    }
   ],
   "source": [
    "v2 ** v1.data"
   ]
  },
  {
   "cell_type": "markdown",
   "id": "0520285f-f257-4687-9976-7e3c8e49bf60",
   "metadata": {},
   "source": [
    "You can do in place operations on a Py5Vector:"
   ]
  },
  {
   "cell_type": "code",
   "execution_count": 121,
   "id": "90cac5e9-28d9-489e-9daf-f892a3e45e62",
   "metadata": {},
   "outputs": [
    {
     "data": {
      "text/plain": [
       "Py5Vector3D([11., 22., 33.])"
      ]
     },
     "execution_count": 121,
     "metadata": {},
     "output_type": "execute_result"
    }
   ],
   "source": [
    "v1 += v2\n",
    "\n",
    "v1"
   ]
  },
  {
   "cell_type": "markdown",
   "id": "b0f376ff-2c7d-408b-b7e1-44201e91310f",
   "metadata": {},
   "source": [
    "In place operations that would try to change the size or type of the output operand are not possible and therefore not allowed."
   ]
  },
  {
   "cell_type": "code",
   "execution_count": 122,
   "id": "099568c0-3927-441f-82aa-54433a57d4b7",
   "metadata": {},
   "outputs": [
    {
     "name": "stdout",
     "output_type": "stream",
     "text": [
      "Unable to perform addition on a Py5Vector and a numpy array, probably because of a size mismatch. The error message is: non-broadcastable output operand with shape (3,) doesn't match the broadcast shape (4,3)\n"
     ]
    }
   ],
   "source": [
    "try:\n",
    "    v1 += np.random.rand(4, 3)\n",
    "except RuntimeError as e:\n",
    "    print(e)"
   ]
  },
  {
   "cell_type": "markdown",
   "id": "ccf07d78-6f2c-457a-af46-d2f9ef30b64f",
   "metadata": {},
   "source": [
    "Py5Vectors work well with other Python builtins:"
   ]
  },
  {
   "cell_type": "code",
   "execution_count": 123,
   "id": "008a9e20-3bee-4c4c-ac28-afc976e031fa",
   "metadata": {},
   "outputs": [
    {
     "data": {
      "text/plain": [
       "Py5Vector4D([-4.34877488, -5.03780931, -4.95748879, -5.75674903])"
      ]
     },
     "execution_count": 123,
     "metadata": {},
     "output_type": "execute_result"
    }
   ],
   "source": [
    "v1 = Py5Vector4D.random() - 5\n",
    "\n",
    "v1"
   ]
  },
  {
   "cell_type": "code",
   "execution_count": 124,
   "id": "c7156ef1-4228-4fe1-886c-f1451a0a41ac",
   "metadata": {},
   "outputs": [
    {
     "data": {
      "text/plain": [
       "Py5Vector4D([-4., -5., -5., -6.])"
      ]
     },
     "execution_count": 124,
     "metadata": {},
     "output_type": "execute_result"
    }
   ],
   "source": [
    "round(v1)"
   ]
  },
  {
   "cell_type": "code",
   "execution_count": 125,
   "id": "6daa5109-a30d-43a3-bd9c-ae5597fa5542",
   "metadata": {},
   "outputs": [
    {
     "data": {
      "text/plain": [
       "Py5Vector4D([4.34877488, 5.03780931, 4.95748879, 5.75674903])"
      ]
     },
     "execution_count": 125,
     "metadata": {},
     "output_type": "execute_result"
    }
   ],
   "source": [
    "abs(v1)"
   ]
  },
  {
   "cell_type": "code",
   "execution_count": 126,
   "id": "890beba0-e35d-4eb5-bc40-81a0aea08504",
   "metadata": {},
   "outputs": [
    {
     "data": {
      "text/plain": [
       "(Py5Vector4D([-5., -3., -2., -2.]),\n",
       " Py5Vector4D([0.65122512, 0.96219069, 1.04251121, 2.24325097]))"
      ]
     },
     "execution_count": 126,
     "metadata": {},
     "output_type": "execute_result"
    }
   ],
   "source": [
    "divmod(v1, [1, 2, 3, 4])"
   ]
  },
  {
   "cell_type": "markdown",
   "id": "d65a2c4a-e151-4e72-bc08-d5c4e9d3080b",
   "metadata": {},
   "source": [
    "A Py5Vector will evaluate to `True` if it has at least one non-zero element."
   ]
  },
  {
   "cell_type": "code",
   "execution_count": 127,
   "id": "304366e3-cd99-4fdc-9f86-4100d6c124ec",
   "metadata": {},
   "outputs": [
    {
     "data": {
      "text/plain": [
       "True"
      ]
     },
     "execution_count": 127,
     "metadata": {},
     "output_type": "execute_result"
    }
   ],
   "source": [
    "bool(v1)"
   ]
  },
  {
   "cell_type": "code",
   "execution_count": 128,
   "id": "9713e82b-c5bd-4d46-9052-5e432cbc5c97",
   "metadata": {},
   "outputs": [
    {
     "data": {
      "text/plain": [
       "Py5Vector3D([0., 0., 0.])"
      ]
     },
     "execution_count": 128,
     "metadata": {},
     "output_type": "execute_result"
    }
   ],
   "source": [
    "v2 = Py5Vector3D()\n",
    "\n",
    "v2"
   ]
  },
  {
   "cell_type": "code",
   "execution_count": 129,
   "id": "ec3954c1-fe1f-4045-beb3-41738e8f2de2",
   "metadata": {},
   "outputs": [
    {
     "data": {
      "text/plain": [
       "False"
      ]
     },
     "execution_count": 129,
     "metadata": {},
     "output_type": "execute_result"
    }
   ],
   "source": [
    "bool(v2)"
   ]
  },
  {
   "cell_type": "markdown",
   "id": "25262cbd-6734-4f83-a153-65733e58dec7",
   "metadata": {},
   "source": [
    "## Other Math Functions\n",
    "\n",
    "There is a `lerp()` method for doing linear interpolations between two vectors:"
   ]
  },
  {
   "cell_type": "code",
   "execution_count": 130,
   "id": "bd9d9a10-402e-4303-b7d0-197803a2ee60",
   "metadata": {},
   "outputs": [
    {
     "data": {
      "text/plain": [
       "Py5Vector2D([ 11., 110.])"
      ]
     },
     "execution_count": 130,
     "metadata": {},
     "output_type": "execute_result"
    }
   ],
   "source": [
    "v1 = Py5Vector(10, 100)\n",
    "v2 = Py5Vector(20, 200)\n",
    "\n",
    "v1.lerp(v2, 0.1)"
   ]
  },
  {
   "cell_type": "code",
   "execution_count": 131,
   "id": "68880bb3-a369-47ed-9c58-f455f4cd3d3d",
   "metadata": {},
   "outputs": [
    {
     "data": {
      "text/plain": [
       "Py5Vector2D([ 19., 190.])"
      ]
     },
     "execution_count": 131,
     "metadata": {},
     "output_type": "execute_result"
    }
   ],
   "source": [
    "v1.lerp(v2, 0.9)"
   ]
  },
  {
   "cell_type": "markdown",
   "id": "5c56c985-2501-4c1a-8676-924f150727c5",
   "metadata": {},
   "source": [
    "The `dist()` method calculates the distance between two vectors:"
   ]
  },
  {
   "cell_type": "code",
   "execution_count": 132,
   "id": "c4791d76-1acc-4c96-8c6b-88e951d4da44",
   "metadata": {},
   "outputs": [
    {
     "data": {
      "text/plain": [
       "100.4987562112089"
      ]
     },
     "execution_count": 132,
     "metadata": {},
     "output_type": "execute_result"
    }
   ],
   "source": [
    "v1.dist(v2)"
   ]
  },
  {
   "cell_type": "markdown",
   "id": "8c6188f8-769e-4ed8-85f3-5c53693098c6",
   "metadata": {},
   "source": [
    "The `dot()` method calculates the dot product of two vectors:"
   ]
  },
  {
   "cell_type": "code",
   "execution_count": 133,
   "id": "f7bd02a9-f452-429a-92b0-5ac281ee250e",
   "metadata": {},
   "outputs": [
    {
     "data": {
      "text/plain": [
       "20200.0"
      ]
     },
     "execution_count": 133,
     "metadata": {},
     "output_type": "execute_result"
    }
   ],
   "source": [
    "v1.dot(v2)"
   ]
  },
  {
   "cell_type": "markdown",
   "id": "857562f1-0b41-41bd-a3d3-aa0307e0c316",
   "metadata": {},
   "source": [
    "And finally, the `cross()` method...this one required a lot of thought. Technically the [cross product](https://en.wikipedia.org/wiki/Cross_product) is only defined for 3D vectors, but many vector implementations allow 2D vectors for cross calculations. Unfortunately there is little consistency in how 2D vectors are handled.\n",
    "\n",
    "Processing will always assume that a 2D vector's `z` component is zero and the calculation will always return a 3D vector. But then again Processing has only one class for both 2D and 3D vectors, so what else can it do.\n",
    "\n",
    "Numpy implements the [cross method](https://numpy.org/doc/stable/reference/generated/numpy.cross.html) differently. When calculating a cross between a 2D and a 3D vector, numpy will assume that the 2D vector's `z` component is zero and will proceed accordingly. For two 2D vectors, it will return just the z value, which is sometimes called a \"wedge product\".\n",
    "\n",
    "Personally, I am not a fan of making assumptions about the `z` component being zero or supporting 2D vectors at all because I think it misleads people about what a cross product actually is. However, I felt that being inconsistent with `np.cross()` would be even more confusing, and decided to build Py5Vector's cross implementation by following what numpy does."
   ]
  },
  {
   "cell_type": "code",
   "execution_count": 134,
   "id": "c4783623-ebf3-4567-aae8-3cbbf8ccc288",
   "metadata": {},
   "outputs": [],
   "source": [
    "v1 = Py5Vector3D.random()\n",
    "v2 = Py5Vector3D.random()"
   ]
  },
  {
   "cell_type": "markdown",
   "id": "3afd5081-255d-4e33-9271-6e542921e30b",
   "metadata": {},
   "source": [
    "Here is the cross product of two 3D vectors:"
   ]
  },
  {
   "cell_type": "code",
   "execution_count": 135,
   "id": "6dcba4db-db5e-4901-b016-e2c7e30b3f8e",
   "metadata": {},
   "outputs": [
    {
     "data": {
      "text/plain": [
       "Py5Vector3D([ 0.32218696,  0.93060695, -0.03344815])"
      ]
     },
     "execution_count": 135,
     "metadata": {},
     "output_type": "execute_result"
    }
   ],
   "source": [
    "v1.cross(v2)"
   ]
  },
  {
   "cell_type": "markdown",
   "id": "74db769e-9ad0-464c-b8a2-87b68c905b7e",
   "metadata": {},
   "source": [
    "The cross product of a 3D vector and a 2D vector:"
   ]
  },
  {
   "cell_type": "code",
   "execution_count": 136,
   "id": "5eb60d5a-47c3-4d36-979a-8cb0930f5cd5",
   "metadata": {},
   "outputs": [
    {
     "data": {
      "text/plain": [
       "Py5Vector3D([ 0.22244346,  0.6018577 , -0.03344815])"
      ]
     },
     "execution_count": 136,
     "metadata": {},
     "output_type": "execute_result"
    }
   ],
   "source": [
    "v1.cross(v2.xy)"
   ]
  },
  {
   "cell_type": "markdown",
   "id": "ae30d6ac-fdee-4218-bd1a-c37624a95550",
   "metadata": {},
   "source": [
    "That calculation assumed that the `z` component was zero:"
   ]
  },
  {
   "cell_type": "code",
   "execution_count": 137,
   "id": "706d4cc1-4165-4c80-8730-ab7fa84d1880",
   "metadata": {},
   "outputs": [
    {
     "data": {
      "text/plain": [
       "Py5Vector3D([ 0.22244346,  0.6018577 , -0.03344815])"
      ]
     },
     "execution_count": 137,
     "metadata": {},
     "output_type": "execute_result"
    }
   ],
   "source": [
    "v1.cross(Py5Vector(v2.xy, 0))"
   ]
  },
  {
   "cell_type": "markdown",
   "id": "09dbb456-2f8e-484c-8193-f0787f6d990b",
   "metadata": {},
   "source": [
    "Note that the values are the same as what `np.cross()` returns, which is important."
   ]
  },
  {
   "cell_type": "code",
   "execution_count": 138,
   "id": "3511e886-5008-448b-8b8d-a56f8ebb7fc9",
   "metadata": {},
   "outputs": [
    {
     "data": {
      "text/plain": [
       "array([ 0.22244346,  0.6018577 , -0.03344815])"
      ]
     },
     "execution_count": 138,
     "metadata": {},
     "output_type": "execute_result"
    }
   ],
   "source": [
    "np.cross(v1, v2.xy)"
   ]
  },
  {
   "cell_type": "markdown",
   "id": "3f2de6a6-5e36-461f-821a-f5d86c680fd2",
   "metadata": {},
   "source": [
    "The cross product of two 2D vectors returns a scalar."
   ]
  },
  {
   "cell_type": "code",
   "execution_count": 139,
   "id": "fdc4c3c9-e96c-4345-bb76-b12e6e96e8fe",
   "metadata": {},
   "outputs": [
    {
     "data": {
      "text/plain": [
       "-0.033448148822155965"
      ]
     },
     "execution_count": 139,
     "metadata": {},
     "output_type": "execute_result"
    }
   ],
   "source": [
    "v1.xy.cross(v2.xy)"
   ]
  },
  {
   "cell_type": "markdown",
   "id": "c229c3e4-63b7-47ba-9c44-22be8711256b",
   "metadata": {},
   "source": [
    "This is also consistent with what `np.cross()` returns:"
   ]
  },
  {
   "cell_type": "code",
   "execution_count": 140,
   "id": "403615ab-43b1-4725-ba93-88cbadd6dd7e",
   "metadata": {},
   "outputs": [
    {
     "data": {
      "text/plain": [
       "array(-0.03344815)"
      ]
     },
     "execution_count": 140,
     "metadata": {},
     "output_type": "execute_result"
    }
   ],
   "source": [
    "np.cross(v1.xy, v2.xy)"
   ]
  },
  {
   "cell_type": "markdown",
   "id": "c790b764-14c7-4975-b8d8-ec69924801f7",
   "metadata": {},
   "source": [
    "I believe it would be a design mistake to throw an error or return different results than numpy.\n",
    "\n",
    "All numpy functions should accept Py5Vector instances as if they were any other iterable. This can be used to do calculations that the Py5Vector class does not directly support."
   ]
  },
  {
   "cell_type": "code",
   "execution_count": 141,
   "id": "5c308a32-2dee-4553-9546-e4d5b1724a1c",
   "metadata": {},
   "outputs": [
    {
     "data": {
      "text/plain": [
       "array([[ 0.50532159, -0.18676422, -0.32874925],\n",
       "       [-0.15331607,  0.05666482,  0.0997435 ],\n",
       "       [ 0.6018577 , -0.22244346, -0.39155316]])"
      ]
     },
     "execution_count": 141,
     "metadata": {},
     "output_type": "execute_result"
    }
   ],
   "source": [
    "np.outer(v1, v2)"
   ]
  },
  {
   "cell_type": "code",
   "execution_count": 142,
   "id": "f39a93f2-a880-4894-a8e2-5377c4c0c85e",
   "metadata": {},
   "outputs": [
    {
     "data": {
      "text/plain": [
       "array([ 0.59004579, -0.19031434,  0.68286939])"
      ]
     },
     "execution_count": 142,
     "metadata": {},
     "output_type": "execute_result"
    }
   ],
   "source": [
    "np.sin(v1)"
   ]
  },
  {
   "cell_type": "code",
   "execution_count": 143,
   "id": "cdee208a-88fc-456b-bea0-6e1111022bac",
   "metadata": {},
   "outputs": [
    {
     "data": {
      "text/plain": [
       "array([ 1., -0.,  1.])"
      ]
     },
     "execution_count": 143,
     "metadata": {},
     "output_type": "execute_result"
    }
   ],
   "source": [
    "np.ceil(v1)"
   ]
  },
  {
   "cell_type": "markdown",
   "id": "f149a1d3-7b41-4654-ab85-3ebbc96fc783",
   "metadata": {},
   "source": [
    "## Open Questions\n",
    "\n",
    "### Numpy's Array Interface\n",
    "\n",
    "I made a deliberate choice to not implement [numpy's array interface](https://numpy.org/doc/stable/reference/arrays.interface.html). Although I do believe that numpy's array interface and memory sharing is a good feature, I think it could potentially be a bit confusing to beginners because memory sharing might lead to unexpected results. However, I don't fully understand the array interface and might be wrong about leaving it out.\n",
    "\n",
    "In any case, note that if pass the `Py5Vector`  constructor a numpy array you can explicitly tell it not to make it's own copy of the data with the `copy` parameter."
   ]
  },
  {
   "cell_type": "code",
   "execution_count": 144,
   "id": "11808e95-719a-405a-bc3a-93ca7b187066",
   "metadata": {},
   "outputs": [
    {
     "data": {
      "text/plain": [
       "array([[0.52302751, 0.49406047, 0.41204369],\n",
       "       [0.05374364, 0.09111643, 0.36880163]])"
      ]
     },
     "execution_count": 144,
     "metadata": {},
     "output_type": "execute_result"
    }
   ],
   "source": [
    "numbers = np.random.rand(2, 3)\n",
    "\n",
    "numbers"
   ]
  },
  {
   "cell_type": "code",
   "execution_count": 145,
   "id": "a2974aa5-2566-4ced-8dc6-9ebf6629be26",
   "metadata": {},
   "outputs": [],
   "source": [
    "v1 = Py5Vector(numbers[0], copy=False)\n",
    "v2 = Py5Vector(numbers[1], copy=False)"
   ]
  },
  {
   "cell_type": "code",
   "execution_count": 146,
   "id": "f611a404-6797-4d3c-b44e-74b27834519f",
   "metadata": {},
   "outputs": [
    {
     "data": {
      "text/plain": [
       "Py5Vector3D([0.52302751, 0.49406047, 0.41204369])"
      ]
     },
     "execution_count": 146,
     "metadata": {},
     "output_type": "execute_result"
    }
   ],
   "source": [
    "v1"
   ]
  },
  {
   "cell_type": "code",
   "execution_count": 147,
   "id": "f7b2ee8c-1ad1-48b0-b2c6-aca6414eb0b3",
   "metadata": {},
   "outputs": [
    {
     "data": {
      "text/plain": [
       "Py5Vector3D([0.05374364, 0.09111643, 0.36880163])"
      ]
     },
     "execution_count": 147,
     "metadata": {},
     "output_type": "execute_result"
    }
   ],
   "source": [
    "v2"
   ]
  },
  {
   "cell_type": "markdown",
   "id": "6a33c83e-a0b4-4442-be3e-68aff7af78d3",
   "metadata": {},
   "source": [
    "Now changes to `v1` and `v2` will change the `numbers` array, and vice versa:"
   ]
  },
  {
   "cell_type": "code",
   "execution_count": 148,
   "id": "9e445b99-d6bb-4fa1-9e76-9188e0ea241a",
   "metadata": {},
   "outputs": [],
   "source": [
    "v1.x = 10\n",
    "v2.x = 20\n",
    "numbers[:, 2] = 42"
   ]
  },
  {
   "cell_type": "code",
   "execution_count": 149,
   "id": "bf7be0bf-eb9a-4a6c-8b4e-cdc9a782a184",
   "metadata": {},
   "outputs": [
    {
     "data": {
      "text/plain": [
       "Py5Vector3D([10.        ,  0.49406047, 42.        ])"
      ]
     },
     "execution_count": 149,
     "metadata": {},
     "output_type": "execute_result"
    }
   ],
   "source": [
    "v1"
   ]
  },
  {
   "cell_type": "code",
   "execution_count": 150,
   "id": "1c17dfdb-0979-42b7-829b-0c8e1a138020",
   "metadata": {},
   "outputs": [
    {
     "data": {
      "text/plain": [
       "Py5Vector3D([20.        ,  0.09111643, 42.        ])"
      ]
     },
     "execution_count": 150,
     "metadata": {},
     "output_type": "execute_result"
    }
   ],
   "source": [
    "v2"
   ]
  },
  {
   "cell_type": "code",
   "execution_count": 151,
   "id": "793e433c-51cf-47f2-be65-9a03c474030c",
   "metadata": {},
   "outputs": [
    {
     "data": {
      "text/plain": [
       "array([[10.        ,  0.49406047, 42.        ],\n",
       "       [20.        ,  0.09111643, 42.        ]])"
      ]
     },
     "execution_count": 151,
     "metadata": {},
     "output_type": "execute_result"
    }
   ],
   "source": [
    "numbers"
   ]
  },
  {
   "cell_type": "markdown",
   "id": "f813d33e-5935-4c49-afdc-62bd6046cd69",
   "metadata": {},
   "source": [
    "With this feature and some thought you will be able to create something clever using a vector field."
   ]
  },
  {
   "cell_type": "markdown",
   "id": "b7fcb5c9-c00c-4047-865c-fba012c2c41f",
   "metadata": {},
   "source": [
    "### Vector Math Operations\n",
    "\n",
    "Previously I said:\n",
    "\n",
    "> Other operations (besides addition and subtraction) like multiplication, division, modular division, or power don't really make sense for two vectors and are not allowed. But that's ok because you can just use the vector's `data` attribute to access the vector's data as a numpy array.\n",
    "\n",
    "This makes sense to me but I am not convinced that is the right decision. Should I allow element-wise calculations between two vectors, much like what can be done with two numpy arrays?"
   ]
  },
  {
   "cell_type": "markdown",
   "id": "85c2f3ed-55ad-452c-855f-515713a1106f",
   "metadata": {},
   "source": [
    "## Feedback\n",
    "\n",
    "Questions? Comments? Please direct your feedback to the [github discussion thread for the Py5Vector class](https://github.com/hx2A/py5generator/discussions/55)."
   ]
  }
 ],
 "metadata": {
  "jupytext": {
   "formats": "ipynb,md:myst"
  },
  "kernelspec": {
   "display_name": "Python 3",
   "language": "python",
   "name": "python3"
  },
  "language_info": {
   "codemirror_mode": {
    "name": "ipython",
    "version": 3
   },
   "file_extension": ".py",
   "mimetype": "text/x-python",
   "name": "python",
   "nbconvert_exporter": "python",
   "pygments_lexer": "ipython3",
   "version": "3.8.12"
  },
  "nikola": {
   "date": "2021-12-28 13:59:14 EST",
   "nocomments": "True",
   "slug": "new-py5vector-class",
   "tags": "programming, py5, python",
   "title": "New Py5Vector Class"
  }
 },
 "nbformat": 4,
 "nbformat_minor": 5
}
