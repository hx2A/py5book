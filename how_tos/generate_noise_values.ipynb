{
 "cells": [
  {
   "cell_type": "markdown",
   "id": "13457c08",
   "metadata": {},
   "source": [
    "# How to Generate Pseudo-random Noise\n",
    "\n",
    "Overview of how to use py5's noise functionality."
   ]
  },
  {
   "cell_type": "code",
   "execution_count": 1,
   "id": "597d54bc",
   "metadata": {},
   "outputs": [],
   "source": [
    "import py5"
   ]
  },
  {
   "cell_type": "code",
   "execution_count": 2,
   "id": "c51e1d77",
   "metadata": {},
   "outputs": [
    {
     "data": {
      "text/plain": [
       "0.7443615794181824"
      ]
     },
     "execution_count": 2,
     "metadata": {},
     "output_type": "execute_result"
    }
   ],
   "source": [
    "py5.noise(1.3)"
   ]
  },
  {
   "cell_type": "code",
   "execution_count": null,
   "id": "7f4160b5",
   "metadata": {},
   "outputs": [],
   "source": []
  }
 ],
 "metadata": {
  "jupytext": {
   "formats": "ipynb,md:myst"
  },
  "kernelspec": {
   "display_name": "Python 3",
   "language": "python",
   "name": "python3"
  },
  "language_info": {
   "codemirror_mode": {
    "name": "ipython",
    "version": 3
   },
   "file_extension": ".py",
   "mimetype": "text/x-python",
   "name": "python",
   "nbconvert_exporter": "python",
   "pygments_lexer": "ipython3",
   "version": "3.8.12"
  }
 },
 "nbformat": 4,
 "nbformat_minor": 5
}
