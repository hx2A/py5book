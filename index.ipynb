{
 "cells": [
  {
   "cell_type": "markdown",
   "id": "25cf484c-8230-445c-aa09-e2dbb99e72c9",
   "metadata": {},
   "source": [
    "# Welcome to py5!\n",
    "\n",
    "py5 is a new version of [**Processing**][processing] for Python 3.8+. It makes\n",
    "the Java [**Processing**][processing] jars available to the CPython interpreter\n",
    "using [**JPype**][jpype]. It can do just about all of the 2D and 3D drawing\n",
    "[**Processing**][processing] can do, except with Python instead of Java code.\n",
    "\n",
    "The goal of py5 is to create a new version of Processing that is integrated\n",
    "into the Python ecosystem. Built into the library are thoughtful choices about\n",
    "how to best get py5 to work with other popular Python libraries and tools such\n",
    "as [Jupyter](https://jupyter.org/), [numpy](https://www.numpy.org/), and\n",
    "[Pillow](https://python-pillow.org/).\n",
    "\n",
    "Here is the simplest possible example:"
   ]
  },
  {
   "cell_type": "code",
   "execution_count": null,
   "id": "9173b2e4",
   "metadata": {},
   "outputs": [],
   "source": [
    "def setup():\n",
    "    size(400, 400)\n",
    "    rect_mode(CENTER)\n",
    "\n",
    "\n",
    "def draw():\n",
    "    square(mouse_x, mouse_y, 10)\n",
    "\n",
    "\n",
    "def mouse_clicked():\n",
    "    fill(random_int(255), random_int(255), random_int(255))\n",
    "\n",
    "\n",
    "run_sketch()"
   ]
  },
  {
   "cell_type": "markdown",
   "id": "ebf5b0be",
   "metadata": {},
   "source": [
    "Here is an animated GIF to give you an idea of what that Sketch looks like:\n",
    "\n",
    "![index_example](images/main/index_example.gif)\n",
    "\n",
    "But don't settle for an animated GIF! Use the rocket ship icon at the top of\n",
    "this page to run the example on Binder, or better yet, use Live Code with Thebe.\n",
    "Then you will be able to create a\n",
    "[Sketch Portal](/reference/py5tools_sketch_portal) and see the running Sketch\n",
    "embedded right in this page. You'll even be able click on the Sketch Portal\n",
    "to trigger the `mouse_clicked()` event. The Sketch Portal accepts all of py5's\n",
    "keyboard and mouse events. It is fully interactive!"
   ]
  },
  {
   "cell_type": "code",
   "execution_count": null,
   "id": "d884fbe9",
   "metadata": {
    "tags": [
     "remove-output"
    ]
   },
   "outputs": [],
   "source": [
    "py5_tools.sketch_portal()"
   ]
  },
  {
   "cell_type": "markdown",
   "id": "fb2f9b26",
   "metadata": {},
   "source": [
    "The ability to embed a py5 Sketch in a html page like this is one of the many\n",
    "ways py5 leverages the power of Jupyter Notebooks and is well integrated into\n",
    "the Python ecosystem.\n",
    "\n",
    "The py5 library has many features but is alpha software. The library and this\n",
    "website are both a work in progress.\n",
    "\n",
    "To view the actual installed py5 library code, look at the\n",
    "[py5 repository][py5_repo]. The py5 library code is the output of the\n",
    "meta-programming project [py5generator][py5generator_repo]. All py5 development\n",
    "is done through [py5generator][py5generator_repo].\n",
    "\n",
    "[processing]: https://github.com/processing/processing4\n",
    "[jpype]: https://github.com/jpype-project/jpype\n",
    "[py5_repo]: https://github.com/py5coding/py5\n",
    "[py5generator_repo]: https://github.com/py5coding/py5generator"
   ]
  }
 ],
 "metadata": {
  "jupytext": {
   "formats": "ipynb,md:myst"
  },
  "kernelspec": {
   "display_name": "py5",
   "language": "python",
   "name": "py5"
  },
  "language_info": {
   "codemirror_mode": {
    "name": "ipython",
    "version": 3
   },
   "file_extension": ".py",
   "mimetype": "text/x-python",
   "name": "python",
   "nbconvert_exporter": "python",
   "pygments_lexer": "ipython3",
   "version": "3.8.13"
  }
 },
 "nbformat": 4,
 "nbformat_minor": 5
}
