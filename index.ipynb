{
 "cells": [
  {
   "cell_type": "markdown",
   "id": "25cf484c-8230-445c-aa09-e2dbb99e72c9",
   "metadata": {},
   "source": [
    "# Welcome to py5!\n",
    "\n",
    "py5 is a new version of [Processing](https://processing.org/) that runs in\n",
    "Python 3.8+ using [JPype](https://jpype.readthedocs.io/en/latest/).\n",
    "\n",
    "The goal of py5 is to create a version of Processing that fits into the larger\n",
    "Python ecosystem.\n",
    "\n",
    "Here is the simplest possible example:"
   ]
  },
  {
   "cell_type": "code",
   "execution_count": null,
   "id": "9173b2e4",
   "metadata": {},
   "outputs": [],
   "source": [
    "def setup():\n",
    "    size(400, 400)\n",
    "    rect_mode(CENTER)\n",
    "\n",
    "\n",
    "def draw():\n",
    "    rect(random(width), random(height), 10, 10)\n",
    "\n",
    "\n",
    "run_sketch()"
   ]
  },
  {
   "cell_type": "markdown",
   "id": "ebf5b0be",
   "metadata": {},
   "source": [
    "Here is an animated GIF to give you an idea of what that Sketch looks like:"
   ]
  },
  {
   "cell_type": "code",
   "execution_count": null,
   "id": "b7e787f4",
   "metadata": {
    "tags": [
     "remove-cell"
    ]
   },
   "outputs": [],
   "source": [
    "py5_tools.animated_gif('images/main/index_example.gif', 10, 0.25, 0.25)"
   ]
  },
  {
   "cell_type": "markdown",
   "id": "5f0aee05",
   "metadata": {},
   "source": [
    "![index_example](images/main/index_example.gif)\n",
    "\n",
    "But don't settle for an animated GIF! Use the rocket ship icon at the top of\n",
    "this page to run the example on Binder, or better yet, use Live Code with Thebe.\n",
    "Then you will be able to create a\n",
    "[Sketch portal](/reference/py5tools_sketch_portal) and see the running Sketch\n",
    "embedded right in this page."
   ]
  },
  {
   "cell_type": "code",
   "execution_count": null,
   "id": "d884fbe9",
   "metadata": {
    "tags": [
     "remove-output"
    ]
   },
   "outputs": [],
   "source": [
    "py5_tools.sketch_portal()"
   ]
  },
  {
   "cell_type": "markdown",
   "id": "fb2f9b26",
   "metadata": {},
   "source": [
    "The ability to embed a py5 Sketch in a html page like this is one of the many\n",
    "ways py5 leverages the power of Jupyter Notebooks and is well integrated into\n",
    "the Python ecosystem.\n",
    "\n",
    "The py5 library has many features but is alpha software. The library and this\n",
    "website are both a work in progress."
   ]
  }
 ],
 "metadata": {
  "jupytext": {
   "formats": "ipynb,md:myst"
  },
  "kernelspec": {
   "display_name": "py5",
   "language": "python",
   "name": "py5"
  },
  "language_info": {
   "codemirror_mode": {
    "name": "ipython",
    "version": 3
   },
   "file_extension": ".py",
   "mimetype": "text/x-python",
   "name": "python",
   "nbconvert_exporter": "python",
   "pygments_lexer": "ipython3",
   "version": "3.8.10"
  }
 },
 "nbformat": 4,
 "nbformat_minor": 5
}
