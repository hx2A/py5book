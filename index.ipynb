{
 "cells": [
  {
   "cell_type": "markdown",
   "id": "25cf484c-8230-445c-aa09-e2dbb99e72c9",
   "metadata": {
    "editable": true,
    "slideshow": {
     "slide_type": ""
    },
    "tags": []
   },
   "source": [
    "# Welcome to py5!\n",
    "\n",
    "py5 is a new version of [Processing][processing] for Python 3.9+. The goal of py5\n",
    "is to create a version of Processing that is\n",
    "[integrated into the Python ecosystem](/integrations/python_ecosystem_integrations).\n",
    "Built into the library are thoughtful choices about how to best get py5 to work\n",
    "with other popular Python libraries and tools such as\n",
    "[Jupyter](https://jupyter.org/), [numpy](https://numpy.org/),\n",
    "[shapely](https://shapely.readthedocs.io/en/stable/), [trimesh](https://trimesh.org/),\n",
    "[matplotlib](https://matplotlib.org/), and [Pillow](https://python-pillow.org/).\n",
    "\n",
    "py5 is an excellent choice for educators looking to teach Python in the\n",
    "context of creative coding and is currently used in classrooms all around the world.\n",
    "This website's documentation includes\n",
    "[introductory tutorials](/tutorials/intro_to_py5_and_python) as well as extensive\n",
    "[reference documentation](/reference/summary), complete with example code.\n",
    "\n",
    "## Basic Example\n",
    "\n",
    "Here is a basic example of a py5 Sketch:"
   ]
  },
  {
   "cell_type": "code",
   "execution_count": null,
   "id": "9173b2e4",
   "metadata": {
    "editable": true,
    "slideshow": {
     "slide_type": ""
    },
    "tags": []
   },
   "outputs": [],
   "source": [
    "def setup():\n",
    "    size(400, 400)\n",
    "    rect_mode(CENTER)\n",
    "\n",
    "\n",
    "def draw():\n",
    "    square(mouse_x, mouse_y, 10)\n",
    "\n",
    "\n",
    "def mouse_clicked():\n",
    "    fill(random_int(255), random_int(255), random_int(255))\n",
    "\n",
    "\n",
    "run_sketch()"
   ]
  },
  {
   "cell_type": "markdown",
   "id": "a101e9c1-b0e6-48f7-9c9e-def42a5890da",
   "metadata": {
    "editable": true,
    "slideshow": {
     "slide_type": ""
    },
    "tags": []
   },
   "source": [
    "Here is an animated GIF to give you an idea of what that Sketch looks like:\n",
    "\n",
    "![index_example](images/main/index_example.gif)"
   ]
  },
  {
   "cell_type": "markdown",
   "id": "737bd3dd-854b-4954-a151-4e9d9d87caf9",
   "metadata": {
    "editable": true,
    "slideshow": {
     "slide_type": ""
    },
    "tags": []
   },
   "source": [
    "## Installation\n",
    "\n",
    "If you have Java 17 installed on your computer, you can install py5 using pip:\n",
    "\n",
    "```bash\n",
    "pip install py5\n",
    "```\n",
    "\n",
    "[Detailed installation instructions](/content/install) are available on this website. There are some [Special Notes for Mac Users](/content/macos_users) that you should read if you use macOS.\n",
    "\n",
    "## Getting Started\n",
    "\n",
    "If you are new to Python, start with the [](/tutorials/intro_to_py5_and_python) tutorials.\n",
    "If you are familiar with Java programming and Processing, you'll find the [](/content/coming_from_processing_java)\n",
    "page to be helpful.\n",
    "\n",
    "There are currently [five basic ways to use py5](/content/py5_modes). They are:\n",
    "\n",
    "* **module mode**: create a sketch with `setup()` and `draw()` functions that call methods provided by the `py5` library.\n",
    "* **class mode**: create a Python class inherited from `py5.Sketch`. This mode supports multiple Sketches running at the same time.\n",
    "* **imported mode**: simplified code that omits the `py5.` prefix. This mode is supported by the py5 Jupyter notebook kernel and the `run_sketch` command line utility. The above example is created in imported mode.\n",
    "* **static mode**: functionless code to create static images. This mode is supported by the py5bot Jupyter notebook kernel, the `%%py5bot` IPython magic, and the `run_sketch` command line utility.\n",
    "* **processing mode**: make calls to Python from a Processing (Java) Sketch. This mode enables py5 to function as bridge, connecting the Python and Java ecosystems through a new `callPython()` method.\n",
    "\n",
    "## Source Code\n",
    "\n",
    "py5 was created by the artist and software developer [Jim Schmitz](https://ixora.io/)\n",
    "([@hx2A](https://github.com/hx2A/)) starting in March of 2020. The library is the\n",
    "foundation of his [art practice](https://ixora.io/art/).\n",
    "\n",
    "The py5 library makes the Java Processing jars available to the CPython interpreter\n",
    "using [JPype][jpype]. It can do just about everything Processing can do, except with\n",
    "Python instead of Java code. New py5 features and bug fixes are being added to py5\n",
    "every day. The library is always in active development and is well maintained.\n",
    "\n",
    "To view the actual installed py5 library code, look at the\n",
    "[py5 repository][py5_repo]. The py5 library code is the output of the\n",
    "meta-programming project [py5generator][py5generator_repo]. All py5 development\n",
    "is done through [py5generator][py5generator_repo].\n",
    "\n",
    "## Funding\n",
    "\n",
    "[Please sponsor py5!](https://github.com/sponsors/py5coding)\n",
    "\n",
    "py5 is not an official part of the Processing Foundation and is not receiving any funding from them. Any funds you contribute will be used first for website expenses and next to support [@hx2A](https://github.com/hx2A/)'s time to further develop py5 as a solid creative coding framework used by educators, artists, and hobbyists all around the world.\n",
    "\n",
    "## Get In Touch\n",
    "\n",
    "Have a comment or question about py5? We'd love to hear from you! The best ways\n",
    "to reach out are:\n",
    "\n",
    "* github [discussions](https://github.com/py5coding/py5generator/discussions) and [issues](https://github.com/py5coding/py5generator/issues)\n",
    "* Mastodon <a rel=\"me\" href=\"https://fosstodon.org/@py5coding\">@py5coding@fosstodon.org</a>\n",
    "* twitter [@py5coding](https://twitter.com/py5coding)\n",
    "* [processing foundation discourse](https://discourse.processing.org/)\n",
    "\n",
    "[processing]: https://github.com/benfry/processing4\n",
    "[jpype]: https://github.com/jpype-project/jpype\n",
    "[py5_repo]: https://github.com/py5coding/py5\n",
    "[py5generator_repo]: https://github.com/py5coding/py5generator"
   ]
  },
  {
   "cell_type": "code",
   "execution_count": null,
   "id": "3b913093-0992-4f7e-852b-0bac14a2f436",
   "metadata": {},
   "outputs": [],
   "source": []
  }
 ],
 "metadata": {
  "jupytext": {
   "formats": "ipynb,md:myst"
  },
  "kernelspec": {
   "display_name": "py5",
   "language": "python",
   "name": "py5"
  },
  "language_info": {
   "codemirror_mode": {
    "name": "ipython",
    "version": 3
   },
   "file_extension": ".py",
   "mimetype": "text/x-python",
   "name": "python",
   "nbconvert_exporter": "python",
   "pygments_lexer": "ipython3",
   "version": "3.9.19"
  }
 },
 "nbformat": 4,
 "nbformat_minor": 5
}
