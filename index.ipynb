{
 "cells": [
  {
   "cell_type": "markdown",
   "id": "25cf484c-8230-445c-aa09-e2dbb99e72c9",
   "metadata": {},
   "source": [
    "# Welcome to py5!\n",
    "\n",
    "py5 is a version of [**Processing**][processing] for Python 3.8+. It makes\n",
    "the Java [**Processing**][processing] jars available to the CPython interpreter\n",
    "using [**JPype**][jpype]. It can do just about all of the 2D and 3D drawing\n",
    "[**Processing**][processing] can do, except with Python instead of Java code.\n",
    "\n",
    "The goal of py5 is to create a new version of Processing that is integrated\n",
    "into the Python ecosystem. Built into the library are thoughtful choices about\n",
    "how to best get py5 to work with other popular Python libraries and tools such\n",
    "as [Jupyter](https://jupyter.org/), [numpy](https://numpy.org/), and\n",
    "[Pillow](https://python-pillow.org/).\n",
    "\n",
    "Here is the simplest possible example of a py5 Sketch:"
   ]
  },
  {
   "cell_type": "code",
   "execution_count": null,
   "id": "9173b2e4",
   "metadata": {},
   "outputs": [],
   "source": [
    "def setup():\n",
    "    size(400, 400)\n",
    "    rect_mode(CENTER)\n",
    "\n",
    "\n",
    "def draw():\n",
    "    square(mouse_x, mouse_y, 10)\n",
    "\n",
    "\n",
    "def mouse_clicked():\n",
    "    fill(random_int(255), random_int(255), random_int(255))\n",
    "\n",
    "\n",
    "run_sketch()"
   ]
  },
  {
   "cell_type": "markdown",
   "id": "a101e9c1-b0e6-48f7-9c9e-def42a5890da",
   "metadata": {
    "editable": true,
    "slideshow": {
     "slide_type": ""
    },
    "tags": []
   },
   "source": [
    "Here is an animated GIF to give you an idea of what that Sketch looks like:\n",
    "\n",
    "![index_example](images/main/index_example.gif)"
   ]
  },
  {
   "cell_type": "markdown",
   "id": "5b2a6492-6baa-4d8b-93b2-493be11c856b",
   "metadata": {
    "editable": true,
    "slideshow": {
     "slide_type": ""
    },
    "tags": [
     "remove-cell"
    ]
   },
   "source": [
    "But don't settle for an animated GIF! Use the rocket ship icon at the top of\n",
    "this page to run the example on Binder, or better yet, use Live Code with Thebe\n",
    "(Thebe is somewhat experimental and does not always work). Then you will be able\n",
    "to create a [Sketch Portal](/reference/py5tools_sketch_portal) and see the\n",
    "running Sketch embedded right in this page. You'll even be able click on the\n",
    "Sketch Portal to trigger the `mouse_clicked()` event. The Sketch Portal accepts\n",
    "all of py5's keyboard and mouse events. It is fully interactive!"
   ]
  },
  {
   "cell_type": "code",
   "execution_count": null,
   "id": "d884fbe9",
   "metadata": {
    "editable": true,
    "slideshow": {
     "slide_type": ""
    },
    "tags": [
     "remove-output",
     "remove-cell"
    ]
   },
   "outputs": [],
   "source": [
    "py5_tools.sketch_portal()"
   ]
  },
  {
   "cell_type": "markdown",
   "id": "ced2a9b2-611a-42de-8d91-06b2f5b6b036",
   "metadata": {
    "editable": true,
    "slideshow": {
     "slide_type": ""
    },
    "tags": [
     "remove-cell"
    ]
   },
   "source": [
    "The ability to embed a py5 Sketch in a html page like this is one of the many\n",
    "ways py5 leverages the power of Jupyter Notebooks and is well integrated into\n",
    "the Python ecosystem."
   ]
  },
  {
   "cell_type": "markdown",
   "id": "737bd3dd-854b-4954-a151-4e9d9d87caf9",
   "metadata": {
    "editable": true,
    "slideshow": {
     "slide_type": ""
    },
    "tags": []
   },
   "source": [
    "Have a comment or question about py5? We'd love to hear from you! The best ways\n",
    "to reach out are:\n",
    "\n",
    "* github [discussions](https://github.com/py5coding/py5generator/discussions) and [issues](https://github.com/py5coding/py5generator/issues)\n",
    "* Mastodon <a rel=\"me\" href=\"https://fosstodon.org/@py5coding\">@py5coding@fosstodon.org</a>\n",
    "* twitter [@py5coding](https://twitter.com/py5coding)\n",
    "* [processing foundation discourse](https://discourse.processing.org/)\n",
    "\n",
    "The py5 library has many features but is alpha software. The library and this\n",
    "website are both a work in progress.\n",
    "\n",
    "To view the actual installed py5 library code, look at the\n",
    "[py5 repository][py5_repo]. The py5 library code is the output of the\n",
    "meta-programming project [py5generator][py5generator_repo]. All py5 development\n",
    "is done through [py5generator][py5generator_repo].\n",
    "\n",
    "[processing]: https://github.com/processing/processing4\n",
    "[jpype]: https://github.com/jpype-project/jpype\n",
    "[py5_repo]: https://github.com/py5coding/py5\n",
    "[py5generator_repo]: https://github.com/py5coding/py5generator"
   ]
  }
 ],
 "metadata": {
  "jupytext": {
   "formats": "ipynb,md:myst"
  },
  "kernelspec": {
   "display_name": "py5",
   "language": "python",
   "name": "py5"
  },
  "language_info": {
   "codemirror_mode": {
    "name": "ipython",
    "version": 3
   },
   "file_extension": ".py",
   "mimetype": "text/x-python",
   "name": "python",
   "nbconvert_exporter": "python",
   "pygments_lexer": "ipython3",
   "version": "3.8.17"
  }
 },
 "nbformat": 4,
 "nbformat_minor": 5
}
