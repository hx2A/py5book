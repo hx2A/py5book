{
 "cells": [
  {
   "cell_type": "markdown",
   "id": "7e7c3932",
   "metadata": {},
   "source": [
    "# Introducing py5bot\n",
    "\n",
    "This is py5bot. It is a simple and easy to use programming environment for teaching the very basics of Python programming and creative coding with py5.\n",
    "\n",
    "You must use the [py5bot Jupyter kernel](/content/install) to execute py5bot code.\n",
    "\n",
    "If you are viewing this page from the py5 documentation website, see the Binder or Live Code options by hovering your mouse over the rocket ship icon at the top of this page.\n",
    "\n",
    "Each cell in this notebook can contain a series of py5 drawing commands. The drawing commands will be executed by py5bot to create a static image that will be embedded in the notebook.\n",
    "\n",
    "The main design goal is to provide a simple programming environment that is suitable for beginners. Individual programming concepts can be explained in isolation from more complicated Python concepts like functions or modules.\n",
    "\n",
    "When hosted on Jupyter Hub and paired with Jupyter Lab's \"Show Contextual Help\" feature, py5bot can become an easy to use programming environment for educators to teach Python to beginners.\n",
    "\n",
    "Below is a simple example."
   ]
  },
  {
   "cell_type": "code",
   "execution_count": null,
   "id": "7427db8e",
   "metadata": {},
   "outputs": [],
   "source": [
    "size(200, 200)\n",
    "background(255, 255, 0)\n",
    "rect(50, 50, 100, 100)"
   ]
  },
  {
   "cell_type": "markdown",
   "id": "c17e7a21",
   "metadata": {},
   "source": [
    "If you are familar with Processing, you might describe this as a static sketch.\n",
    "\n",
    "Internally, py5 executes these commands inside of a `setup()` method to render a single frame."
   ]
  },
  {
   "cell_type": "markdown",
   "id": "46097784",
   "metadata": {},
   "source": [
    "## py5bot rules\n",
    "\n",
    "There are a few important rules that you should be aware of.\n",
    "\n",
    "* The [size()](/reference/sketch_size) command should be the first line of Python code. Comments are ignored. If the [size()](/reference/sketch_size) command is omitted, the output size will be 100 by 100 pixels.\n",
    "* When py5bot is run on Windows and Linux computers, you can use the `P2D` or `P3D` renderers. These OpenGL renderers are currently not supported on macOS. The `SVG` and `PDF` renderers are supported on all platforms.\n",
    "* Each cell has its own local namespace. Variables and functions defined in one cell cannot be used in another cell.\n",
    "\n",
    "There are some less important rules that should be mentioned but aren't that important:\n",
    "\n",
    "* Calls to [smooth()](/reference/sketch_smooth) or [no_smooth()](/reference/sketch_no_smooth), if desired, should be after [size()](/reference/sketch_size) and before other Python commands.\n",
    "* A call to [pixel_density()](/reference/sketch_pixel_density) would also need to be after [size()](/reference/sketch_size) and before other Python commands, but since it just scales the size of the output, you probably shouldn't bother using it in py5bot.\n",
    "\n",
    "That's basically it."
   ]
  },
  {
   "cell_type": "markdown",
   "id": "ac661f55",
   "metadata": {},
   "source": [
    "## More examples\n",
    "\n",
    "Let's see a more interesting example."
   ]
  },
  {
   "cell_type": "code",
   "execution_count": null,
   "id": "16380cc0",
   "metadata": {},
   "outputs": [],
   "source": [
    "size(200, 200)\n",
    "background(224)\n",
    "no_stroke()\n",
    "for _ in range(250):\n",
    "    fill(random_int(255), random_int(255), random_int(255))\n",
    "    rect(random_int(width), random_int(height), 10, 10)"
   ]
  },
  {
   "cell_type": "markdown",
   "id": "c66a8c79",
   "metadata": {},
   "source": [
    "If you like you can put `print` statements in the cell."
   ]
  },
  {
   "cell_type": "code",
   "execution_count": null,
   "id": "ce21fd1f",
   "metadata": {},
   "outputs": [],
   "source": [
    "size(200, 200)\n",
    "print('draw a red rectangle')\n",
    "fill(255, 0, 0)\n",
    "rect(50, 50, 100, 100)"
   ]
  },
  {
   "cell_type": "markdown",
   "id": "ddc4668c",
   "metadata": {},
   "source": [
    "You can define your own functions. Any functions will be local to only one cell, however."
   ]
  },
  {
   "cell_type": "code",
   "execution_count": null,
   "id": "4577e58a",
   "metadata": {},
   "outputs": [],
   "source": [
    "size(200, 200)\n",
    "\n",
    "def random_circle():\n",
    "    x = random_int(width)\n",
    "    y = random_int(height)\n",
    "    circle(x, y, random_int(25))\n",
    "    \n",
    "for _ in range(20):\n",
    "    random_circle()"
   ]
  },
  {
   "cell_type": "markdown",
   "id": "72094169",
   "metadata": {},
   "source": [
    "## Error Message Reporting\n",
    "\n",
    "No programming enviroment would be suitable for beginners without appropriate error messages. Observe that in all cases, the error message correctly points to the problem in the code.\n",
    "\n",
    "Below is what syntax errors look like."
   ]
  },
  {
   "cell_type": "code",
   "execution_count": null,
   "id": "b605a436",
   "metadata": {},
   "outputs": [],
   "source": [
    "size(200, 200)\n",
    "rect(10, 20, 30, 40))"
   ]
  },
  {
   "cell_type": "markdown",
   "id": "401ce86e",
   "metadata": {},
   "source": [
    "This next example is a programming error:"
   ]
  },
  {
   "cell_type": "code",
   "execution_count": null,
   "id": "400bf58d",
   "metadata": {},
   "outputs": [],
   "source": [
    "size(200, 200)\n",
    "\n",
    "impossible = 100 / 0"
   ]
  },
  {
   "cell_type": "markdown",
   "id": "e7d4f304",
   "metadata": {},
   "source": [
    "The next example shows the displayed error message for when a py5 drawing function is used incorrectly."
   ]
  },
  {
   "cell_type": "code",
   "execution_count": null,
   "id": "0922414f",
   "metadata": {},
   "outputs": [],
   "source": [
    "size(200, 200)\n",
    "\n",
    "rect(1, 2, 3, 4, \"extra param\")"
   ]
  },
  {
   "cell_type": "markdown",
   "id": "ec5c1b8d",
   "metadata": {},
   "source": [
    "These error messages can be customized. That is a separate topic to be explained elsewhere."
   ]
  },
  {
   "cell_type": "markdown",
   "id": "dc3eec63",
   "metadata": {},
   "source": [
    "There are py5bot reserved words. You are not allowed to use a reserved word as a variable name.\n",
    "\n",
    "Ideally py5bot would have syntax hightlighting to color the reserved words differently, but that hasn't been implemented yet. Let us know if you are interested in working on that."
   ]
  },
  {
   "cell_type": "code",
   "execution_count": null,
   "id": "47b3c322",
   "metadata": {},
   "outputs": [],
   "source": [
    "size(200, 200)\n",
    "\n",
    "red = 255, 0, 0\n",
    "fill(*red)\n",
    "rect(50, 50, 100, 100)"
   ]
  },
  {
   "cell_type": "markdown",
   "id": "c987a19c",
   "metadata": {},
   "source": [
    "## Other Renderers\n",
    "\n",
    "As previously stated, the `P2D` and `P3D` renderers only work on Linux and Windows. On macOS, py5bot will replace the `P2D` or `P3D` renderers with the default renderer after displaying a polite warning.\n",
    "\n",
    "If you are a macOS user running this through Binder or with this website's Live Code feature (Thebe), the following cell will work just fine, without a warning, because the Jupyter kernel is running in the cloud on a Linux server. What matters is where the Jupyter server is running, not the Jupyter client."
   ]
  },
  {
   "cell_type": "code",
   "execution_count": null,
   "id": "2ad22fa6",
   "metadata": {},
   "outputs": [],
   "source": [
    "size(200, 200, P2D)\n",
    "\n",
    "circle(width / 2, height / 2, 150)"
   ]
  },
  {
   "cell_type": "markdown",
   "id": "724a0222",
   "metadata": {},
   "source": [
    "When using the the `SVG` or `PDF` renderers your call to `size()` must provide a filename for the 4th parameter. For example:"
   ]
  },
  {
   "cell_type": "code",
   "execution_count": null,
   "id": "e33c72cb",
   "metadata": {},
   "outputs": [],
   "source": [
    "size(200, 200, SVG, '/tmp/drawing.svg')\n",
    "\n",
    "circle(width / 2, height / 2, 150)"
   ]
  },
  {
   "cell_type": "markdown",
   "id": "4a8acd2c",
   "metadata": {},
   "source": [
    "The `PDF` renderer is similar except be aware that Jupyter Notebooks cannot embed a PDF file in the notebook so the output will not be displayed like it does for the other renderers.\n",
    "\n",
    "## Code Bypass\n",
    "\n",
    "You can use `%%python` to bypass py5bot execution. Any variables or functions defined in such a cell will be available to all later cells. Python modules can be imported here as well.\n",
    "\n",
    "The `%%python` bypass meta-command must be at the very beginning of the code cell."
   ]
  },
  {
   "cell_type": "code",
   "execution_count": null,
   "id": "670bc5c0",
   "metadata": {},
   "outputs": [],
   "source": [
    "%%python\n",
    "\n",
    "import numpy as np\n",
    "\n",
    "def draw_random_circle(x, y):\n",
    "    fill(random_int(255), random_int(255), random_int(255))\n",
    "    circle(x, y, random_int(25))\n",
    "\n",
    "message = \"py5bot is awesome\""
   ]
  },
  {
   "cell_type": "markdown",
   "id": "014ba859",
   "metadata": {},
   "source": [
    "The code in the previous cell will be available to regular py5bot cells."
   ]
  },
  {
   "cell_type": "code",
   "execution_count": null,
   "id": "0c19d5aa",
   "metadata": {},
   "outputs": [],
   "source": [
    "size(200, 200)\n",
    "\n",
    "no_stroke()\n",
    "\n",
    "for _ in range(250):\n",
    "    x = np.random.normal(width / 2, 40)\n",
    "    y = np.random.normal(height / 2, 40)\n",
    "    draw_random_circle(x, y)\n",
    "\n",
    "    \n",
    "fill(255, 196)\n",
    "rect(0, 0, width, 30)\n",
    "\n",
    "fill(255, 0, 0)\n",
    "text_size(22)\n",
    "text(message, 10, 20)"
   ]
  }
 ],
 "metadata": {
  "jupytext": {
   "formats": "ipynb,md:myst"
  },
  "kernelspec": {
   "display_name": "py5bot",
   "language": "python",
   "name": "py5bot"
  },
  "language_info": {
   "codemirror_mode": {
    "name": "ipython",
    "version": 3
   },
   "file_extension": ".py",
   "mimetype": "text/x-python",
   "name": "python",
   "nbconvert_exporter": "python",
   "pygments_lexer": "ipython3",
   "version": "3.9.19"
  },
  "vscode": {
   "interpreter": {
    "hash": "785faf87ed1b124cca01ba402992ac0f231236c58eecbc5647ac33e5e18ae531"
   }
  }
 },
 "nbformat": 4,
 "nbformat_minor": 5
}
