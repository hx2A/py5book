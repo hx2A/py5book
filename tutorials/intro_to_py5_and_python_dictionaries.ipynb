{
 "cells": [
  {
   "cell_type": "markdown",
   "id": "3cb7e250",
   "metadata": {},
   "source": [
    "## dictionaries\n",
    "\n",
    "You can think of a dictionary as an extension or a variation on the concept of a Python list. In a list, each *value* (whether that's an integer, a string of text, or a second nested list) corresponds to a n index number that represents its position in the list. Dictionaries, instead, associate values with keywords. You'll often see this relationship referred to as *key-value pairs*. \n",
    "\n",
    "As with many other functions and coding techniques, there's no clear winner in how dictionaries and lists function, but in certain situations, using one will make more sense. If you wanted to store that you had a student named Sam, who was 24 years old, in a list, you might use code like:\n",
    "\n",
    "```\n",
    "studentlist = ['Sam', 24]\n",
    "```\n",
    "\n",
    "To store the same values in a dictionary, the syntax is different, but you can also see that these values are explicitly labeled. The *key* for each value comes first, and is wrapped in quotes, like a string of text. It's separated from the value by a colon.\n",
    "\n",
    "```\n",
    "studentdict = {'name':'Sam', 'age':24}\n",
    "```\n",
    "\n",
    "To get Sam's name from our student list you would use `studentlist[0]`, since it's the first item of the list. To get their name from our student *dictionary*, you have to use the key instead of a number! Just like a list, you can also use the name of a dictionary by itself to retrieve the whole thing."
   ]
  },
  {
   "cell_type": "code",
   "execution_count": 2,
   "id": "60918df7",
   "metadata": {},
   "outputs": [
    {
     "name": "stdout",
     "output_type": "stream",
     "text": [
      "Sam\n",
      "24\n",
      "{'name': 'Sam', 'age': 24}\n"
     ]
    }
   ],
   "source": [
    "def setup():\n",
    "    studentlist = ['Sam', 24]\n",
    "    studentdict = {'name':'Sam', 'age':24}\n",
    "\n",
    "    # print( studentlist[0] )     # would display Sam\n",
    "    print( studentdict['name'] )  # displays Sam\n",
    "    print( studentdict['age'] )   # displays 24\n",
    "    \n",
    "    print( studentdict )          # {'name': 'Sam', 'age': 24}\n",
    "\n",
    "run_sketch()"
   ]
  },
  {
   "cell_type": "markdown",
   "id": "7cde05dc",
   "metadata": {},
   "source": [
    "Dictionaries have their own set of methods, and many of the Python list methods, like `append()`, `extend()`, `index()`, `insert()`, and `remove()`, do not work on them. You can look up additional dictionary methods, but there are a few which you might find particularly useful: \n",
    "\n",
    "*.keys()* returns a list of all keys in the dictionary.\n",
    "\n",
    "*.values()* returns all of the values. \n",
    "\n",
    "*.items()* returns all of the pairs in the dictionary."
   ]
  },
  {
   "cell_type": "code",
   "execution_count": 5,
   "id": "0a0b3402",
   "metadata": {},
   "outputs": [
    {
     "name": "stdout",
     "output_type": "stream",
     "text": [
      "Sam\n",
      "24\n",
      "{'name': 'Sam', 'age': 24}\n",
      "dict_keys(['name', 'age'])\n",
      "dict_values(['Sam', 24])\n",
      "dict_items([('name', 'Sam'), ('age', 24)])\n"
     ]
    }
   ],
   "source": [
    "def setup():\n",
    "    studentlist = ['Sam', 24]\n",
    "    studentdict = {'name':'Sam', 'age':24}\n",
    "\n",
    "    # print( studentlist[0] )     # would display Sam\n",
    "    print( studentdict['name'] )  # displays Sam\n",
    "    print( studentdict['age'] )   # displays 24\n",
    "    \n",
    "    print( studentdict )          # {'name': 'Sam', 'age': 24}\n",
    "    print( studentdict.keys() )   # dict_keys(['name', 'age'])\n",
    "    print( studentdict.values() ) # dict_values(['Sam', 24])\n",
    "    print( studentdict.items() )  # dict_items([('name', 'Sam'), ('age', 24)])\n",
    "\n",
    "run_sketch()"
   ]
  },
  {
   "cell_type": "markdown",
   "id": "69b84fc9",
   "metadata": {},
   "source": [
    "You might remember that lists are *ordered*; that is, a list will always have the same sequence, no matter how many times you access it. Dictionaries are not inherently ordered, so you can't rely on the positions of pairs remaining in the same place! \n",
    "\n",
    "You'll notice that the format of the values being returned to you is quite specific, defining them as *dict_keys*, *dict_values* or *dict_items*. Depending on what you're doing with it, you might also want to transform this output into a list first, using the `list()` function."
   ]
  },
  {
   "cell_type": "code",
   "execution_count": 7,
   "id": "a5b13dd2",
   "metadata": {},
   "outputs": [
    {
     "name": "stdout",
     "output_type": "stream",
     "text": [
      "Sam\n",
      "24\n",
      "{'name': 'Sam', 'age': 24}\n",
      "['name', 'age']\n",
      "['Sam', 24]\n",
      "[('name', 'Sam'), ('age', 24)]\n"
     ]
    }
   ],
   "source": [
    "def setup():\n",
    "    studentlist = ['Sam', 24]\n",
    "    studentdict = {'name':'Sam', 'age':24}\n",
    "\n",
    "    # print( studentlist[0] )     # would display Sam\n",
    "    print( studentdict['name'] )  # displays Sam\n",
    "    print( studentdict['age'] )   # displays 24\n",
    "    \n",
    "    print( studentdict )          # {'name': 'Sam', 'age': 24}\n",
    "    print( list( studentdict.keys() ) )   # ['name', 'age']\n",
    "    print( list( studentdict.values() ) ) # ['Sam', 24]\n",
    "    print( list( studentdict.items() ) )  # [('name', 'Sam'), ('age', 24)]\n",
    "\n",
    "run_sketch()"
   ]
  },
  {
   "cell_type": "markdown",
   "id": "e17ef37a",
   "metadata": {},
   "source": [
    "So, what's up with those sets of round brackets that you may be seeing when you use the `.items()` method? Round brackets indicate that the items inside of them are a *tuple*. Tuple can be pronounced as \"too-ple\" or \"tuh-ple\" depending on who you want to annoy. While tuples are distinct from lists, you can use some of the same syntax to access their values. As an example, let's use the tuples we get from `.items()` as if they were lists."
   ]
  },
  {
   "cell_type": "code",
   "execution_count": 10,
   "id": "3045b85a",
   "metadata": {},
   "outputs": [
    {
     "name": "stdout",
     "output_type": "stream",
     "text": [
      "('name', 'Sam')\n",
      "name\n"
     ]
    }
   ],
   "source": [
    "def setup():\n",
    "    studentlist = ['Sam', 24]\n",
    "    studentdict = {'name':'Sam', 'age':24}\n",
    "    \n",
    "    # Putting our dictionary items in a variable \n",
    "    items = list( studentdict.items())\n",
    "    # items[0] will access our first tuple\n",
    "    print( items[0] )             # ('name', 'Sam')\n",
    "    # Even though a tuple isn't exactly a list, items[0][0] gets the first item in that tuple\n",
    "    print( items[0][0] )          # name\n",
    "    # However, a tuple cannot be modified the same way a list can!\n",
    "    # If uncommented, the below line gives an error.\n",
    "    # items[0][0] = \"test\" \n",
    "\n",
    "run_sketch()"
   ]
  },
  {
   "cell_type": "markdown",
   "id": "d60539f5",
   "metadata": {},
   "source": [
    "## modifying dictionaries \n",
    "\n",
    "Dictionaries are *dynamic*, which means you can modify them any time you like. To change an existing element, you can access it similarly to how you'd access a list item, but using the key instead of an index number. You can use the same syntax to add an entirely new key-value pair."
   ]
  },
  {
   "cell_type": "code",
   "execution_count": 13,
   "id": "eea3606d",
   "metadata": {},
   "outputs": [
    {
     "name": "stdout",
     "output_type": "stream",
     "text": [
      "{'name': 'Sam', 'age': 25}\n",
      "{'name': 'Sam', 'age': 25, 'id': 19011501}\n"
     ]
    }
   ],
   "source": [
    "def setup():\n",
    "    studentlist = ['Sam', 24]\n",
    "    studentdict = {'name':'Sam', 'age':24}\n",
    "    \n",
    "    # Changing an existing value\n",
    "    studentdict['age'] = 25\n",
    "    print(studentdict)  # {'name': 'Sam', 'age': 25}\n",
    "    \n",
    "    # Adding a new value\n",
    "    studentdict['id'] = 19011501\n",
    "    print( studentdict ) # {'name': 'Sam', 'id': 19011501, 'age': 25}\n",
    "    \n",
    "run_sketch()"
   ]
  },
  {
   "cell_type": "markdown",
   "id": "bb28c432",
   "metadata": {},
   "source": [
    "Deleting items from dictionaries is a little different. You'll be using a statement you haven't encountered before, `del`."
   ]
  },
  {
   "cell_type": "code",
   "execution_count": 14,
   "id": "c756d4e3",
   "metadata": {},
   "outputs": [
    {
     "name": "stdout",
     "output_type": "stream",
     "text": [
      "{'name': 'Sam', 'age': 25}\n",
      "{'name': 'Sam', 'age': 25, 'id': 19011501}\n",
      "{'name': 'Sam', 'id': 19011501}\n"
     ]
    }
   ],
   "source": [
    "def setup():\n",
    "    studentlist = ['Sam', 24]\n",
    "    studentdict = {'name':'Sam', 'age':24}\n",
    "    \n",
    "    # Changing an existing value\n",
    "    studentdict['age'] = 25\n",
    "    print(studentdict)  # {'name': 'Sam', 'age': 25}\n",
    "    \n",
    "    # Adding a new value\n",
    "    studentdict['id'] = 19011501\n",
    "    print( studentdict ) # {'name': 'Sam', 'id': 19011501, 'age': 25}\n",
    "    \n",
    "    # Removing a value\n",
    "    \n",
    "    del studentdict['age']\n",
    "    print(studentdict) # {'name': 'Sam', 'id': 19011501}\n",
    "    \n",
    "run_sketch()"
   ]
  },
  {
   "cell_type": "markdown",
   "id": "0a917c17",
   "metadata": {},
   "source": [
    "## nested dictionaries\n",
    "\n",
    "Just like you can have lists of lists, dictionaries can be nested - and when the two are combined, they can be a really good way to store large amounts data."
   ]
  },
  {
   "cell_type": "code",
   "execution_count": 15,
   "id": "a8535cff",
   "metadata": {},
   "outputs": [
    {
     "name": "stdout",
     "output_type": "stream",
     "text": [
      "Lee\n"
     ]
    }
   ],
   "source": [
    "def setup():\n",
    "    # This is a dictionary of lists!\n",
    "    students = {\n",
    "      'names':['Sam', 'Lee'],\n",
    "      'ages':[24, 18]\n",
    "    }\n",
    "    \n",
    "    print( students['names'][1] ) # displays Lee\n",
    "    \n",
    "run_sketch()"
   ]
  },
  {
   "cell_type": "code",
   "execution_count": 16,
   "id": "0a9764af",
   "metadata": {},
   "outputs": [
    {
     "name": "stdout",
     "output_type": "stream",
     "text": [
      "Lee\n"
     ]
    }
   ],
   "source": [
    "def setup():\n",
    "    # This is a list of dictionaries!\n",
    "    students = [\n",
    "      {'name':'Sam', 'age':24},\n",
    "      {'name':'Lee', 'age':18}\n",
    "    ]\n",
    "    print( students[1]['name'] )  # displays Lee\n",
    "\n",
    "run_sketch()"
   ]
  },
  {
   "cell_type": "markdown",
   "id": "8cad01b6",
   "metadata": {},
   "source": [
    "The structure of the data you're using, and its uses, will often dictate which of these options is better. In these examples, if you're storing your student information as a large collection of data, and want to easily look at the ages of every student at once, the dictionary of lists might make more sense. If you're having to refer to these students as individuals, and want their data to be more strictly connected, you might prefer the list of dictionaries. \n",
    "\n",
    "## loops and dictionaries\n",
    "\n",
    "Just like with lists, there will be many situations where you want to iterate through the information stored in dictionaries. This is slightly different than iterating through lists, and will sometimes use of the `.keys()`, `.values()` and `.items()` methods from earlier. This code..."
   ]
  },
  {
   "cell_type": "code",
   "execution_count": 19,
   "id": "2652d958",
   "metadata": {},
   "outputs": [
    {
     "name": "stdout",
     "output_type": "stream",
     "text": [
      "name\n",
      "age\n"
     ]
    }
   ],
   "source": [
    "def setup():\n",
    "    studentdict = {'name':'Sam', 'age':24}\n",
    "    \n",
    "    for k in studentdict.keys():\n",
    "        print(k)\n",
    "        \n",
    "run_sketch()"
   ]
  },
  {
   "cell_type": "markdown",
   "id": "f15a2426",
   "metadata": {},
   "source": [
    "...will print the keys, *name* and then *age*, to the console. However, even if you *don't* use `.keys()`, it will be automatically assumed that you want to iterate through the keys in this dictionary. This code does the same thing!"
   ]
  },
  {
   "cell_type": "code",
   "execution_count": 21,
   "id": "8292518d",
   "metadata": {},
   "outputs": [
    {
     "name": "stdout",
     "output_type": "stream",
     "text": [
      "name\n",
      "age\n"
     ]
    }
   ],
   "source": [
    "def setup():\n",
    "    studentdict = {'name':'Sam', 'age':24}\n",
    "    \n",
    "    for k in studentdict:\n",
    "        print(k)\n",
    "        \n",
    "run_sketch()"
   ]
  },
  {
   "cell_type": "markdown",
   "id": "db9e835b",
   "metadata": {},
   "source": [
    "If you want to just retrieve the values from a dictionary, you'll have to use `.values()`."
   ]
  },
  {
   "cell_type": "code",
   "execution_count": 22,
   "id": "e7ceefcf",
   "metadata": {},
   "outputs": [
    {
     "name": "stdout",
     "output_type": "stream",
     "text": [
      "Sam\n",
      "24\n"
     ]
    }
   ],
   "source": [
    "def setup():\n",
    "    studentdict = {'name':'Sam', 'age':24}\n",
    "    \n",
    "    for v in studentdict.values():\n",
    "        print(v)\n",
    "        \n",
    "run_sketch()"
   ]
  },
  {
   "cell_type": "markdown",
   "id": "00e28ff8",
   "metadata": {},
   "source": [
    "Of course, you'll often want both. Using `.items()`, you'll have to name two variables, for the keys and the values. You can name them anything you like (k and v in the example below), but you should always assume the same order - keys, then values."
   ]
  },
  {
   "cell_type": "code",
   "execution_count": 24,
   "id": "052ffb9e",
   "metadata": {},
   "outputs": [
    {
     "name": "stdout",
     "output_type": "stream",
     "text": [
      "name Sam\n",
      "age 24\n"
     ]
    }
   ],
   "source": [
    "def setup():\n",
    "    studentlist = ['Sam', 24]\n",
    "    studentdict = {'name':'Sam', 'age':24}\n",
    "    \n",
    "    for k,v in studentdict.items():\n",
    "        print(k,v)\n",
    "    \n",
    "run_sketch()"
   ]
  },
  {
   "cell_type": "markdown",
   "id": "bbc2df51",
   "metadata": {},
   "source": [
    "Want to get these items in a particular order? You might want the help of the `sorted()` function. By default, `sorted()` will order by alphabetical order, so in the below example, *age* takes priority over *name*."
   ]
  },
  {
   "cell_type": "code",
   "execution_count": 25,
   "id": "aea5a273",
   "metadata": {},
   "outputs": [
    {
     "name": "stdout",
     "output_type": "stream",
     "text": [
      "age 24\n",
      "name Sam\n"
     ]
    }
   ],
   "source": [
    "def setup():\n",
    "    studentlist = ['Sam', 24]\n",
    "    studentdict = {'name':'Sam', 'age':24}\n",
    "\n",
    "    for k,v in sorted( studentdict.items() ):\n",
    "        print(k,v)\n",
    "    \n",
    "run_sketch()"
   ]
  },
  {
   "cell_type": "markdown",
   "id": "7604ba24",
   "metadata": {},
   "source": [
    "Now that we've learned a bit how to work with dictionaries, let's move onto a task.\n",
    "\n",
    "## coffee chart task\n",
    "\n",
    "In this task, you'll be combining dictionaries, lists, and loops. The result will be a chart advertising the ratios of espresso, hot water, steamed milk and foamed milk in different types of coffees. First, we'll set up some code to draw our mugs in the right places, and create a list of coffees."
   ]
  },
  {
   "cell_type": "code",
   "execution_count": 27,
   "id": "5d811c71",
   "metadata": {},
   "outputs": [],
   "source": [
    "def setup():\n",
    "    size(800,800)\n",
    "    background('#004477')\n",
    "    \n",
    "    mug = 110\n",
    "    col = 1\n",
    "    row = 1\n",
    "    coffees = [\n",
    "      'cafe con leche', 'espresso', 'demi-creme',\n",
    "      'americano', 'capucchino', 'latte',\n",
    "      'ristretto', 'macchiato', 'flat white'\n",
    "    ]\n",
    "\n",
    "    for coffee in coffees:\n",
    "        # Positioning the mug, based on current column/row count and sketch size\n",
    "        x = width/4*col\n",
    "        y = height/4*row\n",
    "\n",
    "        # Drawing a mug\n",
    "        stroke('#FFFFFF')\n",
    "        stroke_weight(4)\n",
    "        no_fill()\n",
    "        arc(x+55,y, 40, 40, -HALF_PI, HALF_PI)\n",
    "        arc(x+55,y, 65, 65, -HALF_PI, HALF_PI)\n",
    "        rect(x-mug/2,y-mug/2, mug,mug)\n",
    "        \n",
    "        # This code just does the math for our rows and columns. \n",
    "        # There are other ways to do this, of course!\n",
    "        if col%3 == 0:\n",
    "            row += 1\n",
    "            col = 1\n",
    "        else:\n",
    "            col += 1\n",
    "            \n",
    "run_sketch()"
   ]
  },
  {
   "cell_type": "markdown",
   "id": "959dade5",
   "metadata": {},
   "source": [
    "<img src=\"images/dictionaries/coffee-chart-empty-mugs.png\">\n",
    "\n",
    "Great - but a regular list won't cut it for this exercise. Let's replace the list of coffees with a list of *dictionaries*, where each stores the name of the coffee and all of its ingredients in key/value pairs."
   ]
  },
  {
   "cell_type": "code",
   "execution_count": null,
   "id": "bf04bfcc",
   "metadata": {},
   "outputs": [],
   "source": [
    "def setup():\n",
    "    size(800,800)\n",
    "    background('#004477')\n",
    "    \n",
    "    mug = 110\n",
    "    col = 1\n",
    "    row = 1\n",
    "    coffees = [\n",
    "        { 'name':'cafe con leche','espresso':50, 'hotwater':0, 'steamedmilk':30,'foamedmilk':0  },\n",
    "        { 'name':'espresso',      'espresso':60, 'hotwater':0, 'steamedmilk':0, 'foamedmilk':0  },\n",
    "        { 'name':'demi-creme',    'espresso':40, 'hotwater':0, 'steamedmilk':40,'foamedmilk':0  },\n",
    "        { 'name':'americano',     'espresso':60, 'hotwater':30,'steamedmilk':0, 'foamedmilk':0  },\n",
    "        { 'name':'capucchino',    'espresso':40, 'hotwater':0, 'steamedmilk':30,'foamedmilk':30 },\n",
    "        { 'name':'latte',         'espresso':35, 'hotwater':0, 'steamedmilk':10,'foamedmilk':30 },\n",
    "        { 'name':'ristretto',     'espresso':30, 'hotwater':0, 'steamedmilk':0, 'foamedmilk':0  },\n",
    "        { 'name':'macchiato',     'espresso':40, 'hotwater':0, 'steamedmilk':0, 'foamedmilk':60 },\n",
    "        { 'name':'flat white',    'espresso':40, 'hotwater':0, 'steamedmilk':60,'foamedmilk':0  }\n",
    "    ]\n",
    "\n",
    "    for coffee in coffees:\n",
    "        x = width/4*col\n",
    "        y = height/4*row\n",
    "\n",
    "        stroke('#FFFFFF')\n",
    "        stroke_weight(4)\n",
    "        no_fill()\n",
    "        arc(x+55,y, 40, 40, -HALF_PI, HALF_PI)\n",
    "        arc(x+55,y, 65, 65, -HALF_PI, HALF_PI)\n",
    "        rect(x-mug/2,y-mug/2, mug,mug)\n",
    "        \n",
    "        if col%3 == 0:\n",
    "            row += 1\n",
    "            col = 1\n",
    "        else:\n",
    "            col += 1\n",
    "            \n",
    "run_sketch()"
   ]
  },
  {
   "cell_type": "markdown",
   "id": "818807a0",
   "metadata": {},
   "source": [
    "When you're done, the chart will look like this:\n",
    "\n",
    "<img src=\"images/dictionaries/coffee-chart-complete.png\">\n",
    "\n",
    "Looks a bit daunting? Well, we know that each ingredient will be represented by a `rect()` inside of the mug. Since every one of these coffees contains espresso, it's a safe place to start. I've drawn the espresso before drawing the mug, since that way the mug's outlines will nicely cover it. As my first step, I've filled the mug to the top with espresso, by using the exact same parameters to draw the mug itself."
   ]
  },
  {
   "cell_type": "code",
   "execution_count": 31,
   "id": "36fe1293",
   "metadata": {},
   "outputs": [],
   "source": [
    "def setup():\n",
    "    size(800,800)\n",
    "    background('#004477')\n",
    "    \n",
    "    mug = 110\n",
    "    col = 1\n",
    "    row = 1\n",
    "    coffees = [\n",
    "        { 'name':'cafe con leche','espresso':50, 'hotwater':0, 'steamedmilk':30,'foamedmilk':0  },\n",
    "        { 'name':'espresso',      'espresso':60, 'hotwater':0, 'steamedmilk':0, 'foamedmilk':0  },\n",
    "        { 'name':'demi-creme',    'espresso':40, 'hotwater':0, 'steamedmilk':40,'foamedmilk':0  },\n",
    "        { 'name':'americano',     'espresso':60, 'hotwater':30,'steamedmilk':0, 'foamedmilk':0  },\n",
    "        { 'name':'capucchino',    'espresso':40, 'hotwater':0, 'steamedmilk':30,'foamedmilk':30 },\n",
    "        { 'name':'latte',         'espresso':35, 'hotwater':0, 'steamedmilk':10,'foamedmilk':30 },\n",
    "        { 'name':'ristretto',     'espresso':30, 'hotwater':0, 'steamedmilk':0, 'foamedmilk':0  },\n",
    "        { 'name':'macchiato',     'espresso':40, 'hotwater':0, 'steamedmilk':0, 'foamedmilk':60 },\n",
    "        { 'name':'flat white',    'espresso':40, 'hotwater':0, 'steamedmilk':60,'foamedmilk':0  }\n",
    "    ]\n",
    "\n",
    "    for coffee in coffees:\n",
    "        x = width/4*col\n",
    "        y = height/4*row\n",
    "        \n",
    "        # Adding some espresso!\n",
    "        no_stroke()\n",
    "        fill('#332222')\n",
    "        rect(x-mug/2,y-mug/2, mug,mug)\n",
    "\n",
    "        stroke('#FFFFFF')\n",
    "        stroke_weight(4)\n",
    "        no_fill()\n",
    "        arc(x+55,y, 40, 40, -HALF_PI, HALF_PI)\n",
    "        arc(x+55,y, 65, 65, -HALF_PI, HALF_PI)\n",
    "        rect(x-mug/2,y-mug/2, mug,mug)\n",
    "        \n",
    "        if col%3 == 0:\n",
    "            row += 1\n",
    "            col = 1\n",
    "        else:\n",
    "            col += 1\n",
    "            \n",
    "run_sketch()"
   ]
  },
  {
   "cell_type": "markdown",
   "id": "570916fa",
   "metadata": {},
   "source": [
    "<img src=\"images/dictionaries/coffee-chart-full.png\">\n",
    "\n",
    "We've got espresso now, but a bit too much of it. One way we could approach this is by using the value attached to the *espresso* key to determine the height of our `rect()`. But there's a bit of lateral thinking in making it look right."
   ]
  },
  {
   "cell_type": "code",
   "execution_count": 32,
   "id": "320d51a0",
   "metadata": {},
   "outputs": [],
   "source": [
    "def setup():\n",
    "    size(800,800)\n",
    "    background('#004477')\n",
    "    \n",
    "    mug = 110\n",
    "    col = 1\n",
    "    row = 1\n",
    "    coffees = [\n",
    "        { 'name':'cafe con leche','espresso':50, 'hotwater':0, 'steamedmilk':30,'foamedmilk':0  },\n",
    "        { 'name':'espresso',      'espresso':60, 'hotwater':0, 'steamedmilk':0, 'foamedmilk':0  },\n",
    "        { 'name':'demi-creme',    'espresso':40, 'hotwater':0, 'steamedmilk':40,'foamedmilk':0  },\n",
    "        { 'name':'americano',     'espresso':60, 'hotwater':30,'steamedmilk':0, 'foamedmilk':0  },\n",
    "        { 'name':'capucchino',    'espresso':40, 'hotwater':0, 'steamedmilk':30,'foamedmilk':30 },\n",
    "        { 'name':'latte',         'espresso':35, 'hotwater':0, 'steamedmilk':10,'foamedmilk':30 },\n",
    "        { 'name':'ristretto',     'espresso':30, 'hotwater':0, 'steamedmilk':0, 'foamedmilk':0  },\n",
    "        { 'name':'macchiato',     'espresso':40, 'hotwater':0, 'steamedmilk':0, 'foamedmilk':60 },\n",
    "        { 'name':'flat white',    'espresso':40, 'hotwater':0, 'steamedmilk':60,'foamedmilk':0  }\n",
    "    ]\n",
    "\n",
    "    for coffee in coffees:\n",
    "        x = width/4*col\n",
    "        y = height/4*row\n",
    "        \n",
    "        # Adding some espresso!\n",
    "        no_stroke()\n",
    "        fill('#332222')\n",
    "        rect(x-mug/2,y-mug/2, mug, coffee['espresso']) # Using espresso as the height value\n",
    "\n",
    "        stroke('#FFFFFF')\n",
    "        stroke_weight(4)\n",
    "        no_fill()\n",
    "        arc(x+55,y, 40, 40, -HALF_PI, HALF_PI)\n",
    "        arc(x+55,y, 65, 65, -HALF_PI, HALF_PI)\n",
    "        rect(x-mug/2,y-mug/2, mug,mug)\n",
    "        \n",
    "        if col%3 == 0:\n",
    "            row += 1\n",
    "            col = 1\n",
    "        else:\n",
    "            col += 1\n",
    "            \n",
    "run_sketch()"
   ]
  },
  {
   "cell_type": "markdown",
   "id": "fe4e281d",
   "metadata": {},
   "source": [
    "<img src=\"images/dictionaries/coffee-chart-floating.png\">\n",
    "\n",
    "The espresso is floating! We're drawing our espresso from the top of the cup, but it needs to be sitting on the bottom. This means that we also need to be *offsetting* the espresso, rather than drawing it at the top of the cup. Luckily, we have this value, *mug*, which tells us exactly how tall the cup is. This means that `mug - coffee['espresso']` will give us just the empty pixels meant to be at the top of the mug. Let's put this in a variable. We can then add this value to the Y position of our espresso `rect()` to move it downwards."
   ]
  },
  {
   "cell_type": "code",
   "execution_count": 35,
   "id": "2dc6bf7d",
   "metadata": {},
   "outputs": [],
   "source": [
    "def setup():\n",
    "    size(800,800)\n",
    "    background('#004477')\n",
    "    \n",
    "    mug = 110\n",
    "    col = 1\n",
    "    row = 1\n",
    "    coffees = [\n",
    "        { 'name':'cafe con leche','espresso':50, 'hotwater':0, 'steamedmilk':30,'foamedmilk':0  },\n",
    "        { 'name':'espresso',      'espresso':60, 'hotwater':0, 'steamedmilk':0, 'foamedmilk':0  },\n",
    "        { 'name':'demi-creme',    'espresso':40, 'hotwater':0, 'steamedmilk':40,'foamedmilk':0  },\n",
    "        { 'name':'americano',     'espresso':60, 'hotwater':30,'steamedmilk':0, 'foamedmilk':0  },\n",
    "        { 'name':'capucchino',    'espresso':40, 'hotwater':0, 'steamedmilk':30,'foamedmilk':30 },\n",
    "        { 'name':'latte',         'espresso':35, 'hotwater':0, 'steamedmilk':10,'foamedmilk':30 },\n",
    "        { 'name':'ristretto',     'espresso':30, 'hotwater':0, 'steamedmilk':0, 'foamedmilk':0  },\n",
    "        { 'name':'macchiato',     'espresso':40, 'hotwater':0, 'steamedmilk':0, 'foamedmilk':60 },\n",
    "        { 'name':'flat white',    'espresso':40, 'hotwater':0, 'steamedmilk':60,'foamedmilk':0  }\n",
    "    ]\n",
    "\n",
    "    for coffee in coffees:\n",
    "        empty_space = mug # An empty space variable...\n",
    "        x = width/4*col\n",
    "        y = height/4*row\n",
    "        \n",
    "        # Adding some espresso!\n",
    "        empty_space -= coffee['espresso'] # Subtracting our espresso from empty space\n",
    "        no_stroke()\n",
    "        fill('#332222')\n",
    "        rect(x-mug/2,y-mug/2 + empty_space, # Using empty space to offset the start position\n",
    "             mug, coffee['espresso']) # Using espresso as the height value\n",
    "\n",
    "        stroke('#FFFFFF')\n",
    "        stroke_weight(4)\n",
    "        no_fill()\n",
    "        arc(x+55,y, 40, 40, -HALF_PI, HALF_PI)\n",
    "        arc(x+55,y, 65, 65, -HALF_PI, HALF_PI)\n",
    "        rect(x-mug/2,y-mug/2, mug,mug)\n",
    "        \n",
    "        if col%3 == 0:\n",
    "            row += 1\n",
    "            col = 1\n",
    "        else:\n",
    "            col += 1\n",
    "            \n",
    "run_sketch()"
   ]
  },
  {
   "cell_type": "markdown",
   "id": "3db11e10",
   "metadata": {},
   "source": [
    "<img src=\"images/dictionaries/coffee-chart-espresso.png\">\n",
    "\n",
    "That's looking much more in line with the laws of gravity! \n",
    "\n",
    "Add in the other ingredients by making them their own blocks of code - positioning them using the variables given, and figuring out their height with the values in the dictionary. Delicious!\n",
    "\n",
    "<img src=\"images/dictionaries/coffee-chart-complete.png\">"
   ]
  }
 ],
 "metadata": {
  "jupytext": {
   "formats": "ipynb,md:myst"
  },
  "kernelspec": {
   "display_name": "py5",
   "language": "python",
   "name": "py5"
  },
  "language_info": {
   "codemirror_mode": {
    "name": "ipython",
    "version": 3
   },
   "file_extension": ".py",
   "mimetype": "text/x-python",
   "name": "python",
   "nbconvert_exporter": "python",
   "pygments_lexer": "ipython3",
   "version": "3.10.5"
  }
 },
 "nbformat": 4,
 "nbformat_minor": 5
}
