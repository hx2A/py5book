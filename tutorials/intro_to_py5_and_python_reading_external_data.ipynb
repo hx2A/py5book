{
 "cells": [
  {
   "cell_type": "markdown",
   "id": "41f30d8f",
   "metadata": {},
   "source": [
    "## reading external data\n",
    "\n",
    "When you're storing data in py5 - whether that data is lines of text, mathematical formulas or image files - you'll often find that manually inserting all this data into the code itself is unnecessarily time-consuming, or doesn't quite fit your needs. This is especially noticeable if you begin using py5 for purposes of data visualization. If you were taking data from a spreadsheet and trying to manually insert it into lists so you could visualize it, you'd get frustrated very quickly (especially when the data in that spreadsheet might change!)\n",
    "\n",
    "Luckily, there are ways to use external data inside of py5. Other tutorials may have asked you to display images in your sketch using the `load_image()` and `image()` functions. In this tutorial, we'll discuss how to read text data into py5 from external files, and utilize it for data visualization. \n",
    "\n",
    "It's important to clarify that we're talking about *plain text*, which has no special visual styling by itself. Plain text can come in many different forms, however. These could be files ending in .txt, .html, .xml... and even the .py files that py5 produces. Opening any of these files up in a standard text editor will allow you to read the contents, even if the structure can differ greatly between file formats. For example, opening a list of your favorite songs you've saved in a .txt file may look like:\n",
    "\n",
    "```\n",
    "Breathe, by Pink Floyd, on the album The Dark Side of the Moon\n",
    "Speak To Me, by Pink Floyd, on the album The Dark Side of the Moon\n",
    "...\n",
    "```\n",
    "\n",
    "An .html file you'd created to list these songs on your webpage would probably include extra formatting information:\n",
    "\n",
    "```\n",
    "<b>Breathe</b>, by <em>Pink Floyd</em>, on the album <u>The Dark Side of the Moon</u>\n",
    "<b>Speak To Me</b>, by <em>Pink Floyd</em>, on the album <u>The Dark Side of the Moon</u>\n",
    "...\n",
    "```\n",
    "\n",
    "And if you'd asked an audio player like VLC to export your playlist as XML, it would have even more contextual information:\n",
    "\n",
    "```\n",
    "<?xml version=\"1.0\" encoding=\"UTF-8\"?>\n",
    "<playlist version=\"1\" xmlns=\"http://xspf.org/ns/0/\">\n",
    "  <title>Pink Floyd Playlist</title>\n",
    "  <trackList>\n",
    "    <track>\n",
    "      <location>file:///music/SpeakToMe.mp3</location>\n",
    "      <title>Speak to Me</title>\n",
    "      <creator>Pink Floyd</creator>\n",
    "      <album>The Dark Side of the Moon</album>\n",
    "      <trackNum>1</trackNum>\n",
    "    </track>\n",
    "    <track>\n",
    "      <location>file:///music/Breathe.mp3</location>\n",
    "      <title>Breathe</title>\n",
    "      <creator>Pink Floyd</creator>\n",
    "      <album>The Dark Side of the Moon</album>\n",
    "      <trackNum>2</trackNum>\n",
    "    </track>\n",
    "...\n",
    "```\n",
    "\n",
    "You may have never seen XML before, but you can likely understand some of the structure by looking at it. These labels and triangular brackets describe their contents and make it easier to use this information in other programs. Another option is *JavaScript Object Notation*, represented by .json files. The contents of these files closely resembles Python dictionaries, which you may have used already in py5.\n",
    "\n",
    "```\n",
    "\n",
    "\n",
    "{\n",
    "  \"playlist\" : {\n",
    "    \"title\"    : \"Pink Floyd Playlist\",\n",
    "    \"track\"    : [\n",
    "      {\n",
    "        \"location\"    : [\"file:///music/SpeakToMe.mp3\"],\n",
    "        \"title\"       : \"Speak to Me\",\n",
    "        \"creator\"     : \"Pink Floyd\",\n",
    "        \"album\"       : \"The Dark Side of the Moon\"\n",
    "        \"trackNum\"    : \"1\"\n",
    "      },\n",
    "      {\n",
    "        \"location\"    : [\"file:///music/Breathe.mp3\"],\n",
    "        \"title\"       : \"Breathe\",\n",
    "        \"creator\"     : \"Pink Floyd\",\n",
    "        \"album\"       : \"The Dark Side of the Moon\"\n",
    "        \"trackNum\"    : \"2\"\n",
    "      },\n",
    "      ...\n",
    "```\n",
    "\n",
    "Because these types of formats are standardized and easy to understand, they're often used to use data across different programs. Python has libraries for interacting with XML and JSON, and using it in programs. To introduce you to the concept, however, we'll be looking at a format that has a much simpler syntax -- *Comma-Separated Value* files. These are .csv files, and they might be the simplest way to store something like a spreadsheet or database in plain text. \n",
    "\n",
    "As you might guess from the name, CSV files contain values that are separated by commas. Each line is its own entry, and the first line is often used to provide the *headings*, that contextual labeling that would otherwise be attached to each individual value in something like XML or JSON. The same files above might be represented something like...\n",
    "\n",
    "```\n",
    "location,title,creator,album,trackNum\n",
    "file:///music/SpeakToMe.mp3,Speak to Me,Pink Floyd,The Dark Side of the Moon,1\n",
    "file:///music/Breathe.mp3,Breathe,Pink Floyd,The Dark Side of the Moon,2\n",
    "...\n",
    "```\n",
    "\n",
    "Although this is a very simple setup, and is easy enough to write manually, you'll also find that if you try to open a .csv file in a software made for working with spreadsheets (like Microsoft Office or LibreOffice Calc) will automatically interpret it with the traditional column-row format you might expect. \n",
    "\n",
    "<img src=\"images/reading_external_data/data-csv-spreadsheet.png\">\n",
    "\n",
    "Funny as it seems, you don't need to use a comma as your separator in a CSV file. You could also separate values by hitting the tab key or even using a space -- what works best will depend on the data you're storing.\n",
    "\n",
    "We'll be using this <a href=\"images/reading_external_data/playlist.csv\">playlist.csv</a> file to play around with importing text data into py5. To follow along, you'll want to save this file to your computer (either in the same folder as your sketch, or a folder called DATA next to that sketch). \n",
    "\n",
    "## loading strings of text in py5\n",
    "\n",
    "We'll be using a Python function to open text files here, `open()`, and giving it the filename of our CSV file. You can just print the result of `open()`, but it won't be very useful -- don't be surprised if you get something like `<_io.TextIOWrapper name='images/reading_external_data/playlist.csv' mode='r' encoding='cp1252'>` instead of the text it contains!"
   ]
  },
  {
   "cell_type": "code",
   "execution_count": 6,
   "id": "a6f923d1",
   "metadata": {},
   "outputs": [
    {
     "name": "stdout",
     "output_type": "stream",
     "text": [
      "<_io.TextIOWrapper name='images/reading_external_data/playlist.csv' mode='r' encoding='cp1252'>\n"
     ]
    }
   ],
   "source": [
    "def setup():\n",
    "    csv = open('images/reading_external_data/playlist.csv')\n",
    "    print(csv) # This output won't be particularly helpful...\n",
    "    \n",
    "run_sketch()"
   ]
  },
  {
   "cell_type": "markdown",
   "id": "d68927e0",
   "metadata": {},
   "source": [
    "We've opened this file, but haven't done anything meaningful with its contents. However, we can use the `.read()` method on this file we've just opened, and that will give us the actual text in the file. Running this code should print each line in the CSV to the console."
   ]
  },
  {
   "cell_type": "code",
   "execution_count": 7,
   "id": "00008cfc",
   "metadata": {},
   "outputs": [
    {
     "name": "stdout",
     "output_type": "stream",
     "text": [
      "<_io.TextIOWrapper name='images/reading_external_data/playlist.csv' mode='r' encoding='cp1252'>\n",
      "location,title,creator,album,trackNum\n",
      "file:///music/SpeakToMe.mp3,Speak to Me,Pink Floyd,The Dark Side of the Moon,1\n",
      "file:///music/Breathe.mp3,Breathe,Pink Floyd,The Dark Side of the Moon,2\n",
      "file:///music/OnTheRun.mp3,On the Run,Pink Floyd,The Dark Side of the Moon,3\n",
      "file:///music/Time.mp3,Time,Pink Floyd,The Dark Side of the Moon,4\n",
      "file:///music/TheGreatGigInTheSky.mp3,The Great Gig in the Sky,Pink Floyd,The Dark Side of the Moon,5\n",
      "file:///music/Money.mp3,Money,Pink Floyd,The Dark Side of the Moon,6\n",
      "file:///music/UsAndThem.mp3,Us and Them,Pink Floyd,The Dark Side of the Moon,7\n",
      "file:///music/AnyColourYouLike.mp3,Any Colour You Like,Pink Floyd,The Dark Side of the Moon,8\n",
      "file:///music/BrainDamage.mp3,Brain Damage,Pink Floyd,The Dark Side of the Moon,9\n",
      "file:///music/Eclipse.mp3,Eclipse,Pink Floyd,The Dark Side of the Moon,10\n",
      "\n"
     ]
    }
   ],
   "source": [
    "def setup():\n",
    "    csv = open('images/reading_external_data/playlist.csv')\n",
    "    print(csv) # This output won't be particularly helpful...\n",
    "    \n",
    "    playlist = csv.read() # Reading the text content...\n",
    "    print(playlist) # This looks much more like it!\n",
    "    \n",
    "run_sketch()"
   ]
  },
  {
   "cell_type": "markdown",
   "id": "3e84b799",
   "metadata": {},
   "source": [
    "Let's go one step further. To work with this data, we need to split it at each line, and split each line at the commas. Modify your code so that in addition to using the `.read()` method on, we also use `.splitlines()` -- which does just what you'd expect, splitting the text input for each new line. Run this code again. What's changed? The output is now in a *list*, with each line being its own list item."
   ]
  },
  {
   "cell_type": "code",
   "execution_count": 8,
   "id": "980b60e7",
   "metadata": {},
   "outputs": [
    {
     "name": "stdout",
     "output_type": "stream",
     "text": [
      "<_io.TextIOWrapper name='images/reading_external_data/playlist.csv' mode='r' encoding='cp1252'>\n",
      "['location,title,creator,album,trackNum', 'file:///music/SpeakToMe.mp3,Speak to Me,Pink Floyd,The Dark Side of the Moon,1', 'file:///music/Breathe.mp3,Breathe,Pink Floyd,The Dark Side of the Moon,2', 'file:///music/OnTheRun.mp3,On the Run,Pink Floyd,The Dark Side of the Moon,3', 'file:///music/Time.mp3,Time,Pink Floyd,The Dark Side of the Moon,4', 'file:///music/TheGreatGigInTheSky.mp3,The Great Gig in the Sky,Pink Floyd,The Dark Side of the Moon,5', 'file:///music/Money.mp3,Money,Pink Floyd,The Dark Side of the Moon,6', 'file:///music/UsAndThem.mp3,Us and Them,Pink Floyd,The Dark Side of the Moon,7', 'file:///music/AnyColourYouLike.mp3,Any Colour You Like,Pink Floyd,The Dark Side of the Moon,8', 'file:///music/BrainDamage.mp3,Brain Damage,Pink Floyd,The Dark Side of the Moon,9', 'file:///music/Eclipse.mp3,Eclipse,Pink Floyd,The Dark Side of the Moon,10']\n"
     ]
    }
   ],
   "source": [
    "def setup():\n",
    "    csv = open('images/reading_external_data/playlist.csv')\n",
    "    print(csv) # This output won't be particularly helpful...\n",
    "    \n",
    "    playlist = csv.read().splitlines() # Reading AND splitting the text content...\n",
    "    print(playlist) # This looks much more like it!\n",
    "    \n",
    "run_sketch()"
   ]
  },
  {
   "cell_type": "markdown",
   "id": "4c15cd12",
   "metadata": {},
   "source": [
    "In addition to `.splitlines()`, we can use the regular `.split()` method. Instead of separating these strings at each new line, we can give it an argument to tell it exactly where we'd like it to separate the strings. Since this is a comma-separated list of values, let's use a comma as our argument and see how it neatly divides up our text. \n",
    "\n",
    "If we do this using a loop, we can make sure it happens to each line of the file in sequence. Remember that *entry* could be called anything; it's simply how we're referring to each one of those lines, or list items."
   ]
  },
  {
   "cell_type": "code",
   "execution_count": 10,
   "id": "7ba30665",
   "metadata": {},
   "outputs": [
    {
     "name": "stdout",
     "output_type": "stream",
     "text": [
      "['location', 'title', 'creator', 'album', 'trackNum']\n",
      "['file:///music/SpeakToMe.mp3', 'Speak to Me', 'Pink Floyd', 'The Dark Side of the Moon', '1']\n",
      "['file:///music/Breathe.mp3', 'Breathe', 'Pink Floyd', 'The Dark Side of the Moon', '2']\n",
      "['file:///music/OnTheRun.mp3', 'On the Run', 'Pink Floyd', 'The Dark Side of the Moon', '3']\n",
      "['file:///music/Time.mp3', 'Time', 'Pink Floyd', 'The Dark Side of the Moon', '4']\n",
      "['file:///music/TheGreatGigInTheSky.mp3', 'The Great Gig in the Sky', 'Pink Floyd', 'The Dark Side of the Moon', '5']\n",
      "['file:///music/Money.mp3', 'Money', 'Pink Floyd', 'The Dark Side of the Moon', '6']\n",
      "['file:///music/UsAndThem.mp3', 'Us and Them', 'Pink Floyd', 'The Dark Side of the Moon', '7']\n",
      "['file:///music/AnyColourYouLike.mp3', 'Any Colour You Like', 'Pink Floyd', 'The Dark Side of the Moon', '8']\n",
      "['file:///music/BrainDamage.mp3', 'Brain Damage', 'Pink Floyd', 'The Dark Side of the Moon', '9']\n",
      "['file:///music/Eclipse.mp3', 'Eclipse', 'Pink Floyd', 'The Dark Side of the Moon', '10']\n"
     ]
    }
   ],
   "source": [
    "def setup():\n",
    "    csv = open('images/reading_external_data/playlist.csv')\n",
    "    \n",
    "    playlist = csv.read().splitlines() # Reading AND splitting the text content...\n",
    "    \n",
    "    for entry in playlist:\n",
    "        print( entry.split(',') )\n",
    "    \n",
    "run_sketch()"
   ]
  },
  {
   "cell_type": "markdown",
   "id": "e50629ce",
   "metadata": {},
   "source": [
    "This code should now output the following:\n",
    "\n",
    "```\n",
    "['location', 'title', 'creator', 'album', 'trackNum']\n",
    "['file:///music/SpeakToMe.mp3', 'Speak to Me', 'Pink Floyd', 'The Dark Side of the Moon', '1']\n",
    "['file:///music/Breathe.mp3', 'Breathe', 'Pink Floyd', 'The Dark Side of the Moon', '2']\n",
    "['file:///music/OnTheRun.mp3', 'On the Run', 'Pink Floyd', 'The Dark Side of the Moon', '3']\n",
    "['file:///music/Time.mp3', 'Time', 'Pink Floyd', 'The Dark Side of the Moon', '4']\n",
    "['file:///music/TheGreatGigInTheSky.mp3', 'The Great Gig in the Sky', 'Pink Floyd', 'The Dark Side of the Moon', '5']\n",
    "['file:///music/Money.mp3', 'Money', 'Pink Floyd', 'The Dark Side of the Moon', '6']\n",
    "['file:///music/UsAndThem.mp3', 'Us and Them', 'Pink Floyd', 'The Dark Side of the Moon', '7']\n",
    "['file:///music/AnyColourYouLike.mp3', 'Any Colour You Like', 'Pink Floyd', 'The Dark Side of the Moon', '8']\n",
    "['file:///music/BrainDamage.mp3', 'Brain Damage', 'Pink Floyd', 'The Dark Side of the Moon', '9']\n",
    "['file:///music/Eclipse.mp3', 'Eclipse', 'Pink Floyd', 'The Dark Side of the Moon', '10']\n",
    "```\n",
    "\n",
    "You can see with just a few functions and methods, we've turned an external CSV file into a list of lists. It's much better than having to do that in py5 ourselves! Since these are now lists, we can do all sorts of list-related things with them to change how things are output. Let's reference the index position `[1]` in each list to return only the titles of each track."
   ]
  },
  {
   "cell_type": "code",
   "execution_count": 11,
   "id": "3c4d6ca8",
   "metadata": {},
   "outputs": [
    {
     "name": "stdout",
     "output_type": "stream",
     "text": [
      "title\n",
      "Speak to Me\n",
      "Breathe\n",
      "On the Run\n",
      "Time\n",
      "The Great Gig in the Sky\n",
      "Money\n",
      "Us and Them\n",
      "Any Colour You Like\n",
      "Brain Damage\n",
      "Eclipse\n"
     ]
    }
   ],
   "source": [
    "def setup():\n",
    "    csv = open('images/reading_external_data/playlist.csv')\n",
    "    \n",
    "    playlist = csv.read().splitlines() # Reading AND splitting the text content...\n",
    "    \n",
    "    for entry in playlist:\n",
    "        # print( entry.split(',') )\n",
    "        print( entry.split(',')[1] )\n",
    "    \n",
    "run_sketch()"
   ]
  },
  {
   "cell_type": "markdown",
   "id": "e3775f8d",
   "metadata": {},
   "source": [
    "CSV is a simple format, but it's a great way to store a huge amount of data as long as that data is *one-dimensional*. If you need things to be in a particular hierarchy, you may prefer using XML or JSON. For now, knowing how to manipulate CSV data will help you with the following task...\n",
    "\n",
    "## game sales chart task\n",
    "\n",
    "For this challenge, you'll be generating a bar chart of the best selling games of all time. This list has originally come from <a href=\"https://en.wikipedia.org/wiki/List_of_best-selling_video_games\">Wikipedia</a>, though it's a bit out of date. (Our list still has *Tetris* at the top. *Minecraft* has now far outpaced it.) It's been converted from an HTML table to some tab-separated values, still stored in a CSV file. In addition to putting it with your Sketch, you may want to open it up and take a look at the data inside.\n",
    "\n",
    "<a href=\"images/reading_external_data/list_of_best-selling_video_games.csv\">list_of_best-selling_video_games.csv</a>\n",
    "\n",
    "If you take a look at even the top few lines, you can see how this works -- the very first line contains our headings, describing each of the columns in our table, and the lines below have the values, separated by an invisible tab character. Since this is plain text and they all have different character lengths, they won't perfectly line up.\n",
    "\n",
    "```\n",
    "Rank \tSales \tTitle \tDeveloper \tPublisher\n",
    "1 \t170000000 \tTetris \tElektronorgtechnica \tSpectrum HoloByte\n",
    "2 \t144000000 \tMinecraft  \tMojang \tMojang\n",
    "3 \t95000000 \tGrand Theft Auto V  \tRockstar North \tRockstar Games\n",
    "4 \t82850000 \tWii Sports  \tNintendo EAD \tNintendo\n",
    "5 \t40240000 \tSuper Mario Bros.  \tNintendo \tNintendo\n",
    "```\n",
    "\n",
    "Let's start reading this data out into a py5 file to better understand what we're working with, and how we can utilize it to create a bar chart. Let's use a modified version of the code above (with the correct CSV file referenced, and *playlist* changed to *games_list* for the sake of accuracy) to begin, and then print just the sales number for the top game, Tetris. You'll also notice we changed our comma separator, in `split()`, into this `\\t` thing - that's how we're representing the tab character in our code. "
   ]
  },
  {
   "cell_type": "code",
   "execution_count": 4,
   "id": "d679d11b",
   "metadata": {},
   "outputs": [
    {
     "name": "stdout",
     "output_type": "stream",
     "text": [
      "170000000 \n"
     ]
    }
   ],
   "source": [
    "def setup():\n",
    "    csv = open('images/reading_external_data/list_of_best-selling_video_games.csv')\n",
    "    \n",
    "    games_list = csv.read().splitlines() # Reading AND splitting the text content...\n",
    "    \n",
    "    tetris_entry = games_list[1].split('\\t') # Fetching the Tetris line, splitting by tab character\n",
    "    \n",
    "    tetris_sales = tetris_entry[1] # Fetching just the sales number at index 1\n",
    "    \n",
    "    print(tetris_sales)\n",
    "    \n",
    "run_sketch()"
   ]
  },
  {
   "cell_type": "markdown",
   "id": "4350ddc3",
   "metadata": {},
   "source": [
    "This should print the (outdated) number of sales, `170000000`, to the console. Something that's important to note is that although this *looks* like an integer, it isn't. You can force an error by trying to perform arithmetic with it."
   ]
  },
  {
   "cell_type": "code",
   "execution_count": 5,
   "id": "c649701f",
   "metadata": {},
   "outputs": [
    {
     "name": "stderr",
     "output_type": "stream",
     "text": [
      "py5 encountered an error in your code:File \"C:\\Users\\PC\\AppData\\Local\\Temp\\ipykernel_2156\\398127946.py\", line 10, in setup\n",
      "    1    def setup():\n",
      " (...)\n",
      "    6        tetris_entry = games_list[1].split('\\t') # Fetching the Tetris line, splitting by tab character\n",
      "    7        \n",
      "    8        tetris_sales = tetris_entry[1] # Fetching just the sales number at index 1\n",
      "    9        \n",
      "--> 10       print(tetris_sales + 1)\n",
      "    ..................................................\n",
      "     tetris_sales = '170000000 '\n",
      "    ..................................................\n",
      "\n",
      "TypeError: can only concatenate str (not \"int\") to str\n"
     ]
    }
   ],
   "source": [
    "def setup():\n",
    "    csv = open('images/reading_external_data/list_of_best-selling_video_games.csv')\n",
    "    \n",
    "    games_list = csv.read().splitlines() # Reading AND splitting the text content...\n",
    "    \n",
    "    tetris_entry = games_list[1].split('\\t') # Fetching the Tetris line, splitting by tab character\n",
    "    \n",
    "    tetris_sales = tetris_entry[1] # Fetching just the sales number at index 1\n",
    "    \n",
    "    print(tetris_sales + 1)\n",
    "    \n",
    "run_sketch()"
   ]
  },
  {
   "cell_type": "markdown",
   "id": "ce2a2eee",
   "metadata": {},
   "source": [
    "The problem is that this number is being stored as a *string* of text by default, since it came from a plaintext document, but 1 is of course an integer -- py5 doesn't know whether to concatenate two strings, or add up two numbers here, and in the end it can do neither! Luckily, there's a simple solution. We can just use the `int()` function on our output to make sure it is transformed into an integer before we add anything to it."
   ]
  },
  {
   "cell_type": "code",
   "execution_count": 6,
   "id": "7c59804d",
   "metadata": {},
   "outputs": [
    {
     "name": "stdout",
     "output_type": "stream",
     "text": [
      "170000001\n"
     ]
    }
   ],
   "source": [
    "def setup():\n",
    "    csv = open('images/reading_external_data/list_of_best-selling_video_games.csv')\n",
    "    \n",
    "    games_list = csv.read().splitlines() # Reading AND splitting the text content...\n",
    "    \n",
    "    tetris_entry = games_list[1].split('\\t') # Fetching the Tetris line, splitting by tab character\n",
    "    \n",
    "    tetris_sales = tetris_entry[1] # Fetching just the sales number at index 1\n",
    "    \n",
    "    print( int(tetris_sales) + 1)\n",
    "    \n",
    "run_sketch()"
   ]
  },
  {
   "cell_type": "markdown",
   "id": "8c7badd8",
   "metadata": {},
   "source": [
    "Let's start on the challenge. You'll be recreating the following image: \n",
    "\n",
    "<img src=\"images/reading_external_data/game-sales-chart-complete.png\">\n",
    "\n",
    "To start you off, let's go through printing the titles of each game together, and discuss how to tackle representing the sales of each game as a bar.\n",
    "\n",
    "A good first step is to simply print each entry to the console, like we did with our playlist CSV."
   ]
  },
  {
   "cell_type": "code",
   "execution_count": 8,
   "id": "88ac08d7",
   "metadata": {},
   "outputs": [
    {
     "name": "stdout",
     "output_type": "stream",
     "text": [
      "['Rank ', 'Sales ', 'Title ', 'Developer ', 'Publisher']\n",
      "['1 ', '170000000 ', 'Tetris ', 'Elektronorgtechnica ', 'Spectrum HoloByte']\n",
      "['2 ', '144000000 ', 'Minecraft  ', 'Mojang ', 'Mojang']\n",
      "['3 ', '95000000 ', 'Grand Theft Auto V  ', 'Rockstar North ', 'Rockstar Games']\n",
      "['4 ', '82850000 ', 'Wii Sports  ', 'Nintendo EAD ', 'Nintendo']\n",
      "['5 ', '40240000 ', 'Super Mario Bros.  ', 'Nintendo ', 'Nintendo']\n",
      "['6 ', '40000000 ', \"PlayerUnknown's Battlegrounds  \", 'PUBG Corporation ', 'PUBG Corporation']\n",
      "['7 ', '37100000 ', 'Mario Kart Wii  ', 'Nintendo EAD ', 'Nintendo']\n",
      "['8 ', '33080000 ', 'Wii Sports Resort  ', 'Nintendo EAD ', 'Nintendo']\n",
      "['9 ', '31380000 ', 'PokÃ©mon Red and Blue ', 'Game Freak ', 'Nintendo']\n",
      "['10 ', '30800000 ', 'New Super Mario Bros. ', 'Nintendo EAD ', 'Nintendo']\n",
      "['11 ', '30200000 ', 'New Super Mario Bros. Wii  ', 'Nintendo EAD ', 'Nintendo']\n",
      "['12 ', '30000000 ', 'The Elder Scrolls V: Skyrim ', 'Bethesda Game Studios ', 'Bethesda Softworks']\n",
      "['13 ', '28300000 ', 'Duck Hunt  ', 'Nintendo R&D1 ', 'Nintendo']\n",
      "['14 ', '28020000 ', 'Wii Play ', 'Nintendo EAD ', 'Nintendo']\n",
      "['15 ', '27500000 ', 'Grand Theft Auto: San Andreas ', 'Rockstar North ', 'Rockstar Games']\n",
      "['16 ', '26500000 ', 'Call of Duty: Modern Warfare 3  ', 'Infinity Ward & Sledgehammer Games ', 'Activision']\n",
      "['17 ', '26200000 ', 'Call of Duty: Black Ops ', 'Treyarch ', 'Activision']\n",
      "['18 ', '25000000 ', 'Grand Theft Auto IV ', 'Rockstar North ', 'Rockstar Games']\n",
      "['19 ', '24200000 ', 'Call of Duty: Black Ops II ', 'Treyarch ', 'Activision']\n",
      "['20 ', '24000000 ', 'Kinect Adventures!  ', 'Good Science Studio ', 'Microsoft Studios']\n",
      "['21 ', '23960000 ', 'Nintendogs  ', 'Nintendo EAD ', 'Nintendo']\n",
      "['22 ', '23600000 ', 'Mario Kart DS  ', 'Nintendo EAD ', 'Nintendo']\n",
      "['23 ', '23100000 ', 'PokÃ©mon Gold and Silver ', 'Game Freak ', 'Nintendo']\n",
      "['24 ', '22700000 ', 'Call of Duty: Modern Warfare 2  ', 'Infinity Ward ', 'Activision']\n",
      "['25 ', '22670000 ', 'Wii Fit ', 'Nintendo EAD ', 'Nintendo']\n",
      "['26 ', '21130000 ', 'Wii Fit Plus ', 'Nintendo EAD ', 'Nintendo']\n",
      "['27 ', '20610000 ', 'Super Mario World  ', 'Nintendo EAD ', 'Nintendo']\n",
      "['28 ', '20000000 ', 'Frogger ', 'Konami ', 'Sega']\n",
      "['29 ', '20000000 ', 'Lemmings ', 'DMA Design ', 'Psygnosis']\n",
      "['30 ', '20000000 ', 'Terraria  ', 'Re-Logic ', 'Re-Logic']\n",
      "['31 ', '19010000 ', 'Brain Age ', 'Nintendo SPD ', 'Nintendo']\n",
      "['32 ', '19000000 ', 'Call of Duty: Ghosts ', 'Infinity Ward', 'Activision']\n",
      "['33 ', '18140000 ', 'Super Mario Land ', 'Nintendo R&D1', 'Nintendo']\n",
      "['34 ', '17670000 ', 'PokÃ©mon Diamond and Pearl ', 'Game Freak ', 'The PokÃ©mon Company']\n",
      "['35 ', '17500000 ', 'Grand Theft Auto: Vice City ', 'Rockstar North ', 'Rockstar Games']\n",
      "['36 ', '17280000 ', 'Super Mario Bros. 3  ', 'Nintendo R&D4 ', 'Nintendo']\n",
      "['37 ', '17040000 ', 'Mario Kart 7  ', 'Nintendo EAD ', 'Nintendo']\n",
      "['38 ', '16290000 ', 'PokÃ©mon X and Y ', 'Game Freak ', 'The PokÃ©mon Company']\n",
      "['39 ', '16220000 ', 'PokÃ©mon Ruby and Sapphire ', 'Game Freak ', 'The PokÃ©mon Company']\n",
      "['40 ', '16100000 ', 'PokÃ©mon Sun and Moon ', 'Game Freak ', 'The PokÃ©mon Company']\n",
      "['41 ', '16000000 ', 'The Sims ', 'Maxis ', 'Electronic Arts']\n",
      "['42 ', '16000000 ', 'Need for Speed: Most Wanted ', 'EA Black Box ', 'Electronic Arts']\n",
      "['43 ', '15700000 ', 'Call of Duty 4: Modern Warfare ', 'Infinity Ward ', 'Activision']\n",
      "['44 ', '15700000 ', 'Call of Duty: World at War ', 'Treyarch ', 'Activision']\n",
      "['45 ', '15640000 ', 'PokÃ©mon Black and White ', 'Game Freak ', 'The PokÃ©mon Company']\n",
      "['46 ', '15000000 ', 'Sonic the Hedgehog  ', 'Sonic Team ', 'Sega']\n",
      "['47 ', '15000000 ', 'Red Dead Redemption ', 'Rockstar San Diego ', 'Rockstar Games']\n",
      "['48 ', '15000000 ', 'Battlefield 3 ', 'EA DICE ', 'Electronic Arts']\n",
      "['49 ', '15000000 ', 'Battlefield 1 ', 'EA DICE ', 'Electronic Arts']\n",
      "['50 ', '14890000 ', 'Gran Turismo 3: A-Spec  ', 'Polyphony Digital ', 'Sony Computer Entertainment']\n"
     ]
    }
   ],
   "source": [
    "def setup():\n",
    "    csv = open('images/reading_external_data/list_of_best-selling_video_games.csv')\n",
    "    \n",
    "    games_list = csv.read().splitlines() # Reading AND splitting the text content...\n",
    "\n",
    "    for entry in games_list:\n",
    "        print( entry.split('\\t') )\n",
    "    \n",
    "run_sketch()"
   ]
  },
  {
   "cell_type": "markdown",
   "id": "ebaacc75",
   "metadata": {},
   "source": [
    "Taking a look at your output, you can see that the title of each of these games is at the third position, or index `[2]`. We can modify our `print()` function accordingly:"
   ]
  },
  {
   "cell_type": "code",
   "execution_count": 9,
   "id": "acdabf89",
   "metadata": {},
   "outputs": [
    {
     "name": "stdout",
     "output_type": "stream",
     "text": [
      "Title \n",
      "Tetris \n",
      "Minecraft  \n",
      "Grand Theft Auto V  \n",
      "Wii Sports  \n",
      "Super Mario Bros.  \n",
      "PlayerUnknown's Battlegrounds  \n",
      "Mario Kart Wii  \n",
      "Wii Sports Resort  \n",
      "PokÃ©mon Red and Blue \n",
      "New Super Mario Bros. \n",
      "New Super Mario Bros. Wii  \n",
      "The Elder Scrolls V: Skyrim \n",
      "Duck Hunt  \n",
      "Wii Play \n",
      "Grand Theft Auto: San Andreas \n",
      "Call of Duty: Modern Warfare 3  \n",
      "Call of Duty: Black Ops \n",
      "Grand Theft Auto IV \n",
      "Call of Duty: Black Ops II \n",
      "Kinect Adventures!  \n",
      "Nintendogs  \n",
      "Mario Kart DS  \n",
      "PokÃ©mon Gold and Silver \n",
      "Call of Duty: Modern Warfare 2  \n",
      "Wii Fit \n",
      "Wii Fit Plus \n",
      "Super Mario World  \n",
      "Frogger \n",
      "Lemmings \n",
      "Terraria  \n",
      "Brain Age \n",
      "Call of Duty: Ghosts \n",
      "Super Mario Land \n",
      "PokÃ©mon Diamond and Pearl \n",
      "Grand Theft Auto: Vice City \n",
      "Super Mario Bros. 3  \n",
      "Mario Kart 7  \n",
      "PokÃ©mon X and Y \n",
      "PokÃ©mon Ruby and Sapphire \n",
      "PokÃ©mon Sun and Moon \n",
      "The Sims \n",
      "Need for Speed: Most Wanted \n",
      "Call of Duty 4: Modern Warfare \n",
      "Call of Duty: World at War \n",
      "PokÃ©mon Black and White \n",
      "Sonic the Hedgehog  \n",
      "Red Dead Redemption \n",
      "Battlefield 3 \n",
      "Battlefield 1 \n",
      "Gran Turismo 3: A-Spec  \n"
     ]
    }
   ],
   "source": [
    "def setup():\n",
    "    csv = open('images/reading_external_data/list_of_best-selling_video_games.csv')\n",
    "    \n",
    "    games_list = csv.read().splitlines() # Reading AND splitting the text content...\n",
    "\n",
    "    for entry in games_list:\n",
    "        print( entry.split('\\t')[2] )\n",
    "    \n",
    "run_sketch()"
   ]
  },
  {
   "cell_type": "markdown",
   "id": "929e575a",
   "metadata": {},
   "source": [
    "But we don't need these titles printed to the console - we need them drawn on the screen. Thankfully, we can just use py5's text functions do to this. We'll also need to set up our code for a more graphical output, which means adding in `size()` and `background()` functions. Here, I've given `text()` the value we were previously using in `print()`, and an X, Y position of 10, 10. "
   ]
  },
  {
   "cell_type": "code",
   "execution_count": 12,
   "id": "1c2e5ad8",
   "metadata": {},
   "outputs": [],
   "source": [
    "def setup():\n",
    "    size(800,800)\n",
    "    background('#004477')\n",
    "    csv = open('images/reading_external_data/list_of_best-selling_video_games.csv')\n",
    "    \n",
    "    games_list = csv.read().splitlines() # Reading AND splitting the text content...\n",
    "\n",
    "    for entry in games_list:\n",
    "        # print( entry.split('\\t')[2] )\n",
    "        text(entry.split('\\t')[2], 10, 10) # Let's just throw some values in here...\n",
    "    \n",
    "run_sketch()"
   ]
  },
  {
   "cell_type": "markdown",
   "id": "35dffd44",
   "metadata": {},
   "source": [
    "<img src=\"images/reading_external_data/text_mess.png\">\n",
    "\n",
    "It works! The mess is because we're printing all of these text values on top of each other. You could go with a Y variable here, and increment it each time the loop runs, but I'll use the more elegant `enumerate()` method, which allows me to inherently have a variable associated with the row we're currently on. "
   ]
  },
  {
   "cell_type": "code",
   "execution_count": 24,
   "id": "1e5a0478",
   "metadata": {},
   "outputs": [],
   "source": [
    "def setup():\n",
    "    size(800,760)\n",
    "    background('#004477')\n",
    "    csv = open('images/reading_external_data/list_of_best-selling_video_games.csv')\n",
    "    \n",
    "    games_list = csv.read().splitlines() # Reading AND splitting the text content...\n",
    "\n",
    "    for row, entry in enumerate(games_list):\n",
    "        # print( entry.split('\\t')[2] )\n",
    "        text(entry.split('\\t')[2], 10, row * 15) # Let's just throw some values in here...\n",
    "    \n",
    "run_sketch()"
   ]
  },
  {
   "cell_type": "markdown",
   "id": "35a10e6b",
   "metadata": {},
   "source": [
    "<img src=\"images/reading_external_data/text_correct.png\">\n",
    "\n",
    "That's looking much more sensible. Next up, we have to figure out how to create bars corresponding to the game's sales. We won't worry about the colors - that can come at the end, since it's easy enough to slot a `fill()` function before any shapes we draw. "
   ]
  },
  {
   "cell_type": "code",
   "execution_count": 41,
   "id": "da1192eb",
   "metadata": {},
   "outputs": [],
   "source": [
    "def setup():\n",
    "    size(800,800)\n",
    "    background('#004477')\n",
    "    csv = open('images/reading_external_data/list_of_best-selling_video_games.csv')\n",
    "    \n",
    "    games_list = csv.read().splitlines() # Reading AND splitting the text content...\n",
    "\n",
    "    for row, entry in enumerate(games_list):\n",
    "        fill('#000000') # Black bars, for now \n",
    "        rect(10, row * 15, 500, 15) # A rect at the same position as our text, with a width of 500\n",
    "        fill('#FFFFFF') # White text again\n",
    "        text(entry.split('\\t')[2], 10, row * 15) # Let's just throw some values in here...\n",
    "    \n",
    "run_sketch()"
   ]
  },
  {
   "cell_type": "markdown",
   "id": "7a57016a",
   "metadata": {},
   "source": [
    "<img src=\"images/reading_external_data/bars_1.png\">\n",
    "\n",
    "We're dealing with a lot of fiddly parts now, and you'll notice not all of them are behaving exactly as you'd like -- the position of the bars, for example. If we set variables for some of these values we'll be modifying again and again, we can work with them a bit more easily and understand what we're doing. I've chosen to set variables for the width of the bar and the current x and y position of the line we're working with. By strategically reducing the x abnd y values when we draw the bar with `rect()`, it will look a bit nicer behind the text."
   ]
  },
  {
   "cell_type": "code",
   "execution_count": 42,
   "id": "0d91b8b1",
   "metadata": {},
   "outputs": [],
   "source": [
    "def setup():\n",
    "    size(800,760)\n",
    "    background('#004477')\n",
    "    csv = open('images/reading_external_data/list_of_best-selling_video_games.csv')\n",
    "    \n",
    "    games_list = csv.read().splitlines() # Reading AND splitting the text content...\n",
    "\n",
    "    for row, entry in enumerate(games_list):\n",
    "        bar_width = 500\n",
    "        y = row * 15\n",
    "        x = 10\n",
    "        \n",
    "        fill('#000000') # Black bars, for now \n",
    "        rect(x - 10, y - 10, # We want the X and Y values to be a bit lower for just the bar.\n",
    "            bar_width, 15) # Now we're using bar_width instead of just a number.\n",
    "        \n",
    "        fill('#FFFFFF') # White text on top!\n",
    "        text(entry.split('\\t')[2], x, y) \n",
    "    \n",
    "run_sketch()"
   ]
  },
  {
   "cell_type": "markdown",
   "id": "bdaab316",
   "metadata": {},
   "source": [
    "<img src=\"images/reading_external_data/bars_2.png\">\n",
    "\n",
    "How can we alter this `bar_width` variable to correspond to our game sales? We know how to actually get the number for those sales, with `entry.split('\\t')[1]`, but they're way too big to represent in our graph, since we only have a width of 800 pixels to work with. \n",
    "\n",
    "If we just decide to represent the biggest value on the graph -- `170000000`, or the number of sales of the game Tetris -- with the entire width of the sketch window, we can scale everything else down appropriately. So how do you scale 170,000,000 down to 800? \n",
    "\n",
    "If you actually whip out a calculator and divide 170,000,000 by 800, you're left with 212,500. This means that if you divided each sales value by this same number, you could get an appropriately scaled value to show on our graph. \n",
    "\n",
    "An easy way to do this is to make a variable inside your loop, `game_sales`, that is `entry.split('\\t')[1]` turned into an integer with the `int()` function. Then, you can use this variable, divided by our magic number `212500`, to determine the value of `bar_width`. \n",
    "\n",
    "We'll have to do something about the very first line of our CSV file, however. Right now, the data in there is just the headings, which won't match any assumptions we make that sales are always an integer. You'll have to add an if statement somewhere to handle that first row of headings. Of course, you could do something like:\n",
    "\n",
    "```\n",
    "for row, entry in enumerate(games_list):\n",
    "    if row == 0: \n",
    "        # something special happens here?\n",
    "    else: \n",
    "        # all the regular code in your loop runs\n",
    "```\n",
    "\n",
    "...but if you remember *logical operators*, you can save yourself the trouble:\n",
    "\n",
    "```\n",
    "for row, entry in enumerate(games_list):\n",
    "    if not row == 0: \n",
    "        # all the regular code in your loop runs\n",
    "```"
   ]
  }
 ],
 "metadata": {
  "jupytext": {
   "formats": "ipynb,md:myst"
  },
  "kernelspec": {
   "display_name": "py5",
   "language": "python",
   "name": "py5"
  },
  "language_info": {
   "codemirror_mode": {
    "name": "ipython",
    "version": 3
   },
   "file_extension": ".py",
   "mimetype": "text/x-python",
   "name": "python",
   "nbconvert_exporter": "python",
   "pygments_lexer": "ipython3",
   "version": "3.10.5"
  }
 },
 "nbformat": 4,
 "nbformat_minor": 5
}
