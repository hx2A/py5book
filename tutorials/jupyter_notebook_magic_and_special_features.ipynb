{
 "cells": [
  {
   "cell_type": "markdown",
   "metadata": {
    "editable": true,
    "slideshow": {
     "slide_type": ""
    },
    "tags": []
   },
   "source": [
    "# Notebook Magic and Special Features\n",
    "\n",
    "The py5 library is designed to work well with Jupyter tools, including Jupyter notebook. There are included IPython magics that are useful for supporting your development and documentation efforts as well as your creative endeavors. These magics are not a part of the Python language. Think of them as meta-commands that let you communicate directly with Jupyter. Used well, they can greatly enhance your programming workflow.\n",
    "\n",
    "To use py5 in a notebook, first import the library:"
   ]
  },
  {
   "cell_type": "code",
   "execution_count": null,
   "metadata": {
    "editable": true,
    "slideshow": {
     "slide_type": ""
    },
    "tags": [
     "remove-cell"
    ]
   },
   "outputs": [],
   "source": [
    "import time"
   ]
  },
  {
   "cell_type": "code",
   "execution_count": null,
   "metadata": {
    "editable": true,
    "slideshow": {
     "slide_type": ""
    },
    "tags": []
   },
   "outputs": [],
   "source": [
    "import py5_tools\n",
    "import py5"
   ]
  },
  {
   "cell_type": "markdown",
   "metadata": {
    "editable": true,
    "slideshow": {
     "slide_type": ""
    },
    "tags": []
   },
   "source": [
    "You should never need to import the py5jupyter library directly.\n",
    "\n",
    "## Getting Help\n",
    "\n",
    "Before continuing, it is worth pointing out that you can access the docstrings for any py5 functions by appending a `?` to the end of the function, or with the builtin `help` function.\n",
    "\n",
    "Using the `?` which something like `py5.rect?` temporarily displays the documentation at the bottom of the notebook window. The builtin `help` function puts the result in the notebook cell."
   ]
  },
  {
   "cell_type": "code",
   "execution_count": null,
   "metadata": {
    "editable": true,
    "slideshow": {
     "slide_type": ""
    },
    "tags": []
   },
   "outputs": [],
   "source": [
    "help(py5.rect)"
   ]
  },
  {
   "cell_type": "markdown",
   "metadata": {
    "editable": true,
    "slideshow": {
     "slide_type": ""
    },
    "tags": []
   },
   "source": [
    "Pause to take a moment to appreciate that documentation, with its proper type signatures and explicit variable types. You'll also notice the content is analogous what is in py5's [rect()](/reference/sketch_rect) reference documentation. Producing thorough and coordinated py5 docstrings and reference documentation like this took an enormous amount of work.\n",
    "\n",
    "You'll notice that all the usual Jupyter niceties such as tab completion work for py5. There are also Python typehints for all py5 objects."
   ]
  },
  {
   "cell_type": "markdown",
   "metadata": {
    "editable": true,
    "slideshow": {
     "slide_type": ""
    },
    "tags": []
   },
   "source": [
    "## Load IPython Magics\n",
    "\n",
    "Next, load the py5 magics:"
   ]
  },
  {
   "cell_type": "code",
   "execution_count": null,
   "metadata": {
    "editable": true,
    "slideshow": {
     "slide_type": ""
    },
    "tags": []
   },
   "outputs": [],
   "source": [
    "%load_ext py5"
   ]
  },
  {
   "cell_type": "markdown",
   "metadata": {
    "editable": true,
    "slideshow": {
     "slide_type": ""
    },
    "tags": []
   },
   "source": [
    "These \"magic\" commands are like extra functionality added to what Python and Jupyter notebooks can already do.\n",
    "\n",
    "The py5 magics all start with \"py5\". The cell magics are:\n",
    "\n",
    "* [%%py5draw](/reference/py5magics_py5draw)\n",
    "* [%%py5drawdxf](/reference/py5magics_py5drawdxf)\n",
    "* [%%py5drawpdf](/reference/py5magics_py5drawpdf)\n",
    "* [%%py5drawsvg](/reference/py5magics_py5drawsvg)\n",
    "\n",
    "As before, documentation for each is available by appending a `?`, such as when you type `%%py5draw?` in an empty cell. The builtin `help` function does not work with IPython magics.\n",
    "\n",
    "See below for demonstrations of what each does."
   ]
  },
  {
   "cell_type": "markdown",
   "metadata": {
    "editable": true,
    "slideshow": {
     "slide_type": ""
    },
    "tags": []
   },
   "source": [
    "## Running py5 on Mac Computers\n",
    "\n",
    "There are several known [issues running py5 on macOS computers](/content/macos_users/). If you use a Mac, you should read about the Mac issues before continuing. Bottom line, the `%gui osx` Jupyter magic is necessary to use py5 on macOS computers.\n",
    "\n",
    "## Static Sketches\n",
    "\n",
    "The below example creates a static image with some simple shapes.\n",
    "\n",
    "The first line in the cell, `%%py5draw 300 200`, is not Python code. Instead, it is a command to Jupyter itself, instructing it to send the rest of the cell's contents to a special py5 draw function.\n",
    "\n",
    "Observe that there are no defined `setup` or `draw` functions."
   ]
  },
  {
   "cell_type": "code",
   "execution_count": null,
   "metadata": {
    "editable": true,
    "slideshow": {
     "slide_type": ""
    },
    "tags": []
   },
   "outputs": [],
   "source": [
    "%%py5draw 300 200\n",
    "\n",
    "# make the background light gray\n",
    "py5.background(240)\n",
    "\n",
    "# draw a red square\n",
    "py5.fill(255, 0, 0)\n",
    "py5.rect_mode(py5.CENTER)\n",
    "py5.rect(170, 80, 100, 100)\n",
    "\n",
    "# add a thick green line\n",
    "py5.stroke(0, 255, 0)\n",
    "py5.stroke_weight(15)\n",
    "py5.line(40, 30, 220, 180)"
   ]
  },
  {
   "cell_type": "markdown",
   "metadata": {
    "editable": true,
    "slideshow": {
     "slide_type": ""
    },
    "tags": []
   },
   "source": [
    "The code can access variables and functions defined in other non-magic notebook cells. This is especially useful when the code leverages py5 functionality.\n",
    "\n",
    "For example, the below function sets the fill color to a random color."
   ]
  },
  {
   "cell_type": "code",
   "execution_count": null,
   "metadata": {
    "editable": true,
    "slideshow": {
     "slide_type": ""
    },
    "tags": []
   },
   "outputs": [],
   "source": [
    "def pick_random_fill():\n",
    "    py5.fill(py5.random(255), py5.random(255), py5.random(255))"
   ]
  },
  {
   "cell_type": "markdown",
   "metadata": {
    "editable": true,
    "slideshow": {
     "slide_type": ""
    },
    "tags": []
   },
   "source": [
    "The below example uses `pick_random_fill` to draw randomly colored rectangles. This example is a bit contrived, but you do see how the code below can call a function defined elsewhere."
   ]
  },
  {
   "cell_type": "code",
   "execution_count": null,
   "metadata": {
    "editable": true,
    "slideshow": {
     "slide_type": ""
    },
    "tags": []
   },
   "outputs": [],
   "source": [
    "%%py5draw 300 200\n",
    "\n",
    "py5.background(240)\n",
    "py5.rect_mode(py5.CENTER)\n",
    "\n",
    "for i in range(100):\n",
    "    pick_random_fill()\n",
    "    py5.rect(py5.random(py5.width), py5.random(py5.height), 10, 10)"
   ]
  },
  {
   "cell_type": "markdown",
   "metadata": {
    "editable": true,
    "slideshow": {
     "slide_type": ""
    },
    "tags": []
   },
   "source": [
    "The `pick_random_fill` function can be reused again elsewhere in this notebook.\n",
    "\n",
    "By default, any new functions and variables defined in that `%%py5draw` cell are not available outside of the cell. However, you can explicitly change this. See below for further discussion."
   ]
  },
  {
   "cell_type": "markdown",
   "metadata": {
    "editable": true,
    "slideshow": {
     "slide_type": ""
    },
    "tags": []
   },
   "source": [
    "### Saving to a File\n",
    "\n",
    "If you like you can save the generated image to a file with the `-f` parameter, like so:"
   ]
  },
  {
   "cell_type": "code",
   "execution_count": null,
   "metadata": {
    "editable": true,
    "slideshow": {
     "slide_type": ""
    },
    "tags": []
   },
   "outputs": [],
   "source": [
    "%%py5draw 300 200 -f images/jupyter_notebooks/simple_example.png\n",
    "\n",
    "py5.background(240)\n",
    "py5.rect_mode(py5.CENTER)\n",
    "\n",
    "for i in range(100):\n",
    "    pick_random_fill()\n",
    "    py5.rect(py5.random(py5.width), py5.random(py5.height), 10, 10)"
   ]
  },
  {
   "cell_type": "markdown",
   "metadata": {
    "editable": true,
    "slideshow": {
     "slide_type": ""
    },
    "tags": []
   },
   "source": [
    "Now there's an image located at `images/jupyter_notebooks/simple_example.png`. You can embed that in this notebook using markdown.\n",
    "\n",
    "![asdf](images/jupyter_notebooks/simple_example.png)"
   ]
  },
  {
   "cell_type": "markdown",
   "metadata": {
    "editable": true,
    "slideshow": {
     "slide_type": ""
    },
    "tags": []
   },
   "source": [
    "### OpenGL Renderers\n",
    "\n",
    "You can also use the OpenGL renderers with the `-r` parameter, like so."
   ]
  },
  {
   "cell_type": "code",
   "execution_count": null,
   "metadata": {
    "editable": true,
    "slideshow": {
     "slide_type": ""
    },
    "tags": []
   },
   "outputs": [],
   "source": [
    "%%py5draw 300 200 -r P2D\n",
    "\n",
    "py5.background(240)\n",
    "py5.rect_mode(py5.CENTER)\n",
    "\n",
    "for i in range(100):\n",
    "    pick_random_fill()\n",
    "    py5.rect(py5.random(py5.width), py5.random(py5.height), 10, 10)    "
   ]
  },
  {
   "cell_type": "markdown",
   "metadata": {
    "editable": true,
    "slideshow": {
     "slide_type": ""
    },
    "tags": []
   },
   "source": [
    "When that cell runs, a py5 window is quickly opened and closed. For whatever reason, the Processing's OpenGL renderers cannot seem to draw to an invisible window (but we'd be delighted to be proven wrong about that).\n",
    "\n",
    "The previous `%%py5draw` examples in this notebook used a special `HIDDEN` renderer based on the default `JAVA2D` renderer that does not need to open a window. That `HIDDEN` renderer was created just for this purpose.\n",
    "\n",
    "The 3D renderer also works:"
   ]
  },
  {
   "cell_type": "code",
   "execution_count": null,
   "metadata": {
    "editable": true,
    "slideshow": {
     "slide_type": ""
    },
    "tags": []
   },
   "outputs": [],
   "source": [
    "%%py5draw 300 300 -r P3D\n",
    "\n",
    "py5.background(240)\n",
    "\n",
    "N = 10\n",
    "\n",
    "for i in range(N):\n",
    "    py5.push_matrix()\n",
    "    pick_random_fill()\n",
    "    py5.translate(i * py5.width / N, i * py5.width / N, i * 20 - 200)\n",
    "    py5.box(40)\n",
    "    py5.pop_matrix()"
   ]
  },
  {
   "cell_type": "markdown",
   "metadata": {
    "editable": true,
    "slideshow": {
     "slide_type": ""
    },
    "tags": []
   },
   "source": [
    "### SVG Renderer\n",
    "\n",
    "To create SVG images, use the `%%py5drawsvg` magic.\n",
    "\n",
    "As before, the result can be saved to a file with the `-f` parameter."
   ]
  },
  {
   "cell_type": "code",
   "execution_count": null,
   "metadata": {
    "editable": true,
    "slideshow": {
     "slide_type": ""
    },
    "tags": []
   },
   "outputs": [],
   "source": [
    "%%py5drawsvg 300 200 -f /tmp/test.svg\n",
    "\n",
    "py5.background(240)\n",
    "py5.rect_mode(py5.CENTER)\n",
    "\n",
    "for i in range(100):\n",
    "    pick_random_fill()\n",
    "    py5.rect(py5.random(py5.width), py5.random(py5.height), 10, 10)"
   ]
  },
  {
   "cell_type": "markdown",
   "metadata": {
    "editable": true,
    "slideshow": {
     "slide_type": ""
    },
    "tags": []
   },
   "source": [
    "### PDF Renderer\n",
    "\n",
    "Write to PDF files using `%%py5drawpdf`. Since Jupyter notebook does not support embedded PDF files, writing the output to a file is not optional."
   ]
  },
  {
   "cell_type": "code",
   "execution_count": null,
   "metadata": {
    "editable": true,
    "slideshow": {
     "slide_type": ""
    },
    "tags": []
   },
   "outputs": [],
   "source": [
    "%%py5drawpdf 300 200 /tmp/simple_example.pdf\n",
    "\n",
    "py5.background(240)\n",
    "py5.rect_mode(py5.CENTER)\n",
    "\n",
    "for i in range(100):\n",
    "    pick_random_fill()\n",
    "    py5.rect(py5.random(py5.width), py5.random(py5.height), 10, 10)"
   ]
  },
  {
   "cell_type": "markdown",
   "metadata": {
    "editable": true,
    "slideshow": {
     "slide_type": ""
    },
    "tags": []
   },
   "source": [
    "### DXF Renderer\n",
    "\n",
    "Write 3D objects to DXF files with `%%py5drawdxf`. This probably won't be a popular choice, but maybe somebody will appreciate it."
   ]
  },
  {
   "cell_type": "code",
   "execution_count": null,
   "metadata": {
    "editable": true,
    "slideshow": {
     "slide_type": ""
    },
    "tags": []
   },
   "outputs": [],
   "source": [
    "%%py5drawdxf 200 200 /tmp/test.dxf\n",
    "\n",
    "py5.translate(py5.width / 2, py5.height / 2)\n",
    "py5.rotate_x(0.4)\n",
    "py5.rotate_y(0.8)\n",
    "py5.box(80)"
   ]
  },
  {
   "cell_type": "code",
   "execution_count": null,
   "metadata": {
    "editable": true,
    "slideshow": {
     "slide_type": ""
    },
    "tags": []
   },
   "outputs": [],
   "source": [
    "!head /tmp/test.dxf"
   ]
  },
  {
   "cell_type": "markdown",
   "metadata": {
    "editable": true,
    "slideshow": {
     "slide_type": ""
    },
    "tags": []
   },
   "source": [
    "### Variable Scope\n",
    "\n",
    "By default, new variables defined inside cell magics such as `%%py5draw` cannot be accessed elsewhere in the notebook.\n",
    "\n",
    "Consider the below example. It creates new variables `random_x` and `random_y` to store the location of the square."
   ]
  },
  {
   "cell_type": "code",
   "execution_count": null,
   "metadata": {
    "editable": true,
    "slideshow": {
     "slide_type": ""
    },
    "tags": []
   },
   "outputs": [],
   "source": [
    "%%py5draw 300 200\n",
    "\n",
    "py5.background(240)\n",
    "py5.rect_mode(py5.CENTER)\n",
    "\n",
    "random_x = py5.random(py5.width)\n",
    "random_y = py5.random(py5.height)\n",
    "py5.rect(random_x, random_y, 50, 50)"
   ]
  },
  {
   "cell_type": "markdown",
   "metadata": {
    "editable": true,
    "slideshow": {
     "slide_type": ""
    },
    "tags": []
   },
   "source": [
    "The variables `random_x` and `random_y` are not accessible outside of that cell:"
   ]
  },
  {
   "cell_type": "code",
   "execution_count": null,
   "metadata": {
    "editable": true,
    "slideshow": {
     "slide_type": ""
    },
    "tags": [
     "raises-exception"
    ]
   },
   "outputs": [],
   "source": [
    "random_x, random_y"
   ]
  },
  {
   "cell_type": "markdown",
   "metadata": {
    "editable": true,
    "slideshow": {
     "slide_type": ""
    },
    "tags": []
   },
   "source": [
    "This behavior is by design.\n",
    "\n",
    "Consider that the py5 library is using the Processing library to create these graphics. Builtin Processing objects such as PImage or PGraphics are designed to be associated with one and only one Processing Sketch. Py5 can let users write code to that subverts these assumptions, and as a result use Processing in a way that is completely different from how it was designed to be used. Sometimes this can be beneficial, but other times it will cause unexpected errors.\n",
    "\n",
    "If you understand the risks, or if you are working with non-Processing objects (as is the case for `random_x` and `random_y` in the above example), you can use the `--unsafe` parameter. This lets the cell magic add new variables and functions to the notebook namespace. As the name implies, you can cause problems for yourself by using this."
   ]
  },
  {
   "cell_type": "code",
   "execution_count": null,
   "metadata": {
    "editable": true,
    "slideshow": {
     "slide_type": ""
    },
    "tags": []
   },
   "outputs": [],
   "source": [
    "%%py5draw 300 200 --unsafe\n",
    "\n",
    "py5.background(240)\n",
    "py5.rect_mode(py5.CENTER)\n",
    "\n",
    "random_x = py5.random(py5.width)\n",
    "random_y = py5.random(py5.height)\n",
    "py5.rect(random_x, random_y, 50, 50)"
   ]
  },
  {
   "cell_type": "code",
   "execution_count": null,
   "metadata": {
    "editable": true,
    "slideshow": {
     "slide_type": ""
    },
    "tags": []
   },
   "outputs": [],
   "source": [
    "random_x, random_y"
   ]
  },
  {
   "cell_type": "markdown",
   "metadata": {
    "editable": true,
    "slideshow": {
     "slide_type": ""
    },
    "tags": []
   },
   "source": [
    "## Animated Sketches\n",
    "\n",
    "Of course, there's more to py5 than static Sketches. The py5 magics will support animated Sketches as well.\n",
    "\n",
    "Note that starting your development process with static Sketches is a great way to write py5 code. For example, you can quickly develop functions for parts of your creation and test them out with static Sketches, and later use those same functions in your final animation.\n",
    "\n",
    "Let's create a simple example. The below `setup` function will tell py5 to create a 500 by 400 Sketch window. It will set the background color and set the rect mode."
   ]
  },
  {
   "cell_type": "code",
   "execution_count": null,
   "metadata": {
    "editable": true,
    "slideshow": {
     "slide_type": ""
    },
    "tags": []
   },
   "outputs": [],
   "source": [
    "def setup():\n",
    "    py5.size(500, 400, py5.P2D)\n",
    "    py5.background(240)\n",
    "    py5.rect_mode(py5.CENTER)"
   ]
  },
  {
   "cell_type": "markdown",
   "metadata": {
    "editable": true,
    "slideshow": {
     "slide_type": ""
    },
    "tags": []
   },
   "source": [
    "Next, the `draw` function to draw random squares."
   ]
  },
  {
   "cell_type": "code",
   "execution_count": null,
   "metadata": {
    "editable": true,
    "slideshow": {
     "slide_type": ""
    },
    "tags": []
   },
   "outputs": [],
   "source": [
    "def draw():\n",
    "    random_x = py5.random(py5.width)\n",
    "    random_y = py5.random(py5.height)\n",
    "    py5.rect(random_x, random_y, 10, 10)"
   ]
  },
  {
   "cell_type": "markdown",
   "metadata": {
    "editable": true,
    "slideshow": {
     "slide_type": ""
    },
    "tags": [
     "remove-cell"
    ]
   },
   "source": [
    "Finally, let's define a `mouse_clicked` function to change the fill color when the Sketch is clicked."
   ]
  },
  {
   "cell_type": "code",
   "execution_count": null,
   "metadata": {
    "editable": true,
    "slideshow": {
     "slide_type": ""
    },
    "tags": [
     "remove-cell"
    ]
   },
   "outputs": [],
   "source": [
    "def mouse_clicked():\n",
    "    pick_random_fill()"
   ]
  },
  {
   "cell_type": "markdown",
   "metadata": {
    "editable": true,
    "slideshow": {
     "slide_type": ""
    },
    "tags": []
   },
   "source": [
    "To run the Sketch, use the [run_sketch()](/reference/sketch_run_sketch) method. It will pull out the `setup` and `draw` functions from the notebook's namespace and put them together in a Sketch."
   ]
  },
  {
   "cell_type": "code",
   "execution_count": null,
   "metadata": {
    "editable": true,
    "slideshow": {
     "slide_type": ""
    },
    "tags": []
   },
   "outputs": [],
   "source": [
    "py5.run_sketch()\n",
    "print('the sketch is running!')"
   ]
  },
  {
   "cell_type": "markdown",
   "metadata": {
    "editable": true,
    "slideshow": {
     "slide_type": ""
    },
    "tags": []
   },
   "source": [
    "If you are running this notebook locally, you will see a new window open for the running Sketch. If you are running this through Binder, or possibly using the documentation website's Live Code feature (see the rocket ship icon at the top of the page), the Sketch is running on a server somewhere in the cloud. In that case, to see what the Sketch is doing you will need to create some screenshots and embed them in the notebook."
   ]
  },
  {
   "cell_type": "markdown",
   "metadata": {
    "editable": true,
    "slideshow": {
     "slide_type": ""
    },
    "tags": []
   },
   "source": [
    "By default, the [run_sketch()](/reference/sketch_run_sketch) method returns right away, as illustrated by the `print` statement. This enables the notebook user to continue coding, including executing code that interacts with the Sketch. The Sketch continues to run in its own window."
   ]
  },
  {
   "cell_type": "markdown",
   "metadata": {
    "editable": true,
    "slideshow": {
     "slide_type": ""
    },
    "tags": []
   },
   "source": [
    "### Screenshots\n",
    "\n",
    "The Sketch window cannot be embedded into the notebook, but the [`py5_tools.screenshot()`](/reference/py5tools_screenshot) function can grab a single snapshot of the window."
   ]
  },
  {
   "cell_type": "code",
   "execution_count": null,
   "metadata": {
    "editable": true,
    "slideshow": {
     "slide_type": ""
    },
    "tags": [
     "remove-cell"
    ]
   },
   "outputs": [],
   "source": [
    "time.sleep(3)"
   ]
  },
  {
   "cell_type": "code",
   "execution_count": null,
   "metadata": {
    "editable": true,
    "slideshow": {
     "slide_type": ""
    },
    "tags": []
   },
   "outputs": [],
   "source": [
    "sketch_snapshot = py5_tools.screenshot()\n",
    "\n",
    "sketch_snapshot"
   ]
  },
  {
   "cell_type": "markdown",
   "metadata": {
    "editable": true,
    "slideshow": {
     "slide_type": ""
    },
    "tags": []
   },
   "source": [
    "Observe that this function returns a frame of the Sketch as a [PIL Image object](https://pillow.readthedocs.io/en/stable/index.html)."
   ]
  },
  {
   "cell_type": "code",
   "execution_count": null,
   "metadata": {
    "editable": true,
    "slideshow": {
     "slide_type": ""
    },
    "tags": []
   },
   "outputs": [],
   "source": [
    "print(type(sketch_snapshot))"
   ]
  },
  {
   "cell_type": "markdown",
   "metadata": {
    "editable": true,
    "slideshow": {
     "slide_type": ""
    },
    "tags": []
   },
   "source": [
    "The [`py5_tools.save_frames()`](/reference/py5tools_save_frames) function will save multiple frames to a directory.\n",
    "\n",
    "Of course you can also call [`save_frame()`](/reference/sketch_save_frame) from the `draw` method, but that would require you to redefine the `draw` method with a few extra lines of code. This is more convenient."
   ]
  },
  {
   "cell_type": "code",
   "execution_count": null,
   "metadata": {
    "editable": true,
    "slideshow": {
     "slide_type": ""
    },
    "tags": [
     "remove-output"
    ]
   },
   "outputs": [],
   "source": [
    "py5_tools.save_frames('/tmp/testframes/', start=0, limit=10)"
   ]
  },
  {
   "cell_type": "markdown",
   "metadata": {
    "editable": true,
    "slideshow": {
     "slide_type": ""
    },
    "tags": []
   },
   "source": [
    "Those frames can be assembled into a video file.\n",
    "\n",
    "The [`py5_tools.capture_frames()`](/reference/py5tools_capture_frames) function is similar to [`py5_tools.save_frames()`](/reference/py5tools_save_frames) except it returns the frames as a `list` of [PIL Image object](https://pillow.readthedocs.io/en/stable/index.html)s."
   ]
  },
  {
   "cell_type": "code",
   "execution_count": null,
   "metadata": {
    "editable": true,
    "slideshow": {
     "slide_type": ""
    },
    "tags": [
     "remove-output"
    ]
   },
   "outputs": [],
   "source": [
    "frames = py5_tools.capture_frames(count=10, period=1, block=True)"
   ]
  },
  {
   "cell_type": "code",
   "execution_count": null,
   "metadata": {
    "editable": true,
    "slideshow": {
     "slide_type": ""
    },
    "tags": []
   },
   "outputs": [],
   "source": [
    "frames[0]"
   ]
  },
  {
   "cell_type": "code",
   "execution_count": null,
   "metadata": {
    "editable": true,
    "slideshow": {
     "slide_type": ""
    },
    "tags": []
   },
   "outputs": [],
   "source": [
    "frames[-1]"
   ]
  },
  {
   "cell_type": "markdown",
   "metadata": {
    "editable": true,
    "slideshow": {
     "slide_type": ""
    },
    "tags": []
   },
   "source": [
    "### Animated GIFs\n",
    "\n",
    "The last magic creates animated GIFs from your Sketch. Everybody loves animated GIFs."
   ]
  },
  {
   "cell_type": "code",
   "execution_count": null,
   "metadata": {
    "editable": true,
    "slideshow": {
     "slide_type": ""
    },
    "tags": [
     "remove-output"
    ]
   },
   "outputs": [],
   "source": [
    "py5_tools.animated_gif('images/jupyter_notebooks/simple_example.gif', count=10, period=1, duration=0.5)"
   ]
  },
  {
   "cell_type": "markdown",
   "metadata": {
    "editable": true,
    "slideshow": {
     "slide_type": ""
    },
    "tags": []
   },
   "source": [
    "The animated GIF can then be embedded in a notebook markdown cell.\n",
    "\n",
    "![simple_example](images/jupyter_notebooks/simple_example.gif)"
   ]
  },
  {
   "cell_type": "markdown",
   "metadata": {
    "editable": true,
    "slideshow": {
     "slide_type": ""
    },
    "tags": []
   },
   "source": [
    "### Print Statements\n",
    "\n",
    "Question: if the user's `draw` method contains `print` statements, where does the output appear?\n",
    "\n",
    "This would be a simple question if the [run_sketch()](/reference/sketch_run_sketch) method did not return right away (which you could achieve by passing the parameter `block=False`). The print statements would always go into the output of the cell with the call to that method. When the Sketch exits, the output for that cell would be complete.\n",
    "\n",
    "By default, the [run_sketch()](/reference/sketch_run_sketch) method does return right away when called from a Jupyter notebook. The print statements will still go to the output of the cell with the call to that method, but when you move on to the next cell, the print statements will start to appear there instead. Why? This has to do with the inner workings of Jupyter notebooks. It gets weirder if you delete the cell that is currently receiving the output. If that happens, the print output will disappear completely.\n",
    "\n",
    "This is less than perfect, and might frustrate users who like to debug their code with print statements. Instead, use the [println()](/reference/sketch_println) method. It will route all print statements to the output of the cell that made the call to [run_sketch()](/reference/sketch_run_sketch). The functionality of [println()](/reference/sketch_println) can be customized with [set_println_stream()](/reference/sketch_set_println_stream).\n",
    "\n",
    "If instead you want to send messages to the Jupyter notebook log, you can always do so like this:"
   ]
  },
  {
   "cell_type": "code",
   "execution_count": null,
   "metadata": {
    "editable": true,
    "slideshow": {
     "slide_type": ""
    },
    "tags": []
   },
   "outputs": [],
   "source": [
    "shell = get_ipython()\n",
    "shell.log.critical('test message')"
   ]
  },
  {
   "cell_type": "markdown",
   "metadata": {
    "editable": true,
    "slideshow": {
     "slide_type": ""
    },
    "tags": []
   },
   "source": [
    "In the terminal used to run `jupyter notebook`, this message appears:\n",
    "\n",
    "```text\n",
    "[IPKernelApp] CRITICAL | test message\n",
    "```\n",
    "\n",
    "This is a more reliable debugging technique."
   ]
  }
 ],
 "metadata": {
  "jupytext": {
   "formats": "ipynb,md:myst"
  },
  "kernelspec": {
   "display_name": "Python 3 (ipykernel)",
   "language": "python",
   "name": "python3"
  },
  "language_info": {
   "codemirror_mode": {
    "name": "ipython",
    "version": 3
   },
   "file_extension": ".py",
   "mimetype": "text/x-python",
   "name": "python",
   "nbconvert_exporter": "python",
   "pygments_lexer": "ipython3",
   "version": "3.9.19"
  },
  "vscode": {
   "interpreter": {
    "hash": "e7370f93d1d0cde622a1f8e1c04877d8463912d04d973331ad4851f04de6915a"
   }
  },
  "widgets": {
   "application/vnd.jupyter.widget-state+json": {
    "state": {},
    "version_major": 2,
    "version_minor": 0
   }
  }
 },
 "nbformat": 4,
 "nbformat_minor": 4
}
