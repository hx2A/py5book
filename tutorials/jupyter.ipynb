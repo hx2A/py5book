{
 "cells": [
  {
   "cell_type": "markdown",
   "id": "4a542911",
   "metadata": {},
   "source": [
    "# Using Jupyter Notebooks\n",
    "\n",
    "[Project Jupyter](https://jupyter.org/) is a collection of open source projects providing services and tools for interactive computing across many programming languages. These services and tools include [Jupyter Notebook](https://jupyter-notebook.readthedocs.io/en/stable/), [JupyterLab](https://jupyterlab.readthedocs.io/en/stable/), and [JupyterHub](https://jupyter.org/hub). It also includes [JupyterBook](https://jupyterbook.org/), which is the framework used to create this documentation website.\n",
    "\n",
    "Jupyter plays a large role in the Python community and is supported by many organizations.\n",
    "\n",
    "Built into py5 are many features to make it compatible with Jupyter Notebooks. This empowers py5 to benefit from Jupyter's strengths. This section provides some tutorials that highlight py5's Jupyter-related features and how to make best use of them.\n",
    "\n",
    "It is recommended that you install both of py5's Jupyter kernels. Instructions for how to do so are found at the bottom of the [py5 install page](/content/install)."
   ]
  }
 ],
 "metadata": {
  "jupytext": {
   "formats": "ipynb,md:myst"
  },
  "kernelspec": {
   "display_name": "Python 3 (ipykernel)",
   "language": "python",
   "name": "python3"
  },
  "language_info": {
   "codemirror_mode": {
    "name": "ipython",
    "version": 3
   },
   "file_extension": ".py",
   "mimetype": "text/x-python",
   "name": "python",
   "nbconvert_exporter": "python",
   "pygments_lexer": "ipython3",
   "version": "3.8.15"
  }
 },
 "nbformat": 4,
 "nbformat_minor": 5
}
