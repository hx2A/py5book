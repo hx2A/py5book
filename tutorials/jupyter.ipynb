{
 "cells": [
  {
   "cell_type": "markdown",
   "id": "4a542911",
   "metadata": {},
   "source": [
    "# Using Jupyter Notebooks\n",
    "\n",
    "[Project Jupyter](https://jupyter.org/) is a collection of open source projects providing services and tools for interactive computing across many programming languages. These services and tools include [Jupyter Notebook](https://jupyter-notebook.readthedocs.io/en/stable/), [JupyterLab](https://jupyterlab.readthedocs.io/en/stable/), and [JupyterHub](https://jupyter.org/hub). It also includes [JupyterBook](https://jupyterbook.org/), which is the framework used to create this documentation website.\n",
    "\n",
    "Jupyter plays a large role in the Python community and is supported by many organizations.\n",
    "\n",
    "Built into py5 are many features to make it compatible with Jupyter Notebooks. This empowers py5 to benefit from Jupyter's strengths. This section provides some tutorials that highlight py5's Jupyter-related features and how to make best use of them.\n",
    "\n",
    "It is recommended that you install both of py5's Jupyter kernels (py5 and py5bot). Instructions for how to do so are found at the bottom of the [py5 install page](/content/install).\n"
   ]
  },
  {
   "cell_type": "markdown",
   "id": "7abffa89-4e6b-44c3-8e85-a73fe1338f40",
   "metadata": {},
   "source": [
    "## Getting Started"
   ]
  },
  {
   "cell_type": "markdown",
   "id": "388b20bd-073e-49ab-81d4-f37a77512b2b",
   "metadata": {},
   "source": [
    "### Using the standard Python 3 (ipykernel) kernel\n",
    "\n",
    "A minimal interactive example might look like this. As you evaluate the cell below a window with your running sketch should open, and moving the mouse over it should produce colored square trails that change color when you click the mouse button."
   ]
  },
  {
   "cell_type": "code",
   "execution_count": 1,
   "id": "c8ffb936-88be-4d87-aee7-abf50666e232",
   "metadata": {},
   "outputs": [],
   "source": [
    "import py5\n",
    "\n",
    "def setup():\n",
    "    py5.size(400, 400)\n",
    "    py5.rect_mode(py5.CENTER)\n",
    "\n",
    "\n",
    "def draw():\n",
    "    py5.square(py5.mouse_x, py5.mouse_y, 10)\n",
    "\n",
    "\n",
    "def mouse_clicked():\n",
    "    py5.fill(py5.random_int(255), py5.random_int(255), py5.random_int(255))\n",
    "\n",
    "\n",
    "py5.run_sketch()"
   ]
  },
  {
   "cell_type": "markdown",
   "id": "7e44453d-f543-42a5-a470-f82fce777de9",
   "metadata": {},
   "source": [
    "> It should look something like this GIF animation:<br>\n",
    "> ![](../images/main/index_example.gif)"
   ]
  },
  {
   "cell_type": "markdown",
   "id": "1bd4b8c4-d395-40a4-9073-f453558a84e3",
   "metadata": {},
   "source": [
    "### Using the py5 kernel\n",
    "\n",
    "Having installed the py5 kernel, you can write code very similar to py5's imported mode, but adding `run_sketch()` at the end.\n",
    "\n",
    "```python\n",
    "def setup():\n",
    "    size(400, 400)\n",
    "    rect_mode(CENTER)\n",
    "\n",
    "\n",
    "def draw():\n",
    "    square(mouse_x, mouse_y, 10)\n",
    "\n",
    "\n",
    "def mouse_clicked():\n",
    "    fill(random_int(255), random_int(255), random_int(255))\n",
    "\n",
    "\n",
    "run_sketch()\n",
    "```"
   ]
  }
 ],
 "metadata": {
  "jupytext": {
   "formats": "ipynb,md"
  },
  "kernelspec": {
   "display_name": "Python 3 (ipykernel)",
   "language": "python",
   "name": "python3"
  },
  "language_info": {
   "codemirror_mode": {
    "name": "ipython",
    "version": 3
   },
   "file_extension": ".py",
   "mimetype": "text/x-python",
   "name": "python",
   "nbconvert_exporter": "python",
   "pygments_lexer": "ipython3",
   "version": "3.10.12"
  }
 },
 "nbformat": 4,
 "nbformat_minor": 5
}
