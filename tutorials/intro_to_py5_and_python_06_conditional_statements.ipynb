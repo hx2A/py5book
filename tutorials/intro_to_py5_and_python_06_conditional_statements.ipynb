{
 "cells": [
  {
   "cell_type": "markdown",
   "id": "a8aa7843",
   "metadata": {},
   "source": [
    "# conditional statements\n",
    "\n",
    "By default, code written in py5 is just executed line by line, starting with the very top of the sketch and ending at the bottom. This linear arrangement of code is perfectly acceptable for simple programs, but as your sketches begin to get more complex, you'll often find that laying out divergent paths and loops of behaviors is necessary. Laying out the rules and conditions for the computer to follow these different paths is called *control flow*. \n",
    "\n",
    "<img src=\"images/conditional_statements/intro-flowchart.svg\">\n",
    "\n",
    "A *conditional statement* is really just a fancy way of saying that if a condition is true, the program will do something. If you were communicating with a human, it would be helpful to think of this as a question-and-answer approach, where the answer will lead to some sort of action. If you had blocks of several different colors and several different boxes to put them in, the conditional statement might look like this: \n",
    "\n",
    "*A human is shown a colored block.*\n",
    "\n",
    "*Question*: Is the block red?\n",
    "\n",
    "*Answer*: Yes.\n",
    "\n",
    "*Action*: Place it in the box labelled \"red blocks\".\n",
    "\n",
    "The way the computerized brain works is similar, but simple conditional statements don't separate these three steps in the same way the human brain does. It's a little more like this: \n",
    "\n",
    "*A computer is shown a colored block.*\n",
    "\n",
    "*Condition*: IF the block is red...\n",
    "\n",
    "*Action*: ...place it in the box labeled \"red blocks.\"\n",
    "\n",
    "The question is, how do you communicate these sorts of concepts to the computer? Let's break down ways it can evaluate and store this sort of data.\n",
    "\n",
    "## boolean data types\n",
    "\n",
    "There are many simple types of data in py5 (and other programming languages). Text, made of individual characters, is called a *string*, a whole number is an *integer*, and a number with a decimal point is a *float*. For comparing conditions to a target like this (*is the block red*), computers use a data type called a *boolean*. \n",
    "\n",
    "Strings can hold pretty much any text, and integers/floats pretty much any number. Booleans only have two possible states: `True` or `False`. Let's write some simple code together to demonstrate how this works."
   ]
  },
  {
   "cell_type": "code",
   "execution_count": 1,
   "id": "889125ee",
   "metadata": {},
   "outputs": [
    {
     "name": "stdout",
     "output_type": "stream",
     "text": [
      "True\n",
      "False\n"
     ]
    },
    {
     "data": {
      "image/png": "[encoded data removed]",
      "text/plain": [
       "<PIL.Image.Image image mode=RGB size=100x100>"
      ]
     },
     "execution_count": 1,
     "metadata": {},
     "output_type": "execute_result"
    }
   ],
   "source": [
    "# Declaring and assigning two variables...\n",
    "block_is_red = True\n",
    "block_is_blue = False\n",
    "\n",
    "# What happens when you print these? \n",
    "print(block_is_red)\n",
    "print(block_is_blue)"
   ]
  },
  {
   "cell_type": "markdown",
   "id": "0561980e",
   "metadata": {},
   "source": [
    "As you might expect, running the above code will print:\n",
    "\n",
    "```\n",
    "True\n",
    "False\n",
    "```\n",
    "\n",
    "The capitalization here is important! true, TRUE, and tRuE will all be assumed to be strings, or variables that haven't been assigned properly. If you did need a string that stored the text \"True\" in it, you would include those quotation marks when you assign the variable - but this is likely to get confusing quickly.\n",
    "\n",
    "## relational operators\n",
    "\n",
    "In isolation, variables like this are not always useful. However, when you begin to compare the relationship variables have to each other, the decision-making capabilities of your programs become more powerful. As an example, consider this basic mathematical statement:\n",
    "\n",
    "```\n",
    "3 > 2\n",
    "```\n",
    "\n",
    "The integers 3 and 2 (our *operands*) are being compared by the greater-than sign (our *operator*). Reading this line, you can immediately tell that it's correct: 3 is larger than 2. To put it in the terms of a computer, 3 > 2 is *True*. You can ask py5 to use relational operators and give you the result of that operation."
   ]
  },
  {
   "cell_type": "code",
   "execution_count": 2,
   "id": "a80d7789",
   "metadata": {},
   "outputs": [
    {
     "name": "stdout",
     "output_type": "stream",
     "text": [
      "True\n",
      "False\n"
     ]
    },
    {
     "data": {
      "image/png": "[encoded data removed]",
      "text/plain": [
       "<PIL.Image.Image image mode=RGB size=100x100>"
      ]
     },
     "execution_count": 2,
     "metadata": {},
     "output_type": "execute_result"
    }
   ],
   "source": [
    "# Declaring and assigning a variable...\n",
    "x = 2\n",
    "\n",
    "print( x > 1 )        # displays: True\n",
    "print( x < 1 )        # displays: False"
   ]
  },
  {
   "cell_type": "markdown",
   "id": "1a3b8805",
   "metadata": {},
   "source": [
    "Just like our first code, running this will print:\n",
    "\n",
    "```\n",
    "True\n",
    "False\n",
    "```\n",
    "\n",
    "Our py5 sketch has received these lines and returned a boolean - true or false - based on whether the comparison is correct. When we start to get into more complex comparisons, this is still the case. When we ask the computer a question to determine its control flow, it evaluates whatever we give it, decides if the answer is `True` or `False`, and moves onwards from there. \n",
    "\n",
    "There are a handful of different relational operators we can use in py5 (and Python in general):\n",
    "\n",
    "```\n",
    ">    greater-than\n",
    "<    less-than\n",
    ">=   greater-than-or-equal-to\n",
    "<=   less-than-or-equal-to\n",
    "==   equal-to\n",
    "!=   not-equal-to\n",
    "```\n",
    "\n",
    "As you can imagine, checking if a variable is greater than or less than something else will only work on numbers, whether they're floats and integers. However, you can use `==` and `!=` on other variables, too, to quickly check for a match."
   ]
  },
  {
   "cell_type": "code",
   "execution_count": 3,
   "id": "58360532",
   "metadata": {},
   "outputs": [
    {
     "name": "stdout",
     "output_type": "stream",
     "text": [
      "True\n",
      "False\n",
      "True\n"
     ]
    },
    {
     "data": {
      "image/png": "[encoded data removed]",
      "text/plain": [
       "<PIL.Image.Image image mode=RGB size=100x100>"
      ]
     },
     "execution_count": 3,
     "metadata": {},
     "output_type": "execute_result"
    }
   ],
   "source": [
    "# Declaring and assigning a variable with a string in it...\n",
    "name = 'Jo'\n",
    "\n",
    "# Checking if that name is equal to various strings of text...\n",
    "print( name == 'Jo' ) # displays: True\n",
    "print( name == 'Em' ) # displays: False\n",
    "print( name != 'Em' ) # displays: True"
   ]
  },
  {
   "cell_type": "markdown",
   "id": "68440e9c",
   "metadata": {},
   "source": [
    "We've uncovered only part of the puzzle: evaluating statements and figuring out if they're `True` or `False`. The missing piece is instructing our program to take action based on this result.\n",
    "\n",
    "## if statements\n",
    "\n",
    "Think back on our colored block example, above.\n",
    "\n",
    "*A computer is shown a colored block.*\n",
    "\n",
    "*Condition*: IF the block is red...\n",
    "\n",
    "*Action*: ...place it in the box labeled \"red blocks.\"\n",
    "\n",
    "We'll be writing our first simple *if statement* here, to give our program a way to logically decide on its next step. Let's imagine that we were writing a simple program to grade submissions in a university course. We'll do the hard part ourselves - marking the submission with a number out of 100. How can we ask the computer to provide us with a proper grade using that mark?"
   ]
  },
  {
   "cell_type": "code",
   "execution_count": 4,
   "id": "bd7c5b62",
   "metadata": {},
   "outputs": [
    {
     "name": "stdout",
     "output_type": "stream",
     "text": [
      "PASS\n"
     ]
    },
    {
     "data": {
      "image/png": "[encoded data removed]",
      "text/plain": [
       "<PIL.Image.Image image mode=RGB size=100x100>"
      ]
     },
     "execution_count": 4,
     "metadata": {},
     "output_type": "execute_result"
    }
   ],
   "source": [
    "mark = 60\n",
    "\n",
    "# If the mark is greater than or equal to fifty, it's a pass!\n",
    "if mark >= 50:\n",
    "    print('PASS')"
   ]
  },
  {
   "cell_type": "markdown",
   "id": "a31b2094",
   "metadata": {},
   "source": [
    "This is almost exactly the same as our colored block example, but in the Python syntax!\n",
    "\n",
    "*A computer is shown a mark.*\n",
    "\n",
    "*Condition*: IF the mark is greater than, or equal to, 50...\n",
    "\n",
    "*Action*: ...print the word PASS.\n",
    "\n",
    "The indenting before the `print()` line is necessary. When we begin the if statement, py5 will look for indented lines following it as the action to take. It doesn't matter how far you indent this code - four spaces or two spaces are common, but it can be a single space or a dozen if you really want - as long as you are consistent and use the same indentation throughout. This means that you can have multiple lines included in the if statement, as long as they are all indented equally."
   ]
  },
  {
   "cell_type": "code",
   "execution_count": null,
   "id": "7082ff72",
   "metadata": {},
   "outputs": [],
   "source": [
    "mark = 60\n",
    "\n",
    "# If the mark is greater than or equal to fifty, it's a pass!\n",
    "if mark >= 50:\n",
    "    print('PASS')\n",
    "    print('Well done!')"
   ]
  },
  {
   "cell_type": "markdown",
   "id": "462936f2",
   "metadata": {},
   "source": [
    "If you unindented that second `print()` line, the program would print \"Well done!\" regardless of the grade. Awkward, but optimistic. \n",
    "\n",
    "These if statements can be *nested* inside one another, like Russian nesting dolls. You have to be careful about the indentation, but this can be a powerful - if occasionally inefficient - way to have multiple branching paths in your code. For example, what if you needed to support both an English and Spanish language option in this marking program?"
   ]
  },
  {
   "cell_type": "code",
   "execution_count": 6,
   "id": "54cdd276",
   "metadata": {},
   "outputs": [
    {
     "name": "stdout",
     "output_type": "stream",
     "text": [
      "PASS\n",
      "Well done!\n"
     ]
    },
    {
     "data": {
      "image/png": "[encoded data removed]",
      "text/plain": [
       "<PIL.Image.Image image mode=RGB size=100x100>"
      ]
     },
     "execution_count": 6,
     "metadata": {},
     "output_type": "execute_result"
    }
   ],
   "source": [
    "# Setting language to EN - English - in our bilingual marking program\n",
    "language = 'EN'\n",
    "\n",
    "mark = 60\n",
    "\n",
    "if mark >= 50:\n",
    "    print('PASS')\n",
    "\n",
    "    if language == 'EN':\n",
    "        print('Well done!')\n",
    "\n",
    "    if language == 'ES':\n",
    "        print('Bien Hecho!')"
   ]
  },
  {
   "cell_type": "markdown",
   "id": "e776c4cd",
   "metadata": {},
   "source": [
    "As we know, booleans can only be `True` or `False`. This means that when you're just checking a boolean, you don't even have to compare it to anything. It's not more \"correct\" to use one or the other - leaving out the operator is efficient, but leaving it in is easy to read. You can also use a variation here, *if not*, to check if something is False without using a operator."
   ]
  },
  {
   "cell_type": "code",
   "execution_count": 8,
   "id": "77397131",
   "metadata": {},
   "outputs": [
    {
     "name": "stdout",
     "output_type": "stream",
     "text": [
      "The block is green\n",
      "The block is green\n",
      "The block is NOT red\n",
      "The block is NOT red\n"
     ]
    },
    {
     "data": {
      "image/png": "[encoded data removed]",
      "text/plain": [
       "<PIL.Image.Image image mode=RGB size=100x100>"
      ]
     },
     "execution_count": 8,
     "metadata": {},
     "output_type": "execute_result"
    }
   ],
   "source": [
    "block_is_green = True\n",
    "block_is_red = False\n",
    "\n",
    "# This...\n",
    "\n",
    "if block_is_green == True:\n",
    "    print('The block is green')\n",
    "\n",
    "# ...is the same as:\n",
    "\n",
    "if block_is_green:\n",
    "    print('The block is green')\n",
    "    \n",
    "# And this...\n",
    "    \n",
    "if block_is_red == False:\n",
    "    print('The block is NOT red')\n",
    "    \n",
    "# ...is the same as:\n",
    "\n",
    "if not block_is_red:\n",
    "    print('The block is NOT red')"
   ]
  },
  {
   "cell_type": "markdown",
   "id": "9f5cec71",
   "metadata": {},
   "source": [
    "Let's return to our assignment marking program. Currently, it will only tell you if your mark was a pass. If we instead want it to output letter grades, we'll need multiple if statements."
   ]
  },
  {
   "cell_type": "code",
   "execution_count": 9,
   "id": "13b0a7dc",
   "metadata": {},
   "outputs": [
    {
     "name": "stdout",
     "output_type": "stream",
     "text": [
      "C\n",
      "B\n"
     ]
    },
    {
     "data": {
      "image/png": "[encoded data removed]",
      "text/plain": [
       "<PIL.Image.Image image mode=RGB size=100x100>"
      ]
     },
     "execution_count": 9,
     "metadata": {},
     "output_type": "execute_result"
    }
   ],
   "source": [
    "mark = 60\n",
    "\n",
    "if mark >= 50:\n",
    "    print('C')\n",
    "\n",
    "if mark >= 65:\n",
    "    print('B')"
   ]
  },
  {
   "cell_type": "markdown",
   "id": "fa4126b3",
   "metadata": {},
   "source": [
    "Does that code work? Yes, but with an unintended problem: if you changed your mark to 70, both of those if statements are true, and so the program returns both B and C. Luckily, with flow control, there's a way around this. In addition to regular *if* statements, we can use *else* statements and *else if* statements. Imagine if our computer had to sort quite a few colors of blocks:\n",
    "\n",
    "*A computer is shown a colored block.*\n",
    "\n",
    "*Condition*: IF the block is red...\n",
    "\n",
    "*Action*: ...place it in the box labeled \"red blocks.\"\n",
    "\n",
    "*But what if the block was NOT red?*\n",
    "\n",
    "*Condition*: ELSE, IF the block is green...\n",
    "\n",
    "*Action*: ...place it in the box labeled \"green blocks.\"\n",
    "\n",
    "*What if you only taught the computer about red and green, but there were a handful of other colors?\n",
    "\n",
    "*Condition*: ELSE...\n",
    "\n",
    "*Action*: ...place the block in the box labeled \"other colors.\"\n",
    "\n",
    "Using Python syntax, *else if* becomes *elif*. This statement will only be evaluated if the preceding statement was false. For our structure to make sense, it's a good idea to start at higher marks, and contain lower marks in an elif statement. That way, the code will continue trying to run through these marks, only moving to the next statement if the current one fails."
   ]
  },
  {
   "cell_type": "code",
   "execution_count": null,
   "id": "61a548b9",
   "metadata": {},
   "outputs": [],
   "source": [
    "mark = 70\n",
    "\n",
    "if mark >= 80:\n",
    "    print('A')\n",
    "\n",
    "# The previous statement wasn't true, so let's move on...\n",
    "elif mark >= 65:\n",
    "    print('B')\n",
    "\n",
    "# And so on, and so forth\n",
    "elif mark >= 50:\n",
    "    print('C')\n",
    "\n",
    "# Actually, none of the previous statements were true!\n",
    "else:\n",
    "    print('FAIL')"
   ]
  },
  {
   "cell_type": "markdown",
   "id": "357910d2",
   "metadata": {},
   "source": [
    "Note that although this is a chain of IF, ELIF and ELSE statements, you don't necessarily need to use all three. Just combining IF and ELIF statements, or an IF statement and an ELSE statement, are completely valid ways to use control flow. It all depends on what you want your program to do. \n",
    "\n",
    "## logical operators\n",
    "\n",
    "So far, each of our if/elif statements have only been evaluating one thing at a time. *Is the mark greater than 50?* For more complex logic, or even to streamline the statements we've already written, you might need to ask something like *is the mark greater than 50, AND less than 65?* For this, we can use logical operators. Actually, you've already taken a sneak peek at one of them, *not*, which checks for the opposite of something. There are three of these logical operators available to us in Python: \n",
    "\n",
    "```\n",
    "and   returns True if both (or all) operands are true\n",
    "or    returns True if at least one operand is true\n",
    "not   reverses the boolean (True becomes False and vice-versa)\n",
    "```\n",
    "\n",
    "Let's incorporate *and* and *or* into our marking program to handle a few other cases. For example, if I incorrectly put in a mark as 152 or -52, it's better for the program to reject it than to mark it as an A or a FAIL. Plus, maybe if someone is in a certain range below a C, there's still a chance to retrieve their grade and ask them to resubmit. Changing the mark below, you can see the different results. That *or* operator means either condition being true will run the code, and that *and* means both must be true for the code to run."
   ]
  },
  {
   "cell_type": "code",
   "execution_count": null,
   "id": "2ab62bfc",
   "metadata": {},
   "outputs": [],
   "source": [
    "mark = 152\n",
    "\n",
    "if mark < 0 or mark > 100:\n",
    "    print('INVALID MARK')\n",
    "\n",
    "elif mark >= 80:\n",
    "    print('A')\n",
    "\n",
    "elif mark >= 65:\n",
    "    print('B')\n",
    "\n",
    "elif mark >= 50:\n",
    "    print('C')\n",
    "\n",
    "elif mark >= 45 and mark < 50:\n",
    "    print('RESUBMIT')\n",
    "\n",
    "else:\n",
    "    print('FAIL')"
   ]
  },
  {
   "cell_type": "markdown",
   "id": "0be7d02e",
   "metadata": {},
   "source": [
    "## four-square task\n",
    "\n",
    "It's time for a challenge. This marking program is completely non-visual, which is just not in the spirit of py5. Instead, your task is to create a simple program, using the statements and logical operators we've just discussed, that includes a bit of visual output. \n",
    "\n",
    "Let's start off with this code (and you will quickly understand the name of the task):"
   ]
  },
  {
   "cell_type": "code",
   "execution_count": 10,
   "id": "89e89ff9",
   "metadata": {},
   "outputs": [
    {
     "data": {
      "image/png": "[encoded data removed]",
      "text/plain": [
       "<PIL.Image.Image image mode=RGB size=600x600>"
      ]
     },
     "execution_count": 10,
     "metadata": {},
     "output_type": "execute_result"
    }
   ],
   "source": [
    "size(600,600)\n",
    "no_fill()\n",
    "no_stroke()\n",
    "\n",
    "fill('#FF0000') # red quadrant\n",
    "rect(width/2,0, width/2,height/2)\n",
    "\n",
    "fill('#004477') # blue quadrant\n",
    "rect(0,0, width/2,height/2)\n",
    "\n",
    "fill('#6633FF') # violet quadrant\n",
    "rect(0,height/2, width/2,height/2)\n",
    "\n",
    "fill('#FF9900') # orange quadrant\n",
    "rect(width/2,height/2, width/2,height/2)"
   ]
  },
  {
   "cell_type": "markdown",
   "id": "b9000f27",
   "metadata": {},
   "source": [
    "<img src=\"images/conditional_statements/four-square-quadrants.png\">\n",
    "\n",
    "When run, this code will divide your sketch window into four colored quadrants. You can see we're using the built-in variables of *width* and *height* to easily make sure those quadrants are in the right place, and that they take up exactly one quarter of the window. (This means that your `size()` can be anything, of course.) Now, we'll create two variables for the x and y coordinate of a single character, and place the character at that location."
   ]
  },
  {
   "cell_type": "code",
   "execution_count": 11,
   "id": "5799d21c",
   "metadata": {},
   "outputs": [
    {
     "data": {
      "image/png": "[encoded data removed]",
      "text/plain": [
       "<PIL.Image.Image image mode=RGB size=600x600>"
      ]
     },
     "execution_count": 11,
     "metadata": {},
     "output_type": "execute_result"
    }
   ],
   "source": [
    "size(600,600)\n",
    "no_fill()\n",
    "no_stroke()\n",
    "\n",
    "fill('#FF0000') # red quadrant\n",
    "rect(width/2,0, width/2,height/2)\n",
    "\n",
    "fill('#004477') # blue quadrant\n",
    "rect(0,0, width/2,height/2)\n",
    "\n",
    "fill('#6633FF') # violet quadrant\n",
    "rect(0,height/2, width/2,height/2)\n",
    "\n",
    "fill('#FF9900') # orange quadrant\n",
    "rect(width/2,height/2, width/2,height/2)\n",
    "\n",
    "x = 400\n",
    "y = 100\n",
    "txt = '?'\n",
    "\n",
    "fill('#FFFFFF')\n",
    "text_size(40)\n",
    "text_align(CENTER, CENTER)\n",
    "text(txt, x,y)"
   ]
  },
  {
   "cell_type": "markdown",
   "id": "f824224a",
   "metadata": {},
   "source": [
    "<img src=\"images/conditional_statements/four-square-qmark.png\">\n",
    "\n",
    "Your challenge is to write code that, depending on which quadrant the ? appears in, transforms it into a different character entirely: B for blue, R for red, P for purple or O for orange. If you can change x and y to any values and this works consistently, you've done well.\n",
    "\n",
    "<img src=\"images/conditional_statements/four-square-four-up.png\">\n",
    "\n",
    "We'll run through the condition for red (R) together so that you can understand the principle. First, let's add a statement that checks if the character is on the right side of the screen. Of course, we can do this by checking the value of x and change the character accordingly."
   ]
  },
  {
   "cell_type": "code",
   "execution_count": null,
   "id": "ec68204e",
   "metadata": {},
   "outputs": [],
   "source": [
    "size(600,600)\n",
    "no_fill()\n",
    "no_stroke()\n",
    "\n",
    "fill('#FF0000') # red quadrant\n",
    "rect(width/2,0, width/2,height/2)\n",
    "\n",
    "fill('#004477') # blue quadrant\n",
    "rect(0,0, width/2,height/2)\n",
    "\n",
    "fill('#6633FF') # violet quadrant\n",
    "rect(0,height/2, width/2,height/2)\n",
    "\n",
    "fill('#FF9900') # orange quadrant\n",
    "rect(width/2,height/2, width/2,height/2)\n",
    "\n",
    "x = 400\n",
    "y = 100\n",
    "txt = '?'\n",
    "\n",
    "if x >= width/2:\n",
    "    txt = 'R'\n",
    "\n",
    "fill('#FFFFFF')\n",
    "text_size(40)\n",
    "text_align(CENTER, CENTER)\n",
    "text(txt, x,y)"
   ]
  },
  {
   "cell_type": "markdown",
   "id": "882121d2",
   "metadata": {},
   "source": [
    "This works because it checks our x value against `width/2`, the center point of the image's width. However, if you change the value of Y to 400, you'll have an R over the orange quadrant of the image. This is because we're only checking our X value, not our Y! Using a logical operator, you can check the values of X and Y simultaneously for a correct result."
   ]
  },
  {
   "cell_type": "code",
   "execution_count": 12,
   "id": "314ab365",
   "metadata": {},
   "outputs": [
    {
     "data": {
      "image/png": "[encoded data removed]",
      "text/plain": [
       "<PIL.Image.Image image mode=RGB size=600x600>"
      ]
     },
     "execution_count": 12,
     "metadata": {},
     "output_type": "execute_result"
    }
   ],
   "source": [
    "size(600,600)\n",
    "no_fill()\n",
    "no_stroke()\n",
    "\n",
    "fill('#FF0000') # red quadrant\n",
    "rect(width/2,0, width/2,height/2)\n",
    "\n",
    "fill('#004477') # blue quadrant\n",
    "rect(0,0, width/2,height/2)\n",
    "\n",
    "fill('#6633FF') # violet quadrant\n",
    "rect(0,height/2, width/2,height/2)\n",
    "\n",
    "fill('#FF9900') # orange quadrant\n",
    "rect(width/2,height/2, width/2,height/2)\n",
    "\n",
    "x = 400\n",
    "y = 100\n",
    "txt = '?'\n",
    "\n",
    "if x >= width/2 and y < height/2:\n",
    "    txt = 'R'\n",
    "\n",
    "fill('#FFFFFF')\n",
    "text_size(40)\n",
    "text_align(CENTER, CENTER)\n",
    "text(txt, x,y)"
   ]
  },
  {
   "cell_type": "markdown",
   "id": "023a5b7e",
   "metadata": {},
   "source": [
    "With that simple fix, our ? will change into an R only if it is in the top-right corner of the sketch window, and remain a ? in the other three corners. Now, write three more if statements to handle what happens in the other three corners. \n",
    "\n",
    "If you blaze through that, here's another question: how would you write a final if statement that checks to see if the character is off the edges of the screen, and places it at a position of `100, 100` if that's the case?"
   ]
  }
 ],
 "metadata": {
  "jupytext": {
   "formats": "ipynb,md:myst"
  },
  "kernelspec": {
   "display_name": "py5bot",
   "language": "python",
   "name": "py5bot"
  },
  "language_info": {
   "codemirror_mode": {
    "name": "ipython",
    "version": 3
   },
   "file_extension": ".py",
   "mimetype": "text/x-python",
   "name": "python",
   "nbconvert_exporter": "python",
   "pygments_lexer": "ipython3",
   "version": "3.10.5"
  }
 },
 "nbformat": 4,
 "nbformat_minor": 5
}
