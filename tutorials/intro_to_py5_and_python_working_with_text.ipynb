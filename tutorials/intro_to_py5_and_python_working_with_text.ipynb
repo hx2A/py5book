{
 "cells": [
  {
   "cell_type": "markdown",
   "id": "c4ea2bf4",
   "metadata": {},
   "source": [
    "# strings and text in py5\n",
    "\n",
    "We'll be looking at how to render text in py5 in this section. Before we get into it, we'll have to briefly discuss *strings* and functions revolving around them. \n",
    "\n",
    "To put it simply, a string is just something we call text in programming terms. Really, we deal with one *character* of text at a time, and a string is a series (or string... get it?) of those characters. These data types are always wrapped in quotation marks when we use them. You can use single or double quote marks, but only one at a time - something unorthodox `\"like this'` won't work correctly. \n",
    "\n",
    "Let's mess around with strings in the form of variables to understand how they work."
   ]
  },
  {
   "cell_type": "code",
   "execution_count": null,
   "id": "f556c654",
   "metadata": {},
   "outputs": [],
   "source": [
    "size(500, 500)\n",
    "background('#004477')\n",
    "\n",
    "hello = 'hello world'\n",
    "print(hello)"
   ]
  },
  {
   "cell_type": "markdown",
   "id": "c6c931e5",
   "metadata": {},
   "source": [
    "We created a variable, *hello*, and stored a string, \"hello world\", inside of it. Running this code will print that string back to you.\n",
    "\n",
    "What if you need to store data with quotation marks inside of it? This code...\n",
    "\n",
    "```\n",
    "whatsup = 'what's up!'\n",
    "```\n",
    "\n",
    "...would cause an error - the string has ended at that apostrophe/single quotation mark, and everything left on the line is unreadable. This, however, would work:\n",
    "\n",
    "```\n",
    "whatsup = \"what's up!\"\n",
    "```\n",
    "\n",
    "Or, you can put a backslash directly before that apostrophe. This is called *escaping* the character, and will force it to be read as regular text. Either works, but you might find escaping preferable if you're dealing with large strings that could contain both kinds of quotation marks."
   ]
  },
  {
   "cell_type": "code",
   "execution_count": null,
   "id": "edb1ba35",
   "metadata": {},
   "outputs": [],
   "source": [
    "size(500, 500)\n",
    "background('#004477')\n",
    "\n",
    "hello = 'hello world'\n",
    "print(hello)\n",
    "\n",
    "whatsup = \"what\\'s up!\"\n",
    "question = 'is your name really \"world\"?'\n",
    "print(whatsup)\n",
    "print(question)"
   ]
  },
  {
   "cell_type": "markdown",
   "id": "8f19fe6a",
   "metadata": {},
   "source": [
    "## concatenation and formatting of strings\n",
    "\n",
    "When we're dealing with numbers (whether whole - *integers* - or decimal - *floats*), you can just perform addition on them using the + operator. However, when you're dealing with strings, the + operate instead will *concatenate* the strings, or connect them together."
   ]
  },
  {
   "cell_type": "code",
   "execution_count": null,
   "id": "7837a6cb",
   "metadata": {},
   "outputs": [],
   "source": [
    "size(500, 500)\n",
    "background('#004477')\n",
    "\n",
    "hello = 'hello world'\n",
    "print(hello)\n",
    "\n",
    "whatsup = \"what\\'s up!\"\n",
    "question = 'is your name really \"world\"?'\n",
    "print(whatsup)\n",
    "print(question)\n",
    "\n",
    "all = hello + whatsup + question\n",
    "print(all)"
   ]
  },
  {
   "cell_type": "markdown",
   "id": "40fc83a6",
   "metadata": {},
   "source": [
    "You'll notice this code prints a bit of a mess:\n",
    "\n",
    "`hello worldwhat's up!is your name really \"world\"?`\n",
    "\n",
    "Concatenating just joins your strings together exactly as-is, with nothing separating them. When you're concatenating strings, you'll often want to add in spaces, punctuation or other separators yourself."
   ]
  },
  {
   "cell_type": "code",
   "execution_count": null,
   "id": "5b90fddc",
   "metadata": {},
   "outputs": [],
   "source": [
    "size(500, 500)\n",
    "background('#004477')\n",
    "\n",
    "hello = 'hello world'\n",
    "print(hello)\n",
    "\n",
    "whatsup = \"what\\'s up!\"\n",
    "question = 'is your name really \"world\"?'\n",
    "print(whatsup)\n",
    "print(question)\n",
    "\n",
    "all = hello + '. ' + whatsup + ' ' + question\n",
    "print(all)"
   ]
  },
  {
   "cell_type": "markdown",
   "id": "0f1460c0",
   "metadata": {},
   "source": [
    "This displays a much nicer looking string of text.\n",
    "\n",
    "`hello world. what's up! is your name really \"world\"?`\n",
    "\n",
    "There's an alternative in Python (and thus py5) called *string formatting*. Using the % sign as a placeholder, you can format some text any way you like and then tell py5 which strings to use for those placeholders. For the same result as our concatenation above:\n",
    "\n",
    "```\n",
    "all = ('%s. %s %s') % (hello, whatsup, question)\n",
    "```\n",
    "\n",
    "This has its advantages, but it's a bit harder to read and understand as a beginner, so we'll be using concatenation for now. Before we move on, we'll go over a few different ways to work with text that may come in useful. \n",
    "\n",
    "### length\n",
    "\n",
    "\"Length\" (*len* for short) will just give you the total number of characters in any string.\n",
    "\n",
    "```\n",
    "print( len(all) )  # displays total number of characters (52)\n",
    "```\n",
    "\n",
    "### slice notation\n",
    "\n",
    "Slice notation (using square brackets) in Python lets you fetch the 1st, or 5th, or 37th (etc, etc) character from any string. We refer to the number of the character you're trying to get as the *index*, and we start counting at 0 instead of at 1. \n",
    "\n",
    "```\n",
    "print( all[0] )    # displays the first character (h)\n",
    "print( all[1] )    # displays character at index 1 (e)\n",
    "print( all[4] )    # displays character at index 4 (o)\n",
    "```\n",
    "\n",
    "You can also use a colon (`:`) in your slice notation to get sections, or ranges, of characters in a string. To get everything up to, but not including, the character at this index:\n",
    "\n",
    "```\n",
    "print( all[:4] )   # displays: hell\n",
    "```\n",
    "\n",
    "A number on each side of the colon can get only the characters between those two index numbers:\n",
    "\n",
    "```\n",
    "print( all[1:4] )  # displays: ell\n",
    "```\n",
    "\n",
    "You can also get everything from a given index to the end of the string:\n",
    "\n",
    "```\n",
    "print( all[4:] )   # displays: o world... (and so on)\n",
    "```\n",
    "\n",
    "And you can even use negative numbers for an interesting wrapping-around behavior! \n",
    "\n",
    "```\n",
    "# [:-x] returns everything from index 0 up to \n",
    "# but not including the fourth last character\n",
    "print( all[:-4] )  # ...our name really \"wor\n",
    "\n",
    "# [-x:] returns everything from the fourth last character\n",
    "# to the end of the string\n",
    "\n",
    "print( all[-4:] )  # ld\"?\n",
    "\n",
    "# [x:-y] returns everything from index 4\n",
    "# up to but not including the fourth last character\n",
    "print( all[4:-4] ) # o world. ...eally \"wor\n",
    "````\n",
    "\n",
    "## string methods \n",
    "\n",
    "In addition to functions, which take our variables as an argument, Python and py5 have *methods*, which are appended to the end of our variables. For now, it's enough to know the difference between them and how you write them. Using our length function has the format of `len(all)`, while a method might look more like `all.upper()` (which we'll explain in a moment). Trying to use a function as a method (`all.len()`) or a method as a function (`upper(len)`) will give you an error, so it's important not to mix them up. Let's go over a few methods that you can add to your code. \n",
    "\n",
    "`.upper()` will give you a version of the string with all lowercase characters converted to uppercase.\n",
    "\n",
    "```\n",
    "print( all.upper() )         # HELLO WORLD... (and so on)\n",
    "```\n",
    "\n",
    "`.title()` will give you a version of the string in title case, where the first letter of each word is capitalized.\n",
    "\n",
    "```\n",
    "print( all.title() )         # Hello World...\n",
    "```\n",
    "\n",
    "`.count()` will give you the number of times the character (or sequence of characters) appears in a string.\n",
    "\n",
    "```\n",
    "print( all.count('o') )      # 4\n",
    "print( all.count('or') )     # 2\n",
    "```\n",
    "\n",
    "`.find()` will return the index at which you can first find a given string. If it can't find this substring (string within a string) at all, it will instead return -1. \n",
    "\n",
    "```\n",
    "print( all.find('world') )   # 6\n",
    "print( all.find('lemon') )   # -1\n",
    "```\n",
    "\n",
    "If something appears multiple times, it might be helpful to start `.find()` at a certain point - you can add a second optional argument that is the index to begin finding from, and even a third argument, the index where `.find()` should stop.\n",
    "\n",
    "```\n",
    "print( all.find('world',7) ) # 45\n",
    "```\n",
    "\n",
    "## String task\n",
    "\n",
    "Using just the *all* variable we've created, how can you print the following to the console?\n",
    "\n",
    "**Hello. What is your name?**\n",
    "\n",
    "To start you off, here's how you might print **Hello** - \n",
    "\n",
    "```\n",
    "print( all[0:5].title() )\n",
    "```\n",
    "\n",
    "You'll have to combine a few different methods and concatenate them to get the output you're looking for. \n",
    "\n",
    "## typography \n",
    "\n",
    "We've just learned how to wrangle text within py5. The next step is actually displaying it in our sketches. \n",
    "\n",
    "Typography is just arranging and styling text (or type) to make it legible, readable, and ideally even enjoyable to look at. You're probably exposed to a lot of bad typography, with letters that are spaced strangely, hard-to-read or ugly fonts, and huge paragraphs that your eye gets lost in. Good typography is often invisible, but it's worth understanding. \n",
    "\n",
    "## fonts \n",
    "\n",
    "Fonts on computers used to be made of pixels, so for every size of font there was a different set of letter glyphs. Now we use vector graphics for digital fonts, which can be scaled to any size. py5 actually comes with a default sans-serif font, which is used if you don't load any external fonts into your sketch. If you don't know, a *serif* font will have small decorative lines on the tips of characters; a *sans-serif* font has none. \n",
    "\n",
    "You'll also run into fonts that are described as monospace or monospaced. These can be serif or sans-serif, but each letter will take up exactly the same amount of space horizontally. This can be much more legible in code, where a line of 25 characters will always have the same visual spacing and length as a line of 25 different characters. This is especially useful if you're trying to line text up into columns. \n",
    "\n",
    "Let's create a variable storing a string in a new sketch, using Hanlon's Razor."
   ]
  },
  {
   "cell_type": "code",
   "execution_count": null,
   "id": "75f4e92d",
   "metadata": {},
   "outputs": [],
   "source": [
    "size(500, 500)\n",
    "background('#004477')\n",
    "fill('#FFFFFF')\n",
    "stroke('#0099FF')\n",
    "stroke_weight(3)\n",
    "\n",
    "razor = 'Never attribute to malice that which is adequately explained by stupidity.'"
   ]
  },
  {
   "cell_type": "markdown",
   "id": "2541b853",
   "metadata": {},
   "source": [
    "You can't see it yet, but py5 knows about it now. Let's go over some functions that you can use to actually display this text visually. \n",
    "\n",
    "## text(string, x, y)\n",
    "\n",
    "`text()` draws text in the sketch window, coloring it with your current `fill()` color. The second and third arguments position it."
   ]
  },
  {
   "cell_type": "code",
   "execution_count": null,
   "id": "387fd457",
   "metadata": {},
   "outputs": [],
   "source": [
    "size(500, 500)\n",
    "background('#004477')\n",
    "fill('#FFFFFF')\n",
    "stroke('#0099FF')\n",
    "stroke_weight(3)\n",
    "\n",
    "razor = 'Never attribute to malice that which is adequately explained by stupidity.'\n",
    "text(razor, 0,50)"
   ]
  },
  {
   "cell_type": "markdown",
   "id": "dce24333",
   "metadata": {},
   "source": [
    "<img src=\"images/text/razor.png\">\n",
    "\n",
    "You can also add a fourth and fifth argument to define its width and height."
   ]
  },
  {
   "cell_type": "code",
   "execution_count": null,
   "id": "34c2d056",
   "metadata": {},
   "outputs": [],
   "source": [
    "size(500, 500)\n",
    "background('#004477')\n",
    "fill('#FFFFFF')\n",
    "stroke('#0099FF')\n",
    "stroke_weight(3)\n",
    "\n",
    "razor = 'Never attribute to malice that which is adequately explained by stupidity.'\n",
    "text(razor, 0,50, 100, 1000)"
   ]
  },
  {
   "cell_type": "markdown",
   "id": "a27f627a",
   "metadata": {},
   "source": [
    "```\n",
    "text(razor, 0,50, 100, 1000)\n",
    "```\n",
    "\n",
    "<img src=\"images/text/razor2.png\">\n",
    "\n",
    "## text_size(size)\n",
    "\n",
    "`text_size()` sets a size, in pixels, for all subsequent text."
   ]
  },
  {
   "cell_type": "code",
   "execution_count": 3,
   "id": "eb4d7457",
   "metadata": {},
   "outputs": [
    {
     "data": {
      "image/png": "[encoded data removed]",
      "text/plain": [
       "<PIL.Image.Image image mode=RGB size=500x500>"
      ]
     },
     "execution_count": 3,
     "metadata": {},
     "output_type": "execute_result"
    }
   ],
   "source": [
    "size(500, 500)\n",
    "background('#004477')\n",
    "fill('#FFFFFF')\n",
    "stroke('#0099FF')\n",
    "stroke_weight(3)\n",
    "\n",
    "razor = 'Never attribute to malice that which is adequately explained by stupidity.'\n",
    "text(razor, 0,50)\n",
    "text_size(20)\n",
    "text(razor, 0,100)"
   ]
  },
  {
   "cell_type": "markdown",
   "id": "04e31cd5",
   "metadata": {},
   "source": [
    "```\n",
    "text_size(20)\n",
    "text(razor, 0,100)\n",
    "```\n",
    "\n",
    "<img src=\"images/text/razor3.png\">\n",
    "\n",
    "## create_font(font name, size)\n",
    "\n",
    "`create_font()` can be used to load a font on your computer into a format usable by py5. To get a list of fonts you could use, you can use `Py5Font.list()`. Remember that a font on *your* computer may not exist on someone else's computer, so it's best to include the font file with your sketch. Notice that we save this created font to a variable, exactly as we would load an image into py5.  \n",
    "\n",
    "```\n",
    "print ( Py5Font.list() ) # show a list of available fonts\n",
    "baskerville = create_font('Baskerville Old Face', 20)\n",
    "```\n",
    "\n",
    "## text_font(font)\n",
    "\n",
    "Now that we have a font loaded in, we can use `text_font()` to use it for all subsequent text. Combining everything together..."
   ]
  },
  {
   "cell_type": "code",
   "execution_count": 4,
   "id": "5f7d855f",
   "metadata": {},
   "outputs": [
    {
     "data": {
      "image/png": "[encoded data removed]",
      "text/plain": [
       "<PIL.Image.Image image mode=RGB size=500x500>"
      ]
     },
     "execution_count": 4,
     "metadata": {},
     "output_type": "execute_result"
    }
   ],
   "source": [
    "size(500, 500)\n",
    "background('#004477')\n",
    "fill('#FFFFFF')\n",
    "stroke('#0099FF')\n",
    "stroke_weight(3)\n",
    "\n",
    "razor = 'Never attribute to malice that which is adequately explained by stupidity.'\n",
    "text(razor, 0,50)\n",
    "text_size(20)\n",
    "text(razor, 0,100)\n",
    "baskerville = create_font('Baskerville Old Face', 20)\n",
    "text_font(baskerville)\n",
    "text(razor, 0,150)"
   ]
  },
  {
   "cell_type": "markdown",
   "id": "2de7ffc6",
   "metadata": {},
   "source": [
    "<img src=\"images/text/razor4.png\">\n",
    "\n",
    "## text_leading(spacing)\n",
    "\n",
    "`text_leading` sets the spacing (in pixels) between lines of subsequent `text()` function."
   ]
  },
  {
   "cell_type": "code",
   "execution_count": null,
   "id": "39d4660a",
   "metadata": {},
   "outputs": [],
   "source": [
    "size(500, 500)\n",
    "background('#004477')\n",
    "fill('#FFFFFF')\n",
    "stroke('#0099FF')\n",
    "stroke_weight(3)\n",
    "\n",
    "razor = 'Never attribute to malice that which is adequately explained by stupidity.'\n",
    "text(razor, 0,50)\n",
    "text_size(20)\n",
    "text(razor, 0,100)\n",
    "baskerville = create_font('Baskerville Old Face', 20)\n",
    "text_font(baskerville)\n",
    "text(razor, 0,150)\n",
    "text_leading(10)\n",
    "text(razor, 0,200, 250,100)"
   ]
  },
  {
   "cell_type": "markdown",
   "id": "96c12674",
   "metadata": {},
   "source": [
    "<img src=\"images/text/razor5.png\">\n",
    "\n",
    "## text_align(alignment)\n",
    "\n",
    "`text_align()` sets the text alignment for an subsequent text - you can use LEFT, CENTER or RIGHT."
   ]
  },
  {
   "cell_type": "code",
   "execution_count": null,
   "id": "1ce3abf4",
   "metadata": {},
   "outputs": [],
   "source": [
    "size(500, 500)\n",
    "background('#004477')\n",
    "fill('#FFFFFF')\n",
    "stroke('#0099FF')\n",
    "stroke_weight(3)\n",
    "\n",
    "razor = 'Never attribute to malice that which is adequately explained by stupidity.'\n",
    "text(razor, 0,50)\n",
    "text_size(20)\n",
    "text(razor, 0,100)\n",
    "baskerville = create_font('Baskerville Old Face', 20)\n",
    "text_font(baskerville)\n",
    "text(razor, 0,150)\n",
    "text_leading(10)\n",
    "text(razor, 0,200, 250,100)\n",
    "text_align(CENTER)\n",
    "text(razor, 0,250, 250,100)"
   ]
  },
  {
   "cell_type": "markdown",
   "id": "a1dd0d98",
   "metadata": {},
   "source": [
    "```\n",
    "text_align(CENTER)\n",
    "text(razor, 0,250, 250,100)\n",
    "```\n",
    "\n",
    "<img src=\"images/text/razor6.png\">\n",
    "\n",
    "### text_width(string)\n",
    "\n",
    "Finally, `text_width()` calculates and gives you the width of any string of text. You can use this to easily draw something that fits with any length of text!"
   ]
  },
  {
   "cell_type": "code",
   "execution_count": null,
   "id": "4d0a07b0",
   "metadata": {},
   "outputs": [],
   "source": [
    "size(500, 500)\n",
    "background('#004477')\n",
    "fill('#FFFFFF')\n",
    "stroke('#0099FF')\n",
    "stroke_weight(3)\n",
    "\n",
    "razor = 'Never attribute to malice that which is adequately explained by stupidity.'\n",
    "text(razor, 0,50)\n",
    "text_size(20)\n",
    "text(razor, 0,100)\n",
    "baskerville = create_font('Baskerville Old Face', 20)\n",
    "text_font(baskerville)\n",
    "text(razor, 0,150)\n",
    "text_leading(10)\n",
    "text(razor, 0,200, 250,100)\n",
    "text_align(CENTER)\n",
    "text(razor, 0,250, 250,100)\n",
    "\n",
    "text_align(LEFT)\n",
    "hanlons = \"- Hanlon's razor\"\n",
    "text(hanlons, 250, 350)\n",
    "\n",
    "# A line on either side of our text!\n",
    "line( 250, 325, 250, 375)\n",
    "line( 250 + text_width(hanlons), 325, 250 + text_width(hanlons), 375)"
   ]
  },
  {
   "cell_type": "markdown",
   "id": "db71fcbc",
   "metadata": {},
   "source": [
    "<img src=\"images/text/razor7.png\">"
   ]
  }
 ],
 "metadata": {
  "jupytext": {
   "formats": "ipynb,md:myst"
  },
  "kernelspec": {
   "display_name": "py5bot",
   "language": "python",
   "name": "py5bot"
  },
  "language_info": {
   "codemirror_mode": {
    "name": "ipython",
    "version": 3
   },
   "file_extension": ".py",
   "mimetype": "text/x-python",
   "name": "python",
   "nbconvert_exporter": "python",
   "pygments_lexer": "ipython3",
   "version": "3.10.5"
  }
 },
 "nbformat": 4,
 "nbformat_minor": 5
}
