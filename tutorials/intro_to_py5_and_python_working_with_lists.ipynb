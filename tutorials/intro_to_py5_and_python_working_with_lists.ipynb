{
 "cells": [
  {
   "cell_type": "markdown",
   "id": "8ed063bd",
   "metadata": {},
   "source": [
    "# lists\n",
    "\n",
    "Unlike most other data types, *lists* can store multiple values at the same time. Normally, if you wanted to store linked pieces of data, you might use a few different variables to do it. For example, if you were storing the name and age of a student to be used later in your program, you could have a *string* variable for their name, and an *integer* for their age.\n",
    "\n",
    "```\n",
    "student = 'Sam'\n",
    "age = 24\n",
    "```\n",
    "\n",
    "With a list, however, you can store both of these data types in the same variable. \n",
    "\n",
    "```\n",
    "student = ['Sam', 24]\n",
    "```\n",
    "\n",
    "These square brackets, representing the start and end of the list, contain both our string of text and our integer values. You may have never worked with a list before, but you can probably get some idea of the syntax just by looking at it. A key thing to know about lists is that they are *ordered*, and this order stays the same. If you wanted to store all of your students in a single list, you might just know that the order will always be a student name followed by their age, and these values won't ever float between students or become mixed up. \n",
    "\n",
    "```\n",
    "students = [ 'Sam', 24, \n",
    "            'Kim', 23, \n",
    "            'Tia', 25, \n",
    "            'Val', 21\n",
    "          ]\n",
    "```\n",
    "\n",
    "In addition, many lists will have contents where the ordering of the list is important in itself, like ordering colors in a sequence that you then hope to use.\n",
    "\n",
    "```\n",
    "rainbow = [\n",
    "  'red',\n",
    "  'orange',\n",
    "  'yellow',\n",
    "  'green',\n",
    "  'blue',\n",
    "  'indigo',\n",
    "  'violet'\n",
    "]\n",
    "```\n",
    "\n",
    "So that we can get comfortable with working with lists, let's jump right into using them in py5. We'll be using the `setup()` (and later, `draw()`) function here, not static mode, but what we're doing will work either way."
   ]
  },
  {
   "cell_type": "code",
   "execution_count": 3,
   "id": "cc5500e1",
   "metadata": {},
   "outputs": [
    {
     "name": "stdout",
     "output_type": "stream",
     "text": [
      "['blue', 'orange', 'yellow']\n"
     ]
    }
   ],
   "source": [
    "def setup():\n",
    "    rainbow = ['blue', 'orange', 'yellow']\n",
    "    print(rainbow)\n",
    "    \n",
    "run_sketch()"
   ]
  },
  {
   "cell_type": "markdown",
   "id": "341a10b0",
   "metadata": {},
   "source": [
    "Run this code, and you'll notice that the entire list - all three values, plus the brackets - is printed to the console. More often, you'll be wanting to retrieve and work with individual elements of the lists, not the entire thing. To do this, we'll be using a particular syntax to refer to just one element at a particular *index* (numbered position) in the list. This will look familiar if you've read the tutorial on working with text in py5 - it's very similar to the slice notation you can use to get specific letters out of a string of text! Computers begin counting at zero, so we can ask for the item at index zero to get the first item in the list."
   ]
  },
  {
   "cell_type": "code",
   "execution_count": 4,
   "id": "6ec9f838",
   "metadata": {},
   "outputs": [
    {
     "name": "stdout",
     "output_type": "stream",
     "text": [
      "blue\n"
     ]
    }
   ],
   "source": [
    "def setup():\n",
    "    rainbow = ['blue', 'orange', 'yellow']\n",
    "    print(rainbow[0])\n",
    "    \n",
    "run_sketch()"
   ]
  },
  {
   "cell_type": "markdown",
   "id": "ede8a038",
   "metadata": {},
   "source": [
    "Using this numbering system, you can think of the index number as how far away each item is from the beginning of the list. Our three item list actually has items at index numbers 0, 1 and 2. And, just like with slice notation on strings of text, you can use negative numbers to start from the end of the list, or separate values with a colon (`:`) to extract ranges of values!"
   ]
  },
  {
   "cell_type": "code",
   "execution_count": 5,
   "id": "7eb5d050",
   "metadata": {},
   "outputs": [
    {
     "name": "stdout",
     "output_type": "stream",
     "text": [
      "yellow\n",
      "orange\n",
      "['blue', 'orange']\n"
     ]
    }
   ],
   "source": [
    "def setup():\n",
    "    rainbow = ['blue', 'orange', 'yellow']\n",
    "    print(rainbow[-1])  # displays yellow\n",
    "    print(rainbow[-2])  # displays orange\n",
    "    print(rainbow[0:2]) # displays ['blue', 'orange']\n",
    "    \n",
    "run_sketch()"
   ]
  },
  {
   "cell_type": "markdown",
   "id": "ab2f3a8f",
   "metadata": {},
   "source": [
    "If you try to specify an index outside of the bounds of this list, like `rainbow[3]`, you'll get an error. Just like with strings of text, you can use the length function, `len()`, to determine the length of a list - and since we're counting from 0, you can know that whatever `len()` returns is one higher than the maximum index of your list."
   ]
  },
  {
   "cell_type": "code",
   "execution_count": 7,
   "id": "3f4cee0e",
   "metadata": {},
   "outputs": [
    {
     "name": "stdout",
     "output_type": "stream",
     "text": [
      "3\n"
     ]
    }
   ],
   "source": [
    "def setup():\n",
    "    rainbow = ['blue', 'orange', 'yellow']\n",
    "    print( len(rainbow) ) # displays 3\n",
    "    \n",
    "run_sketch()"
   ]
  },
  {
   "cell_type": "markdown",
   "id": "20c87f06",
   "metadata": {},
   "source": [
    "## modifying lists\n",
    "\n",
    "So far, we've only created lists inside of `setup()`, but many lists are *dynamic*, changing while your program runs. Simply replacing one element of a list is quite easy - you can assign new values to an index number, exactly like you might access it. As an example, you can set `rainbow[0]` to \"red\" to replace the current value in that spot, \"blue\"."
   ]
  },
  {
   "cell_type": "code",
   "execution_count": 8,
   "id": "e1b73f0b",
   "metadata": {},
   "outputs": [
    {
     "name": "stdout",
     "output_type": "stream",
     "text": [
      "['red', 'orange', 'yellow']\n"
     ]
    }
   ],
   "source": [
    "def setup():\n",
    "    rainbow = ['blue', 'orange', 'yellow']\n",
    "    rainbow[0] = 'red'\n",
    "    print(rainbow) # ['red', 'orange', 'yellow']\n",
    "    \n",
    "run_sketch()"
   ]
  },
  {
   "cell_type": "markdown",
   "id": "012e0609",
   "metadata": {},
   "source": [
    "Directly assigning single values like this is not the only way to modify lists, however. If your list holds a player inventory in a game, or any number of other details that must change after things start up, you'll want to get familiar with the various *list methods*. Generally, these are not specific to py5, but work with all sorts of Python environments. We'll quickly run through a few of these methods.\n",
    "\n",
    "*.append()* adds an element to the end of a list."
   ]
  },
  {
   "cell_type": "code",
   "execution_count": 9,
   "id": "0bafb37f",
   "metadata": {},
   "outputs": [
    {
     "name": "stdout",
     "output_type": "stream",
     "text": [
      "['blue', 'orange', 'yellow', 'blue']\n"
     ]
    }
   ],
   "source": [
    "def setup():\n",
    "    rainbow = ['blue', 'orange', 'yellow']\n",
    "    rainbow[0] = 'red'\n",
    "    rainbow.append('blue')\n",
    "    print(rainbow) # ['red', 'orange', 'yellow', 'blue']\n",
    "    \n",
    "run_sketch()"
   ]
  },
  {
   "cell_type": "markdown",
   "id": "74b402a0",
   "metadata": {},
   "source": [
    "*.extend()* can be used to add one list to the end of another list!"
   ]
  },
  {
   "cell_type": "code",
   "execution_count": 10,
   "id": "c80b98d2",
   "metadata": {},
   "outputs": [
    {
     "name": "stdout",
     "output_type": "stream",
     "text": [
      "['red', 'orange', 'yellow', 'blue', 'indigo', 'violet']\n"
     ]
    }
   ],
   "source": [
    "def setup():\n",
    "    rainbow = ['blue', 'orange', 'yellow']\n",
    "    rainbow[0] = 'red'\n",
    "    rainbow.append('blue')\n",
    "    extra_colors = ['indigo', 'violet']\n",
    "    rainbow.extend(extra_colors)\n",
    "    print(rainbow) # ['red', 'orange', 'yellow', 'blue', 'indigo', 'violet']\n",
    "    \n",
    "run_sketch()"
   ]
  },
  {
   "cell_type": "markdown",
   "id": "a70b8fb2",
   "metadata": {},
   "source": [
    "*.index()* finds the index position of the first element in the list that matches whatever you put in, or returns an error if it can't find anything."
   ]
  },
  {
   "cell_type": "code",
   "execution_count": 11,
   "id": "d53ded69",
   "metadata": {},
   "outputs": [
    {
     "name": "stdout",
     "output_type": "stream",
     "text": [
      "['red', 'orange', 'yellow', 'blue', 'indigo', 'violet']\n",
      "2\n"
     ]
    }
   ],
   "source": [
    "def setup():\n",
    "    rainbow = ['blue', 'orange', 'yellow']\n",
    "    rainbow[0] = 'red'\n",
    "    rainbow.append('blue')\n",
    "    extra_colors = ['indigo', 'violet']\n",
    "    rainbow.extend(extra_colors)\n",
    "    print(rainbow) # ['red', 'orange', 'yellow', 'blue', 'indigo', 'violet']\n",
    "    yellowindex = rainbow.index('yellow')\n",
    "    print(yellowindex)  # 2\n",
    "    \n",
    "run_sketch()"
   ]
  },
  {
   "cell_type": "markdown",
   "id": "6a548ddd",
   "metadata": {},
   "source": [
    "*.insert()* takes two arguments: a position in the list at which to insert something, and a value to insert."
   ]
  },
  {
   "cell_type": "code",
   "execution_count": 12,
   "id": "94b9c808",
   "metadata": {},
   "outputs": [
    {
     "name": "stdout",
     "output_type": "stream",
     "text": [
      "['red', 'orange', 'yellow', 'green', 'blue', 'indigo', 'violet']\n"
     ]
    }
   ],
   "source": [
    "def setup():\n",
    "    rainbow = ['blue', 'orange', 'yellow']\n",
    "    rainbow[0] = 'red'\n",
    "    rainbow.append('blue')\n",
    "    extra_colors = ['indigo', 'violet']\n",
    "    rainbow.extend(extra_colors)\n",
    "    rainbow.insert(3, 'green')\n",
    "    print(rainbow) # ['red', 'orange', 'yellow', 'green', 'blue', 'indigo', 'violet']\n",
    "    \n",
    "run_sketch()"
   ]
  },
  {
   "cell_type": "markdown",
   "id": "025c9fd8",
   "metadata": {},
   "source": [
    "*.pop()* removes the value from the list at the specified index. There are two ways to use it: you can use `.pop()` by itself to simply remove something from a list, or assign a variable to the results of a `.pop()` method."
   ]
  },
  {
   "cell_type": "code",
   "execution_count": 17,
   "id": "b0be1a0a",
   "metadata": {},
   "outputs": [
    {
     "name": "stdout",
     "output_type": "stream",
     "text": [
      "['red', 'orange', 'yellow', 'green', 'blue', 'indigo', 'violet']\n",
      "indigo\n",
      "['red', 'orange', 'yellow', 'green', 'blue']\n"
     ]
    }
   ],
   "source": [
    "def setup():\n",
    "    rainbow = ['blue', 'orange', 'yellow']\n",
    "    rainbow[0] = 'red'\n",
    "    rainbow.append('blue')\n",
    "    extra_colors = ['indigo', 'violet']\n",
    "    rainbow.extend(extra_colors)\n",
    "    rainbow.insert(3, 'green')\n",
    "    print(rainbow)      # ['red', 'orange', 'yellow', 'green', 'blue', 'indigo', 'violet']\n",
    "    i = rainbow.pop(5)  # removes indigo and assigns it to i\n",
    "    rainbow.pop(5)      # just removes violet, and gets rid of it\n",
    "    print(i)            # indigo\n",
    "    print(rainbow)      # ['red', 'orange', 'yellow', 'green', 'blue']\n",
    "    \n",
    "run_sketch()"
   ]
  },
  {
   "cell_type": "markdown",
   "id": "cf9d489f",
   "metadata": {},
   "source": [
    "*.remove()* removes the first item in the list that matches the value you give it. You'd want to use this over `.pop()` if you know the value, but not necessarily the index at which it's located."
   ]
  },
  {
   "cell_type": "code",
   "execution_count": 18,
   "id": "7d7a551d",
   "metadata": {},
   "outputs": [
    {
     "name": "stdout",
     "output_type": "stream",
     "text": [
      "['red', 'orange', 'yellow', 'green', 'blue', 'indigo', 'violet']\n",
      "indigo\n",
      "['red', 'orange', 'yellow', 'green', 'blue']\n",
      "['red', 'orange', 'yellow', 'blue']\n"
     ]
    }
   ],
   "source": [
    "def setup():\n",
    "    rainbow = ['blue', 'orange', 'yellow']\n",
    "    rainbow[0] = 'red'\n",
    "    rainbow.append('blue')\n",
    "    extra_colors = ['indigo', 'violet']\n",
    "    rainbow.extend(extra_colors)\n",
    "    rainbow.insert(3, 'green')\n",
    "    print(rainbow)      # ['red', 'orange', 'yellow', 'green', 'blue', 'indigo', 'violet']\n",
    "    i = rainbow.pop(5)  # removes indigo and assigns it to i\n",
    "    rainbow.pop(5)      # just removes violet, and gets rid of it\n",
    "    print(i)            # indigo\n",
    "    print(rainbow)      # ['red', 'orange', 'yellow', 'green', 'blue']\n",
    "    rainbow.remove('green')\n",
    "    print(rainbow)      # ['red', 'orange', 'yellow', 'blue']\n",
    "    \n",
    "run_sketch()"
   ]
  },
  {
   "cell_type": "markdown",
   "id": "ce093cd7",
   "metadata": {},
   "source": [
    "*.reverse()* does just what it says on the tin, and reverses the order of a list's values."
   ]
  },
  {
   "cell_type": "code",
   "execution_count": 2,
   "id": "9b3237d8",
   "metadata": {},
   "outputs": [
    {
     "name": "stdout",
     "output_type": "stream",
     "text": [
      "['violet', 'indigo', 'blue', 'green', 'yellow', 'orange', 'red']\n"
     ]
    }
   ],
   "source": [
    "def setup():\n",
    "    rainbow = ['blue', 'orange', 'yellow']\n",
    "    rainbow[0] = 'red'\n",
    "    rainbow.append('blue')\n",
    "    extra_colors = ['indigo', 'violet']\n",
    "    rainbow.extend(extra_colors)\n",
    "    rainbow.insert(3, 'green')\n",
    "    rainbow.reverse()   # reverse the order of the rainbow\n",
    "    print(rainbow)      # ['violet', 'indigo', 'blue', 'green', 'yellow', 'orange', 'red']\n",
    "    \n",
    "run_sketch()"
   ]
  },
  {
   "cell_type": "markdown",
   "id": "8143cbed",
   "metadata": {},
   "source": [
    "There are other *list functions* in Python, which can also be used in py5, but those mentioned above will provide a useful introduction and are more than enough for now. In fact, they're all you'll need for this upcoming task. \n",
    "\n",
    "## rainbow sequence task\n",
    "\n",
    "We'll be applying what we've learned so far about manipulating lists to shuffle a rainbow into the correct order. What is the correct order? You may have heard the acronym ROYGBIV - red, orange, yellow, green, blue, indigo, violet. *Indigo* is not well defined (somewhere between blue and violet), and modern color scientists tend to divide the spectrum of light only at blue and violet, without mentioning indigo - so, for the sake of brevity, we'll omit it from our rainbow. \n",
    "\n",
    "Let's start by setting up a basic sketch defining a list of rainbow bands, bringing that list into our `setup()` function (by referencing it as a *global* variable), and then drawing a colored rectangle with each band.\n",
    "\n",
    "We'll be using semicolons again where we *could* use a new line, in order to make sure each `rect()` and each `fill()` is very easy to link to each other."
   ]
  },
  {
   "cell_type": "code",
   "execution_count": 5,
   "id": "42f5de1e",
   "metadata": {},
   "outputs": [],
   "source": [
    "bands = [\n",
    "  '#FF9900', # orange\n",
    "  '#6633FF', # violet\n",
    "  '#0099FF', # blue\n",
    "  '#FF0000', # red\n",
    "  '#FFFF00', # yellow\n",
    "  '#00FF00', # green\n",
    "]\n",
    "\n",
    "def setup():\n",
    "    global bands\n",
    "    size(500,500)\n",
    "    no_stroke()\n",
    "    background('#000000')\n",
    "    \n",
    "    # Drawing our rainbow bands...\n",
    "    fill(bands[0]); rect(0,100, width,50)\n",
    "    fill(bands[1]); rect(0,150, width,50)\n",
    "    fill(bands[2]); rect(0,200, width,50)\n",
    "    fill(bands[3]); rect(0,250, width,50)\n",
    "    fill(bands[4]); rect(0,300, width,50)\n",
    "    fill(bands[5]); rect(0,350, width,50)\n",
    "    \n",
    "run_sketch()"
   ]
  },
  {
   "cell_type": "markdown",
   "id": "d13edfee",
   "metadata": {},
   "source": [
    "<img src=\"images/working_with_lists/bands_incorrect.png\">\n",
    "\n",
    "As you can see, this rainbow is out of order. You can fix it by moving *blue* and *violet* to the end of the list, and swapping the places of *red* and *orange*. Of course, there are many ways to do this with the tools you've been given, so we'll be discussing just one possible sequence of methods you could use.\n",
    "\n",
    "First, let's move *violet* to the end of the sequence. How would you do this using `.append()` and `.remove()`? If you can find the index where violet is placed, and write it into a variable, it's pretty easy."
   ]
  },
  {
   "cell_type": "code",
   "execution_count": 6,
   "id": "ed3ee742",
   "metadata": {},
   "outputs": [],
   "source": [
    "bands = [\n",
    "  '#FF9900', # orange\n",
    "  '#6633FF', # violet\n",
    "  '#0099FF', # blue\n",
    "  '#FF0000', # red\n",
    "  '#FFFF00', # yellow\n",
    "  '#00FF00', # green\n",
    "]\n",
    "\n",
    "def setup():\n",
    "    global bands\n",
    "    size(500,500)\n",
    "    no_stroke()\n",
    "    background('#000000')\n",
    "    \n",
    "    # Moving Violet to the end of the sequence...\n",
    "    violet = bands[?] # Place the correct index here!\n",
    "    bands.append(violet)\n",
    "    bands.remove(violet)\n",
    "    \n",
    "    # Drawing our rainbow bands...\n",
    "    fill(bands[0]); rect(0,100, width,50)\n",
    "    fill(bands[1]); rect(0,150, width,50)\n",
    "    fill(bands[2]); rect(0,200, width,50)\n",
    "    fill(bands[3]); rect(0,250, width,50)\n",
    "    fill(bands[4]); rect(0,300, width,50)\n",
    "    fill(bands[5]); rect(0,350, width,50)\n",
    "    \n",
    "run_sketch()"
   ]
  },
  {
   "cell_type": "markdown",
   "id": "9af673b2",
   "metadata": {},
   "source": [
    "<img src=\"images/working_with_lists/bands_violet.png\">\n",
    "\n",
    "Next, we can move *blue* to the correct position, just before *violet*. How might you figure this out using the `.index()` method?"
   ]
  },
  {
   "cell_type": "code",
   "execution_count": 7,
   "id": "8410dc06",
   "metadata": {},
   "outputs": [],
   "source": [
    "bands = [\n",
    "  '#FF9900', # orange\n",
    "  '#6633FF', # violet\n",
    "  '#0099FF', # blue\n",
    "  '#FF0000', # red\n",
    "  '#FFFF00', # yellow\n",
    "  '#00FF00', # green\n",
    "]\n",
    "\n",
    "def setup():\n",
    "    global bands\n",
    "    size(500,500)\n",
    "    no_stroke()\n",
    "    background('#000000')\n",
    "    \n",
    "    # Moving Violet to the end of the sequence...\n",
    "    violet = bands[?] # Place the correct index here!\n",
    "    bands.append(violet)\n",
    "    bands.remove(violet)\n",
    "    \n",
    "    # Moving Blue to the second-to-last position...\n",
    "    blueindex = bands.index('?') # What should go here to find the index of our blue band?\n",
    "    bands.insert(4, bands.pop(blueindex))\n",
    "    \n",
    "    # Drawing our rainbow bands...\n",
    "    fill(bands[0]); rect(0,100, width,50)\n",
    "    fill(bands[1]); rect(0,150, width,50)\n",
    "    fill(bands[2]); rect(0,200, width,50)\n",
    "    fill(bands[3]); rect(0,250, width,50)\n",
    "    fill(bands[4]); rect(0,300, width,50)\n",
    "    fill(bands[5]); rect(0,350, width,50)\n",
    "    \n",
    "run_sketch()"
   ]
  },
  {
   "cell_type": "markdown",
   "id": "815386ed",
   "metadata": {},
   "source": [
    "<img src=\"images/working_with_lists/bands_blue.png\">\n",
    "\n",
    "Finally, we need to swap red and orange. You can do this all in one line if you're clever about how you use `.index()` - and if you use one other method!"
   ]
  },
  {
   "cell_type": "code",
   "execution_count": 10,
   "id": "37fe26f5",
   "metadata": {},
   "outputs": [],
   "source": [
    "bands = [\n",
    "  '#FF9900', # orange\n",
    "  '#6633FF', # violet\n",
    "  '#0099FF', # blue\n",
    "  '#FF0000', # red\n",
    "  '#FFFF00', # yellow\n",
    "  '#00FF00', # green\n",
    "]\n",
    "\n",
    "def setup():\n",
    "    global bands\n",
    "    size(500,500)\n",
    "    no_stroke()\n",
    "    background('#000000')\n",
    "    \n",
    "    # Moving Violet to the end of the sequence...\n",
    "    violet = bands[?] # Place the correct index here!\n",
    "    bands.append(violet)\n",
    "    bands.remove(violet)\n",
    "    \n",
    "    # Moving Blue to the second-to-last position...\n",
    "    blueindex = bands.index('?') # What should go here to find the index of our blue band?\n",
    "    bands.insert(4, bands.pop(blueindex))\n",
    "    \n",
    "    # Swapping Orange and Red around\n",
    "    bands.insert(bands.index('?'), bands.???(?)) \n",
    "    # What should we find with .index()? What other method might we need?\n",
    "    \n",
    "    # Drawing our rainbow bands...\n",
    "    fill(bands[0]); rect(0,100, width,50)\n",
    "    fill(bands[1]); rect(0,150, width,50)\n",
    "    fill(bands[2]); rect(0,200, width,50)\n",
    "    fill(bands[3]); rect(0,250, width,50)\n",
    "    fill(bands[4]); rect(0,300, width,50)\n",
    "    fill(bands[5]); rect(0,350, width,50)\n",
    "    \n",
    "run_sketch()"
   ]
  },
  {
   "cell_type": "markdown",
   "id": "04f21276",
   "metadata": {},
   "source": [
    "<img src=\"images/working_with_lists/bands.png\">\n",
    "\n",
    "Nice work. Let's keep this code to use for the next challenge.\n",
    "\n",
    "## loops and lists\n",
    "\n",
    "The way that lists are structured, and the fact that the data in them can essentially be \"swapped out\" at any time, makes them particularly well-suited to iterative tasks, like you might perform using loops. If you can create a loop that does something with a particular set of data, any similarly-structured list could be swapped out and perform the same way. \n",
    "\n",
    "If you remember using *loops*, you know we usually give them some sort of range, or a number of times the loop should run. To use the contents of a list in a loop, you could first determine the length of that list with `len()`. You can even use the output of the `len()` function as your range directly in a for loop."
   ]
  },
  {
   "cell_type": "code",
   "execution_count": 13,
   "id": "83b17746",
   "metadata": {},
   "outputs": [
    {
     "name": "stdout",
     "output_type": "stream",
     "text": [
      "6\n",
      "red\n",
      "orange\n",
      "yellow\n",
      "green\n",
      "blue\n",
      "violet\n"
     ]
    }
   ],
   "source": [
    "def setup():\n",
    "    rainbow = ['red', 'orange', 'yellow', 'green', 'blue', 'violet']\n",
    "    print( len(rainbow) ) # displays 6\n",
    "    \n",
    "    for i in range( len(rainbow) ): # using that length as our range!\n",
    "        print(rainbow[i]) # will display a color each time the loop runs\n",
    "    \n",
    "run_sketch()"
   ]
  },
  {
   "cell_type": "markdown",
   "id": "170fc95c",
   "metadata": {},
   "source": [
    "We've been using loops with a range each time, but it actually isn't necessary! You can use the list itself as the range, and it will be inherently understood. (Remember that the *band* here, which we called *i* a moment ago, can be named anything you like. Use a name that makes sense to you.)"
   ]
  },
  {
   "cell_type": "code",
   "execution_count": 14,
   "id": "691be636",
   "metadata": {},
   "outputs": [
    {
     "name": "stdout",
     "output_type": "stream",
     "text": [
      "red\n",
      "orange\n",
      "yellow\n",
      "green\n",
      "blue\n",
      "violet\n"
     ]
    }
   ],
   "source": [
    "def setup():\n",
    "    rainbow = ['red', 'orange', 'yellow', 'green', 'blue', 'violet']\n",
    "    \n",
    "    for band in rainbow:\n",
    "        print(band)\n",
    "    \n",
    "run_sketch()"
   ]
  },
  {
   "cell_type": "markdown",
   "id": "950b66b8",
   "metadata": {},
   "source": [
    "However, this approach means you lose the number of the band from the equation. So if you wanted to print each color with its place in the list, you'll have to use a different approach. One option is to bring back *i* and print it as well as the band that corresponds to it. This code..."
   ]
  },
  {
   "cell_type": "code",
   "execution_count": 15,
   "id": "467bbc5d",
   "metadata": {},
   "outputs": [
    {
     "name": "stdout",
     "output_type": "stream",
     "text": [
      "0, red\n",
      "1, orange\n",
      "2, yellow\n",
      "3, green\n",
      "4, blue\n",
      "5, violet\n"
     ]
    }
   ],
   "source": [
    "def setup():\n",
    "    rainbow = ['red', 'orange', 'yellow', 'green', 'blue', 'violet']\n",
    "    \n",
    "    for i in range( len(rainbow) ):\n",
    "        print( str(i) + \", \" + rainbow[i] )\n",
    "    \n",
    "run_sketch()"
   ]
  },
  {
   "cell_type": "markdown",
   "id": "417f8f38",
   "metadata": {},
   "source": [
    "...results in this output:\n",
    "    \n",
    "```\n",
    "0, red\n",
    "1, orange\n",
    "2, yellow\n",
    "3, green\n",
    "4, blue\n",
    "5, violet\n",
    "```\n",
    "\n",
    "You can also use the `enumerate()` function, which can give you both the index and value."
   ]
  },
  {
   "cell_type": "code",
   "execution_count": 16,
   "id": "b936f0df",
   "metadata": {},
   "outputs": [
    {
     "name": "stdout",
     "output_type": "stream",
     "text": [
      "0, red\n",
      "1, orange\n",
      "2, yellow\n",
      "3, green\n",
      "4, blue\n",
      "5, violet\n"
     ]
    }
   ],
   "source": [
    "def setup():\n",
    "    rainbow = ['red', 'orange', 'yellow', 'green', 'blue', 'violet']\n",
    "    \n",
    "    for i,band in enumerate(rainbow):\n",
    "        print( str(i) + \", \" + band )\n",
    "        \n",
    "run_sketch()"
   ]
  },
  {
   "cell_type": "markdown",
   "id": "5048aad7",
   "metadata": {},
   "source": [
    "None of these three approaches are inherently superior; as with many different coding exercises, which you use will depend on what it is you're trying to do. That brings us to another small challenge.\n",
    "\n",
    "## rainbow sequence task, revisited\n",
    "\n",
    "Remember the rainbow code we produced above? It's got this big, ugly chunk in it:\n",
    "\n",
    "```\n",
    "fill(bands[0]); rect(0,100, width,50)\n",
    "fill(bands[1]); rect(0,150, width,50)\n",
    "fill(bands[2]); rect(0,200, width,50)\n",
    "fill(bands[3]); rect(0,250, width,50)\n",
    "fill(bands[4]); rect(0,300, width,50)\n",
    "fill(bands[5]); rect(0,350, width,50)\n",
    "```\n",
    "\n",
    "Rewrite this to use a loop of some kind, instead. In addition to the syntax change, you'll want to replace those hard-coded values for the height of the band with something that increases over time. \n",
    "\n",
    "How you do this is up to you. If you're using *i*, you can always multiply it by some number of pixels, and add that to a starting value. If you're using an approach without *i*, you can have a variable for the height of the band, and simply add to it each time the loop runs. Either way, you'll have a much better understanding of how lists and loops interact with each other than you did when you began!\n",
    "\n",
    "## lists of lists\n",
    "\n",
    "What's better at organizing data than a list? A list of lists!\n",
    "\n",
    "If you return to our very first example, with student names and ages, you'll see that we have stored information for a few different students in a single list.\n",
    "\n",
    "```\n",
    "students = [ 'Sam', 24, \n",
    "            'Kim', 23, \n",
    "            'Tia', 25, \n",
    "            'Val', 21\n",
    "          ]\n",
    "```\n",
    "\n",
    "Getting information from this list is possible, but tedious. If you searched the list with the method `.index('Sam')`, you could simply know that to find Sam's age, you should also check whatever exists at `.index('Sam') + 1`. Better yet, you could assume that the first student is at `students[0]`, their age is at `students[1]`, and the second student is at `student[2]`, so \"stepping\" through this information is easy. However, this can become problematic if you later realize you have to add more information about each student, like their ID number. \n",
    "\n",
    "```\n",
    "students = [ 'Sam', 24, '111111',\n",
    "            'Kim', 23, '111112',\n",
    "            'Tia', 25, '111113',\n",
    "            'Val', 21, '111114'\n",
    "          ]\n",
    "```\n",
    "\n",
    "Suddenly, any assumptions about where each student's section of the list begins and ends has been broken. One way to get around this is by using a list of lists.\n",
    "\n",
    "```\n",
    "students = [\n",
    "            ['Sam', 24, '111111'],\n",
    "            ['Kim', 23, '111112'],\n",
    "            ['Tia', 25, '111113'],\n",
    "            ['Val', 21, '111114']\n",
    "           ]\n",
    "```\n",
    "\n",
    "Now it doesn't matter how much data you add to each individual student's list. By using a list of lists, you keep this information contained in categories that may make more sense. This can also be quite powerful for visualizing data, since it's easy to access these categories of values together. \n",
    "\n",
    "Just like a line is a one-dimensional shape and a rectangle is two-dimensional, you'll sometimes see lists referred to in terms of how many dimensions they have. A single list is one-dimensional, and this list-of-lists is two-dimensional. Adding dimensions to a list adds complexity, but can also be extremely useful. Let's use some lists of lists to create a bar chart like the one below, starting at zero dimensions (that is, no listed data at all) and working our way upwards. \n",
    "\n",
    "<img src=\"images/working_with_lists/lists-of-lists-bar-chart.svg\">"
   ]
  },
  {
   "cell_type": "code",
   "execution_count": 1,
   "id": "db490d99",
   "metadata": {},
   "outputs": [],
   "source": [
    "def setup():\n",
    "    size(500,380)\n",
    "    background('#004477')\n",
    "    no_fill()\n",
    "    stroke('#FFFFFF')\n",
    "    stroke_weight(3)\n",
    "\n",
    "    h = 50\n",
    "    translate(100,40)\n",
    "\n",
    "    # A \"length\", but no value, represents our 0-dimensional list!\n",
    "    bands = 6\n",
    "    rect(0,0, 40,h*bands)\n",
    "        \n",
    "run_sketch()"
   ]
  },
  {
   "cell_type": "markdown",
   "id": "489e045b",
   "metadata": {},
   "source": [
    "<img src=\"images/working_with_lists/lists-of-lists-0-dimensional.png\">\n",
    "\n",
    "The height of our `rect()` relies on our *h* variable, which you can think of as the scale of our visualization (50 pixels per list item), multiplied by the number of bands in our list. Let's turn *bands* into a real *one-dimensional* list of colors. \n",
    "\n",
    "We can also replace our single `rect()` with a loop, to draw each band in sequence. You'll notice we use the *enumerate* function here, so that we can multiply our current band number by *h* to position the band of color."
   ]
  },
  {
   "cell_type": "code",
   "execution_count": 2,
   "id": "0e8167f2",
   "metadata": {},
   "outputs": [],
   "source": [
    "def setup():\n",
    "    size(500,380)\n",
    "    background('#004477')\n",
    "    no_fill()\n",
    "    stroke('#FFFFFF')\n",
    "    stroke_weight(3)\n",
    "\n",
    "    h = 50\n",
    "    translate(100,40)\n",
    "\n",
    "    # A 1-dimensional list, containing a single variable for each list item\n",
    "    bands = [\n",
    "      '#FF0000',\n",
    "      '#FF9900',\n",
    "      '#FFFF00',\n",
    "      '#00FF00',\n",
    "      '#0099FF',\n",
    "      '#6633FF'\n",
    "    ]\n",
    "    \n",
    "    # A loop, drawing each band in sequence, directly below the previous band\n",
    "    for i,band in enumerate(bands):\n",
    "        fill(band)\n",
    "        rect(0,i*h, 40,h)\n",
    "        \n",
    "run_sketch()"
   ]
  },
  {
   "cell_type": "markdown",
   "id": "0b5325c1",
   "metadata": {},
   "source": [
    "<img src=\"images/working_with_lists/lists-of-lists-1-dimensional.png\">\n",
    "\n",
    "We're now representing the data in this one-dimensional list. Each color is determining the fill for one of these bands. However, it's not much of a chart at this point. If you wanted to somehow compare these values to each other, you'll need more data. What if we wanted our chart to compare the *brightness* of each band? White is the brightest color, with 100% red, green and blue (RGB) values. \n",
    "\n",
    "To determine how bright each of these colored bands are, we can take their RGB values and add them together. However, we don't have enough data in our one-dimensional list to easily access those values.\n",
    "\n",
    "What would it look like to transform this into a two-dimensional list? We'll be turning our list of bands into a list of lists, where each individual band contains the RGB values for that band. Remember that in a hex code, each pair of letters or numbers represents red, green and blue in order, with FF being the highest possible value (100%). You don't have to convert these hex codes to RGB values manually - we'll do that for you.\n",
    "\n",
    "In addition, simply using `fill(band)` isn't going to cut it. We'll have to first use the `color_mode()` function to indicate that we're using RGB with a scale of 0 to 100, and then access the elements inside of the sub-lists inside of our list. Sound complex? It's not - our loop was already accessing each element as one `band`, so now that this element is also a list, you can use `band[0]` (and so on) to get the actual values."
   ]
  },
  {
   "cell_type": "code",
   "execution_count": 7,
   "id": "44dc8f59",
   "metadata": {},
   "outputs": [],
   "source": [
    "def setup():\n",
    "    size(500,380)\n",
    "    background('#004477')\n",
    "    no_fill()\n",
    "    stroke('#FFFFFF')\n",
    "    stroke_weight(3)\n",
    "\n",
    "    h = 50\n",
    "    translate(100,40)\n",
    "\n",
    "   # A 2-dimensional list, with each list item representing the RGB values of a band\n",
    "    bands = [\n",
    "      [ 100, 0, 0   ],\n",
    "      [ 100, 60, 0  ],\n",
    "      [ 100, 100, 0 ],\n",
    "      [ 0, 100, 0   ],\n",
    "      [ 0, 60, 100  ],\n",
    "      [ 40, 20, 100 ]\n",
    "    ]\n",
    "    \n",
    "    # Setting our color mode to use RGB values with a max scale of 100\n",
    "    color_mode(RGB, 100)\n",
    "    \n",
    "    # A loop, drawing each band in sequence, directly below the previous band\n",
    "    # Now we're getting those RGB values from inside of each band, and using them as a fill color!\n",
    "    for i,band in enumerate(bands):\n",
    "        r = band[0]\n",
    "        g = band[1]\n",
    "        b = band[2]\n",
    "        fill(r, g, b)\n",
    "        rect(0,i*h, 40,h)\n",
    "        \n",
    "run_sketch()"
   ]
  },
  {
   "cell_type": "markdown",
   "id": "81719037",
   "metadata": {},
   "source": [
    "This output will look exactly the same as the previous one, but now that it's using a two-dimensional list, we can do more with those values. \n",
    "\n",
    "Firstly, let's lengthen the bars in our chart according to their brightness. We can do this just by adding together the R, G and B values, and then using that to determine the width of each band."
   ]
  },
  {
   "cell_type": "code",
   "execution_count": 11,
   "id": "95cb94bb",
   "metadata": {},
   "outputs": [],
   "source": [
    "def setup():\n",
    "    size(500,380)\n",
    "    background('#004477')\n",
    "    no_fill()\n",
    "    stroke('#FFFFFF')\n",
    "    stroke_weight(3)\n",
    "\n",
    "    h = 50\n",
    "    translate(100,40)\n",
    "\n",
    "   # A 2-dimensional list, with each list item representing the RGB values of a band\n",
    "    bands = [\n",
    "      [ 100, 0, 0   ],\n",
    "      [ 100, 60, 0  ],\n",
    "      [ 100, 100, 0 ],\n",
    "      [ 0, 100, 0   ],\n",
    "      [ 0, 60, 100  ],\n",
    "      [ 40, 20, 100 ]\n",
    "    ]\n",
    "    \n",
    "    # Setting our color mode to use RGB values with a max scale of 100\n",
    "    color_mode(RGB, 100)\n",
    "    \n",
    "    # A loop, drawing each band in sequence, directly below the previous band\n",
    "    # Now we're getting those RGB values from inside of each band, and using them as a fill color!\n",
    "    for i,band in enumerate(bands):\n",
    "        r = band[0]\n",
    "        g = band[1]\n",
    "        b = band[2]\n",
    "        fill(r, g, b)\n",
    "        # Now instead of a width of 40, we're adding up those prior values!\n",
    "        sum = r + g + b\n",
    "        rect(0,i*h, sum,h)\n",
    "        \n",
    "run_sketch()"
   ]
  },
  {
   "cell_type": "markdown",
   "id": "00cf1c1d",
   "metadata": {},
   "source": [
    "<img src=\"images/working_with_lists/rainbow-bars.png\">\n",
    "\n",
    "Do these brightness values \"feel\" correct to your eye? Human visualization is not an exact science, and of course it's slightly unique to every person. You'll probably agree that the yellow is very bright, but you might disagree that the red feels just as bright as the green. In fact, even with the same brightness values, green will often look more prominent, due to the number of receptors for each color in the eye (you have more green receptors than red ones). \n",
    "\n",
    "There's another way to visualize this - if we take our summed value for each color and divide it by 3, we come up with the average brightness of that color. You might remember that if the value is the same for a color's red, green and blue values, that will always be a shade of grey. By using this new average value for our fill color instead, we can very easily tell the difference in the brightness of these disparate colors. Let's comment out our old `fill()` and replace it."
   ]
  },
  {
   "cell_type": "code",
   "execution_count": 12,
   "id": "578b8065",
   "metadata": {},
   "outputs": [],
   "source": [
    "def setup():\n",
    "    size(500,380)\n",
    "    background('#004477')\n",
    "    no_fill()\n",
    "    stroke('#FFFFFF')\n",
    "    stroke_weight(3)\n",
    "\n",
    "    h = 50\n",
    "    translate(100,40)\n",
    "\n",
    "   # A 2-dimensional list, with each list item representing the RGB values of a band\n",
    "    bands = [\n",
    "      [ 100, 0, 0   ],\n",
    "      [ 100, 60, 0  ],\n",
    "      [ 100, 100, 0 ],\n",
    "      [ 0, 100, 0   ],\n",
    "      [ 0, 60, 100  ],\n",
    "      [ 40, 20, 100 ]\n",
    "    ]\n",
    "    \n",
    "    # Setting our color mode to use RGB values with a max scale of 100\n",
    "    color_mode(RGB, 100)\n",
    "    \n",
    "    # A loop, drawing each band in sequence, directly below the previous band\n",
    "    # Now we're getting those RGB values from inside of each band, and using them as a fill color!\n",
    "    for i,band in enumerate(bands):\n",
    "        r = band[0]\n",
    "        g = band[1]\n",
    "        b = band[2]\n",
    "        # fill(r, g, b)\n",
    "        # Now instead of a width of 40, we're adding up those prior values!\n",
    "        sum = r + g + b\n",
    "        avg = sum / 3\n",
    "        # Filling with our new average color... \n",
    "        fill(avg, avg, avg)\n",
    "        rect(0,i*h, sum,h)\n",
    "        \n",
    "run_sketch()"
   ]
  },
  {
   "cell_type": "markdown",
   "id": "b54fc315",
   "metadata": {},
   "source": [
    "<img src=\"images/working_with_lists/lists-of-lists-2-dimensional-grey.png\">\n",
    "\n",
    "For another way to visualize the components in this sub-list, we can turn each band into three different `rect()` functions - one for its red value, one for green, and one for blue. We'll have to modify our loop a bit for this. Of course, each band will need its own `fill()` now, and its own `rect()`. By adding the values of one color to the positioning of subsequent colors, we make sure they all appear side-by-side."
   ]
  },
  {
   "cell_type": "code",
   "execution_count": 14,
   "id": "125323cb",
   "metadata": {},
   "outputs": [],
   "source": [
    "def setup():\n",
    "    size(500,380)\n",
    "    background('#004477')\n",
    "    no_fill()\n",
    "    stroke('#FFFFFF')\n",
    "    stroke_weight(3)\n",
    "\n",
    "    h = 50\n",
    "    translate(100,40)\n",
    "\n",
    "    bands = [\n",
    "      [ 100, 0, 0   ],\n",
    "      [ 100, 60, 0  ],\n",
    "      [ 100, 100, 0 ],\n",
    "      [ 0, 100, 0   ],\n",
    "      [ 0, 60, 100  ],\n",
    "      [ 40, 20, 100 ]\n",
    "    ]\n",
    "    \n",
    "    color_mode(RGB, 100)\n",
    "    \n",
    "    # A loop, drawing each band in sequence, directly below the previous band\n",
    "    for i,band in enumerate(bands):\n",
    "        r = band[0]\n",
    "        g = band[1]\n",
    "        b = band[2]\n",
    "        \n",
    "        # Red band\n",
    "        fill(100, 0, 0)\n",
    "        rect(0,i*h, r,h)\n",
    "        \n",
    "        # Green band\n",
    "        fill(0, 100, 0)\n",
    "        rect(0+r,i*h, g,h)\n",
    "    \n",
    "        # Blue band\n",
    "        fill(0, 0, 100)\n",
    "        rect(0+r+g,i*h, b,h)\n",
    "        \n",
    "run_sketch()"
   ]
  },
  {
   "cell_type": "markdown",
   "id": "632d70db",
   "metadata": {},
   "source": [
    "<img src=\"images/working_with_lists/divided-bands.png\">\n",
    "\n",
    "Now these bands really need some sort of label, to differentiate the actual colors from each other. If you wanted, you could actually use a three-dimensional list for this, where each list contains a label as well as the list with its real values...\n",
    "\n",
    "```\n",
    "bands = [\n",
    "  [ [ 100, 0, 0  ], 'red'    ],\n",
    "  [ [ 100, 60, 0 ], 'orange' ],\n",
    "  # and so on, and so forth...\n",
    "```\n",
    "\n",
    "...but this is an inelegant solution at best, and really, it's totally overkill. We can just add another value, a label, to each of these colored bands. Then we can use py5's text display functions to print that text off to the side."
   ]
  },
  {
   "cell_type": "code",
   "execution_count": 15,
   "id": "d83009dc",
   "metadata": {},
   "outputs": [],
   "source": [
    "def setup():\n",
    "    size(500,380)\n",
    "    background('#004477')\n",
    "    no_fill()\n",
    "    stroke('#FFFFFF')\n",
    "    stroke_weight(3)\n",
    "\n",
    "    h = 50\n",
    "    translate(100,40)\n",
    "\n",
    "    bands = [\n",
    "      [ 100, 0, 0, 'red'     ],\n",
    "      [ 100, 60, 0, 'orange' ],\n",
    "      [ 100, 100, 0, 'yellow'],\n",
    "      [ 0, 100, 0, 'green'   ],\n",
    "      [ 0, 60, 100, 'blue'   ],\n",
    "      [ 40, 20, 100, 'purple']\n",
    "    ]\n",
    "    \n",
    "    color_mode(RGB, 100)\n",
    "    \n",
    "    # A loop, drawing each band in sequence, directly below the previous band\n",
    "    for i,band in enumerate(bands):\n",
    "        r = band[0]\n",
    "        g = band[1]\n",
    "        b = band[2]\n",
    "        \n",
    "        # Red band\n",
    "        fill(100, 0, 0)\n",
    "        rect(0,i*h, r,h)\n",
    "        \n",
    "        # Green band\n",
    "        fill(0, 100, 0)\n",
    "        rect(0+r,i*h, g,h)\n",
    "    \n",
    "        # Blue band\n",
    "        fill(0, 0, 100)\n",
    "        rect(0+r+g,i*h, b,h)\n",
    "        \n",
    "        # Text label\n",
    "        fill('#FFFFFF')\n",
    "        text_align(RIGHT)\n",
    "        text(band[3], -20,i*h+30)\n",
    "        \n",
    "run_sketch()"
   ]
  },
  {
   "cell_type": "markdown",
   "id": "a49cf5a3",
   "metadata": {},
   "source": [
    "<img src=\"images/working_with_lists/labeled-bands.png\">\n",
    "\n",
    "There are a lot of lists that work perfectly well in one dimension, like shopping lists. Other lists, like the one above, work great in two dimensions, and become more like a grid, table or database of information as a result, which can be very useful for visualizing data. Although there are cases where three-dimensional (or higher) lists are useful, it's worth asking yourself if your data is better presented in two dimensions.\n",
    "\n",
    "## breakout task\n",
    "\n",
    "As a challenge, let's use a three-dimensional list to create a visualization of a level from a \"breakout\" style game. (You won't be able to play it without a lot of extra coding, but the visual result is quite neat!)\n",
    "\n",
    "<img src=\"images/working_with_lists/lists-breakout-result.png\">\n",
    "\n",
    "As you can see, these bricks are arranged in rows. The \"shiny\" bricks, with two extra white lines, are there to indicate a brick that must be struck twice with the ball to break through. Let's take a look at some code to start you off with and see how this corresponds to the list you're given."
   ]
  },
  {
   "cell_type": "code",
   "execution_count": null,
   "id": "ae2dc69d",
   "metadata": {},
   "outputs": [],
   "source": [
    "r = '#FF0000' # red\n",
    "o = '#FF9900' # orange\n",
    "y = '#FFFF00' # yellow\n",
    "g = '#00FF00' # green\n",
    "b = '#0099FF' # blue\n",
    "p = '#6633FF' # violet\n",
    "\n",
    "bricks = [\n",
    "  [ [0,r,1], [1,o,1], [2,y,1], [3,g,1] ], # row 0\n",
    "  [ [0,o,1], [1,y,1], [2,g,1], [3,b,1] ], # row 1\n",
    "  [ [0,y,1], [1,g,1], [2,b,1], [3,p,1] ], # row 2\n",
    "  [ [0,g,1], [1,b,2], [2,p,2], [3,b,1] ], # row 3\n",
    "  [ [0,b,1], [1,p,2],          [3,g,1] ], # row 4\n",
    "  [ [0,p,1],                   [3,y,1] ], # row 5\n",
    "  [                            [3,o,1] ], # row 6\n",
    "  [ [0,g,1]                            ]  # row 7\n",
    "]\n",
    "\n",
    "def setup():\n",
    "    global r, o, y, g, b, p, bricks\n",
    "    size(600, 600)\n",
    "    no_stroke()\n",
    "    background('#000000')\n",
    "    \n",
    "    # ball and paddle\n",
    "    fill('#FFFFFF')\n",
    "    ellipse(350,440, 18,18)\n",
    "    rect(300,520, 190,40)"
   ]
  },
  {
   "cell_type": "markdown",
   "id": "69d42acd",
   "metadata": {},
   "source": [
    "First, we've associated a hex code with each of our six color options. The *bricks* list, at its top level, contains seven rows. Each row is a list of blocks. Each block has three values inside of it: the number of its column, its fill colour, and whether it has a hit count of 1 or 2 (to know if it needs to be shiny). We can tell from this that `bricks[0]` will give us the first row, `bricks[0][0]` will give us the first brick, and `bricks[0][0][0]` will give us the column number of the first brick - but ideally you'll use a better way to access these values! \n",
    "\n",
    "To help you tackle this problem, let's add a cleverly nested loop that can make it easier to deal with nested values."
   ]
  },
  {
   "cell_type": "code",
   "execution_count": 25,
   "id": "5f1c2986",
   "metadata": {},
   "outputs": [],
   "source": [
    "r = '#FF0000' # red\n",
    "o = '#FF9900' # orange\n",
    "y = '#FFFF00' # yellow\n",
    "g = '#00FF00' # green\n",
    "b = '#0099FF' # blue\n",
    "p = '#6633FF' # violet\n",
    "\n",
    "bricks = [\n",
    "  [ [0,r,1], [1,o,1], [2,y,1], [3,g,1] ], # row 0\n",
    "  [ [0,o,1], [1,y,1], [2,g,1], [3,b,1] ], # row 1\n",
    "  [ [0,y,1], [1,g,1], [2,b,1], [3,p,1] ], # row 2\n",
    "  [ [0,g,1], [1,b,2], [2,p,2], [3,b,1] ], # row 3\n",
    "  [ [0,b,1], [1,p,2],          [3,g,1] ], # row 4\n",
    "  [ [0,p,1],                   [3,y,1] ], # row 5\n",
    "  [                            [3,o,1] ], # row 6\n",
    "  [ [0,g,1]                            ]  # row 7\n",
    "]\n",
    "\n",
    "def setup():\n",
    "    global r, o, y, g, b, p, bricks\n",
    "    size(600, 600)\n",
    "    no_stroke()\n",
    "    background('#000000')\n",
    "    \n",
    "    # ball and paddle\n",
    "    fill('#FFFFFF')\n",
    "    ellipse(350,440, 18,18)\n",
    "    rect(300,520, 190,40)\n",
    "    \n",
    "    # Just because we often call one list item 'i' doesn't mean we always should. \n",
    "    # By giving it a descriptive name of *row*, and the nested version *brick* (singular),\n",
    "    # we take a lot of the mystery out of what these individual items actually refer to.\n",
    "    for row,bricks in enumerate(bricks):\n",
    "        for brick in bricks:\n",
    "            x = brick[0]*150 # Getting the X value from the column, times 150 pixels\n",
    "            y = row*50       # Getting Y from the row, times 50 pixels\n",
    "            \n",
    "            # Placing a rect, 150 pixels wide and 50 pixels tall, at the correct x and y values\n",
    "            rect(x, y, 150, 50)\n",
    "            \n",
    "run_sketch()"
   ]
  },
  {
   "cell_type": "markdown",
   "id": "161a800e",
   "metadata": {},
   "source": [
    "<img src=\"images/working_with_lists/breakout-incomplete.png\">\n",
    "\n",
    "Believe it or not, those white areas are all of the bricks in the list! There's a few steps required to get it looking like the example image. \n",
    "\n",
    "First of all, you'll need to add a `fill()` that gets the color of the current brick.\n",
    "\n",
    "Next, you need to add some sort of statement that checks what the hit count of that brick is... and draws a few extra lines if it's a brick requiring two hits. Good luck!"
   ]
  }
 ],
 "metadata": {
  "jupytext": {
   "formats": "ipynb,md:myst"
  },
  "kernelspec": {
   "display_name": "py5",
   "language": "python",
   "name": "py5"
  },
  "language_info": {
   "codemirror_mode": {
    "name": "ipython",
    "version": 3
   },
   "file_extension": ".py",
   "mimetype": "text/x-python",
   "name": "python",
   "nbconvert_exporter": "python",
   "pygments_lexer": "ipython3",
   "version": "3.10.5"
  }
 },
 "nbformat": 4,
 "nbformat_minor": 5
}
