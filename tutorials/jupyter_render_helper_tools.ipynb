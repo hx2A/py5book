{
 "cells": [
  {
   "cell_type": "markdown",
   "id": "geological-marker",
   "metadata": {},
   "source": [
    "# Render Helper Tools\n",
    "\n",
    "These Render Helper Tools facilitate the creation of simple sketches.\n",
    "\n",
    "Currently this is limited to the default and OpenGL renderers (P2D and P3D). Support for other renderers such as SVG will be added in the future."
   ]
  },
  {
   "cell_type": "code",
   "execution_count": null,
   "id": "mobile-shannon",
   "metadata": {},
   "outputs": [],
   "source": [
    "from IPython.display import display\n",
    "\n",
    "import py5"
   ]
  },
  {
   "cell_type": "markdown",
   "id": "successful-seeking",
   "metadata": {},
   "source": [
    "## Making a Single Image\n",
    "\n",
    "Below is an introductory example showing how to make a single image.\n",
    "\n",
    "The first parameter, `s: py5.Sketch`, includes a typehint. The typehint makes tab completion provide the right fields and methods, simplifying development."
   ]
  },
  {
   "cell_type": "code",
   "execution_count": null,
   "id": "billion-research",
   "metadata": {},
   "outputs": [],
   "source": [
    "def draw_square(s: py5.Sketch):\n",
    "    s.background(240)\n",
    "    s.rect_mode(s.CENTER)\n",
    "    s.fill(255, 0, 0)\n",
    "    s.rect(s.width / 2, s.height / 2, 50, 50)"
   ]
  },
  {
   "cell_type": "markdown",
   "id": "destroyed-accused",
   "metadata": {},
   "source": [
    "Pass the newly created `draw_square` function to [render_frame()](/reference/py5functions_render_frame). It will render a single frame sketch with a width and height of `200, 200`. The result is returned as a [PIL Image object](https://pillow.readthedocs.io/en/stable/index.html)."
   ]
  },
  {
   "cell_type": "code",
   "execution_count": null,
   "id": "julian-coordinator",
   "metadata": {},
   "outputs": [],
   "source": [
    "img = py5.render_frame(draw_square, 200, 200)\n",
    "\n",
    "print(type(img))"
   ]
  },
  {
   "cell_type": "markdown",
   "id": "familiar-shame",
   "metadata": {},
   "source": [
    "Here's what that image looks like:"
   ]
  },
  {
   "cell_type": "code",
   "execution_count": null,
   "id": "received-theory",
   "metadata": {},
   "outputs": [],
   "source": [
    "img"
   ]
  },
  {
   "cell_type": "markdown",
   "id": "hearing-treaty",
   "metadata": {},
   "source": [
    "Next, add some parameters to `draw_square` to parameterize the output."
   ]
  },
  {
   "cell_type": "code",
   "execution_count": null,
   "id": "cellular-adobe",
   "metadata": {},
   "outputs": [],
   "source": [
    "def draw_square(s: py5.Sketch, fill_color, square_size):\n",
    "    s.background(240)\n",
    "    s.rect_mode(s.CENTER)\n",
    "    s.fill(*fill_color)\n",
    "    s.rect(s.width / 2, s.height / 2, square_size, square_size)"
   ]
  },
  {
   "cell_type": "markdown",
   "id": "lucky-navigator",
   "metadata": {},
   "source": [
    "Below, use the new `draw_square` function with [render_frame()](/reference/py5functions_render_frame). Arguments are passed to `draw_square` via [render_frame()](/reference/py5functions_render_frame)'s `draw_kwargs` parameter.\n",
    "\n",
    "You can pass positional arguments with `draw_args` but using keyword arguments is easier and more readable."
   ]
  },
  {
   "cell_type": "code",
   "execution_count": null,
   "id": "atmospheric-morocco",
   "metadata": {},
   "outputs": [],
   "source": [
    "img = py5.render_frame(draw_square, 200, 200,\n",
    "                       draw_kwargs=dict(fill_color=(255, 0, 255), square_size=100))\n",
    "\n",
    "img"
   ]
  },
  {
   "cell_type": "markdown",
   "id": "further-mexican",
   "metadata": {},
   "source": [
    "[@render](/reference/py5functions_render) is the [decorator](https://realpython.com/primer-on-python-decorators/) equivalent for [render_frame()](/reference/py5functions_render_frame). This achieves cleaner results, particularly when passing function arguments.\n",
    "\n",
    "When using decorators, don't forget to type that `@` sign at the beginning. If you forget, it won't work correctly."
   ]
  },
  {
   "cell_type": "code",
   "execution_count": null,
   "id": "daily-supply",
   "metadata": {},
   "outputs": [],
   "source": [
    "@py5.render(200, 200)\n",
    "def draw_square(s: py5.Sketch, fill_color, square_size):\n",
    "    s.background(240)\n",
    "    s.rect_mode(s.CENTER)\n",
    "    s.fill(*fill_color)\n",
    "    s.rect(s.width / 2, s.height / 2, square_size, square_size)"
   ]
  },
  {
   "cell_type": "markdown",
   "id": "retired-replica",
   "metadata": {},
   "source": [
    "Now you have an easy to use function that outputs images using the passed parameter values."
   ]
  },
  {
   "cell_type": "code",
   "execution_count": null,
   "id": "spread-position",
   "metadata": {},
   "outputs": [],
   "source": [
    "draw_square((255, 255, 0), 75)"
   ]
  },
  {
   "cell_type": "markdown",
   "id": "dress-mediterranean",
   "metadata": {},
   "source": [
    "You can make this more interesting with default arguments and the OpenGL renderer."
   ]
  },
  {
   "cell_type": "code",
   "execution_count": null,
   "id": "female-fellowship",
   "metadata": {},
   "outputs": [],
   "source": [
    "@py5.render(200, 200, py5.P2D)\n",
    "def draw_square(s: py5.Sketch, fill_color, square_size=50):\n",
    "    s.background(240)\n",
    "    s.rect_mode(s.CENTER)\n",
    "    s.fill(*fill_color)\n",
    "    s.rect(s.width / 2, s.height / 2, square_size, square_size)"
   ]
  },
  {
   "cell_type": "code",
   "execution_count": null,
   "id": "adult-immunology",
   "metadata": {},
   "outputs": [],
   "source": [
    "img1 = draw_square((0, 255, 255))\n",
    "img2 = draw_square((255, 0, 0), square_size=10)\n",
    "\n",
    "display(img1, img2)"
   ]
  },
  {
   "cell_type": "markdown",
   "id": "skilled-simulation",
   "metadata": {},
   "source": [
    "Finally, apply what you've learned to make a more interesting example."
   ]
  },
  {
   "cell_type": "code",
   "execution_count": null,
   "id": "naked-lithuania",
   "metadata": {},
   "outputs": [],
   "source": [
    "@py5.render(400, 100)\n",
    "def draw_message(s: py5.Sketch, message, color=(255,)):\n",
    "    s.background(0)\n",
    "    s.text_size(40)\n",
    "    s.text_align(s.CENTER, s.CENTER)\n",
    "    s.fill(*color)\n",
    "    s.text(message, s.width / 2, s.height / 2)"
   ]
  },
  {
   "cell_type": "code",
   "execution_count": null,
   "id": "catholic-sugar",
   "metadata": {},
   "outputs": [],
   "source": [
    "msg1 = draw_message('py5')\n",
    "msg2 = draw_message('is')\n",
    "msg3 = draw_message('awesome!', color=(255, 0, 0))\n",
    "\n",
    "display(msg1, msg2, msg3)"
   ]
  },
  {
   "cell_type": "markdown",
   "id": "lined-involvement",
   "metadata": {},
   "source": [
    "Assembling that into an animated GIF is easy with the PIL Image library."
   ]
  },
  {
   "cell_type": "code",
   "execution_count": null,
   "id": "elementary-plaintiff",
   "metadata": {},
   "outputs": [],
   "source": [
    "!mkdir -p images/render_helper/\n",
    "\n",
    "msg1.save('images/render_helper/py5_is_awesome.gif',\n",
    "          save_all=True, duration=500, loop=0, append_images=[msg2, msg3])"
   ]
  },
  {
   "cell_type": "markdown",
   "id": "third-upper",
   "metadata": {},
   "source": [
    "Here is the animated GIF:\n",
    "\n",
    "![py5 is awesome](images/render_helper/py5_is_awesome.gif)"
   ]
  },
  {
   "cell_type": "markdown",
   "id": "suburban-trust",
   "metadata": {},
   "source": [
    "## Making a Series of Images\n",
    "\n",
    "The Render Helper Tools can also create a sequence of images for an animation of some kind."
   ]
  },
  {
   "cell_type": "code",
   "execution_count": null,
   "id": "unnecessary-victory",
   "metadata": {},
   "outputs": [],
   "source": [
    "def draw_cubes(s: py5.Sketch, cube_size=50):\n",
    "    s.background(255)\n",
    "    s.no_fill()\n",
    "    s.translate(s.width / 2, s.height / 2, 50)\n",
    "    s.rotate_y(s.HALF_PI * s.frame_count / 10)\n",
    "    s.box(cube_size)"
   ]
  },
  {
   "cell_type": "markdown",
   "id": "impressed-dream",
   "metadata": {},
   "source": [
    "Pass the `draw_cubes` function to [render_frame_sequence()](/reference/py5functions_render_frame_sequence) to return a list of [PIL Image object](https://pillow.readthedocs.io/en/stable/index.html)."
   ]
  },
  {
   "cell_type": "code",
   "execution_count": null,
   "id": "pretty-charger",
   "metadata": {},
   "outputs": [],
   "source": [
    "cubes = py5.render_frame_sequence(draw_cubes, 200, 200, py5.P3D, limit=10)\n",
    "\n",
    "cubes"
   ]
  },
  {
   "cell_type": "code",
   "execution_count": null,
   "id": "finished-faith",
   "metadata": {},
   "outputs": [],
   "source": [
    "display(cubes[0], cubes[5])"
   ]
  },
  {
   "cell_type": "markdown",
   "id": "brazilian-export",
   "metadata": {},
   "source": [
    "As before, a decorator is available. [@render_sequence](/reference/py5functions_render_sequence) is the decorator equivalent of [render_frame_sequence()](/reference/py5functions_render_frame_sequence)."
   ]
  },
  {
   "cell_type": "code",
   "execution_count": null,
   "id": "complimentary-duplicate",
   "metadata": {},
   "outputs": [],
   "source": [
    "@py5.render_sequence(200, 200, py5.P3D, limit=10)\n",
    "def draw_cubes(s: py5.Sketch, cube_size=50):\n",
    "    s.no_fill()\n",
    "    s.background(255)\n",
    "    s.translate(s.width / 2, s.height / 2, 50)\n",
    "    s.rotate_y(s.HALF_PI * s.frame_count / 10)\n",
    "    s.box(cube_size)"
   ]
  },
  {
   "cell_type": "code",
   "execution_count": null,
   "id": "ready-distance",
   "metadata": {},
   "outputs": [],
   "source": [
    "cubes = draw_cubes(75)\n",
    "\n",
    "display(cubes[0], cubes[5])"
   ]
  },
  {
   "cell_type": "markdown",
   "id": "representative-ordinance",
   "metadata": {},
   "source": [
    "Normally py5 sketches have a `setup()` method that is run once at the beginning of the animation. This method might be used to configure fill and stroke settings that should apply for every frame of the animation. You could leave those kinds of commands in the `draw_cubes()` function, but it might be nice to be able to break it out into a seperate `cube_setup()` function, like so:"
   ]
  },
  {
   "cell_type": "code",
   "execution_count": null,
   "id": "metropolitan-swimming",
   "metadata": {},
   "outputs": [],
   "source": [
    "def cube_setup(s: py5.Sketch):\n",
    "    s.no_fill()\n",
    "    s.stroke_weight(3)\n",
    "\n",
    "@py5.render_sequence(200, 200, py5.P3D, limit=10, setup=cube_setup)\n",
    "def draw_cubes(s: py5.Sketch, cube_size=50):\n",
    "    s.background(255)\n",
    "    s.translate(s.width / 2, s.height / 2, 50)\n",
    "    s.rotate_y(s.HALF_PI * s.frame_count / 10)\n",
    "    s.box(cube_size)"
   ]
  },
  {
   "cell_type": "markdown",
   "id": "normal-indonesia",
   "metadata": {},
   "source": [
    "Now use the `draw_cubes` function and create an animated GIF."
   ]
  },
  {
   "cell_type": "code",
   "execution_count": null,
   "id": "pending-rhythm",
   "metadata": {},
   "outputs": [],
   "source": [
    "cubes = draw_cubes(75)\n",
    "\n",
    "first_cube = cubes[0]\n",
    "first_cube.save('images/render_helper/rotating_cube.gif',\n",
    "                save_all=True, duration=100, loop=0, append_images=cubes[1:])"
   ]
  },
  {
   "cell_type": "markdown",
   "id": "finished-shore",
   "metadata": {},
   "source": [
    "Here is the GIF:\n",
    "\n",
    "![rotating cube](images/render_helper/rotating_cube.gif)"
   ]
  },
  {
   "cell_type": "markdown",
   "id": "american-partner",
   "metadata": {},
   "source": [
    "In the previous example the [frame_count](/reference/sketch_frame_count) field was used to drive the animation, rotating the cube by a different angle in each frame. It worked well, but it might not always be easy or convenient to link changing animation state to [frame_count](/reference/sketch_frame_count). An alternative approach is to use the Python `global` keyword.\n",
    "\n",
    "Below is the same example as before, but without depending on [frame_count](/reference/sketch_frame_count)."
   ]
  },
  {
   "cell_type": "code",
   "execution_count": null,
   "id": "labeled-prophet",
   "metadata": {},
   "outputs": [],
   "source": [
    "rot_y = 0\n",
    "\n",
    "@py5.render_sequence(200, 200, py5.P3D, limit=10, setup=cube_setup)\n",
    "def draw_cubes(s: py5.Sketch, cube_size=50):\n",
    "    global rot_y\n",
    "    s.background(255)\n",
    "    s.translate(s.width / 2, s.height / 2, 50)\n",
    "    # rot_y gets updated with each frame, changing the state\n",
    "    rot_y += s.HALF_PI / 10\n",
    "    s.rotate_y(rot_y)\n",
    "    s.box(cube_size)"
   ]
  },
  {
   "cell_type": "code",
   "execution_count": null,
   "id": "altered-tissue",
   "metadata": {},
   "outputs": [],
   "source": [
    "cubes = draw_cubes(75)"
   ]
  },
  {
   "cell_type": "code",
   "execution_count": null,
   "id": "limiting-latino",
   "metadata": {},
   "outputs": [],
   "source": [
    "display(cubes[0], cubes[5])"
   ]
  },
  {
   "cell_type": "markdown",
   "id": "decent-immune",
   "metadata": {},
   "source": [
    "## A Caveat\n",
    "\n",
    "In both Processing and py5 it is unwise or impossible to run a sketch inside of another sketch.\n",
    "\n",
    "These Render Helper Tools are creating and running sketches to provide their functionality. Although you might be tempted to do so, do not use them in any way that places them inside of another running sketch."
   ]
  }
 ],
 "metadata": {
  "jupytext": {
   "formats": "ipynb,md:myst"
  },
  "kernelspec": {
   "display_name": "Python 3",
   "language": "python",
   "name": "python3"
  },
  "language_info": {
   "codemirror_mode": {
    "name": "ipython",
    "version": 3
   },
   "file_extension": ".py",
   "mimetype": "text/x-python",
   "name": "python",
   "nbconvert_exporter": "python",
   "pygments_lexer": "ipython3",
   "version": "3.10.9 (main, Dec  7 2022, 00:00:00) [GCC 12.2.1 20221121 (Red Hat 12.2.1-4)]"
  },
  "vscode": {
   "interpreter": {
    "hash": "e7370f93d1d0cde622a1f8e1c04877d8463912d04d973331ad4851f04de6915a"
   }
  },
  "widgets": {
   "application/vnd.jupyter.widget-state+json": {
    "state": {},
    "version_major": 2,
    "version_minor": 0
   }
  }
 },
 "nbformat": 4,
 "nbformat_minor": 5
}
