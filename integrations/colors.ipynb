{
 "cells": [
  {
   "cell_type": "markdown",
   "id": "36bdb07b-b773-4fa5-bb2b-bb4fa5bdaea4",
   "metadata": {},
   "source": [
    "# All About Colors\n",
    "\n",
    "This page is a collection of all of py5's color-related integrations with other\n",
    "Python libraries.\n",
    "\n",
    "In addition to what is documented here, the [](integrations/matplotlib) page\n",
    "documents a few color-related matplotlib contributions. Scroll to the bottom\n",
    "of the page to read about Named Colors and a new Colormap Color Mode.\n",
    "\n",
    "\n",
    "## setup\n",
    "\n",
    "To use all of the features documented on this page, you'll need to install the\n",
    "[colour](https://pypi.org/project/colour/) library with pip or with conda.\n",
    "\n",
    "```bash\n",
    "pip install colour\n",
    "```\n",
    "\n",
    "```bash\n",
    "conda install colour -c conda-forge\n",
    "```\n",
    "\n",
    "For more information, refer to the [colour library's documentation on github](https://github.com/vaab/colour).\n",
    "\n",
    "TODO: Somewhere in here I should document how color objects are printed to the terminal and that you can create colors outside of a Sketch"
   ]
  },
  {
   "cell_type": "markdown",
   "id": "cf3d8e3d-b2b7-4006-9d21-d68e5f35fac7",
   "metadata": {},
   "source": [
    "## Hex Color Codes\n",
    "\n",
    "Any [Web Color](https://en.wikipedia.org/wiki/Web_colors) or Hex Color Code\n",
    "can be used as a color. The color code must always be a string with values\n",
    "representing red, green, blue, and optionally the alpha channel, in that\n",
    "order. This is consistent with the hex color codes found in HTML and CSS\n",
    "files.\n",
    "\n",
    "The Hex Color Code is always a `\"#\"` character followed by a 6 or 8 digit\n",
    "hexadecimal number. If a 6 digit hexadecimal number is used, the color\n",
    "has no transparency. If an 8 digit hexadecimal number is used, the color\n",
    "has an alpha channel. The Hex Color Code should always be a string, wrapped\n",
    "in quotes. Uppercase and lowercase are both fine.\n",
    "\n",
    "A 6 digit example is `\"#CC6633\"` and an 8 digit example is `\"#CC663399\"`.\n",
    "\n",
    "You may also use [Shorthand hexadecimal form](https://en.wikipedia.org/wiki/Web_colors#Shorthand_hexadecimal_form).\n",
    "With this specification, the Hex Color Code is always a `\"#\"` character\n",
    "followed by a 3 or 4 digit hexadecimal number. To convert shorthand form\n",
    "to the canonical form, repeat each digit. For example, `\"#C63\"` is the same\n",
    "as `\"#CC6633\"`, and `\"#C639\"` is the same as `\"#CC663399\"`.\n",
    "\n",
    "Let's create a simple example Sketch that demonstrates the use of Hex Color\n",
    "Codes. But first, the imports for this page."
   ]
  },
  {
   "cell_type": "code",
   "execution_count": null,
   "id": "497bd74c-14e2-420e-8768-5b5225d9ba71",
   "metadata": {
    "editable": true,
    "slideshow": {
     "slide_type": ""
    },
    "tags": []
   },
   "outputs": [],
   "source": [
    "from colour import Color\n",
    "\n",
    "import py5_tools\n",
    "import py5"
   ]
  },
  {
   "cell_type": "markdown",
   "id": "1073bb7a-65e6-460b-8a5f-e37bb0b5c549",
   "metadata": {
    "editable": true,
    "slideshow": {
     "slide_type": ""
    },
    "tags": []
   },
   "source": [
    "Now a Sketch that creates colors using the discussed Hex Color Codes."
   ]
  },
  {
   "cell_type": "code",
   "execution_count": null,
   "id": "96493ef9-836c-4547-9183-ea54ded122c9",
   "metadata": {
    "editable": true,
    "slideshow": {
     "slide_type": ""
    },
    "tags": []
   },
   "outputs": [],
   "source": [
    "def setup():\n",
    "    py5.size(400, 400)\n",
    "    py5.background(240)\n",
    "    py5.no_stroke()\n",
    "\n",
    "    # add a black bar so the transparency is obvious\n",
    "    py5.fill(\"#000000\")\n",
    "    py5.rect(90, 0, 30, 400)\n",
    "    py5.rect(280, 0, 30, 400)\n",
    "\n",
    "    py5.fill(\"#CC6633\")\n",
    "    py5.rect(20, 20, 170, 170)\n",
    "\n",
    "    py5.fill(\"#CC663399\")\n",
    "    py5.rect(210, 20, 170, 170)\n",
    "\n",
    "    py5.fill(\"#c63\")\n",
    "    py5.rect(20, 210, 170, 170)\n",
    "\n",
    "    py5.fill(\"#c639\")\n",
    "    py5.rect(210, 210, 170, 170)\n",
    "\n",
    "\n",
    "py5.run_sketch()"
   ]
  },
  {
   "cell_type": "code",
   "execution_count": null,
   "id": "22272fe2-64c3-438f-9af8-5b0d4edb2989",
   "metadata": {
    "editable": true,
    "slideshow": {
     "slide_type": ""
    },
    "tags": [
     "remove-cell"
    ]
   },
   "outputs": [],
   "source": [
    "import time\n",
    "\n",
    "time.sleep(1)"
   ]
  },
  {
   "cell_type": "code",
   "execution_count": null,
   "id": "262a4928-22c5-4aa3-8142-0978b520389a",
   "metadata": {},
   "outputs": [],
   "source": [
    "py5_tools.screenshot()"
   ]
  },
  {
   "cell_type": "code",
   "execution_count": null,
   "id": "f0e4e122-8739-4efe-baa1-128bd9ddc4d4",
   "metadata": {
    "editable": true,
    "slideshow": {
     "slide_type": ""
    },
    "tags": [
     "remove-cell"
    ]
   },
   "outputs": [],
   "source": [
    "time.sleep(0.5)\n",
    "py5.exit_sketch()\n",
    "time.sleep(0.5)"
   ]
  },
  {
   "cell_type": "markdown",
   "id": "9f981fcb-6a56-442f-91ab-720b1c754bae",
   "metadata": {},
   "source": [
    "## Hexadecimal Integers\n",
    "\n",
    "If you like, you can also use a Hexadecimal Integer, such as `0x99CC6633`.\n",
    "These are similar to the previously described Hex Color Codes. The main\n",
    "difference is the alpha value is moved to the beginning.\n",
    "\n",
    "For this specification, it is always `0x` followed by 8 values, and the\n",
    "order is alpha, red, green, and blue. Do not use quotes. Uppercase and\n",
    "lowercase are both fine. The Hexadecimal Integer `0x99CC6633` represents\n",
    "the same exact color as `\"#CC663399\"`.\n",
    "\n",
    "Let's use this in an example sketch."
   ]
  },
  {
   "cell_type": "code",
   "execution_count": null,
   "id": "1d5a7b07-4905-4ea3-bab5-d37bf8453c2e",
   "metadata": {
    "editable": true,
    "slideshow": {
     "slide_type": ""
    },
    "tags": []
   },
   "outputs": [],
   "source": [
    "def setup():\n",
    "    py5.size(400, 400)\n",
    "    py5.background(240)\n",
    "    py5.no_stroke()\n",
    "\n",
    "    # add a black bar so the transparency is obvious\n",
    "    py5.fill(0x00000000)\n",
    "    py5.rect(90, 0, 30, 400)\n",
    "    py5.rect(280, 0, 30, 400)\n",
    "\n",
    "    py5.fill(0x99CC6633)\n",
    "    py5.rect(20, 20, 170, 170)\n",
    "\n",
    "    py5.fill(0xFFCC6633)\n",
    "    py5.rect(210, 20, 170, 170)\n",
    "\n",
    "    py5.fill(0x66FFCC33)\n",
    "    py5.rect(20, 210, 170, 170)\n",
    "\n",
    "    py5.fill(0xFFFFCC66)\n",
    "    py5.rect(210, 210, 170, 170)\n",
    "\n",
    "\n",
    "py5.run_sketch()"
   ]
  },
  {
   "cell_type": "code",
   "execution_count": null,
   "id": "c26d251d-9b89-4985-bf73-5e3005474762",
   "metadata": {
    "editable": true,
    "slideshow": {
     "slide_type": ""
    },
    "tags": [
     "remove-cell"
    ]
   },
   "outputs": [],
   "source": [
    "time.sleep(1)"
   ]
  },
  {
   "cell_type": "code",
   "execution_count": null,
   "id": "7173e1aa-06ac-41c1-9e0f-64d73e1268d8",
   "metadata": {
    "editable": true,
    "slideshow": {
     "slide_type": ""
    },
    "tags": []
   },
   "outputs": [],
   "source": [
    "py5_tools.screenshot()"
   ]
  },
  {
   "cell_type": "code",
   "execution_count": null,
   "id": "7568811d-d146-4e69-a1d4-02a087ca711a",
   "metadata": {
    "editable": true,
    "slideshow": {
     "slide_type": ""
    },
    "tags": [
     "remove-cell"
    ]
   },
   "outputs": [],
   "source": [
    "time.sleep(0.5)\n",
    "py5.exit_sketch()\n",
    "time.sleep(0.5)"
   ]
  },
  {
   "cell_type": "markdown",
   "id": "0144f886-83b4-4b70-9e6c-07bbdf0cae8d",
   "metadata": {
    "editable": true,
    "slideshow": {
     "slide_type": ""
    },
    "tags": []
   },
   "source": [
    "## Printing Colors\n",
    "\n",
    "Let's take a small diversion.\n",
    "\n",
    "Printing color values in Processing outputs odd looking numbers. For\n",
    "example, printing the color created with `py5.color(204, 102, 51, 153)`\n",
    "yields the number -1714657741. Why is it such a large negative number?\n",
    "And how can we look at that number and determine if it is our intended\n",
    "color?\n",
    "\n",
    "Rather than decypher these mysteries, py5 added some Python magic to colors\n",
    "so that they display useful information when printed. For example:"
   ]
  },
  {
   "cell_type": "code",
   "execution_count": null,
   "id": "da240421-2593-49f5-8859-54becf23a0e3",
   "metadata": {
    "editable": true,
    "slideshow": {
     "slide_type": ""
    },
    "tags": []
   },
   "outputs": [],
   "source": [
    "print(py5.color(0xFFCC6633))"
   ]
  },
  {
   "cell_type": "markdown",
   "id": "70fa7db3-bdce-401b-89ff-68d7e454ca05",
   "metadata": {
    "editable": true,
    "slideshow": {
     "slide_type": ""
    },
    "tags": []
   },
   "source": [
    "That's much easier to comprehend than -1714657741.\n",
    "\n",
    "You will never create Py5Color instances directly. They are created for you with [](/reference/sketch_color)\n",
    "as well as any other method that returns colors (such as [](/reference/py5shape_get_fill)).\n",
    "\n",
    "Let's experiment with this in an example."
   ]
  },
  {
   "cell_type": "code",
   "execution_count": null,
   "id": "d5662973-7f2e-4834-91a5-04c521a2d733",
   "metadata": {
    "editable": true,
    "slideshow": {
     "slide_type": ""
    },
    "tags": []
   },
   "outputs": [],
   "source": [
    "def setup():\n",
    "    py5.size(400, 400)\n",
    "    py5.background(240)\n",
    "    py5.no_stroke()\n",
    "\n",
    "    fill_color = py5.color(\"#CC6633FF\")\n",
    "\n",
    "    py5.println(fill_color)\n",
    "\n",
    "    # change the color mode\n",
    "    py5.color_mode(py5.HSB, 360, 100, 100)\n",
    "\n",
    "    py5.println(fill_color)\n",
    "\n",
    "    py5.fill(fill_color)\n",
    "    py5.rect(20, 20, 360, 360)\n",
    "\n",
    "\n",
    "py5.run_sketch()"
   ]
  },
  {
   "cell_type": "markdown",
   "id": "a43a24d6-7118-4b64-9427-a1c91b9cf22e",
   "metadata": {
    "editable": true,
    "slideshow": {
     "slide_type": ""
    },
    "tags": []
   },
   "source": [
    "Notice that our color maintained a link to its creator and changed its printed\n",
    "representation when the color mode changed. Clearly this makes it much easier\n",
    "to debug color-related code in a py5 Sketch."
   ]
  },
  {
   "cell_type": "code",
   "execution_count": null,
   "id": "670be88d-dec7-4ab2-81a0-22c3bfd5eb66",
   "metadata": {
    "editable": true,
    "slideshow": {
     "slide_type": ""
    },
    "tags": []
   },
   "outputs": [],
   "source": [
    "time.sleep(0.5)\n",
    "py5.exit_sketch()\n",
    "time.sleep(0.5)"
   ]
  },
  {
   "cell_type": "markdown",
   "id": "4e6af081-5c67-4337-bc0a-a5a826d2a37f",
   "metadata": {
    "editable": true,
    "slideshow": {
     "slide_type": ""
    },
    "tags": []
   },
   "source": [
    "## colour library\n",
    "\n",
    "Color class\n",
    "\n",
    "Uses RGB, HSL (not the same as HSB), hex, or web (css4 colors)"
   ]
  },
  {
   "cell_type": "markdown",
   "id": "7c314dba-1f34-4e30-83d0-37b04838a479",
   "metadata": {},
   "source": [
    "## Printing Colors"
   ]
  },
  {
   "cell_type": "code",
   "execution_count": null,
   "id": "b3dd20db-c001-43b7-bc21-a47f3f14cc64",
   "metadata": {},
   "outputs": [],
   "source": []
  }
 ],
 "metadata": {
  "jupytext": {
   "formats": "ipynb,md:myst"
  },
  "kernelspec": {
   "display_name": "Python 3 (ipykernel)",
   "language": "python",
   "name": "python3"
  },
  "language_info": {
   "codemirror_mode": {
    "name": "ipython",
    "version": 3
   },
   "file_extension": ".py",
   "mimetype": "text/x-python",
   "name": "python",
   "nbconvert_exporter": "python",
   "pygments_lexer": "ipython3",
   "version": "3.8.17"
  }
 },
 "nbformat": 4,
 "nbformat_minor": 5
}
