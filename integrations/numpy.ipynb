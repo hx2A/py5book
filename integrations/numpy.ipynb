{
 "cells": [
  {
   "cell_type": "markdown",
   "id": "22f7013b-abd2-4f15-93ec-b9b4af59dbee",
   "metadata": {},
   "source": [
    "# Numpy, Arrays, and Images\n",
    "\n",
    "[Numpy](https://numpy.org/) is used extensively in Python. It is the\n",
    "foundation of virtually all numerical computing projects in Python.\n",
    "It has a long history within the Python community, and like\n",
    "[](/integrations/matplotlib), numpy's contributions to the scientific\n",
    "community cannot be understated. Py5 is well positioned to be used\n",
    "for numerical computing because of its close ties with numpy.\n",
    "\n",
    "Numpy is one of py5's dependencies, so it will always installed\n",
    "alongside py5."
   ]
  },
  {
   "cell_type": "markdown",
   "id": "cb951af4-1f1f-4bca-96c7-ace216da6ce3",
   "metadata": {},
   "source": [
    "## Comparing `pixels` & `np_pixels`\n",
    "\n",
    "In Processing and p5, direct pixel manipulation is done\n",
    "with `pixels`, a one dimensional array of colors (integers).\n",
    "Using this array can be a bit tedious. For example, to\n",
    "change a pixel at a specific location in the Sketch window,\n",
    "one must do a few calculations to find that pixel's location\n",
    "in the one dimensional array.\n",
    "\n",
    "This approach will get the job done. However, this approach\n",
    "is also very different from how direct pixel manipulation is\n",
    "typically done by virtually every Python program that has\n",
    "access to numpy.\n",
    "\n",
    "In the Python world, direct pixel manipulation is typically\n",
    "done with a 3 dimensional array. The 3 dimensions represent\n",
    "the vertical and horizontal positioning of the pixel and the\n",
    "pixels's color, split into several color channels.\n",
    "\n",
    "To provide analogous functionality, py5 offers the 3\n",
    "dimensional array `np_pixels`. This is actualized in \n",
    "[](/reference/sketch_np_pixels), [](/reference/py5graphics_np_pixels),\n",
    "and [](/reference/py5image_np_pixels).\n",
    "\n",
    "Let's explore these two pixel data structures with a\n",
    "simple example.\n",
    "\n",
    "TODO: link to vectorized noise page somewhere"
   ]
  },
  {
   "cell_type": "code",
   "execution_count": null,
   "id": "c337302b-2ca4-4539-941d-22ca6433fde5",
   "metadata": {},
   "outputs": [],
   "source": [
    "import numpy as np\n",
    "import cv2\n",
    "from PIL import Image\n",
    "\n",
    "import py5_tools\n",
    "import py5"
   ]
  },
  {
   "cell_type": "code",
   "execution_count": null,
   "id": "749ab7d3-71d6-4b93-b19d-828c5e58fe70",
   "metadata": {},
   "outputs": [],
   "source": [
    "# example that does something with pixels"
   ]
  },
  {
   "cell_type": "code",
   "execution_count": null,
   "id": "77391f20-4c5e-430b-99a2-7793241d0d8c",
   "metadata": {},
   "outputs": [],
   "source": [
    "# example that does the same thing with np_pixels"
   ]
  },
  {
   "cell_type": "code",
   "execution_count": null,
   "id": "757649a9-36f0-4857-a722-d7ab2ff364cf",
   "metadata": {},
   "outputs": [],
   "source": []
  },
  {
   "cell_type": "code",
   "execution_count": null,
   "id": "90db5b96-f792-4a07-a6f7-a6d1bca1bbe7",
   "metadata": {},
   "outputs": [],
   "source": [
    "import time\n",
    "\n",
    "time.sleep(1)"
   ]
  },
  {
   "cell_type": "code",
   "execution_count": null,
   "id": "0dea05b6-9be3-48d6-9fe4-a01f343faede",
   "metadata": {},
   "outputs": [],
   "source": [
    "py5_tools.screenshot()"
   ]
  },
  {
   "cell_type": "code",
   "execution_count": null,
   "id": "c4916ea2-b0f8-43a4-9544-b994103a60e1",
   "metadata": {},
   "outputs": [],
   "source": [
    "time.sleep(0.5)\n",
    "py5.exit_sketch()\n",
    "time.sleep(0.5)"
   ]
  },
  {
   "cell_type": "markdown",
   "id": "ac7994ef-02e7-4fa5-af85-98c792065e36",
   "metadata": {},
   "source": [
    "## Color Channel Ordering\n",
    "\n",
    "The `np_pixels` array's third dimension can sometimes be tricky\n",
    "to work with because you must be cognizant of where each color\n",
    "channel is located. This is called color channel ordering.\n",
    "Sometimes the term\n",
    "\"[bands](https://pillow.readthedocs.io/en/stable/handbook/concepts.html#bands)\"\n",
    "will be used.\n",
    "\n",
    "It is best to illustrate what this means for you, the py5 coder,\n",
    "with a simple example."
   ]
  },
  {
   "cell_type": "code",
   "execution_count": null,
   "id": "498a57c9-f40f-4c5f-afaa-242bf1041361",
   "metadata": {},
   "outputs": [],
   "source": [
    "# load an image two different ways, convert to numpy\n",
    "# use create_image_from_numpy to create image, use defaults"
   ]
  },
  {
   "cell_type": "markdown",
   "id": "7d00945b-9d2d-4049-8301-bea3a54defd2",
   "metadata": {},
   "source": [
    "TODO: Talk about why the results are wrong, bands"
   ]
  },
  {
   "cell_type": "code",
   "execution_count": null,
   "id": "9784e2c6-fb65-4a7c-9db5-96ad28a99847",
   "metadata": {},
   "outputs": [],
   "source": [
    "# new example that gets the cnannel ordering right"
   ]
  },
  {
   "cell_type": "code",
   "execution_count": null,
   "id": "4f111c83-8e9c-4c7e-a0b5-ed0c020e0ba4",
   "metadata": {},
   "outputs": [],
   "source": [
    "time.sleep(1)"
   ]
  },
  {
   "cell_type": "code",
   "execution_count": null,
   "id": "feea30fd-e3be-41ae-b2a9-436df221dabd",
   "metadata": {},
   "outputs": [],
   "source": [
    "py5_tools.screenshot()"
   ]
  },
  {
   "cell_type": "code",
   "execution_count": null,
   "id": "35e154fb-be46-40c3-8672-24076b6c1035",
   "metadata": {},
   "outputs": [],
   "source": [
    "time.sleep(0.5)\n",
    "py5.exit_sketch()\n",
    "time.sleep(0.5)"
   ]
  },
  {
   "cell_type": "markdown",
   "id": "73854dc9-7f01-4f76-9c02-c31dcb52973e",
   "metadata": {},
   "source": [
    "## Bulk Coordinate Methods\n",
    "\n",
    "If you are using py5 and need to create a shape with a\n",
    "thousand vertices, one approach for implementing this\n",
    "would involve a `for` loop that created each vertex,\n",
    "one at a time.\n",
    "\n",
    "Unfortunately, that py5 code would execute slowly.\n",
    "\n",
    "It would execute slowly because the method call for\n",
    "each individual vertex would involve a separate call\n",
    "to py5's underlying Processing code.\n",
    "\n",
    "A better approach would involve skipping the `for`\n",
    "loop and creating all of the vertices with a single\n",
    "command. This approach lets py5 create the vertices\n",
    "in the most efficient way possible. The performance\n",
    "difference between the two approaches can be significant."
   ]
  },
  {
   "cell_type": "code",
   "execution_count": null,
   "id": "6c35dd23-7842-4e78-a020-62f489484ce5",
   "metadata": {},
   "outputs": [],
   "source": [
    "# slow for loop example"
   ]
  },
  {
   "cell_type": "code",
   "execution_count": null,
   "id": "ed28b0ad-3461-47b8-bb0f-3ab12fafe194",
   "metadata": {},
   "outputs": [],
   "source": [
    "# fast vertices example"
   ]
  },
  {
   "cell_type": "code",
   "execution_count": null,
   "id": "cf923617-f6db-4b39-ac6f-5b6bdb2e59c2",
   "metadata": {},
   "outputs": [],
   "source": []
  },
  {
   "cell_type": "code",
   "execution_count": null,
   "id": "35520f6a-44e4-4d89-ae76-4fbbf7b2cc48",
   "metadata": {},
   "outputs": [],
   "source": [
    "time.sleep(1)"
   ]
  },
  {
   "cell_type": "code",
   "execution_count": null,
   "id": "a09a6960-0385-4dcc-9c92-ad31e83bb298",
   "metadata": {},
   "outputs": [],
   "source": [
    "py5_tools.screenshot()"
   ]
  },
  {
   "cell_type": "code",
   "execution_count": null,
   "id": "ea3f1875-f154-4704-aad4-733b84286d69",
   "metadata": {},
   "outputs": [],
   "source": [
    "time.sleep(0.5)\n",
    "py5.exit_sketch()\n",
    "time.sleep(0.5)"
   ]
  },
  {
   "cell_type": "markdown",
   "id": "2e075b45-a730-416a-b653-26a9bccb72fd",
   "metadata": {},
   "source": [
    "TODO: list all of the bulk commands"
   ]
  },
  {
   "cell_type": "code",
   "execution_count": null,
   "id": "fede9ddf-1bb2-46d3-84ff-caead6d23e17",
   "metadata": {},
   "outputs": [],
   "source": []
  }
 ],
 "metadata": {
  "jupytext": {
   "formats": "ipynb,md:myst"
  },
  "kernelspec": {
   "display_name": "Python 3 (ipykernel)",
   "language": "python",
   "name": "python3"
  },
  "language_info": {
   "codemirror_mode": {
    "name": "ipython",
    "version": 3
   },
   "file_extension": ".py",
   "mimetype": "text/x-python",
   "name": "python",
   "nbconvert_exporter": "python",
   "pygments_lexer": "ipython3",
   "version": "3.8.17"
  }
 },
 "nbformat": 4,
 "nbformat_minor": 5
}
