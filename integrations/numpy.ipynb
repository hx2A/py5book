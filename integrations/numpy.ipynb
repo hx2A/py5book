{
 "cells": [
  {
   "cell_type": "markdown",
   "id": "22f7013b-abd2-4f15-93ec-b9b4af59dbee",
   "metadata": {
    "editable": true,
    "slideshow": {
     "slide_type": ""
    },
    "tags": []
   },
   "source": [
    "# Numpy, Arrays, and Images\n",
    "\n",
    "[Numpy](https://numpy.org/) is used extensively in the Python world.\n",
    "It is the foundation of virtually all of the numerical computing projects\n",
    "that are implemented in the Python language. It has a long history within\n",
    "the Python community, and like [](/integrations/matplotlib), numpy's\n",
    "contributions to the scientific community cannot be understated.\n",
    "Py5 is well positioned to be used for numerical computing because of its\n",
    "close ties with numpy.\n",
    "\n",
    "Numpy is one of py5's dependencies, so it will always installed alongside\n",
    "py5."
   ]
  },
  {
   "cell_type": "markdown",
   "id": "cb951af4-1f1f-4bca-96c7-ace216da6ce3",
   "metadata": {
    "editable": true,
    "slideshow": {
     "slide_type": ""
    },
    "tags": []
   },
   "source": [
    "## Comparing `pixels` & `np_pixels`\n",
    "\n",
    "In Processing and p5, direct pixel manipulation is done\n",
    "with `pixels`, a one dimensional array of colors (integers).\n",
    "Using this array can be a bit tedious because we usually think about\n",
    "the Sketch window in two dimensions, not one. For example, to\n",
    "change a pixel at a specific location in the Sketch window,\n",
    "we must do a few calculations to find that pixel's location\n",
    "in the one dimensional array.\n",
    "\n",
    "You can accomplish many things working with a one dimensional\n",
    "array of pixels. However, working with pixels in this way\n",
    "is also very different from how direct pixel manipulation is\n",
    "typically done by virtually every Python program that has\n",
    "access to numpy.\n",
    "\n",
    "In the Python world, direct pixel manipulation is typically\n",
    "done with a 3 dimensional array. The 3 dimensions represent\n",
    "the vertical and horizontal positioning of the pixel and the\n",
    "pixels's color, split into several color channels.\n",
    "\n",
    "To provide analogous functionality, py5 offers the 3\n",
    "dimensional array `np_pixels`. This is actualized in \n",
    "[](/reference/sketch_np_pixels), [](/reference/py5graphics_np_pixels),\n",
    "and [](/reference/py5image_np_pixels).\n",
    "\n",
    "Let's explore these two pixel data structures with a\n",
    "simple example. We will start with our imports.\n",
    "\n",
    "TODO: link to vectorized noise page somewhere"
   ]
  },
  {
   "cell_type": "code",
   "execution_count": null,
   "id": "c337302b-2ca4-4539-941d-22ca6433fde5",
   "metadata": {
    "editable": true,
    "slideshow": {
     "slide_type": ""
    },
    "tags": []
   },
   "outputs": [],
   "source": [
    "from itertools import product\n",
    "\n",
    "import cv2\n",
    "import numpy as np\n",
    "from PIL import Image\n",
    "\n",
    "import py5_tools\n",
    "import py5"
   ]
  },
  {
   "cell_type": "markdown",
   "id": "2bd75888-4f30-457f-a73e-8e97f9b9e2a6",
   "metadata": {
    "editable": true,
    "slideshow": {
     "slide_type": ""
    },
    "tags": []
   },
   "source": [
    "Our example will first load an image and draw it to the screen. Then we will swap the\n",
    "color channels for all of the pixels contained within an inner region of the Sketch\n",
    "window. For each modified pixel, we will rotate the color channels so that Blue\n",
    "becomes Red, Red becomes Green, and Green becomes Blue.\n",
    "\n",
    "To do this we must loop through all of the pixels in [](/reference/sketch_pixels) and\n",
    "extract each pixel's Red, Green, and Blue values. Then we will re-order the Red, Green,\n",
    "and Blue values to create a new color. This new color will be assigned back to\n",
    "[](/reference/sketch_pixels)."
   ]
  },
  {
   "cell_type": "code",
   "execution_count": null,
   "id": "175d6c6f-a586-4da3-82da-65ffdec04bd8",
   "metadata": {
    "editable": true,
    "slideshow": {
     "slide_type": ""
    },
    "tags": []
   },
   "outputs": [],
   "source": [
    "def setup():\n",
    "    py5.size(600, 452)\n",
    "\n",
    "    img = py5.load_image('images/trees.jpg')\n",
    "    py5.background(img)\n",
    "\n",
    "    py5.load_pixels()\n",
    "\n",
    "    for x, y in product(range(50, py5.width - 50), range(50, py5.height - 50)):\n",
    "        color = py5.pixels[y * py5.width + x]\n",
    "        red = py5.red(color)\n",
    "        green = py5.green(color)\n",
    "        blue = py5.blue(color)\n",
    "        new_color = py5.color(blue, red, green)\n",
    "\n",
    "        py5.pixels[y * py5.width + x] = new_color\n",
    "\n",
    "    py5.update_pixels()\n",
    "\n",
    "\n",
    "py5.run_sketch()"
   ]
  },
  {
   "cell_type": "markdown",
   "id": "067cab4e-0dcf-4a5e-8737-cebe58eafa6e",
   "metadata": {
    "editable": true,
    "slideshow": {
     "slide_type": ""
    },
    "tags": []
   },
   "source": [
    "In the Sketch code, observe the calls to [](/reference/sketch_load_pixels) and\n",
    "[](/reference/sketch_update_pixels). These are necessary to prepare\n",
    "[](/reference/sketch_pixels) for accessing color information and to write changes to\n",
    "[](/reference/sketch_pixels) back to the Sketch window.\n",
    "\n",
    "Also observe the `y * py5.width + x` code used to find each pixel in the\n",
    "[](/reference/sketch_pixels) array. If that calculation was incorrect, the\n",
    "Sketch would behave erratically or crash.\n",
    "\n",
    "If you are running this code yourself, you will also notice the Sketch is very\n",
    "slow. It takes at least a few seconds for it to complete the pixel alterations.\n",
    "It does finish eventually, and has a nice result:"
   ]
  },
  {
   "cell_type": "code",
   "execution_count": null,
   "id": "3bac8e55-54f0-42f8-bcfa-6e4445892abc",
   "metadata": {
    "editable": true,
    "slideshow": {
     "slide_type": ""
    },
    "tags": [
     "remove-cell"
    ]
   },
   "outputs": [],
   "source": [
    "import time\n",
    "\n",
    "time.sleep(5)"
   ]
  },
  {
   "cell_type": "code",
   "execution_count": null,
   "id": "92362bb8-179e-430f-b58e-5a7ebfc2a4b5",
   "metadata": {
    "editable": true,
    "slideshow": {
     "slide_type": ""
    },
    "tags": []
   },
   "outputs": [],
   "source": [
    "py5_tools.screenshot()"
   ]
  },
  {
   "cell_type": "code",
   "execution_count": null,
   "id": "1beede45-2ee3-4433-98e1-2366f2d7891c",
   "metadata": {
    "editable": true,
    "slideshow": {
     "slide_type": ""
    },
    "tags": [
     "remove-cell"
    ]
   },
   "outputs": [],
   "source": [
    "time.sleep(0.5)\n",
    "py5.exit_sketch()\n",
    "time.sleep(0.5)"
   ]
  },
  {
   "cell_type": "markdown",
   "id": "f5d2d04c-e567-440e-8b7e-d4d1030a2b8f",
   "metadata": {
    "editable": true,
    "slideshow": {
     "slide_type": ""
    },
    "tags": []
   },
   "source": [
    "Now let's do this again, but with [](/reference/sketch_np_pixels).\n",
    "\n",
    "In the following code, the `for` loop is gone, and [](/reference/sketch_load_pixels) and\n",
    "[](/reference/sketch_update_pixels) have been replaced with\n",
    "[](/reference/sketch_load_np_pixels) and [](/reference/sketch_update_np_pixels)."
   ]
  },
  {
   "cell_type": "code",
   "execution_count": null,
   "id": "d17871d3-a24c-4cf0-bdde-fa1e835104fd",
   "metadata": {
    "editable": true,
    "slideshow": {
     "slide_type": ""
    },
    "tags": []
   },
   "outputs": [],
   "source": [
    "def setup():\n",
    "    py5.size(600, 452)\n",
    "\n",
    "    img = py5.load_image('images/trees.jpg')\n",
    "    py5.background(img)\n",
    "\n",
    "    py5.load_np_pixels()\n",
    "\n",
    "    # extract individual channels\n",
    "    alpha_channel = py5.np_pixels[50:-50, 50:-50, 0].copy()\n",
    "    red_channel = py5.np_pixels[50:-50, 50:-50, 1].copy()\n",
    "    green_channel = py5.np_pixels[50:-50, 50:-50, 2].copy()\n",
    "    blue_channel = py5.np_pixels[50:-50, 50:-50, 3].copy()\n",
    "\n",
    "    # assign red channel to green\n",
    "    py5.np_pixels[50:-50, 50:-50, 2] = red_channel\n",
    "\n",
    "    # assign green channel to blue\n",
    "    py5.np_pixels[50:-50, 50:-50, 3] = green_channel\n",
    "\n",
    "    # assign blue channel to red\n",
    "    py5.np_pixels[50:-50, 50:-50, 1] = blue_channel\n",
    "\n",
    "    py5.update_np_pixels()\n",
    "\n",
    "py5.run_sketch()"
   ]
  },
  {
   "cell_type": "markdown",
   "id": "613ef1b3-21e0-4b35-8c34-558d5c4282cd",
   "metadata": {
    "editable": true,
    "slideshow": {
     "slide_type": ""
    },
    "tags": []
   },
   "source": [
    "Observe how our code is extracting each of the individual color\n",
    "channels.\n",
    "\n",
    "```python\n",
    "    # extract individual channels\n",
    "    alpha_channel = py5.np_pixels[50:-50, 50:-50, 0].copy()\n",
    "    red_channel = py5.np_pixels[50:-50, 50:-50, 1].copy()\n",
    "    green_channel = py5.np_pixels[50:-50, 50:-50, 2].copy()\n",
    "    blue_channel = py5.np_pixels[50:-50, 50:-50, 3].copy()\n",
    "```\n",
    "\n",
    "We are indexing into [](/reference/sketch_np_pixels) to extract entire\n",
    "blocks of data. The last index value in each line of code, 0, 1, 2, and 3,\n",
    "correspond to the Alpha, Red, Green, and Blue channels, in that order.\n",
    "\n",
    "Those blocks of numbers are then assigned back to [](/reference/sketch_np_pixels)\n",
    "to swap the color channels.\n",
    "\n",
    "This approach yields the same result, but is considerably faster."
   ]
  },
  {
   "cell_type": "code",
   "execution_count": null,
   "id": "90db5b96-f792-4a07-a6f7-a6d1bca1bbe7",
   "metadata": {
    "editable": true,
    "slideshow": {
     "slide_type": ""
    },
    "tags": [
     "remove-cell"
    ]
   },
   "outputs": [],
   "source": [
    "import time\n",
    "\n",
    "time.sleep(1)"
   ]
  },
  {
   "cell_type": "code",
   "execution_count": null,
   "id": "0dea05b6-9be3-48d6-9fe4-a01f343faede",
   "metadata": {
    "editable": true,
    "slideshow": {
     "slide_type": ""
    },
    "tags": []
   },
   "outputs": [],
   "source": [
    "py5_tools.screenshot()"
   ]
  },
  {
   "cell_type": "code",
   "execution_count": null,
   "id": "c4916ea2-b0f8-43a4-9544-b994103a60e1",
   "metadata": {
    "editable": true,
    "slideshow": {
     "slide_type": ""
    },
    "tags": [
     "remove-cell"
    ]
   },
   "outputs": [],
   "source": [
    "time.sleep(0.5)\n",
    "py5.exit_sketch()\n",
    "time.sleep(0.5)"
   ]
  },
  {
   "cell_type": "markdown",
   "id": "ac7994ef-02e7-4fa5-af85-98c792065e36",
   "metadata": {
    "editable": true,
    "slideshow": {
     "slide_type": ""
    },
    "tags": []
   },
   "source": [
    "## Color Channel Ordering\n",
    "\n",
    "The `np_pixels` array's third dimension can sometimes be tricky\n",
    "to work with because you must be cognizant of where each color\n",
    "channel is located in the Color Channel Ordering. Sometimes the term\n",
    "\"[bands](https://pillow.readthedocs.io/en/stable/handbook/concepts.html#bands)\"\n",
    "will be used.\n",
    "\n",
    "The core issue you need to pay attention to is the fact that\n",
    "there is no standard or \"correct\" way to order the Color Channel.\n",
    "One library might order the Color Channel starting with Alpha,\n",
    "then Red, Green, and finally Blue (like py5 does), but another\n",
    "might use the order Red, Green, Blue, and then Alpha. Most libraries\n",
    "will offer a way to re-order the Color Channels, of course, but\n",
    "to do that successfully, you need to know what order you are starting\n",
    "with and what order you should re-order it to.\n",
    "\n",
    "Bottom line, if your code expects the Color Channel Order to be one\n",
    "way but the image data is actually ordered a different way, the image's\n",
    "colors will be incorrect.\n",
    "\n",
    "It is best to illustrate what this means for you, the py5 coder,\n",
    "with a brief example. We will explore this by loading an image of\n",
    "the py5 logo and using it understand Color Channel Ordering.\n",
    "\n",
    "To begin, we will load the image with the PIL, the Python Imaging\n",
    "Library."
   ]
  },
  {
   "cell_type": "code",
   "execution_count": null,
   "id": "55013038-7785-4cfa-b278-0cdde1ae6799",
   "metadata": {
    "editable": true,
    "slideshow": {
     "slide_type": ""
    },
    "tags": []
   },
   "outputs": [],
   "source": [
    "logo_img_pil = Image.open('images/logo.png')\n",
    "\n",
    "logo_img_pil"
   ]
  },
  {
   "cell_type": "markdown",
   "id": "4fb31fd8-9ccb-473d-88e9-a6f376452b33",
   "metadata": {
    "editable": true,
    "slideshow": {
     "slide_type": ""
    },
    "tags": []
   },
   "source": [
    "Nice looking logo. :) To explore Color Channels, we will convert\n",
    "the image to a numpy array."
   ]
  },
  {
   "cell_type": "code",
   "execution_count": null,
   "id": "6710bda4-07ab-421a-a076-62f9e095512b",
   "metadata": {
    "editable": true,
    "slideshow": {
     "slide_type": ""
    },
    "tags": []
   },
   "outputs": [],
   "source": [
    "logo_array_pil = np.asarray(logo_img_pil)\n",
    "\n",
    "logo_array_pil.shape"
   ]
  },
  {
   "cell_type": "markdown",
   "id": "0c6476e4-ef78-4996-8b00-fe1a7144244f",
   "metadata": {
    "editable": true,
    "slideshow": {
     "slide_type": ""
    },
    "tags": []
   },
   "source": [
    "The last value is 4, indicating this array has 4 Color Channels.\n",
    "\n",
    "Next we will load the same image using OpenCV. OpenCV loads\n",
    "images as numpy arrays. We must use the `cv2.IMREAD_UNCHANGED`\n",
    "flag to instruct it to retain the image's alpha channel."
   ]
  },
  {
   "cell_type": "code",
   "execution_count": null,
   "id": "498a57c9-f40f-4c5f-afaa-242bf1041361",
   "metadata": {
    "editable": true,
    "slideshow": {
     "slide_type": ""
    },
    "tags": []
   },
   "outputs": [],
   "source": [
    "logo_array_opencv = cv2.imread('images/logo.png', cv2.IMREAD_UNCHANGED)\n",
    "\n",
    "logo_array_opencv.shape"
   ]
  },
  {
   "cell_type": "markdown",
   "id": "ce0a078e-5e4b-420a-80ff-f56c3c4633b5",
   "metadata": {
    "editable": true,
    "slideshow": {
     "slide_type": ""
    },
    "tags": []
   },
   "source": [
    "Now we will use both arrays in a Sketch. We will use the\n",
    "[](/reference/sketch_create_image_from_numpy) method to\n",
    "create a Py5Image object from each array."
   ]
  },
  {
   "cell_type": "code",
   "execution_count": null,
   "id": "3fd38211-e7e2-44f2-a291-2914ebd9dd66",
   "metadata": {
    "editable": true,
    "slideshow": {
     "slide_type": ""
    },
    "tags": []
   },
   "outputs": [],
   "source": [
    "def setup():\n",
    "    py5.size(512, 256)\n",
    "    py5.background(204)\n",
    "\n",
    "    img_pil = py5.create_image_from_numpy(logo_array_pil)\n",
    "    img_opencv = py5.create_image_from_numpy(logo_array_opencv)\n",
    "\n",
    "    py5.image(img_pil, 0, 0)\n",
    "    py5.image(img_opencv, 256, 0)\n",
    "\n",
    "\n",
    "py5.run_sketch()"
   ]
  },
  {
   "cell_type": "code",
   "execution_count": null,
   "id": "4f111c83-8e9c-4c7e-a0b5-ed0c020e0ba4",
   "metadata": {
    "editable": true,
    "slideshow": {
     "slide_type": ""
    },
    "tags": [
     "remove-cell"
    ]
   },
   "outputs": [],
   "source": [
    "time.sleep(1)"
   ]
  },
  {
   "cell_type": "markdown",
   "id": "1d287848-d8c5-4606-99e0-e0a1f0448ace",
   "metadata": {
    "editable": true,
    "slideshow": {
     "slide_type": ""
    },
    "tags": []
   },
   "source": [
    "Here is the result:"
   ]
  },
  {
   "cell_type": "code",
   "execution_count": null,
   "id": "feea30fd-e3be-41ae-b2a9-436df221dabd",
   "metadata": {
    "editable": true,
    "slideshow": {
     "slide_type": ""
    },
    "tags": []
   },
   "outputs": [],
   "source": [
    "py5_tools.screenshot()"
   ]
  },
  {
   "cell_type": "code",
   "execution_count": null,
   "id": "35e154fb-be46-40c3-8672-24076b6c1035",
   "metadata": {
    "editable": true,
    "slideshow": {
     "slide_type": ""
    },
    "tags": [
     "remove-cell"
    ]
   },
   "outputs": [],
   "source": [
    "time.sleep(0.5)\n",
    "py5.exit_sketch()\n",
    "time.sleep(0.5)"
   ]
  },
  {
   "cell_type": "markdown",
   "id": "15a69ada-e16b-4805-80f5-91288a87bd8a",
   "metadata": {
    "editable": true,
    "slideshow": {
     "slide_type": ""
    },
    "tags": []
   },
   "source": [
    "The results are completely wrong. None of the colors look right.\n",
    "The two images don't look the same as each other, and neither\n",
    "looks like the actual py5 logo:"
   ]
  },
  {
   "cell_type": "code",
   "execution_count": null,
   "id": "394cc00e-f5cd-4abe-91a8-34b1ea054e62",
   "metadata": {
    "editable": true,
    "slideshow": {
     "slide_type": ""
    },
    "tags": []
   },
   "outputs": [],
   "source": [
    "logo_img_pil"
   ]
  },
  {
   "cell_type": "markdown",
   "id": "1a8b846a-2dd6-45fb-ab62-03b3a3d5ee0f",
   "metadata": {
    "editable": true,
    "slideshow": {
     "slide_type": ""
    },
    "tags": []
   },
   "source": [
    "What went wrong?\n",
    "\n",
    "The answer has to do with Color Channel Ordering.\n",
    "\n",
    "We know from the previous section that in py5, the Color Channel Order\n",
    "of [](/reference/sketch_np_pixels) starts with Alpha, followed by Red,\n",
    "Green, and finally, Blue (also abbreviated as ARGB).\n",
    "\n",
    "And here's the problem: our PIL and OpenCV image arrays use different\n",
    "Color Channel Orderings.\n",
    "\n",
    "What Color Channel Order do they use? Well, for the PIL Image object,\n",
    "we can use the `mode` property to find out:"
   ]
  },
  {
   "cell_type": "code",
   "execution_count": null,
   "id": "0291c765-f23e-4088-b851-f8bc2a6a9272",
   "metadata": {
    "editable": true,
    "slideshow": {
     "slide_type": ""
    },
    "tags": []
   },
   "outputs": [],
   "source": [
    "logo_img_pil.mode"
   ]
  },
  {
   "cell_type": "markdown",
   "id": "3b57f36b-4d68-41e2-a5d5-7aaf4ca8e35b",
   "metadata": {
    "editable": true,
    "slideshow": {
     "slide_type": ""
    },
    "tags": []
   },
   "source": [
    "It is 'RGBA', not 'ARGB'. The Alpha channel is last, not first.\n",
    "\n",
    "It's different from what py5 and the [](/reference/sketch_create_image_from_numpy)\n",
    "method expect.\n",
    "\n",
    "Before we continue, let's think about why this matters.\n",
    "\n",
    "A numpy array is essentially a multi-dimensional grid of numbers. Each\n",
    "dimension of the grid of numbers means something different. We know that\n",
    "for image data, the first dimension corresponds to height, the second\n",
    "to width, and third to the color channel.\n",
    "\n",
    "When py5 receives a numpy array and converts it into an image, it must\n",
    "make a decision and *interpret* the array's last dimension as a specific\n",
    "sequence of colors. If it uses the wrong sequence colors, it will make\n",
    "mistakes, interpreting the colors incorrectly.\n",
    "\n",
    "In this case, the [](/reference/sketch_create_image_from_numpy) method was\n",
    "interpreting the Color Channel Order as 'ARGB', which it will do by default,\n",
    "but the Color Channel Order in the array was actually 'RGBA'. That means that\n",
    "the image's first color channel was actually Red, but py5 interpreted it as\n",
    "the Alpha channel. The image's second color channel, Green, was interpreted\n",
    "by py5 as the Red channel. The image's third color channel, Blue, was\n",
    "interpreted by py5 as the Green channel. And finally, the image's last color\n",
    "channel, Alpha, was interpreted by py5 as the Blue channel. Every Color Channel\n",
    "was interpreted incorrectly.\n",
    "\n",
    "How do we fix it? Well, one way is to manipulate the PIL Image object to\n",
    "re-order the color channels so that when it is converted to a numpy array,\n",
    "the color channel is ordered as py5 expects. That would actually work, but we\n",
    "want a solution that involves py5. In this case, we will pass an extra\n",
    "parameter to the [](/reference/sketch_create_image_from_numpy) method to\n",
    "instruct it to interpret the Color Channel Ordering with a different order\n",
    "('RGBA')."
   ]
  },
  {
   "cell_type": "code",
   "execution_count": null,
   "id": "659129db-84fc-4b7d-89fa-144604d6cf13",
   "metadata": {
    "editable": true,
    "slideshow": {
     "slide_type": ""
    },
    "tags": []
   },
   "outputs": [],
   "source": [
    "def setup():\n",
    "    py5.size(512, 256)\n",
    "    py5.background(204)\n",
    "\n",
    "    img_pil = py5.create_image_from_numpy(logo_array_pil, 'RGBA')\n",
    "    img_opencv = py5.create_image_from_numpy(logo_array_opencv, 'RGBA')\n",
    "\n",
    "    py5.image(img_pil, 0, 0)\n",
    "    py5.image(img_opencv, 256, 0)\n",
    "\n",
    "\n",
    "py5.run_sketch()"
   ]
  },
  {
   "cell_type": "code",
   "execution_count": null,
   "id": "c3f7c621-9185-4de0-99be-49cac74ece51",
   "metadata": {
    "editable": true,
    "slideshow": {
     "slide_type": ""
    },
    "tags": [
     "remove-cell"
    ]
   },
   "outputs": [],
   "source": [
    "time.sleep(1)"
   ]
  },
  {
   "cell_type": "markdown",
   "id": "b61e1552-4069-4bd7-b2ef-4b447a6c4965",
   "metadata": {
    "editable": true,
    "slideshow": {
     "slide_type": ""
    },
    "tags": []
   },
   "source": [
    "How does it look now?"
   ]
  },
  {
   "cell_type": "code",
   "execution_count": null,
   "id": "13988b06-954f-4e84-a566-fda173638623",
   "metadata": {
    "editable": true,
    "slideshow": {
     "slide_type": ""
    },
    "tags": []
   },
   "outputs": [],
   "source": [
    "py5_tools.screenshot()"
   ]
  },
  {
   "cell_type": "code",
   "execution_count": null,
   "id": "5d62d9df-a9a1-4d74-8364-be320d3a625c",
   "metadata": {
    "editable": true,
    "slideshow": {
     "slide_type": ""
    },
    "tags": [
     "remove-cell"
    ]
   },
   "outputs": [],
   "source": [
    "time.sleep(0.5)\n",
    "py5.exit_sketch()\n",
    "time.sleep(0.5)"
   ]
  },
  {
   "cell_type": "markdown",
   "id": "6aa8aa52-1230-4293-ab24-f851640a021c",
   "metadata": {
    "editable": true,
    "slideshow": {
     "slide_type": ""
    },
    "tags": []
   },
   "source": [
    "It looks better. The logo image on the left is correct. The black\n",
    "color in the logo image on the right is correct, but the rest are\n",
    "incorrect. We must still be using the wrong Color Channel Order\n",
    "for the image loaded by OpenCV.\n",
    "\n",
    "If we search around online we will discover that OpenCV reverses the\n",
    "Color Channel Order, ordering it 'BGR', or 'BGRA' for images with\n",
    "alpha channels.\n",
    "\n",
    "Let us try our Sketch again, this time using the Color Channel Order\n",
    "'BGRA' for the OpenCV array."
   ]
  },
  {
   "cell_type": "code",
   "execution_count": null,
   "id": "200158ec-ae0e-4ffa-890e-fbb630c67eac",
   "metadata": {
    "editable": true,
    "slideshow": {
     "slide_type": ""
    },
    "tags": []
   },
   "outputs": [],
   "source": [
    "def setup():\n",
    "    py5.size(512, 256)\n",
    "    py5.background(204)\n",
    "\n",
    "    img_pil = py5.create_image_from_numpy(logo_array_pil, 'RGBA')\n",
    "    img_opencv = py5.create_image_from_numpy(logo_array_opencv, 'BGRA')\n",
    "\n",
    "    py5.image(img_pil, 0, 0)\n",
    "    py5.image(img_opencv, 256, 0)\n",
    "\n",
    "\n",
    "py5.run_sketch()"
   ]
  },
  {
   "cell_type": "code",
   "execution_count": null,
   "id": "06ccabaf-cbc5-43bf-a25a-f69a81211c5b",
   "metadata": {
    "editable": true,
    "slideshow": {
     "slide_type": ""
    },
    "tags": [
     "remove-cell"
    ]
   },
   "outputs": [],
   "source": [
    "time.sleep(1)"
   ]
  },
  {
   "cell_type": "markdown",
   "id": "c149d551-044c-4399-8ec4-ad8881241cf1",
   "metadata": {
    "editable": true,
    "slideshow": {
     "slide_type": ""
    },
    "tags": []
   },
   "source": [
    "Now both logo images are drawn correctly."
   ]
  },
  {
   "cell_type": "code",
   "execution_count": null,
   "id": "c6353980-d6e5-44b2-9590-931efaecc782",
   "metadata": {
    "editable": true,
    "slideshow": {
     "slide_type": ""
    },
    "tags": []
   },
   "outputs": [],
   "source": [
    "py5_tools.screenshot()"
   ]
  },
  {
   "cell_type": "code",
   "execution_count": null,
   "id": "3f3387ed-d84b-4634-a60b-aadd05ee5e9f",
   "metadata": {
    "editable": true,
    "slideshow": {
     "slide_type": ""
    },
    "tags": [
     "remove-cell"
    ]
   },
   "outputs": [],
   "source": [
    "time.sleep(0.5)\n",
    "py5.exit_sketch()\n",
    "time.sleep(0.5)"
   ]
  },
  {
   "cell_type": "markdown",
   "id": "0b0b9bba-3797-428e-b8b2-56633b5f1977",
   "metadata": {
    "editable": true,
    "slideshow": {
     "slide_type": ""
    },
    "tags": []
   },
   "source": [
    "For the first two examples exploring Color Channel Ordering,\n",
    "py5 was interpreting the array's Color Channel Ordering incorrectly.\n",
    "There were no exceptions or obvious errors other than the fact that\n",
    "the colors looked wrong to us.\n",
    "\n",
    "Keep in mind that if we were unfamiliar with what the py5 logo actually looks\n",
    "like, we might not have spotted the mistake at all. This suggests a\n",
    "useful best practice for writing code with image arrays: always test out your\n",
    "code with a familiar image. It will help you spot errors that might otherwise\n",
    "be overlooked."
   ]
  },
  {
   "cell_type": "markdown",
   "id": "73854dc9-7f01-4f76-9c02-c31dcb52973e",
   "metadata": {
    "editable": true,
    "slideshow": {
     "slide_type": ""
    },
    "tags": []
   },
   "source": [
    "## Bulk Coordinate Methods\n",
    "\n",
    "If you are using py5 and need to create a shape with a\n",
    "thousand vertices, one approach for implementing this\n",
    "would involve a `for` loop that created each vertex,\n",
    "one at a time.\n",
    "\n",
    "Unfortunately, that py5 code would execute slowly.\n",
    "\n",
    "It would execute slowly because the method call for\n",
    "each individual vertex would involve a separate call\n",
    "to py5's underlying Processing code.\n",
    "\n",
    "A better approach would involve skipping the `for`\n",
    "loop and creating all of the vertices with a single\n",
    "command. This approach lets py5 create the vertices\n",
    "in the most efficient way possible. The performance\n",
    "difference between the two approaches can be significant."
   ]
  },
  {
   "cell_type": "code",
   "execution_count": null,
   "id": "6c35dd23-7842-4e78-a020-62f489484ce5",
   "metadata": {},
   "outputs": [],
   "source": [
    "# slow for loop example"
   ]
  },
  {
   "cell_type": "code",
   "execution_count": null,
   "id": "ed28b0ad-3461-47b8-bb0f-3ab12fafe194",
   "metadata": {},
   "outputs": [],
   "source": [
    "# fast vertices example"
   ]
  },
  {
   "cell_type": "code",
   "execution_count": null,
   "id": "cf923617-f6db-4b39-ac6f-5b6bdb2e59c2",
   "metadata": {
    "editable": true,
    "slideshow": {
     "slide_type": ""
    },
    "tags": []
   },
   "outputs": [],
   "source": []
  },
  {
   "cell_type": "code",
   "execution_count": null,
   "id": "35520f6a-44e4-4d89-ae76-4fbbf7b2cc48",
   "metadata": {
    "editable": true,
    "slideshow": {
     "slide_type": ""
    },
    "tags": []
   },
   "outputs": [],
   "source": [
    "# time.sleep(1)"
   ]
  },
  {
   "cell_type": "code",
   "execution_count": null,
   "id": "a09a6960-0385-4dcc-9c92-ad31e83bb298",
   "metadata": {
    "editable": true,
    "slideshow": {
     "slide_type": ""
    },
    "tags": []
   },
   "outputs": [],
   "source": [
    "# py5_tools.screenshot()"
   ]
  },
  {
   "cell_type": "code",
   "execution_count": null,
   "id": "ea3f1875-f154-4704-aad4-733b84286d69",
   "metadata": {
    "editable": true,
    "slideshow": {
     "slide_type": ""
    },
    "tags": []
   },
   "outputs": [],
   "source": [
    "# time.sleep(0.5)\n",
    "# py5.exit_sketch()\n",
    "# time.sleep(0.5)"
   ]
  },
  {
   "cell_type": "markdown",
   "id": "2e075b45-a730-416a-b653-26a9bccb72fd",
   "metadata": {},
   "source": [
    "TODO: list all of the bulk commands"
   ]
  },
  {
   "cell_type": "code",
   "execution_count": null,
   "id": "fede9ddf-1bb2-46d3-84ff-caead6d23e17",
   "metadata": {},
   "outputs": [],
   "source": []
  }
 ],
 "metadata": {
  "jupytext": {
   "formats": "ipynb,md:myst"
  },
  "kernelspec": {
   "display_name": "Python 3 (ipykernel)",
   "language": "python",
   "name": "python3"
  },
  "language_info": {
   "codemirror_mode": {
    "name": "ipython",
    "version": 3
   },
   "file_extension": ".py",
   "mimetype": "text/x-python",
   "name": "python",
   "nbconvert_exporter": "python",
   "pygments_lexer": "ipython3",
   "version": "3.8.17"
  }
 },
 "nbformat": 4,
 "nbformat_minor": 5
}
