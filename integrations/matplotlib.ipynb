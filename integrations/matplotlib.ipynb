{
 "cells": [
  {
   "cell_type": "markdown",
   "id": "52a36915",
   "metadata": {},
   "source": [
    "# Charts, Plots, and Matplotlib\n",
    "\n",
    "[Matplotlib](https://matplotlib.org/) is a widely used library for creating\n",
    "high quality static, animated, and interactive data visualizations. It has\n",
    "a long history within the Python community. Matplotlib's contributions to\n",
    "the scientific community cannot be understated. Integrating matplotlib into\n",
    "py5 creates many exciting possibilities.\n",
    "\n",
    "In the future, matplotlib will have even more integrations with py5, beyond\n",
    "what is discussed here. Stay tuned!\n",
    "\n",
    "## Setup\n",
    "\n",
    "Install matplotlib with pip or with conda.\n",
    "\n",
    "```bash\n",
    "pip install matplotlib\n",
    "```\n",
    "\n",
    "```bash\n",
    "conda install matplotlib -c conda-forge\n",
    "```\n",
    "\n",
    "Refer to matplotlib's [Getting Started](https://matplotlib.org/stable/users/getting_started/)\n",
    "page or [Installation Guide](https://matplotlib.org/stable/users/installing/index.html)\n",
    "for more information."
   ]
  },
  {
   "cell_type": "markdown",
   "id": "0668a4c9-3f20-49b5-b574-344950122654",
   "metadata": {},
   "source": [
    "## `Figure` Objects\n",
    "\n",
    "Converting matplotlib Figure objects to Py5Image objects\n",
    "with [](/reference/sketch_convert_image) is straightforward\n",
    "but there are important performance considerations that\n",
    "must be addressed to use this feature well.\n",
    "\n",
    "### Example with Performance Problems\n",
    "\n",
    "Let's start with an example that has some performance problems.\n",
    "Understanding the performance problems is necessary to show\n",
    "you how to use py5 and matplotlib together optimally. We\n",
    "will work through the performance problems to demonstrate\n",
    "better ways to use py5 and matplotlib in a Sketch.\n",
    "\n",
    "To begin, we will import matplotlib and some other libraries\n",
    "we will use for our examples."
   ]
  },
  {
   "cell_type": "code",
   "execution_count": null,
   "id": "bdb4ab00-8e2a-4fb1-a7e2-d0cd4d8ce316",
   "metadata": {},
   "outputs": [],
   "source": [
    "from collections import deque\n",
    "\n",
    "import numpy as np\n",
    "import matplotlib as mpl\n",
    "import matplotlib.pyplot as plt\n",
    "from matplotlib.colors import LinearSegmentedColormap\n",
    "\n",
    "import py5_tools\n",
    "import py5"
   ]
  },
  {
   "cell_type": "markdown",
   "id": "2af9e87b-fb54-443b-92b4-9a39761715a2",
   "metadata": {},
   "source": [
    "Next we will set matplotlib's drawing style. There are\n",
    "[many style sheets](https://matplotlib.org/stable/gallery/style_sheets/style_sheets_reference.html)\n",
    "to choose from. Here we are using \"ggplot\" with the \"fast\" style to improve\n",
    "[performance](https://matplotlib.org/stable/users/explain/artists/performance.html#using-the-fast-style).\n",
    "\n",
    "We will not use the matplotlib Jupyter Notebook magic `%matplotlib inline`. It isn't necessary\n",
    "for this example and it seems to confict with the code py5 uses to run correctly on OSX."
   ]
  },
  {
   "cell_type": "code",
   "execution_count": null,
   "id": "0911d2df-ca10-4dce-b2ac-cc02d195bcc1",
   "metadata": {},
   "outputs": [],
   "source": [
    "mpl.style.use(['ggplot', 'fast'])"
   ]
  },
  {
   "cell_type": "markdown",
   "id": "5f457dc4-b250-4f36-a580-70be84af979d",
   "metadata": {
    "editable": true,
    "slideshow": {
     "slide_type": ""
    },
    "tags": []
   },
   "source": [
    "For our example we will create a Sketch that plots its own frame rate. We will\n",
    "collect the frame rate numbers in a special data structure called a\n",
    "[\"deque\"](https://docs.python.org/3/library/collections.html#collections.deque).\n",
    "This data structure will store the most recent 250 frame rate observations.\n",
    "It will do this automatically by removing old values as new values are added.\n",
    "We will also pre-populate the deque with initial values of 60."
   ]
  },
  {
   "cell_type": "code",
   "execution_count": null,
   "id": "8e29e04f-81fd-4699-b528-861235153d1c",
   "metadata": {
    "editable": true,
    "slideshow": {
     "slide_type": ""
    },
    "tags": []
   },
   "outputs": [],
   "source": [
    "frame_rates = deque([60] * 250, maxlen=250)"
   ]
  },
  {
   "cell_type": "markdown",
   "id": "6d1f95ec-3c30-43a2-b8e0-a00e5ce00176",
   "metadata": {},
   "source": [
    "Next we will create a function for creating our matplotlib chart. As you can see,\n",
    "this is a nice looking chart. New observations are added to the right side of\n",
    "the chart. The data points get successively older as one moves from right to left."
   ]
  },
  {
   "cell_type": "code",
   "execution_count": null,
   "id": "aa79e9f4-b602-47cb-b893-1c0ee0065aef",
   "metadata": {
    "editable": true,
    "slideshow": {
     "slide_type": ""
    },
    "tags": []
   },
   "outputs": [],
   "source": [
    "def create_chart(frame_rates):\n",
    "    figure, ax1 = plt.subplots(1, 1, figsize=(9, 9))\n",
    "    line, = ax1.plot(range(-len(frame_rates), 0), frame_rates)\n",
    "    ax1.set_ylim(0, 70)\n",
    "    ax1.set_xlabel('framerate observations')\n",
    "    ax1.set_ylabel('framerate per second')\n",
    "    ax1.set_title('py5 sketch framerate')\n",
    "\n",
    "    return figure, line\n",
    "\n",
    "\n",
    "create_chart(frame_rates)"
   ]
  },
  {
   "cell_type": "markdown",
   "id": "56c9f731-8570-4d7d-8cbd-71e04afe83f9",
   "metadata": {},
   "source": [
    "Finally, we will set the\n",
    "[matplotlib backend](https://matplotlib.org/stable/users/explain/figure/backends.html)\n",
    "to AGG. This backend is non-interactive. It is also faster\n",
    "than the other backends, making it a good choice for our work with py5.\n",
    "\n",
    "After setting this backend, matplotlib Figures will no longer\n",
    "appear embedded in the notebook like you see for the Figure\n",
    "created above."
   ]
  },
  {
   "cell_type": "code",
   "execution_count": null,
   "id": "979e8420-1166-4961-b6c9-ccf3dd37fca9",
   "metadata": {
    "editable": true,
    "slideshow": {
     "slide_type": ""
    },
    "tags": []
   },
   "outputs": [],
   "source": [
    "mpl.use('agg')"
   ]
  },
  {
   "cell_type": "markdown",
   "id": "f08ffe09-ec81-46ae-a15d-d218b2a08655",
   "metadata": {},
   "source": [
    "Now, the py5 Sketch. Here, we are creating a new chart in each execution of the\n",
    "`draw()` method. The Figure object is converted to a Py5Image object using\n",
    "[](/reference/sketch_convert_image).\n",
    "\n",
    "Since each call to `draw()` creates a new Figure, we must close each figure with\n",
    "`plt.close()` to control memory usage."
   ]
  },
  {
   "cell_type": "code",
   "execution_count": null,
   "id": "63e0b77f-af38-4a83-8370-821938bba1c5",
   "metadata": {
    "editable": true,
    "slideshow": {
     "slide_type": ""
    },
    "tags": []
   },
   "outputs": [],
   "source": [
    "def setup():\n",
    "    py5.size(950, 950)\n",
    "\n",
    "\n",
    "def draw():\n",
    "    frame_rates.append(py5.get_frame_rate())\n",
    "\n",
    "    figure, _ = create_chart(frame_rates)\n",
    "    chart = py5.convert_image(figure)\n",
    "    plt.close(figure)\n",
    "\n",
    "    py5.background(240)\n",
    "    py5.image(chart, 25, 25)\n",
    "\n",
    "\n",
    "py5.run_sketch()"
   ]
  },
  {
   "cell_type": "code",
   "execution_count": null,
   "id": "950c4440-aba9-4422-b27b-7c25fbc44162",
   "metadata": {
    "editable": true,
    "slideshow": {
     "slide_type": ""
    },
    "tags": [
     "remove-cell"
    ]
   },
   "outputs": [],
   "source": [
    "import time\n",
    "\n",
    "time.sleep(15)"
   ]
  },
  {
   "cell_type": "markdown",
   "id": "323fdde1-19b7-4bd1-beda-880d866cddc6",
   "metadata": {
    "editable": true,
    "slideshow": {
     "slide_type": ""
    },
    "tags": []
   },
   "source": [
    "This is slow. We can do better."
   ]
  },
  {
   "cell_type": "code",
   "execution_count": null,
   "id": "1c6341cc-324a-4815-a673-363b11db37a2",
   "metadata": {
    "editable": true,
    "slideshow": {
     "slide_type": ""
    },
    "tags": []
   },
   "outputs": [],
   "source": [
    "py5_tools.screenshot()"
   ]
  },
  {
   "cell_type": "markdown",
   "id": "2b6b5b97-d523-4c65-8bfb-3e6ba2312b2a",
   "metadata": {},
   "source": [
    "### Performance Analysis\n",
    "\n",
    "We will profile the `draw()` function to investigate why."
   ]
  },
  {
   "cell_type": "code",
   "execution_count": null,
   "id": "48e5b504-1bad-46c9-b202-69af76462e4e",
   "metadata": {},
   "outputs": [],
   "source": [
    "py5.profile_draw()"
   ]
  },
  {
   "cell_type": "code",
   "execution_count": null,
   "id": "c7e3913d-f903-4692-9c90-861fbf4282c6",
   "metadata": {
    "editable": true,
    "slideshow": {
     "slide_type": ""
    },
    "tags": [
     "remove-cell"
    ]
   },
   "outputs": [],
   "source": [
    "time.sleep(10)"
   ]
  },
  {
   "cell_type": "code",
   "execution_count": null,
   "id": "b75cfb85-388a-4615-914f-870ca894df9c",
   "metadata": {},
   "outputs": [],
   "source": [
    "py5.print_line_profiler_stats()"
   ]
  },
  {
   "cell_type": "markdown",
   "id": "23ada35d-bcd6-46ea-820a-990851140c44",
   "metadata": {
    "editable": true,
    "slideshow": {
     "slide_type": ""
    },
    "tags": []
   },
   "source": [
    "The Sketch is spending the majority of the time in [](/reference/sketch_convert_image). It is\n",
    "also spendng a significant amount of time creating the Figure."
   ]
  },
  {
   "cell_type": "code",
   "execution_count": null,
   "id": "6944a99f-bcf2-4b2f-b7df-155cc7730688",
   "metadata": {
    "editable": true,
    "slideshow": {
     "slide_type": ""
    },
    "tags": [
     "remove-cell"
    ]
   },
   "outputs": [],
   "source": [
    "time.sleep(0.5)\n",
    "py5.exit_sketch()\n",
    "time.sleep(0.5)"
   ]
  },
  {
   "cell_type": "markdown",
   "id": "c7608f32-da7c-4826-9282-8b8adfcae328",
   "metadata": {},
   "source": [
    "### Improved Example\n",
    "\n",
    "There are a few quick changes we can make to address this.\n",
    "\n",
    "The first change is to create the Figure one and only one time in\n",
    "`setup()`. We can then update the Figure's data with the line's\n",
    "[`set_ydata()`](https://matplotlib.org/stable/api/_as_gen/matplotlib.lines.Line2D.html#matplotlib.lines.Line2D.set_ydata)\n",
    "method. Creating the Figure object once and updating the data is a\n",
    "much more efficient approach. Repeatedly creating matplotlib\n",
    "Figures is in general a bad idea.\n",
    "\n",
    "The second change is to recycle the Py5Image object. The\n",
    "[](/reference/sketch_convert_image) method lets us provide a Py5Image\n",
    "object to write the converted image data into. The Py5Image object must\n",
    "be the correct size. Recycling one Py5Image object in this way is lets\n",
    "us skip the repeated object creation of new Py5Image objects and garbage\n",
    "collection of old Py5Image objects."
   ]
  },
  {
   "cell_type": "code",
   "execution_count": null,
   "id": "ccc45d07-670d-438b-9801-f7928bc5cc47",
   "metadata": {
    "editable": true,
    "slideshow": {
     "slide_type": ""
    },
    "tags": []
   },
   "outputs": [],
   "source": [
    "frame_rates = deque([60] * 250, maxlen=250)\n",
    "\n",
    "\n",
    "def setup():\n",
    "    global figure, line, chart\n",
    "    py5.size(950, 950)\n",
    "\n",
    "    figure, line = create_chart(frame_rates)\n",
    "    chart = py5.convert_image(figure)\n",
    "\n",
    "\n",
    "def draw():\n",
    "    frame_rates.append(py5.get_frame_rate())\n",
    "\n",
    "    line.set_ydata(frame_rates)\n",
    "    py5.convert_image(figure, dst=chart)\n",
    "\n",
    "    py5.background(240)\n",
    "    py5.image(chart, 25, 25)\n",
    "\n",
    "\n",
    "py5.run_sketch()"
   ]
  },
  {
   "cell_type": "code",
   "execution_count": null,
   "id": "c494120b-86af-4d1e-96c9-ce50ffb31bc6",
   "metadata": {
    "editable": true,
    "slideshow": {
     "slide_type": ""
    },
    "tags": [
     "remove-cell"
    ]
   },
   "outputs": [],
   "source": [
    "time.sleep(10)"
   ]
  },
  {
   "cell_type": "markdown",
   "id": "c3fa1721-2cf8-4273-8591-887615da439d",
   "metadata": {
    "editable": true,
    "slideshow": {
     "slide_type": ""
    },
    "tags": []
   },
   "source": [
    "We can see this is significantly faster but still not the\n",
    "Sketch performance we are looking for."
   ]
  },
  {
   "cell_type": "code",
   "execution_count": null,
   "id": "495a9026-1ed1-47fe-9f20-9f9b8c66de44",
   "metadata": {},
   "outputs": [],
   "source": [
    "py5_tools.screenshot()"
   ]
  },
  {
   "cell_type": "markdown",
   "id": "c1068062-108d-4bd7-9486-e9cd035816de",
   "metadata": {},
   "source": [
    "### Second Performance Analysis\n",
    "\n",
    "We can again profile the `draw()` function to understand why."
   ]
  },
  {
   "cell_type": "code",
   "execution_count": null,
   "id": "9f99d4a3-da99-4390-bce6-2eecf2c52cf5",
   "metadata": {},
   "outputs": [],
   "source": [
    "py5.profile_draw()"
   ]
  },
  {
   "cell_type": "code",
   "execution_count": null,
   "id": "94dd677d-8363-4bb4-a025-50e68d008113",
   "metadata": {
    "editable": true,
    "slideshow": {
     "slide_type": ""
    },
    "tags": [
     "remove-cell"
    ]
   },
   "outputs": [],
   "source": [
    "time.sleep(10)"
   ]
  },
  {
   "cell_type": "code",
   "execution_count": null,
   "id": "8269f010-d2de-48bf-8fdd-7348c04b63fc",
   "metadata": {},
   "outputs": [],
   "source": [
    "py5.print_line_profiler_stats()"
   ]
  },
  {
   "cell_type": "markdown",
   "id": "f9c7302f-b777-4c97-b7ed-93f3f16d6a9a",
   "metadata": {},
   "source": [
    "Almost all of the time is spent in [](/reference/sketch_convert_image). The\n",
    "call itself is much faster than before because of the recycled\n",
    "Py5Image object, but if we want to improve the performance of this Sketch,\n",
    "we must figure out how to make it even faster."
   ]
  },
  {
   "cell_type": "code",
   "execution_count": null,
   "id": "3f601000-7e65-434f-a5c0-7dfaeef89ef7",
   "metadata": {
    "editable": true,
    "slideshow": {
     "slide_type": ""
    },
    "tags": [
     "remove-cell"
    ]
   },
   "outputs": [],
   "source": [
    "time.sleep(0.5)\n",
    "py5.exit_sketch()\n",
    "time.sleep(0.5)"
   ]
  },
  {
   "cell_type": "markdown",
   "id": "ee01d952-f9ed-4633-963a-518a4ad1af5d",
   "metadata": {},
   "source": [
    "### Example with Threading\n",
    "\n",
    "The way to make the Sketch even faster is to move the call to\n",
    "[](/reference/sketch_convert_image) out of the `draw()` function\n",
    "and into a separate thread.\n",
    "\n",
    "The updated code is below. We will create a new function called\n",
    "`update_chart()` that will be repeatedly called by\n",
    "[](/reference/sketch_launch_repeating_thread).\n",
    "\n",
    "Moving py5 method calls to a separate thread like this will\n",
    "sometimes have thread-safety issues. A thread safety issue means\n",
    "that code running in two different threads will create a conflict.\n",
    "This can lead to unusual behavior, a programming error, or a crash.\n",
    "\n",
    "In general, Processing drawing commands are not thread-safe, so\n",
    "calling py5 methods from a thread like this is risky. This is\n",
    "especially true when using the OpenGL renderers P2D and P3D.\n",
    "However, the [](/reference/sketch_convert_image) method does\n",
    "not attempt to draw to the screen, so using it in a thread like\n",
    "this is fine."
   ]
  },
  {
   "cell_type": "code",
   "execution_count": null,
   "id": "bd4c6485-b474-448d-bcc3-2af55c0888c8",
   "metadata": {
    "editable": true,
    "slideshow": {
     "slide_type": ""
    },
    "tags": []
   },
   "outputs": [],
   "source": [
    "frame_rates = deque([60] * 250, maxlen=250)\n",
    "\n",
    "\n",
    "def update_chart(frame_rates, line, figure, chart):\n",
    "    line.set_ydata(frame_rates)\n",
    "    py5.convert_image(figure, dst=chart)\n",
    "\n",
    "\n",
    "def setup():\n",
    "    global chart\n",
    "    py5.size(950, 950)\n",
    "\n",
    "    figure, line = create_chart(frame_rates)\n",
    "    chart = py5.convert_image(figure)\n",
    "\n",
    "    py5.launch_repeating_thread(\n",
    "        update_chart,\n",
    "        args=(frame_rates, line, figure, chart)\n",
    "    )\n",
    "\n",
    "\n",
    "def draw():\n",
    "    frame_rates.append(py5.get_frame_rate())\n",
    "\n",
    "    py5.background(240)\n",
    "    py5.image(chart, 25, 25)\n",
    "\n",
    "\n",
    "py5.run_sketch()"
   ]
  },
  {
   "cell_type": "code",
   "execution_count": null,
   "id": "38ae7650-c065-4467-82b8-8cfe7017709f",
   "metadata": {
    "editable": true,
    "slideshow": {
     "slide_type": ""
    },
    "tags": [
     "remove-cell"
    ]
   },
   "outputs": [],
   "source": [
    "time.sleep(10)"
   ]
  },
  {
   "cell_type": "markdown",
   "id": "e7689072-2dad-4bf1-9875-b32b7555986b",
   "metadata": {
    "editable": true,
    "slideshow": {
     "slide_type": ""
    },
    "tags": []
   },
   "source": [
    "The performance of this new Sketch is now a solid 60 frames per second."
   ]
  },
  {
   "cell_type": "code",
   "execution_count": null,
   "id": "b4d81d1d-e66d-45cf-93fe-d2f4b98bbfd8",
   "metadata": {
    "editable": true,
    "slideshow": {
     "slide_type": ""
    },
    "tags": []
   },
   "outputs": [],
   "source": [
    "py5_tools.screenshot()"
   ]
  },
  {
   "cell_type": "code",
   "execution_count": null,
   "id": "b49557e7-4e30-440a-9c22-d41c32b4e69f",
   "metadata": {
    "editable": true,
    "slideshow": {
     "slide_type": ""
    },
    "tags": [
     "remove-cell"
    ]
   },
   "outputs": [],
   "source": [
    "time.sleep(0.5)\n",
    "py5.exit_sketch()\n",
    "time.sleep(0.5)\n",
    "\n",
    "del draw"
   ]
  },
  {
   "cell_type": "markdown",
   "id": "8b736d17-3c2c-43bc-9240-ac6c5e97003f",
   "metadata": {},
   "source": [
    "## Named Colors\n",
    "\n",
    "Built in to matplotlib is an extensive list of\n",
    "[named colors](https://matplotlib.org/stable/gallery/color/named_colors.html).\n",
    "Matplotlib users can use this list to customize the aesthetics of\n",
    "their charts. Py5 users can also access this inventory of colors\n",
    "to customize the aesthetics of a Sketch.\n",
    "\n",
    "Here is a simple example, referencing each color as a string."
   ]
  },
  {
   "cell_type": "code",
   "execution_count": null,
   "id": "14f19bf8-a22d-4812-b70b-4e6de74975ad",
   "metadata": {},
   "outputs": [],
   "source": [
    "def setup():\n",
    "    py5.size(400, 400)\n",
    "    py5.background(240)\n",
    "    py5.no_stroke()\n",
    "\n",
    "    # matplotlib base color, magenta\n",
    "    py5.fill('m')\n",
    "    py5.rect(20, 20, 170, 170)\n",
    "\n",
    "    # tableau palette\n",
    "    py5.fill('tab:orange')\n",
    "    py5.rect(210, 20, 170, 170)\n",
    "\n",
    "    # CSS4 colors\n",
    "    py5.fill('chartreuse')\n",
    "    py5.rect(20, 210, 170, 170)\n",
    "\n",
    "    # xkcd color survey\n",
    "    py5.fill('xkcd:blue with a hint of purple')\n",
    "    py5.rect(210, 210, 170, 170)\n",
    "\n",
    "\n",
    "py5.run_sketch()"
   ]
  },
  {
   "cell_type": "code",
   "execution_count": null,
   "id": "2f32bf92-99e7-474a-a2d9-64ac20a4416b",
   "metadata": {
    "editable": true,
    "slideshow": {
     "slide_type": ""
    },
    "tags": [
     "remove-cell"
    ]
   },
   "outputs": [],
   "source": [
    "time.sleep(1)"
   ]
  },
  {
   "cell_type": "code",
   "execution_count": null,
   "id": "54ce6cad-a91e-471a-a03e-8fe93a8d8dd0",
   "metadata": {},
   "outputs": [],
   "source": [
    "py5_tools.screenshot()"
   ]
  },
  {
   "cell_type": "code",
   "execution_count": null,
   "id": "bff110c3-d88a-47dd-9584-699d644d4d27",
   "metadata": {
    "editable": true,
    "slideshow": {
     "slide_type": ""
    },
    "tags": [
     "remove-cell"
    ]
   },
   "outputs": [],
   "source": [
    "time.sleep(0.5)\n",
    "py5.exit_sketch()\n",
    "time.sleep(0.5)"
   ]
  },
  {
   "cell_type": "markdown",
   "id": "043c9d4a-e3d2-44f0-9bc6-a783f596d163",
   "metadata": {
    "editable": true,
    "slideshow": {
     "slide_type": ""
    },
    "tags": []
   },
   "source": [
    "This works well, but it requires you to either remember the names\n",
    "of the available colors or to constantly refer back to the list of\n",
    "[named colors](https://matplotlib.org/stable/gallery/color/named_colors.html).\n",
    "This is an extra challenge for non-english speakers, as well as\n",
    "anyone who cannot remember the correct spelling of words like\n",
    "\"chartreuse.\"\n",
    "\n",
    "As an alternative, py5 has a built-in dictionary of the full CSS4\n",
    "and xkcd color survey inventories available for your use. Access\n",
    "the dictionaries with `py5.css4_colors` and `py5.xkcd_colors`. These\n",
    "are especially useful when coding an environment that supports code\n",
    "completion, such as Jupyter Notebooks or VSCode. Coders will be\n",
    "able to scroll through the list of color names and select the one\n",
    "that sounds appropriate for their use case."
   ]
  },
  {
   "cell_type": "code",
   "execution_count": null,
   "id": "63507723-846b-430d-8817-c47ba3ccd232",
   "metadata": {
    "editable": true,
    "slideshow": {
     "slide_type": ""
    },
    "tags": []
   },
   "outputs": [],
   "source": [
    "def setup():\n",
    "    py5.size(400, 400)\n",
    "    py5.background(240)\n",
    "    py5.no_stroke()\n",
    "\n",
    "    py5.fill(py5.css4_colors.FIREBRICK)\n",
    "    py5.rect(20, 20, 170, 170)\n",
    "\n",
    "    py5.fill(py5.css4_colors.PALETURQUOISE)\n",
    "    py5.rect(210, 20, 170, 170)\n",
    "\n",
    "    py5.fill(py5.xkcd_colors.PERIWINKLE_BLUE)\n",
    "    py5.rect(20, 210, 170, 170)\n",
    "\n",
    "    py5.fill(py5.xkcd_colors.PALE_MAUVE)\n",
    "    py5.rect(210, 210, 170, 170)\n",
    "\n",
    "\n",
    "py5.run_sketch()"
   ]
  },
  {
   "cell_type": "code",
   "execution_count": null,
   "id": "247e7bab-ec40-4eb3-b7b3-528c54e44e63",
   "metadata": {
    "editable": true,
    "slideshow": {
     "slide_type": ""
    },
    "tags": [
     "remove-cell"
    ]
   },
   "outputs": [],
   "source": [
    "time.sleep(1)"
   ]
  },
  {
   "cell_type": "code",
   "execution_count": null,
   "id": "6113be6b-3554-4715-b758-66bae36eb39b",
   "metadata": {},
   "outputs": [],
   "source": [
    "py5_tools.screenshot()"
   ]
  },
  {
   "cell_type": "code",
   "execution_count": null,
   "id": "5b542ef0-7881-42aa-862b-8cad35c3b6cb",
   "metadata": {
    "editable": true,
    "slideshow": {
     "slide_type": ""
    },
    "tags": [
     "remove-cell"
    ]
   },
   "outputs": [],
   "source": [
    "time.sleep(0.5)\n",
    "py5.exit_sketch()\n",
    "time.sleep(0.5)"
   ]
  },
  {
   "cell_type": "markdown",
   "id": "0f6628dd-cd97-4503-a845-32095a871feb",
   "metadata": {},
   "source": [
    "This final color dictionary feature is added to py5 when py5 is\n",
    "built so you can use it without installing matplotlib."
   ]
  },
  {
   "cell_type": "markdown",
   "id": "f3eb07ba-c5cd-4e12-b003-96cad12bffba",
   "metadata": {},
   "source": [
    "## Colormap Color Mode\n",
    "\n",
    "Processing has two built-in color modes: RGB (red, green, blue) and\n",
    "HSB (hue, saturation, brightness). Py5 adds a third: CMAP, short\n",
    "for colormap.\n",
    "\n",
    "The main idea behind the Colormap Color Mode is the automatic\n",
    "mapping of values to the colors of a matplotlib colormap palette.\n",
    "This includes support for the colormap's bad (`np.nan`) and outlier values.\n",
    "\n",
    "You will enable the Colormap Color Mode with a call to\n",
    "[](/reference/sketch_color_mode). You can find the list of built-in\n",
    "colormaps in matplotlib's\n",
    "[Colormap reference](https://matplotlib.org/stable/gallery/color/colormap_reference.html).\n",
    "The scientific community has done extensive research on colormaps\n",
    "and data visualization. Matplotlib's documentation provides some\n",
    "insight into how to\n",
    "[choose colormaps](https://matplotlib.org/stable/users/explain/colors/colormaps.html)\n",
    "for your use case.\n",
    "\n",
    "This Colormap Color Mode feature does not work for Py5Graphics or\n",
    "Py5Shape objects. It is only available for your Sketch. That\n",
    "shouldn't limit you in any way because you can always use the\n",
    "Sketch's [](/reference/sketch_color) method as a work-around\n",
    "(i.e. `shape.fill(py5.color(val))`).\n",
    "\n",
    "The below example uses the \"ocean\" colormap with the color\n",
    "range from 0 to the sketch width (500) and the alpha value\n",
    "range from 0 to the sketch height (also 500)."
   ]
  },
  {
   "cell_type": "code",
   "execution_count": null,
   "id": "a2686236-2de7-466f-8e66-88a961ce8cb7",
   "metadata": {
    "editable": true,
    "slideshow": {
     "slide_type": ""
    },
    "tags": []
   },
   "outputs": [],
   "source": [
    "def setup():\n",
    "    py5.size(500, 500)\n",
    "\n",
    "    py5.color_mode(py5.CMAP, py5.mpl_cmaps.OCEAN, py5.width, py5.height)\n",
    "\n",
    "    # bypass the colormap functionality with a named color\n",
    "    py5.background(py5.css4_colors.LIGHTGRAY)\n",
    "\n",
    "    for _ in range(250):\n",
    "        x = py5.random(py5.width)\n",
    "        y = py5.random(py5.height)\n",
    "        # fill color determined by x\n",
    "        # transparency determined by y\n",
    "        py5.fill(x, y)\n",
    "        py5.rect(x, y, 10, 10)\n",
    "\n",
    "\n",
    "py5.run_sketch()"
   ]
  },
  {
   "cell_type": "code",
   "execution_count": null,
   "id": "72740f37-05e9-4e69-b1ad-b98928e9a9d9",
   "metadata": {
    "editable": true,
    "slideshow": {
     "slide_type": ""
    },
    "tags": [
     "remove-cell"
    ]
   },
   "outputs": [],
   "source": [
    "time.sleep(1)"
   ]
  },
  {
   "cell_type": "markdown",
   "id": "b510af27-fe88-45b1-99cd-b4b1025afb71",
   "metadata": {
    "editable": true,
    "slideshow": {
     "slide_type": ""
    },
    "tags": []
   },
   "source": [
    "The above example used `py5.mpl_cmaps`, py5's built-in dictionary of\n",
    "matplotlib's provided Colormaps. We could have just as easily used the\n",
    "string \"ocean\" there, but like named colors, it is easier to not have\n",
    "to remember the list of available Colormap names.\n",
    "\n",
    "Observe the call to `py5.background()`, which used a named color.\n",
    "Non-numeric values will bypass the Colormap functionality.\n",
    "\n",
    "Matplotlib colormaps typically don't have transparency except for \"bad\"\n",
    "or invalid data values, which by the way seem to be fully transparent\n",
    "for many of the colormaps (and this may not be what you want or\n",
    "expect.) But anyhow, if you use this Color Mode feature and pass\n",
    "alpha values, as we did in here with the variable `y`, the alpha value\n",
    "will replace that of the color that comes out of the colormap.\n",
    "\n",
    "Here's a screenshot of what this example looks like. As you can see, the\n",
    "colors blend from left to right and the transparency varies from top to\n",
    "bottom."
   ]
  },
  {
   "cell_type": "code",
   "execution_count": null,
   "id": "8d054d73-4c81-4be0-b6b0-645b8c09fdcc",
   "metadata": {
    "editable": true,
    "slideshow": {
     "slide_type": ""
    },
    "tags": []
   },
   "outputs": [],
   "source": [
    "py5_tools.screenshot()"
   ]
  },
  {
   "cell_type": "code",
   "execution_count": null,
   "id": "b012f650-bc42-4bdf-b897-a7f2ada5180a",
   "metadata": {
    "editable": true,
    "slideshow": {
     "slide_type": ""
    },
    "tags": [
     "remove-cell"
    ]
   },
   "outputs": [],
   "source": [
    "time.sleep(0.5)\n",
    "py5.exit_sketch()\n",
    "time.sleep(0.5)"
   ]
  },
  {
   "cell_type": "markdown",
   "id": "37f1eaeb-c0a2-425d-8dd3-594da22cd573",
   "metadata": {
    "editable": true,
    "slideshow": {
     "slide_type": ""
    },
    "tags": []
   },
   "source": [
    "### Creating Colormaps\n",
    "\n",
    "You are not limited to matplotlib's build-in colormaps. If you like,\n",
    "you can pass [](/reference/sketch_color_mode) a matplotlib Colormap\n",
    "object from one of\n",
    "[matplotlib's 3rd party libraries](https://matplotlib.org/mpl-third-party/#colormaps-and-styles)\n",
    "or a Colormap object you create yourself.\n",
    "\n",
    "Matplotlib provides extensive documentation on how to\n",
    "[create your own Colormap](https://matplotlib.org/stable/users/explain/colors/colormap-manipulation.html).\n",
    "For fun, let's create a simple one here."
   ]
  },
  {
   "cell_type": "code",
   "execution_count": null,
   "id": "d189be19-4b6d-46c7-a3f1-5e03696ef21a",
   "metadata": {
    "editable": true,
    "slideshow": {
     "slide_type": ""
    },
    "tags": []
   },
   "outputs": [],
   "source": [
    "colors = [py5.xkcd_colors.RICH_BLUE,\n",
    "          py5.xkcd_colors.LIGHT_BLUE,\n",
    "          py5.xkcd_colors.BRIGHT_RED,\n",
    "          py5.xkcd_colors.BRIGHT_RED]\n",
    "nodes = [0.0, 0.5, 0.75, 1.0]\n",
    "\n",
    "py5_colormap = LinearSegmentedColormap.from_list(\n",
    "    'py5 example colormap',\n",
    "    list(zip(nodes, colors))\n",
    ")\n",
    "\n",
    "py5_colormap"
   ]
  },
  {
   "cell_type": "markdown",
   "id": "e6aeb3a5-38cc-4ba3-8e1f-0248fc27fa5c",
   "metadata": {
    "editable": true,
    "slideshow": {
     "slide_type": ""
    },
    "tags": []
   },
   "source": [
    "We will use our new Colormap object in a Sketch that draws random\n",
    "points to the screen. The color of each point will be noise values\n",
    "passed through our Colormap."
   ]
  },
  {
   "cell_type": "code",
   "execution_count": null,
   "id": "bd92fca5-fbd9-4fe7-ba3c-3ebaf2a5446b",
   "metadata": {
    "editable": true,
    "slideshow": {
     "slide_type": ""
    },
    "tags": []
   },
   "outputs": [],
   "source": [
    "def setup():\n",
    "    py5.size(500, 500, py5.P2D)\n",
    "    py5.color_mode(py5.CMAP, py5_colormap)\n",
    "\n",
    "\n",
    "def draw():\n",
    "    py5.no_stroke()\n",
    "    py5.fill(py5.css4_colors.WHITE, 16)\n",
    "    py5.rect(0, 0, py5.width, py5.height)\n",
    "\n",
    "    py5.stroke_weight(10)\n",
    "    for _ in range(500):\n",
    "        x = py5.random(py5.width)\n",
    "        y = py5.random(py5.height)\n",
    "        val = py5.noise(x / 100, y / 100)\n",
    "        py5.stroke(val, 128)\n",
    "        py5.point(x, y)\n",
    "\n",
    "\n",
    "py5.run_sketch()"
   ]
  },
  {
   "cell_type": "markdown",
   "id": "0a282010-2d09-4f77-b92c-c72bb1ea3786",
   "metadata": {
    "editable": true,
    "slideshow": {
     "slide_type": ""
    },
    "tags": []
   },
   "source": [
    "In this example, we didn't pass range values to\n",
    "[](/reference/sketch_color_mode), so the range defaults to 1.0 for\n",
    "the grayscale values and 255 for the alpha values.\n",
    "\n",
    "Here's a screenshot of what this looks like, with the noise\n",
    "high-points clearly in red."
   ]
  },
  {
   "cell_type": "code",
   "execution_count": null,
   "id": "938bd5ee-2580-4c93-919d-daa2fbc10274",
   "metadata": {
    "editable": true,
    "slideshow": {
     "slide_type": ""
    },
    "tags": [
     "remove-cell"
    ]
   },
   "outputs": [],
   "source": [
    "time.sleep(5)"
   ]
  },
  {
   "cell_type": "code",
   "execution_count": null,
   "id": "c6b2207e-6b55-45ea-a611-190a43118c9b",
   "metadata": {},
   "outputs": [],
   "source": [
    "py5_tools.screenshot()"
   ]
  },
  {
   "cell_type": "code",
   "execution_count": null,
   "id": "28d66870-7387-4215-a4cd-b3a6d56d529a",
   "metadata": {
    "editable": true,
    "slideshow": {
     "slide_type": ""
    },
    "tags": [
     "remove-cell"
    ]
   },
   "outputs": [],
   "source": [
    "time.sleep(0.5)\n",
    "py5.exit_sketch()\n",
    "time.sleep(0.5)"
   ]
  }
 ],
 "metadata": {
  "jupytext": {
   "formats": "ipynb,md:myst"
  },
  "kernelspec": {
   "display_name": "Python 3 (ipykernel)",
   "language": "python",
   "name": "python3"
  },
  "language_info": {
   "codemirror_mode": {
    "name": "ipython",
    "version": 3
   },
   "file_extension": ".py",
   "mimetype": "text/x-python",
   "name": "python",
   "nbconvert_exporter": "python",
   "pygments_lexer": "ipython3",
   "version": "3.8.17"
  }
 },
 "nbformat": 4,
 "nbformat_minor": 5
}
