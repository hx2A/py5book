{
 "cells": [
  {
   "cell_type": "markdown",
   "id": "52a36915",
   "metadata": {},
   "source": [
    "# Charts, Plots, and Matplotlib\n",
    "\n",
    "[Matplotlib](https://matplotlib.org/) is a commonly used library for creating\n",
    "charts and other data visualizations. It has a long history within the Python\n",
    "community.\n",
    "\n",
    "## Setup\n",
    "\n",
    "Install matplotlib with pip or with conda.\n",
    "\n",
    "```bash\n",
    "pip install matplotlib\n",
    "```\n",
    "\n",
    "```bash\n",
    "conda install matplotlib -c conda-forge\n",
    "```\n",
    "\n",
    "Refer to matplotlib's [Getting Started](https://matplotlib.org/stable/users/getting_started/)\n",
    "page or [Installation Guide](https://matplotlib.org/stable/users/installing/index.html)\n",
    "for more information.\n",
    "\n",
    "## Convert matplotlib Figures to Py5Images objects\n",
    "\n",
    "explain [](/reference/sketch_convert_image), how to use it well\n",
    "\n",
    "## ColorMap Color Mode\n",
    "\n",
    "Explain `CMAP` color mode, link to color page? don't have it twice\n",
    "\n",
    "Also matplotlib named colors."
   ]
  }
 ],
 "metadata": {
  "jupytext": {
   "formats": "ipynb,md:myst"
  },
  "kernelspec": {
   "display_name": "Python 3",
   "language": "python",
   "name": "python3"
  }
 },
 "nbformat": 4,
 "nbformat_minor": 5
}
