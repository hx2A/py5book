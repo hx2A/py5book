{
 "cells": [
  {
   "cell_type": "markdown",
   "id": "c7100b89",
   "metadata": {
    "editable": true,
    "slideshow": {
     "slide_type": ""
    },
    "tags": []
   },
   "source": [
    "# Custom Integrations\n",
    "\n",
    "The methods [](/reference/sketch_convert_shape) and [](/reference/sketch_convert_image)\n",
    "are customizable. In addition to the built-in integrations, you can create new integrations\n",
    "that the [](/reference/sketch_convert_shape) and [](/reference/sketch_convert_image) methods\n",
    "will use to convert Python objects into objects that are compatible with py5.\n",
    "\n",
    "This page documents how to create custom integrations for both methods. Both methods have\n",
    "similar customization designs.\n",
    "\n",
    "This page will explain the customization design in detail, but if you are going to build a\n",
    "custom integration, it is recommended you also have a look at the source code for the built-in\n",
    "[image](https://github.com/py5coding/py5generator/blob/main/py5_resources/py5_module/py5/image_conversion.py)\n",
    "and [shape](https://github.com/py5coding/py5generator/blob/main/py5_resources/py5_module/py5/shape_conversion.py)\n",
    "customizations for additional insight and examples. You can also ask for help in\n",
    "[GitHub Discussions](https://github.com/py5coding/py5generator/discussions).\n",
    "\n",
    "Your custom integration will require you to create two functions. The first function is a\n",
    "predicate function that accepts a Python object as its parameter and returns `True` or `False`\n",
    "to indicate if the object is convertible by your custom integration. The second function\n",
    "must accept the same Python object and `**kwargs` parameters, and return an object compatible\n",
    "with py5.\n",
    "\n",
    "Your custom integrations will always take precedence over py5's builtin integrations.\n",
    "\n",
    "We will begin with some imports needed for our examples."
   ]
  },
  {
   "cell_type": "code",
   "execution_count": null,
   "id": "aeab4bad",
   "metadata": {
    "editable": true,
    "slideshow": {
     "slide_type": ""
    },
    "tags": []
   },
   "outputs": [],
   "source": [
    "import numpy as np\n",
    "from PIL import Image\n",
    "from shapely import Point\n",
    "\n",
    "import py5_tools\n",
    "import py5"
   ]
  },
  {
   "cell_type": "markdown",
   "id": "23d3cd4d",
   "metadata": {
    "editable": true,
    "slideshow": {
     "slide_type": ""
    },
    "tags": []
   },
   "source": [
    "## Custom Integrations for Image Conversion\n",
    "\n",
    "For our image conversion example, we will create a custom integration that\n",
    "converts PIL Image objects and by default rotates them 180 degrees. We will\n",
    "also support a keyword argument to rotate the image by a different angle.\n",
    "\n",
    "First we create our predicate function. It will simply check if an object is a PIL\n",
    "Image object and return `True` or `False`. This function is identical to py5's built-in\n",
    "customization for PIL Image objects."
   ]
  },
  {
   "cell_type": "code",
   "execution_count": null,
   "id": "f2bbcaf5",
   "metadata": {
    "editable": true,
    "slideshow": {
     "slide_type": ""
    },
    "tags": []
   },
   "outputs": [],
   "source": [
    "def pillow_image_to_ndarray_precondition(obj):\n",
    "    return isinstance(obj, Image.Image)"
   ]
  },
  {
   "cell_type": "markdown",
   "id": "f6ff0784",
   "metadata": {
    "editable": true,
    "slideshow": {
     "slide_type": ""
    },
    "tags": []
   },
   "source": [
    "The second function's parameters will be a sketch instance, the object to be converted,\n",
    "and `**kwargs` parameters. You do not have to return a `Py5Image` object. Instead, it is\n",
    "simpler and less coding for you to return a special `NumpyImageArray` object or just\n",
    "return the path (as a string or a `pathlib.Path` instance) to an image saved to disk that\n",
    "can be read and loaded by py5. If for some reason these options are not ideal for what\n",
    "you want to do, you can create the `Py5Image` object anyway and return that.\n",
    "\n",
    "This `NumpyImageArray` class is a special class py5 uses internally to manage image data in\n",
    "numpy arrays. When creating an instance of `NumpyImageArray`, the first parameter should be\n",
    "the numpy array with three dimensions. The first two dimensions should be the image's vertical\n",
    "and horizontal dimensions, respectively. The third should be the image's color channels.\n",
    "\n",
    "The second parameter should be a string indicating the color channel sequence of the\n",
    "array's third dimension.  Any value that the [](/reference/sketch_create_image_from_numpy) method's\n",
    "`bands` parameter accepts is acceptable here. If the color channel sequence is `L`, the array's\n",
    "third dimension is optional.\n",
    "\n",
    "If it is more convenient, your code can save the converted image to disk in a temporary file.\n",
    "The Python library [tempfile](https://docs.python.org/3/library/tempfile.html) can help with\n",
    "this.\n",
    "\n",
    "The conversion function below is very similar to py5's built-in customization for PIL Image\n",
    "objects."
   ]
  },
  {
   "cell_type": "code",
   "execution_count": null,
   "id": "d8ae08f8",
   "metadata": {
    "editable": true,
    "slideshow": {
     "slide_type": ""
    },
    "tags": []
   },
   "outputs": [],
   "source": [
    "def pillow_image_to_ndarray_converter(sketch, img, **kwargs):\n",
    "    rotate = kwargs.get('rotate', 180)\n",
    "    if img.mode not in [\"RGB\", \"RGBA\"]:\n",
    "        img = img.convert(mode=\"RGB\")\n",
    "    img = img.rotate(rotate)\n",
    "    return py5.NumpyImageArray(np.asarray(img), img.mode)"
   ]
  },
  {
   "cell_type": "markdown",
   "id": "7d282ca8",
   "metadata": {
    "editable": true,
    "slideshow": {
     "slide_type": ""
    },
    "tags": []
   },
   "source": [
    "The last step is to register the pair of functions with py5. After\n",
    "registering, when the [](/reference/sketch_convert_image) method is\n",
    "called, it will use this new conversion function we wrote to convert\n",
    "PIL Image objects."
   ]
  },
  {
   "cell_type": "code",
   "execution_count": null,
   "id": "3d96fee0",
   "metadata": {
    "editable": true,
    "slideshow": {
     "slide_type": ""
    },
    "tags": []
   },
   "outputs": [],
   "source": [
    "py5.register_image_conversion(\n",
    "    pillow_image_to_ndarray_precondition, pillow_image_to_ndarray_converter\n",
    ")"
   ]
  },
  {
   "cell_type": "markdown",
   "id": "f7fcf252",
   "metadata": {
    "editable": true,
    "slideshow": {
     "slide_type": ""
    },
    "tags": []
   },
   "source": [
    "Now that everything is configured correctly,  let's create a Sketch\n",
    "that uses our new PIL image conversion functionality."
   ]
  },
  {
   "cell_type": "code",
   "execution_count": null,
   "id": "826b14c5",
   "metadata": {
    "editable": true,
    "slideshow": {
     "slide_type": ""
    },
    "tags": []
   },
   "outputs": [],
   "source": [
    "def setup():\n",
    "    py5.size(300, 300)\n",
    "\n",
    "    pil_img = Image.open('images/rockies.jpg')\n",
    "    img1 = py5.convert_image(pil_img)\n",
    "    img2 = py5.convert_image(pil_img, rotate=45)\n",
    "    py5.image(img1, 25, 100)\n",
    "    py5.image(img2, 175, 100)"
   ]
  },
  {
   "cell_type": "code",
   "execution_count": null,
   "id": "2e957b57",
   "metadata": {
    "editable": true,
    "slideshow": {
     "slide_type": ""
    },
    "tags": []
   },
   "outputs": [],
   "source": [
    "py5.run_sketch()"
   ]
  },
  {
   "cell_type": "code",
   "execution_count": null,
   "id": "9ce8e685",
   "metadata": {
    "editable": true,
    "slideshow": {
     "slide_type": ""
    },
    "tags": [
     "remove-cell"
    ]
   },
   "outputs": [],
   "source": [
    "import time\n",
    "\n",
    "time.sleep(1)"
   ]
  },
  {
   "cell_type": "markdown",
   "id": "f9b2b3ef",
   "metadata": {
    "editable": true,
    "slideshow": {
     "slide_type": ""
    }
   },
   "source": [
    "The result looks as we would expect. The left image is upside down\n",
    "and the right image is rotated 45 degrees."
   ]
  },
  {
   "cell_type": "code",
   "execution_count": null,
   "id": "e7ed0a62",
   "metadata": {
    "editable": true,
    "slideshow": {
     "slide_type": ""
    }
   },
   "outputs": [],
   "source": [
    "py5_tools.screenshot()"
   ]
  },
  {
   "cell_type": "code",
   "execution_count": null,
   "id": "86ebc9cf",
   "metadata": {
    "editable": true,
    "slideshow": {
     "slide_type": ""
    },
    "tags": [
     "remove-cell"
    ]
   },
   "outputs": [],
   "source": [
    "time.sleep(0.5)\n",
    "py5.exit_sketch()\n",
    "time.sleep(0.5)"
   ]
  },
  {
   "cell_type": "markdown",
   "id": "91f30a3e",
   "metadata": {
    "editable": true,
    "slideshow": {
     "slide_type": ""
    }
   },
   "source": [
    "## Custom Integrations for Shape Conversion\n",
    "\n",
    "For our shape conversion example, we will create a custom integration that\n",
    "converts shapely `Point` objects into clouds of gaussian distributed points.\n",
    "We will support keyword arguments for the standard deviation and count of\n",
    "the points in the cloud.\n",
    "\n",
    "First we create our predicate function. It will check if an object is a shapely\n",
    "Point object and return `True` or `False`."
   ]
  },
  {
   "cell_type": "code",
   "execution_count": null,
   "id": "e24012b2",
   "metadata": {
    "editable": true,
    "slideshow": {
     "slide_type": ""
    },
    "tags": []
   },
   "outputs": [],
   "source": [
    "def shapely_point_precondition(obj):\n",
    "    return isinstance(obj, Point)"
   ]
  },
  {
   "cell_type": "markdown",
   "id": "54b29742-aff8-43ed-ad8a-a2b42770c588",
   "metadata": {},
   "source": [
    "The second function's parameters will be a sketch instance, the object to be converted,\n",
    "and `**kwargs` parameters. The conversion function must return a new `Py5Shape` object\n",
    "to be returned by [](/reference/sketch_convert_shape)."
   ]
  },
  {
   "cell_type": "code",
   "execution_count": null,
   "id": "ac93e4a8",
   "metadata": {
    "editable": true,
    "slideshow": {
     "slide_type": ""
    },
    "tags": []
   },
   "outputs": [],
   "source": [
    "def shapely_point_converter(sketch, obj, **kwargs):\n",
    "    count = kwargs.get('count', 2500)\n",
    "    stdev = kwargs.get('stdev', 25)\n",
    "    points = stdev * np.random.randn(count, 2) + [obj.x, obj.y]\n",
    "\n",
    "    s = sketch.create_shape()\n",
    "    with s.begin_shape(sketch.POINTS):\n",
    "        s.vertices(points)\n",
    "\n",
    "    return s"
   ]
  },
  {
   "cell_type": "markdown",
   "id": "164484ce",
   "metadata": {
    "editable": true,
    "slideshow": {
     "slide_type": ""
    },
    "tags": []
   },
   "source": [
    "We again register the pair of functions with py5. When\n",
    "the [](/reference/sketch_convert_shape) method is called, it will\n",
    "use the conversion function we wrote to convert shapely\n",
    "`Point` objects."
   ]
  },
  {
   "cell_type": "code",
   "execution_count": null,
   "id": "285ba06a",
   "metadata": {
    "editable": true,
    "slideshow": {
     "slide_type": ""
    },
    "tags": []
   },
   "outputs": [],
   "source": [
    "py5.register_shape_conversion(\n",
    "    shapely_point_precondition, shapely_point_converter\n",
    ")"
   ]
  },
  {
   "cell_type": "markdown",
   "id": "8b6d6e37",
   "metadata": {
    "editable": true,
    "slideshow": {
     "slide_type": ""
    },
    "tags": []
   },
   "source": [
    "Now let's create a Sketch that uses our shapely `Point` conversion functionality."
   ]
  },
  {
   "cell_type": "code",
   "execution_count": null,
   "id": "d649dbb0",
   "metadata": {
    "editable": true,
    "slideshow": {
     "slide_type": ""
    },
    "tags": []
   },
   "outputs": [],
   "source": [
    "def setup():\n",
    "    py5.size(300, 300)\n",
    "\n",
    "    point1 = Point(130, 210)\n",
    "    point2 = Point(210, 130)\n",
    "\n",
    "    points1 = py5.convert_shape(point1)\n",
    "    points2 = py5.convert_shape(point2, count=5000, stdev=10)\n",
    "    py5.shape(points1)\n",
    "    py5.shape(points2)"
   ]
  },
  {
   "cell_type": "code",
   "execution_count": null,
   "id": "c753bab0",
   "metadata": {
    "editable": true,
    "slideshow": {
     "slide_type": ""
    },
    "tags": []
   },
   "outputs": [],
   "source": [
    "py5.run_sketch()"
   ]
  },
  {
   "cell_type": "code",
   "execution_count": null,
   "id": "88ea459b",
   "metadata": {
    "editable": true,
    "slideshow": {
     "slide_type": ""
    },
    "tags": [
     "remove-cell"
    ]
   },
   "outputs": [],
   "source": [
    "time.sleep(1)"
   ]
  },
  {
   "cell_type": "markdown",
   "id": "97fafc63",
   "metadata": {
    "editable": true,
    "slideshow": {
     "slide_type": ""
    }
   },
   "source": [
    "As expected, each point is rendered as a scattered field of individual points."
   ]
  },
  {
   "cell_type": "code",
   "execution_count": null,
   "id": "b304c015",
   "metadata": {
    "editable": true,
    "slideshow": {
     "slide_type": ""
    }
   },
   "outputs": [],
   "source": [
    "py5_tools.screenshot()"
   ]
  },
  {
   "cell_type": "code",
   "execution_count": null,
   "id": "75ae41a8",
   "metadata": {
    "editable": true,
    "slideshow": {
     "slide_type": ""
    },
    "tags": [
     "remove-cell"
    ]
   },
   "outputs": [],
   "source": [
    "time.sleep(0.5)\n",
    "py5.exit_sketch()\n",
    "time.sleep(0.5)"
   ]
  },
  {
   "cell_type": "markdown",
   "id": "abeec1f5",
   "metadata": {
    "editable": true,
    "slideshow": {
     "slide_type": ""
    }
   },
   "source": [
    "## Share Your Custom Integration Ideas!\n",
    "\n",
    "The Python ecosystem is vast, and we are always on the lookout\n",
    "for Python libraries we aren't familiar with that can further\n",
    "enhance py5's capabilities. If you know of a Python library\n",
    "that you think would be a good fit, please let us know in\n",
    "[GitHub Discussions](https://github.com/py5coding/py5generator/discussions)\n",
    "or elsewhere on Social Media!"
   ]
  }
 ],
 "metadata": {
  "jupytext": {
   "formats": "ipynb,md:myst",
   "kernelspec": {
    "display_name": "Python 3 (ipykernel)",
    "language": "python",
    "name": "python3"
   }
  },
  "kernelspec": {
   "display_name": "Python 3 (ipykernel)",
   "language": "python",
   "name": "python3"
  },
  "language_info": {
   "codemirror_mode": {
    "name": "ipython",
    "version": 3
   },
   "file_extension": ".py",
   "mimetype": "text/x-python",
   "name": "python",
   "nbconvert_exporter": "python",
   "pygments_lexer": "ipython3",
   "version": "3.9.19"
  }
 },
 "nbformat": 4,
 "nbformat_minor": 5
}
