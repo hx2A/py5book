{
 "cells": [
  {
   "cell_type": "markdown",
   "id": "bbfba195",
   "metadata": {},
   "source": [
    "# Custom Integrations\n",
    "\n",
    "how to register new customization methods\n",
    "\n",
    "Ask for ideas"
   ]
  },
  {
   "cell_type": "code",
   "execution_count": null,
   "id": "28148c85-0fef-4547-9c04-e132734e2a16",
   "metadata": {},
   "outputs": [],
   "source": []
  },
  {
   "cell_type": "code",
   "execution_count": null,
   "id": "8790b9ee-5135-475a-a9e6-0ef938085549",
   "metadata": {},
   "outputs": [],
   "source": [
    "import numpy as np\n",
    "from PIL import Image\n",
    "from shapely import Point\n",
    "\n",
    "import py5_tools\n",
    "import py5"
   ]
  },
  {
   "cell_type": "markdown",
   "id": "87e8869c-d6f1-4394-b660-64cb7fd8b00b",
   "metadata": {},
   "source": [
    "## Custom Image Convertion Integrations"
   ]
  },
  {
   "cell_type": "code",
   "execution_count": null,
   "id": "a9779fbd-a0a7-423b-914a-481a3623bf18",
   "metadata": {},
   "outputs": [],
   "source": []
  },
  {
   "cell_type": "code",
   "execution_count": null,
   "id": "b0abb5fe-1863-4fdc-b5c8-87bcc05ee65a",
   "metadata": {},
   "outputs": [],
   "source": [
    "def pillow_image_to_ndarray_precondition(obj):\n",
    "    return isinstance(obj, Image.Image)"
   ]
  },
  {
   "cell_type": "code",
   "execution_count": null,
   "id": "190864ba-caa2-4b7c-8c76-bc5a3cc52b4d",
   "metadata": {},
   "outputs": [],
   "source": [
    "def pillow_image_to_ndarray_converter(img, **kwargs):\n",
    "    rotate = kwargs.get('rotate', 180)\n",
    "    if img.mode not in [\"RGB\", \"RGBA\"]:\n",
    "        img = img.convert(mode=\"RGB\")\n",
    "    img = img.rotate(rotate)\n",
    "    return py5.NumpyImageArray(np.asarray(img), img.mode)"
   ]
  },
  {
   "cell_type": "code",
   "execution_count": null,
   "id": "9508cd87-bb67-414c-a0d3-54aec1d4abef",
   "metadata": {},
   "outputs": [],
   "source": [
    "py5.register_image_conversion(\n",
    "    pillow_image_to_ndarray_precondition, pillow_image_to_ndarray_converter\n",
    ")"
   ]
  },
  {
   "cell_type": "code",
   "execution_count": null,
   "id": "43a5c0dc-e36f-435a-86f5-729cada83b4a",
   "metadata": {},
   "outputs": [],
   "source": [
    "def setup():\n",
    "    pil_img = Image.open('images/rockies.jpg').reduce(2)\n",
    "    img1 = py5.convert_image(pil_img)\n",
    "    img2 = py5.convert_image(pil_img, rotate=45)\n",
    "    py5.image(img1, 0, 25)\n",
    "    py5.image(img2, 50, 25)"
   ]
  },
  {
   "cell_type": "code",
   "execution_count": null,
   "id": "d90579ec-aee8-4d46-8d87-3c09a906388b",
   "metadata": {},
   "outputs": [],
   "source": [
    "py5.run_sketch()"
   ]
  },
  {
   "cell_type": "code",
   "execution_count": null,
   "id": "3375f0c8-72f7-46e7-9d36-8ffe80bddfde",
   "metadata": {},
   "outputs": [],
   "source": [
    "import time\n",
    "\n",
    "time.sleep(1)"
   ]
  },
  {
   "cell_type": "code",
   "execution_count": null,
   "id": "aee64d58-6128-4144-b4b0-1748c930325c",
   "metadata": {},
   "outputs": [],
   "source": [
    "py5_tools.screenshot()"
   ]
  },
  {
   "cell_type": "code",
   "execution_count": null,
   "id": "8707605c-4b1a-4128-a4c7-7b9d540259c6",
   "metadata": {},
   "outputs": [],
   "source": [
    "time.sleep(0.5)\n",
    "py5.exit_sketch()\n",
    "time.sleep(0.5)"
   ]
  },
  {
   "cell_type": "code",
   "execution_count": null,
   "id": "81ddbd9e-9623-4e14-a50a-7aa4f2955753",
   "metadata": {},
   "outputs": [],
   "source": []
  },
  {
   "cell_type": "markdown",
   "id": "acc9f061-f19c-4cbb-90cc-ddcfb3c5e1de",
   "metadata": {},
   "source": [
    "## Custom Shape Convertion Integrations"
   ]
  },
  {
   "cell_type": "code",
   "execution_count": null,
   "id": "38c602b3-5e07-4394-ab4e-3ee2ae2eae0a",
   "metadata": {},
   "outputs": [],
   "source": []
  },
  {
   "cell_type": "code",
   "execution_count": null,
   "id": "16e9bcd4-1994-4d22-860d-2c75b91f35e5",
   "metadata": {},
   "outputs": [],
   "source": [
    "def shapely_point_precondition(obj):\n",
    "    return isinstance(obj, Point)"
   ]
  },
  {
   "cell_type": "code",
   "execution_count": null,
   "id": "ebcf5a35-e0a0-4eb7-8db5-04f512c52720",
   "metadata": {},
   "outputs": [],
   "source": [
    "# draw shapely points as a group of gaussian distributed points\n",
    "def shapely_point_converter(sketch, obj, **kwargs):\n",
    "    sigma = kwargs.get('sigma', 5)\n",
    "    points = sigma * np.random.randn(1000, 2) + [obj.x, obj.y]\n",
    "\n",
    "    s = sketch.create_shape()\n",
    "    with s.begin_shape(sketch.POINTS):\n",
    "        s.vertices(points)\n",
    "\n",
    "    return s"
   ]
  },
  {
   "cell_type": "code",
   "execution_count": null,
   "id": "2aaa1bb7-f92c-40f5-a994-5c84a826ec6b",
   "metadata": {},
   "outputs": [],
   "source": [
    "py5.register_shape_conversion(\n",
    "    shapely_point_precondition, shapely_point_converter\n",
    ")"
   ]
  },
  {
   "cell_type": "code",
   "execution_count": null,
   "id": "08851d72-0453-4644-8859-4e60c7a5f95f",
   "metadata": {},
   "outputs": [],
   "source": [
    "def setup():\n",
    "    point1 = Point(30, 70)\n",
    "    point2 = Point(70, 30)\n",
    "\n",
    "    points1 = py5.convert_shape(point1)\n",
    "    points2 = py5.convert_shape(point2, sigma=10)\n",
    "    py5.shape(points1)\n",
    "    py5.shape(points2)"
   ]
  },
  {
   "cell_type": "code",
   "execution_count": null,
   "id": "e5b45d16-f0cf-44af-a078-592d7910692c",
   "metadata": {},
   "outputs": [],
   "source": [
    "py5.run_sketch()"
   ]
  },
  {
   "cell_type": "code",
   "execution_count": null,
   "id": "effdbb4d-2fdb-484b-b58b-80d265a26786",
   "metadata": {},
   "outputs": [],
   "source": [
    "time.sleep(1)"
   ]
  },
  {
   "cell_type": "code",
   "execution_count": null,
   "id": "b1b3c066-8311-4124-8a81-fafd49463b16",
   "metadata": {},
   "outputs": [],
   "source": [
    "py5_tools.screenshot()"
   ]
  },
  {
   "cell_type": "code",
   "execution_count": null,
   "id": "187554fc-996a-4a8c-a121-ea6137d30720",
   "metadata": {},
   "outputs": [],
   "source": [
    "time.sleep(0.5)\n",
    "py5.exit_sketch()\n",
    "time.sleep(0.5)"
   ]
  },
  {
   "cell_type": "code",
   "execution_count": null,
   "id": "574a0a82-20d9-48aa-ace7-1583d20ed9bb",
   "metadata": {},
   "outputs": [],
   "source": []
  }
 ],
 "metadata": {
  "jupytext": {
   "cell_metadata_filter": "-all",
   "formats": "ipynb,md"
  },
  "kernelspec": {
   "display_name": "Python 3 (ipykernel)",
   "language": "python",
   "name": "python3"
  },
  "language_info": {
   "codemirror_mode": {
    "name": "ipython",
    "version": 3
   },
   "file_extension": ".py",
   "mimetype": "text/x-python",
   "name": "python",
   "nbconvert_exporter": "python",
   "pygments_lexer": "ipython3",
   "version": "3.8.17"
  }
 },
 "nbformat": 4,
 "nbformat_minor": 5
}
