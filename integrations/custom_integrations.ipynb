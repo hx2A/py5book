{
 "cells": [
  {
   "cell_type": "markdown",
   "id": "bbfba195",
   "metadata": {},
   "source": [
    "# Custom Integrations\n",
    "\n",
    "The methods [](/reference/sketch_convert_shape) and [](/reference/sketch_convert_image)\n",
    "are customizable. In addition to the built-in integrations, you can create new integrations\n",
    "that the [](/reference/sketch_convert_shape) and [](/reference/sketch_convert_image) methods\n",
    "will use to convert Python objects into objects that are compatible with py5.\n",
    "\n",
    "This page documents how to create custom integrations for both methods. Both methods have\n",
    "similar customization designs.\n",
    "\n",
    "This page will explain the customization design in detail, but if you are going to build a\n",
    "custom integration, it is recommended you also have a look at the source code for the built-in\n",
    "[image](https://github.com/py5coding/py5generator/blob/main/py5_resources/py5_module/py5/image_conversion.py)\n",
    "and [shape](https://github.com/py5coding/py5generator/blob/main/py5_resources/py5_module/py5/shape_conversion.py)\n",
    "customizations for additional examples. You can also ask for help in\n",
    "[GitHub Discussions](https://github.com/py5coding/py5generator/discussions).\n",
    "\n",
    "Your custom integration will require two functions. The first function is a predicate function\n",
    "that accepts a Python object as its parameter and return True or False to indicate if the object\n",
    "is convertable by your custom integration. The second function must accept the same Python\n",
    "object and `**kwargs` parameters, and return an object compatible with py5.\n",
    "\n",
    "Your custom integrations will always take presidence over the builtin integrations.\n",
    "\n",
    "We will begin with some imports needed for our examples."
   ]
  },
  {
   "cell_type": "code",
   "execution_count": null,
   "id": "8790b9ee-5135-475a-a9e6-0ef938085549",
   "metadata": {},
   "outputs": [],
   "source": [
    "import numpy as np\n",
    "from PIL import Image\n",
    "from shapely import Point\n",
    "\n",
    "import py5_tools\n",
    "import py5"
   ]
  },
  {
   "cell_type": "markdown",
   "id": "87e8869c-d6f1-4394-b660-64cb7fd8b00b",
   "metadata": {},
   "source": [
    "## Custom Integrations for Image Conversion"
   ]
  },
  {
   "cell_type": "markdown",
   "id": "3e408d81-7810-45e8-a4b9-65123f4ad775",
   "metadata": {
    "editable": true,
    "slideshow": {
     "slide_type": ""
    },
    "tags": []
   },
   "source": [
    "As an example, we will create a custom integration that converts PIL Image objects\n",
    "and by default rotates them 180 degrees. We will also support a keyword argument\n",
    "to rotate the image by a different angle.\n",
    "\n",
    "First we create our predicate function. It will simply check if an object is a PIL\n",
    "Image object and return True or False. This function is identical to py5's built-in\n",
    "customization for PIL Image objects."
   ]
  },
  {
   "cell_type": "code",
   "execution_count": null,
   "id": "b0abb5fe-1863-4fdc-b5c8-87bcc05ee65a",
   "metadata": {},
   "outputs": [],
   "source": [
    "def pillow_image_to_ndarray_precondition(obj):\n",
    "    return isinstance(obj, Image.Image)"
   ]
  },
  {
   "cell_type": "markdown",
   "id": "d0e6a47e-f8e8-4b22-9cf5-a70cd269785b",
   "metadata": {},
   "source": [
    "The second function's parameters will be the object to be converted and `**kwargs` parameters.\n",
    "It should not return a Py5Image object. Instead, it should return a special `NumpyImageArray`\n",
    "object or it should return the path to an image saved to disk that can be read and loaded by\n",
    "py5.\n",
    "\n",
    "The `NumpyImageArray` class is a special class py5 uses internally to manage image data in\n",
    "numpy arrays. When creating an instance of `NumpyImageArray`, the first parameter should be\n",
    "the numpy array with three dimensions. The first two dimensions should be the image's vertical\n",
    "and horizontal dimensions, respectively. The third should be the image's color channels.\n",
    "\n",
    "The second parameter should be a string indicating the color channel sequence of the\n",
    "array's third dimension.  Any value that the [](/reference/sketch_create_image_from_numpy) method's\n",
    "`bands` parameter accepts is acceptable here. If the color channel sequence is `L`, the array's\n",
    "third dimension is optional.\n",
    "\n",
    "If it is more convenient, your code can save the converted image to disk in a temporary file.\n",
    "The Python library [tempfile](https://docs.python.org/3/library/tempfile.html) can help with\n",
    "this.\n",
    "\n",
    "The below conversion function is very similar to py5's built-in customization for PIL Image\n",
    "objects."
   ]
  },
  {
   "cell_type": "code",
   "execution_count": null,
   "id": "190864ba-caa2-4b7c-8c76-bc5a3cc52b4d",
   "metadata": {
    "editable": true,
    "slideshow": {
     "slide_type": ""
    },
    "tags": []
   },
   "outputs": [],
   "source": [
    "def pillow_image_to_ndarray_converter(img, **kwargs):\n",
    "    rotate = kwargs.get('rotate', 180)\n",
    "    if img.mode not in [\"RGB\", \"RGBA\"]:\n",
    "        img = img.convert(mode=\"RGB\")\n",
    "    img = img.rotate(rotate)\n",
    "    return py5.NumpyImageArray(np.asarray(img), img.mode)"
   ]
  },
  {
   "cell_type": "markdown",
   "id": "95dff70d-9e49-4adc-a553-36ca5233ef77",
   "metadata": {
    "editable": true,
    "slideshow": {
     "slide_type": ""
    },
    "tags": []
   },
   "source": [
    "The last step is to register the pair of functions with py5. After\n",
    "registering, when the [](/reference/sketch_convert_image) method is\n",
    "called, it will use the conversion function we wrote to convert PIL\n",
    "Image objects."
   ]
  },
  {
   "cell_type": "code",
   "execution_count": null,
   "id": "9508cd87-bb67-414c-a0d3-54aec1d4abef",
   "metadata": {
    "editable": true,
    "slideshow": {
     "slide_type": ""
    },
    "tags": []
   },
   "outputs": [],
   "source": [
    "py5.register_image_conversion(\n",
    "    pillow_image_to_ndarray_precondition, pillow_image_to_ndarray_converter\n",
    ")"
   ]
  },
  {
   "cell_type": "markdown",
   "id": "5605c1d0-22e3-414f-9ada-81d74aa6bb2f",
   "metadata": {
    "editable": true,
    "slideshow": {
     "slide_type": ""
    },
    "tags": []
   },
   "source": [
    "Now that everything is configured correctly,  let's create a Sketch\n",
    "that uses our new PIL image conversion functionality."
   ]
  },
  {
   "cell_type": "code",
   "execution_count": null,
   "id": "43a5c0dc-e36f-435a-86f5-729cada83b4a",
   "metadata": {
    "editable": true,
    "slideshow": {
     "slide_type": ""
    },
    "tags": []
   },
   "outputs": [],
   "source": [
    "def setup():\n",
    "    pil_img = Image.open('images/rockies.jpg').reduce(2)\n",
    "    img1 = py5.convert_image(pil_img)\n",
    "    img2 = py5.convert_image(pil_img, rotate=45)\n",
    "    py5.image(img1, 0, 25)\n",
    "    py5.image(img2, 50, 25)"
   ]
  },
  {
   "cell_type": "code",
   "execution_count": null,
   "id": "d90579ec-aee8-4d46-8d87-3c09a906388b",
   "metadata": {},
   "outputs": [],
   "source": [
    "py5.run_sketch()"
   ]
  },
  {
   "cell_type": "code",
   "execution_count": null,
   "id": "1a02e8af-d885-4339-b800-572d2fa1bbe6",
   "metadata": {
    "editable": true,
    "slideshow": {
     "slide_type": ""
    },
    "tags": [
     "remove-cell"
    ]
   },
   "outputs": [],
   "source": [
    "import time\n",
    "\n",
    "time.sleep(1)"
   ]
  },
  {
   "cell_type": "markdown",
   "id": "4b7605d6-cde6-41da-8ad6-5cfc9cf0f913",
   "metadata": {
    "editable": true,
    "slideshow": {
     "slide_type": ""
    },
    "tags": []
   },
   "source": [
    "The result looks as we would expect. The left image is upside down\n",
    "and the right image is rotated 45 degrees."
   ]
  },
  {
   "cell_type": "code",
   "execution_count": null,
   "id": "aee64d58-6128-4144-b4b0-1748c930325c",
   "metadata": {
    "editable": true,
    "slideshow": {
     "slide_type": ""
    },
    "tags": []
   },
   "outputs": [],
   "source": [
    "py5_tools.screenshot()"
   ]
  },
  {
   "cell_type": "code",
   "execution_count": null,
   "id": "8707605c-4b1a-4128-a4c7-7b9d540259c6",
   "metadata": {
    "editable": true,
    "slideshow": {
     "slide_type": ""
    },
    "tags": [
     "remove-cell"
    ]
   },
   "outputs": [],
   "source": [
    "time.sleep(0.5)\n",
    "py5.exit_sketch()\n",
    "time.sleep(0.5)"
   ]
  },
  {
   "cell_type": "markdown",
   "id": "acc9f061-f19c-4cbb-90cc-ddcfb3c5e1de",
   "metadata": {
    "editable": true,
    "slideshow": {
     "slide_type": ""
    },
    "tags": []
   },
   "source": [
    "## Custom Integrations for Shape Conversion"
   ]
  },
  {
   "cell_type": "code",
   "execution_count": null,
   "id": "38c602b3-5e07-4394-ab4e-3ee2ae2eae0a",
   "metadata": {
    "editable": true,
    "slideshow": {
     "slide_type": ""
    },
    "tags": []
   },
   "outputs": [],
   "source": []
  },
  {
   "cell_type": "code",
   "execution_count": null,
   "id": "16e9bcd4-1994-4d22-860d-2c75b91f35e5",
   "metadata": {},
   "outputs": [],
   "source": [
    "def shapely_point_precondition(obj):\n",
    "    return isinstance(obj, Point)"
   ]
  },
  {
   "cell_type": "code",
   "execution_count": null,
   "id": "ebcf5a35-e0a0-4eb7-8db5-04f512c52720",
   "metadata": {
    "editable": true,
    "slideshow": {
     "slide_type": ""
    },
    "tags": []
   },
   "outputs": [],
   "source": [
    "# draw shapely points as a group of gaussian distributed points\n",
    "def shapely_point_converter(sketch, obj, **kwargs):\n",
    "    sigma = kwargs.get('sigma', 5)\n",
    "    points = sigma * np.random.randn(1000, 2) + [obj.x, obj.y]\n",
    "\n",
    "    s = sketch.create_shape()\n",
    "    with s.begin_shape(sketch.POINTS):\n",
    "        s.vertices(points)\n",
    "\n",
    "    return s"
   ]
  },
  {
   "cell_type": "markdown",
   "id": "4c5512a0-d23d-4ddd-8649-cb316191a255",
   "metadata": {
    "editable": true,
    "slideshow": {
     "slide_type": ""
    },
    "tags": []
   },
   "source": [
    "We again register the pair of functions with py5. When\n",
    "the [](/reference/sketch_convert_shape) method is called, it will\n",
    "use the conversion function we wrote to convert shapely\n",
    "Point objects."
   ]
  },
  {
   "cell_type": "code",
   "execution_count": null,
   "id": "2aaa1bb7-f92c-40f5-a994-5c84a826ec6b",
   "metadata": {
    "editable": true,
    "slideshow": {
     "slide_type": ""
    },
    "tags": []
   },
   "outputs": [],
   "source": [
    "py5.register_shape_conversion(\n",
    "    shapely_point_precondition, shapely_point_converter\n",
    ")"
   ]
  },
  {
   "cell_type": "markdown",
   "id": "2ac01337-02d7-4742-becc-bf2a72431045",
   "metadata": {},
   "source": [
    "Now let's create a Sketch that uses our shapely Point conversion functionality."
   ]
  },
  {
   "cell_type": "code",
   "execution_count": null,
   "id": "08851d72-0453-4644-8859-4e60c7a5f95f",
   "metadata": {},
   "outputs": [],
   "source": [
    "def setup():\n",
    "    point1 = Point(30, 70)\n",
    "    point2 = Point(70, 30)\n",
    "\n",
    "    points1 = py5.convert_shape(point1)\n",
    "    points2 = py5.convert_shape(point2, sigma=10)\n",
    "    py5.shape(points1)\n",
    "    py5.shape(points2)"
   ]
  },
  {
   "cell_type": "code",
   "execution_count": null,
   "id": "e5b45d16-f0cf-44af-a078-592d7910692c",
   "metadata": {},
   "outputs": [],
   "source": [
    "py5.run_sketch()"
   ]
  },
  {
   "cell_type": "code",
   "execution_count": null,
   "id": "effdbb4d-2fdb-484b-b58b-80d265a26786",
   "metadata": {},
   "outputs": [],
   "source": [
    "time.sleep(1)"
   ]
  },
  {
   "cell_type": "markdown",
   "id": "8a0b3b61-e10c-4795-9213-31bd0ef22948",
   "metadata": {},
   "source": [
    "As expected, each point is rendered as a scattered field of individual points."
   ]
  },
  {
   "cell_type": "code",
   "execution_count": null,
   "id": "b1b3c066-8311-4124-8a81-fafd49463b16",
   "metadata": {},
   "outputs": [],
   "source": [
    "py5_tools.screenshot()"
   ]
  },
  {
   "cell_type": "code",
   "execution_count": null,
   "id": "187554fc-996a-4a8c-a121-ea6137d30720",
   "metadata": {},
   "outputs": [],
   "source": [
    "time.sleep(0.5)\n",
    "py5.exit_sketch()\n",
    "time.sleep(0.5)"
   ]
  },
  {
   "cell_type": "markdown",
   "id": "91fb19fe-1de7-416e-87d1-f81bab8dc85a",
   "metadata": {},
   "source": [
    "## Share Your Ideas!\n",
    "\n"
   ]
  },
  {
   "cell_type": "code",
   "execution_count": null,
   "id": "52e3c464-69a7-4ae2-af65-4da8992894f1",
   "metadata": {},
   "outputs": [],
   "source": []
  }
 ],
 "metadata": {
  "jupytext": {
   "cell_metadata_filter": "-all",
   "formats": "ipynb,md"
  },
  "kernelspec": {
   "display_name": "Python 3 (ipykernel)",
   "language": "python",
   "name": "python3"
  },
  "language_info": {
   "codemirror_mode": {
    "name": "ipython",
    "version": 3
   },
   "file_extension": ".py",
   "mimetype": "text/x-python",
   "name": "python",
   "nbconvert_exporter": "python",
   "pygments_lexer": "ipython3",
   "version": "3.8.17"
  }
 },
 "nbformat": 4,
 "nbformat_minor": 5
}
