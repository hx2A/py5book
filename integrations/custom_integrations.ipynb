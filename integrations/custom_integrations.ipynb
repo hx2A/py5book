{
 "cells": [
  {
   "cell_type": "markdown",
   "id": "bbfba195",
   "metadata": {},
   "source": [
    "# Custom Integrations\n",
    "\n",
    "how to register new customization methods\n",
    "\n",
    "Ask for ideas"
   ]
  }
 ],
 "metadata": {
  "jupytext": {
   "cell_metadata_filter": "-all",
   "main_language": "python",
   "notebook_metadata_filter": "-all"
  }
 },
 "nbformat": 4,
 "nbformat_minor": 5
}
