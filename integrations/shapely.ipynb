{
 "cells": [
  {
   "cell_type": "markdown",
   "id": "badf6d2d",
   "metadata": {},
   "source": [
    "# 2D Shapes and Shapely\n",
    "\n",
    "[Shapely](https://shapely.readthedocs.io/) is a well-known and well-maintained\n",
    "library for working with 2D geometry. Internally it is using the C/C++ library\n",
    "[GEOS](https://libgeos.org/), commonly used for geographic information systems\n",
    "(GIS) software. Shapely's computational geometry features are extensive.\n",
    "Integrating Shapely into py5 is valuable to creative coders.\n",
    "\n",
    "## Setup\n",
    "\n",
    "Install shapely with pip or with conda using the conda-forge channel.\n",
    "\n",
    "```bash\n",
    "pip install shapely\n",
    "```\n",
    "\n",
    "```bash\n",
    "conda install shapely --channel conda-forge\n",
    "```\n",
    "\n",
    "Refer to [Shapely Installation page](https://shapely.readthedocs.io/en/stable/installation.html)\n",
    "for more information.\n",
    "\n",
    "Pro tip: DO NOT install Shapely from the default conda channel. You may end up\n",
    "with the current version of shapely and an old version of the GEOS library. You\n",
    "will then frustrate yourself with bugs.\n",
    "\n",
    "Development of py5's integration code was done with Shapely version 2.0.\n",
    "The previous version, 1.8, should work just as well though.\n",
    "\n",
    "## Geometry Types\n",
    "\n",
    "All of Shapely's [Geometry types](https://shapely.readthedocs.io/en/stable/geometry.html)\n",
    "are supported. A table of each Shapely geometry type and what py5 will convert it\n",
    "into is below:\n",
    "\n",
    "| Shapely Geometry Type | Converted to py5 Type |\n",
    "|---|:---|\n",
    "| [Point](https://shapely.readthedocs.io/en/stable/reference/shapely.Point.html#shapely.Point) | a single POINT shape |\n",
    "| [LineString](https://shapely.readthedocs.io/en/stable/reference/shapely.LineString.html#shapely.LineString) | open POLYGON shape with no fill |\n",
    "| [LinearRing](https://shapely.readthedocs.io/en/stable/reference/shapely.LinearRing.html#shapely.LinearRing) | closed POLYGON shape with no fill |\n",
    "| [Polygon](https://shapely.readthedocs.io/en/stable/reference/shapely.Polygon.html#shapely.Polygon) | closed POLYGON shape with fill |\n",
    "| [MultiPoint](https://shapely.readthedocs.io/en/stable/reference/shapely.MultiPoint.html#shapely.MultiPoint) | POINTS shape  |\n",
    "| [MultiLineString](https://shapely.readthedocs.io/en/stable/reference/shapely.MultiLineString.html#shapely.MultiLineString) | GROUP shape, containing open unfilled POLYGON shapes |\n",
    "| [MultiPolygon](https://shapely.readthedocs.io/en/stable/reference/shapely.MultiPolygon.html#shapely.MultiPolygon) | GROUP shape, containing closed filled POLYGON shapes |\n",
    "| [GeometryCollection](https://shapely.readthedocs.io/en/stable/reference/shapely.GeometryCollection.html#shapely.GeometryCollection) | GROUP shape, containing any of the above |\n",
    "\n",
    "Shapely geometry types are pure geometry objects with no style information,\n",
    "such as color or line weight. In all cases, each geometry will adopt the py5\n",
    "drawing style in effect when `convert_shape()` is called.\n",
    "\n",
    "By default, py5 will convert [LineString](https://shapely.readthedocs.io/en/stable/reference/shapely.LineString.html#shapely.LineString) and\n",
    "[LinearRing](https://shapely.readthedocs.io/en/stable/reference/shapely.LinearRing.html#shapely.LinearRing) objects into POLYGONs\n",
    "with no fill. However, there is an optional argument you can use to\n",
    "convert them into filled POLYGON shapes.\n",
    "\n",
    "Let's dive into some examples, starting with our necessary imports."
   ]
  },
  {
   "cell_type": "code",
   "execution_count": null,
   "id": "4124e5e3-9dd9-4830-aa2e-96e58b642260",
   "metadata": {
    "editable": true,
    "slideshow": {
     "slide_type": ""
    },
    "tags": []
   },
   "outputs": [],
   "source": [
    "from shapely import affinity\n",
    "from shapely.geometry import (\n",
    "    GeometryCollection,\n",
    "    LinearRing,\n",
    "    LineString,\n",
    "    MultiLineString,\n",
    "    MultiPoint,\n",
    "    MultiPolygon,\n",
    "    Point,\n",
    "    Polygon,\n",
    ")\n",
    "\n",
    "import py5_tools\n",
    "import py5"
   ]
  },
  {
   "cell_type": "markdown",
   "id": "99cfc659-144e-458c-ad2b-bb01618022ec",
   "metadata": {},
   "source": [
    "## Basic Polygon Example\n",
    "\n",
    "We can create a Shapely Polygon like this:"
   ]
  },
  {
   "cell_type": "code",
   "execution_count": null,
   "id": "03d22af9-4268-4d1a-97c9-c1857763914a",
   "metadata": {
    "editable": true,
    "slideshow": {
     "slide_type": ""
    },
    "tags": []
   },
   "outputs": [],
   "source": [
    "polygon1 = Polygon([[0, 0],\n",
    "                    [200, 0],\n",
    "                    [200, 100],\n",
    "                    [100, 100],\n",
    "                    [100, 200],\n",
    "                    [0, 200]])\n",
    "\n",
    "polygon1"
   ]
  },
  {
   "cell_type": "markdown",
   "id": "16e6c0dc-1687-4c84-81de-846632542345",
   "metadata": {},
   "source": [
    "We can then use this Shapely Polygon in our Sketch."
   ]
  },
  {
   "cell_type": "code",
   "execution_count": null,
   "id": "8953a2eb-156e-45c8-8244-205c2f186a06",
   "metadata": {
    "editable": true,
    "slideshow": {
     "slide_type": ""
    },
    "tags": []
   },
   "outputs": [],
   "source": [
    "def setup():\n",
    "    py5.size(400, 400)\n",
    "    py5.background(240)\n",
    "\n",
    "    py5.fill('red')\n",
    "    py5.stroke_weight(5)\n",
    "    py5.stroke('black')\n",
    "\n",
    "    s1 = py5.convert_shape(polygon1)\n",
    "    py5.shape(s1, 100, 100)\n",
    "\n",
    "\n",
    "py5.run_sketch()"
   ]
  },
  {
   "cell_type": "code",
   "execution_count": null,
   "id": "a7a913c7-f063-47d3-84b6-793fd3aef4eb",
   "metadata": {
    "editable": true,
    "slideshow": {
     "slide_type": ""
    },
    "tags": [
     "remove-cell"
    ]
   },
   "outputs": [],
   "source": [
    "import time\n",
    "\n",
    "time.sleep(1)"
   ]
  },
  {
   "cell_type": "markdown",
   "id": "e8e19d8e-74ae-4dc4-a1d5-72784982d88f",
   "metadata": {},
   "source": [
    "Here's what that looks like. Notice the shape is drawn with\n",
    "red fill and a black stroke, just as we intended."
   ]
  },
  {
   "cell_type": "code",
   "execution_count": null,
   "id": "7ab196d4-b3bd-463a-a52c-37a421c7f717",
   "metadata": {},
   "outputs": [],
   "source": [
    "py5_tools.screenshot()"
   ]
  },
  {
   "cell_type": "code",
   "execution_count": null,
   "id": "e33bb7f7-c6b2-4fcc-888a-c6b4f296147b",
   "metadata": {
    "editable": true,
    "slideshow": {
     "slide_type": ""
    },
    "tags": [
     "remove-cell"
    ]
   },
   "outputs": [],
   "source": [
    "time.sleep(0.5)\n",
    "py5.exit_sketch()\n",
    "time.sleep(0.5)"
   ]
  },
  {
   "cell_type": "markdown",
   "id": "4a71ab27-d60d-45e3-8781-cd187a98c9f8",
   "metadata": {},
   "source": [
    "It's also upside down compared to what we saw when we created it:"
   ]
  },
  {
   "cell_type": "code",
   "execution_count": null,
   "id": "ba24075e-a361-49d1-8438-08504be484ee",
   "metadata": {},
   "outputs": [],
   "source": [
    "polygon1"
   ]
  },
  {
   "cell_type": "markdown",
   "id": "ebc5e1f3-b210-4b9b-a60b-756f2fb87dfd",
   "metadata": {},
   "source": [
    "Why is is that?\n",
    "\n",
    "To understand this, consider py5's coordinate system. The origin is\n",
    "in the upper left corner of the Sketch window. The positive x axis\n",
    "points to the right side of the Sketch and the positive y axis\n",
    "points to the bottom of the Sketch. \n",
    "\n",
    "When Shapely renders shapes as an SVG image, which is what it is\n",
    "doing to display our Polygon in this notebook, it draws the SVG\n",
    "with the origin in the lower left corner. The positive x axis\n",
    "still points to the right, but the positive y axis points up.\n",
    "\n",
    "If this bothers you, you can flip the shape with the optional\n",
    "keyword argument `flip_y_axis`. Use it like this:"
   ]
  },
  {
   "cell_type": "code",
   "execution_count": null,
   "id": "2524ed11-82aa-49f7-a1ff-aa24d12026b5",
   "metadata": {},
   "outputs": [],
   "source": [
    "def setup():\n",
    "    py5.size(400, 400)\n",
    "    py5.background(240)\n",
    "\n",
    "    py5.fill('red')\n",
    "    py5.stroke_weight(5)\n",
    "    py5.stroke('black')\n",
    "\n",
    "    s1 = py5.convert_shape(polygon1, flip_y_axis=True)\n",
    "    py5.shape(s1, 100, 100)\n",
    "\n",
    "\n",
    "py5.run_sketch()"
   ]
  },
  {
   "cell_type": "code",
   "execution_count": null,
   "id": "b03e4a6b-cb43-44e9-b83f-5454161ea1a3",
   "metadata": {
    "editable": true,
    "slideshow": {
     "slide_type": ""
    },
    "tags": [
     "remove-cell"
    ]
   },
   "outputs": [],
   "source": [
    "time.sleep(1)"
   ]
  },
  {
   "cell_type": "markdown",
   "id": "0166541a-6e13-4c2b-8314-f31e25dfd2b6",
   "metadata": {},
   "source": [
    "Now the Polygon is drawn the same as it is displayed in the notebook."
   ]
  },
  {
   "cell_type": "code",
   "execution_count": null,
   "id": "f15e5065-3117-4cfd-8455-ed2464d79edd",
   "metadata": {},
   "outputs": [],
   "source": [
    "py5_tools.screenshot()"
   ]
  },
  {
   "cell_type": "code",
   "execution_count": null,
   "id": "bec9c3ac-76b5-4d43-b255-440e7710d7d0",
   "metadata": {
    "editable": true,
    "slideshow": {
     "slide_type": ""
    },
    "tags": [
     "remove-cell"
    ]
   },
   "outputs": [],
   "source": [
    "time.sleep(0.5)\n",
    "py5.exit_sketch()\n",
    "time.sleep(0.5)"
   ]
  },
  {
   "cell_type": "markdown",
   "id": "88f6b676-6577-4f28-ba30-6daa76725f91",
   "metadata": {
    "editable": true,
    "slideshow": {
     "slide_type": ""
    },
    "tags": []
   },
   "source": [
    "The `flip_y_axis` argument makes them look the same, but be warned: if\n",
    "you are working with multiple shapes, all with different sizes, using\n",
    "this feature may create confusing problems for you to debug. It is\n",
    "better to use Shapely shapes with py5's coordinate system in mind and\n",
    "ignore how Shapely orients shapes when it displays them in this notebook.\n",
    "\n",
    "Internally, the `flip_y_axis` keyword argument is using the following\n",
    "Shapely code to flip the object relative to the object's center. This code\n",
    "or any of Shapely's other\n",
    "[Affine Transformations](https://shapely.readthedocs.io/en/stable/manual.html#affine-transformations)\n",
    "might be useful to you to make adjustments to Shapely's geometries."
   ]
  },
  {
   "cell_type": "code",
   "execution_count": null,
   "id": "7f54b9f4-0167-42ff-a961-87d87644b908",
   "metadata": {
    "editable": true,
    "slideshow": {
     "slide_type": ""
    },
    "tags": []
   },
   "outputs": [],
   "source": [
    "affinity.scale(polygon1, yfact=-1, origin=\"center\")"
   ]
  },
  {
   "cell_type": "markdown",
   "id": "3d1c825c-08cd-496c-acd4-7553e739d8e1",
   "metadata": {
    "editable": true,
    "slideshow": {
     "slide_type": ""
    },
    "tags": []
   },
   "source": [
    "## Basic LineString Example\n",
    "\n",
    "For our next example, let's look at LineString objects."
   ]
  },
  {
   "cell_type": "code",
   "execution_count": null,
   "id": "5f85c87d-2d58-49b8-b947-23957016a5b8",
   "metadata": {
    "editable": true,
    "slideshow": {
     "slide_type": ""
    },
    "tags": []
   },
   "outputs": [],
   "source": [
    "line1 = LineString([[0, 200],\n",
    "                    [0, 0],\n",
    "                    [200, 0],\n",
    "                    [200, 200]])\n",
    "\n",
    "line1"
   ]
  },
  {
   "cell_type": "markdown",
   "id": "351b8151-a4be-491a-b4ff-be653606ea59",
   "metadata": {},
   "source": [
    "We can use this in a Sketch similar to our previous example."
   ]
  },
  {
   "cell_type": "code",
   "execution_count": null,
   "id": "7807df2b-5fc5-4aa0-a6d4-3a880b8218d8",
   "metadata": {},
   "outputs": [],
   "source": [
    "def setup():\n",
    "    py5.size(400, 400)\n",
    "    py5.background(240)\n",
    "\n",
    "    py5.fill('red')\n",
    "    py5.stroke_weight(5)\n",
    "    py5.stroke('black')\n",
    "\n",
    "    s1 = py5.convert_shape(line1)\n",
    "    py5.shape(s1, 100, 100)\n",
    "\n",
    "\n",
    "py5.run_sketch()"
   ]
  },
  {
   "cell_type": "code",
   "execution_count": null,
   "id": "790d6b82-740a-45ea-9da3-bfd24140f110",
   "metadata": {
    "editable": true,
    "slideshow": {
     "slide_type": ""
    },
    "tags": [
     "remove-cell"
    ]
   },
   "outputs": [],
   "source": [
    "time.sleep(1)"
   ]
  },
  {
   "cell_type": "markdown",
   "id": "121ec671-048b-4698-8cac-d12e8a38ee96",
   "metadata": {},
   "source": [
    "As expected, the call to [](/reference/sketch_fill) had no effect."
   ]
  },
  {
   "cell_type": "code",
   "execution_count": null,
   "id": "b385a4cc-81ad-4173-8c1a-32ab6b7d94b6",
   "metadata": {},
   "outputs": [],
   "source": [
    "py5_tools.screenshot()"
   ]
  },
  {
   "cell_type": "code",
   "execution_count": null,
   "id": "f56eeeea-719b-4fd3-afec-d3a2cc5fb60a",
   "metadata": {
    "editable": true,
    "slideshow": {
     "slide_type": ""
    },
    "tags": [
     "remove-cell"
    ]
   },
   "outputs": [],
   "source": [
    "time.sleep(0.5)\n",
    "py5.exit_sketch()\n",
    "time.sleep(0.5)"
   ]
  },
  {
   "cell_type": "markdown",
   "id": "e7158b10-69da-4f9c-9b17-523e5266f39b",
   "metadata": {},
   "source": [
    "py5 supports creating open shapes that look like that\n",
    "that also have a fill.\n",
    "\n",
    "If we want our LineString to have a fill, we can use\n",
    "the optional `lines_allow_fill` keyword parameter."
   ]
  },
  {
   "cell_type": "code",
   "execution_count": null,
   "id": "c7e9b372-0e29-4319-ab24-e31301a06d04",
   "metadata": {
    "editable": true,
    "slideshow": {
     "slide_type": ""
    },
    "tags": []
   },
   "outputs": [],
   "source": [
    "def setup():\n",
    "    py5.size(400, 400)\n",
    "    py5.background(240)\n",
    "\n",
    "    py5.fill('red')\n",
    "    py5.stroke_weight(5)\n",
    "    py5.stroke('black')\n",
    "\n",
    "    s1 = py5.convert_shape(line1, lines_allow_fill=True)\n",
    "    py5.shape(s1, 100, 100)\n",
    "\n",
    "\n",
    "py5.run_sketch()"
   ]
  },
  {
   "cell_type": "code",
   "execution_count": null,
   "id": "96b33a81-5ac7-49ec-bbad-dad668515a17",
   "metadata": {
    "editable": true,
    "slideshow": {
     "slide_type": ""
    },
    "tags": [
     "remove-cell"
    ]
   },
   "outputs": [],
   "source": [
    "time.sleep(1)"
   ]
  },
  {
   "cell_type": "markdown",
   "id": "ed36b4b0-a9ff-4e4a-a8f1-d0157ef34ca5",
   "metadata": {},
   "source": [
    "Now the object has a fill. This is how you can create an\n",
    "open, filled Polygon using Shapely."
   ]
  },
  {
   "cell_type": "code",
   "execution_count": null,
   "id": "1cf34658-882e-4147-950b-84705486a0b4",
   "metadata": {
    "editable": true,
    "slideshow": {
     "slide_type": ""
    },
    "tags": []
   },
   "outputs": [],
   "source": [
    "py5_tools.screenshot()"
   ]
  },
  {
   "cell_type": "code",
   "execution_count": null,
   "id": "ad8701dd-8821-49f8-a38c-a5b00b2a825c",
   "metadata": {
    "editable": true,
    "slideshow": {
     "slide_type": ""
    },
    "tags": [
     "remove-cell"
    ]
   },
   "outputs": [],
   "source": [
    "time.sleep(0.5)\n",
    "py5.exit_sketch()\n",
    "time.sleep(0.5)"
   ]
  },
  {
   "cell_type": "markdown",
   "id": "121995cb-7ac5-497e-a2a6-07b3bc816397",
   "metadata": {},
   "source": [
    "## Boolean Operations\n",
    "\n",
    "One of the most exciting things about Shapely is the ability to\n",
    "construct elaborate geometries by performing boolean operations\n",
    "on Shapely objects. Let's explore that with an example."
   ]
  },
  {
   "cell_type": "code",
   "execution_count": null,
   "id": "629ac0f9-f15c-440c-9938-a73814be787c",
   "metadata": {
    "editable": true,
    "slideshow": {
     "slide_type": ""
    },
    "tags": []
   },
   "outputs": [],
   "source": [
    "shape = Polygon([[100, 100],\n",
    "                 [100, 300],\n",
    "                 [300, 300],\n",
    "                 [300, 100]])\n",
    "\n",
    "p = Polygon([[-25, -25],\n",
    "             [-25, 25],\n",
    "             [25, 25],\n",
    "             [25, -25]])\n",
    "\n",
    "\n",
    "def setup():\n",
    "    py5.size(400, 400)\n",
    "    py5.frame_rate(5)\n",
    "\n",
    "    py5.fill(255)\n",
    "    py5.stroke(0)\n",
    "    py5.stroke_weight(5)\n",
    "\n",
    "\n",
    "def draw():\n",
    "    global shape\n",
    "    random_location = py5.random(py5.width), py5.random(py5.height)\n",
    "    add_p = affinity.translate(p, *random_location)\n",
    "    shape = shape.union(add_p)\n",
    "\n",
    "    random_location = py5.random(py5.width), py5.random(py5.height)\n",
    "    sub_p = affinity.translate(p, *random_location)\n",
    "    shape = shape.difference(sub_p)\n",
    "\n",
    "    py5.background(128)\n",
    "    py5.shape(py5.convert_shape(shape))\n",
    "\n",
    "\n",
    "py5.run_sketch()"
   ]
  },
  {
   "cell_type": "code",
   "execution_count": null,
   "id": "3f27856e-ac22-42f6-95be-63aea249d483",
   "metadata": {
    "editable": true,
    "slideshow": {
     "slide_type": ""
    },
    "tags": [
     "remove-cell"
    ]
   },
   "outputs": [],
   "source": [
    "time.sleep(5)"
   ]
  },
  {
   "cell_type": "markdown",
   "id": "e357c897-3949-4b1b-8894-c2f3d624b3f7",
   "metadata": {},
   "source": [
    "In this example, we start with the Polygon `shape` and add and subtract\n",
    "from it in each call to `draw()`. Shapely manages the boolean operations\n",
    "so that py5 is able to draw the stroke around the outside border."
   ]
  },
  {
   "cell_type": "code",
   "execution_count": null,
   "id": "02615c3f-28d9-4a9c-9e71-5b6d2fc5dfc1",
   "metadata": {},
   "outputs": [],
   "source": [
    "py5_tools.screenshot()"
   ]
  },
  {
   "cell_type": "code",
   "execution_count": null,
   "id": "5bc83d66-e8f6-4849-a43a-8410c59cb23b",
   "metadata": {
    "editable": true,
    "slideshow": {
     "slide_type": ""
    },
    "tags": [
     "remove-cell"
    ]
   },
   "outputs": [],
   "source": [
    "time.sleep(0.5)\n",
    "py5.exit_sketch()\n",
    "time.sleep(0.5)"
   ]
  },
  {
   "cell_type": "markdown",
   "id": "de080457-972b-4f2b-9fd5-d3d63c7c7711",
   "metadata": {
    "editable": true,
    "slideshow": {
     "slide_type": ""
    },
    "tags": []
   },
   "source": [
    "There is a lot more that you can achieve with Shapely and py5. Read the\n",
    "[Shapely Documentation](https://shapely.readthedocs.io/en/stable/index.html)\n",
    "for inspiration and ideas for how to use the two libraries together."
   ]
  }
 ],
 "metadata": {
  "jupytext": {
   "formats": "ipynb,md:myst"
  },
  "kernelspec": {
   "display_name": "Python 3 (ipykernel)",
   "language": "python",
   "name": "python3"
  },
  "language_info": {
   "codemirror_mode": {
    "name": "ipython",
    "version": 3
   },
   "file_extension": ".py",
   "mimetype": "text/x-python",
   "name": "python",
   "nbconvert_exporter": "python",
   "pygments_lexer": "ipython3",
   "version": "3.8.17"
  }
 },
 "nbformat": 4,
 "nbformat_minor": 5
}
