{
 "cells": [
  {
   "cell_type": "markdown",
   "id": "badf6d2d",
   "metadata": {},
   "source": [
    "# 2D Shapes and Shapely\n",
    "\n",
    "[Shapely](https://shapely.readthedocs.io/) is a well-known and well-maintained\n",
    "library for working with 2D geometry. Internally it is using the C/C++ library\n",
    "[GEOS](https://libgeos.org/), commonly used for geographic information systems\n",
    "(GIS) software.\n",
    "\n",
    "## Setup\n",
    "\n",
    "Install shapely with pip or with conda using the conda-forge channel.\n",
    "\n",
    "```bash\n",
    "pip install shapely\n",
    "```\n",
    "\n",
    "```bash\n",
    "conda install shapely --channel conda-forge\n",
    "```\n",
    "\n",
    "Refer to [Shapely Installation page](https://shapely.readthedocs.io/en/stable/installation.html)\n",
    "for more information.\n",
    "\n",
    "Pro tip: DO NOT install Shapely from the default conda channel. You may end up\n",
    "with the current version of shapely and old version of the GEOS library. You\n",
    "will then frustrate yourself with bugs.\n",
    "\n",
    "Development of py5's integration code was done with Shapely version 2.0.\n",
    "The previous version, 1.8, should work just as well though.\n",
    "\n",
    "## Convert Shapely objects to Py5Shape objects\n",
    "\n",
    "Basic idea\n",
    "\n",
    "Converted shape adapts the py5 drawing style in effect when `convert_shape()` is\n",
    "called.\n",
    "\n",
    "## Options\n",
    "\n",
    "Explain two coordinate systems\n",
    "\n",
    "Options - flip y, lines allow fills\n",
    "change flip y default option???"
   ]
  }
 ],
 "metadata": {
  "jupytext": {
   "formats": "ipynb,md:myst"
  },
  "kernelspec": {
   "display_name": "Python 3",
   "language": "python",
   "name": "python3"
  }
 },
 "nbformat": 4,
 "nbformat_minor": 5
}
