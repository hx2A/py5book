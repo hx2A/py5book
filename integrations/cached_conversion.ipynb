{
 "cells": [
  {
   "cell_type": "markdown",
   "id": "1ddca678-2e0a-4a83-95e2-b2a15b5906b7",
   "metadata": {},
   "source": [
    "# Cached Conversion\n",
    "\n",
    "When using py5 integrations along with [](/reference/sketch_convert_shape) or [](/reference/sketch_convert_image), you will often find yourself writing code that looks like this:"
   ]
  },
  {
   "cell_type": "code",
   "execution_count": null,
   "id": "2237684c-dd7c-4d8e-a5de-8d965a67afcc",
   "metadata": {},
   "outputs": [],
   "source": []
  },
  {
   "cell_type": "markdown",
   "id": "d6157ee1-4681-45c8-ab48-77a4570d8290",
   "metadata": {},
   "source": [
    "It is a bit tedious to keep writing `global` statements. To avoid `global` statements, you might be tempted to write code like this:"
   ]
  },
  {
   "cell_type": "code",
   "execution_count": null,
   "id": "ff169d46-c1c3-48c5-925b-56581ffa66e1",
   "metadata": {},
   "outputs": [],
   "source": []
  },
  {
   "cell_type": "markdown",
   "id": "ef15ca40-59b1-463a-ae93-a9d83ae0a2fb",
   "metadata": {},
   "source": [
    "The problem with this code is that object conversion will be done repeatedly in the `draw()` function, potentially making the Sketch run slowly.\n",
    "\n",
    "As an alternative, you can use the [](/reference/sketch_convert_cached_shape) or [](/reference/sketch_convert_cached_image) methods. These methods do the same conversion as [](/reference/sketch_convert_shape) or [](/reference/sketch_convert_image), with additional caching functionality, providing better Sketch performance. They cache the results of the conversion and will retrieve converted objects on subsequent calls. Using these methods, you can write code that looks like this:"
   ]
  },
  {
   "cell_type": "code",
   "execution_count": null,
   "id": "a50143b2-a673-43ec-a0be-45d305b7f1d8",
   "metadata": {},
   "outputs": [],
   "source": []
  },
  {
   "cell_type": "markdown",
   "id": "30f09dff-6265-4cec-8eab-90d14914ecc4",
   "metadata": {},
   "source": [
    "The caching functionality only works if the converted objects are \"hashable\". Basically, it must be possible to use the object you pass to [](/reference/sketch_convert_shape) or [](/reference/sketch_convert_image) as the key of a dictionary. For the Python libraries relevant to py5 object conversion, only PIL Image objects are not hashable and have this limitation."
   ]
  }
 ],
 "metadata": {
  "jupytext": {
   "formats": "ipynb,md:myst"
  },
  "kernelspec": {
   "display_name": "Python 3 (ipykernel)",
   "language": "python",
   "name": "python3"
  },
  "language_info": {
   "codemirror_mode": {
    "name": "ipython",
    "version": 3
   },
   "file_extension": ".py",
   "mimetype": "text/x-python",
   "name": "python",
   "nbconvert_exporter": "python",
   "pygments_lexer": "ipython3",
   "version": "3.9.19"
  }
 },
 "nbformat": 4,
 "nbformat_minor": 5
}
