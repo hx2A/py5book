{
 "cells": [
  {
   "cell_type": "markdown",
   "id": "1ddca678-2e0a-4a83-95e2-b2a15b5906b7",
   "metadata": {
    "editable": true,
    "slideshow": {
     "slide_type": ""
    },
    "tags": []
   },
   "source": [
    "# Cached Conversion\n",
    "\n",
    "When using py5 integrations along with [](/reference/sketch_convert_shape) or [](/reference/sketch_convert_image), you will often find yourself writing code that looks like this:"
   ]
  },
  {
   "cell_type": "code",
   "execution_count": null,
   "id": "2237684c-dd7c-4d8e-a5de-8d965a67afcc",
   "metadata": {},
   "outputs": [],
   "source": [
    "import py5\n",
    "\n",
    "from trimesh.primitives import Sphere\n",
    "\n",
    "trimesh_sphere = Sphere(100, subdivisions=2)\n",
    "y_rot = 0"
   ]
  },
  {
   "cell_type": "code",
   "execution_count": null,
   "id": "96fd7257",
   "metadata": {
    "editable": true,
    "slideshow": {
     "slide_type": ""
    },
    "tags": []
   },
   "outputs": [],
   "source": [
    "def setup():\n",
    "    global sphere\n",
    "    py5.size(500, 500, py5.P3D)\n",
    "    # convert trimesh sphere to Py5Shape object one time in setup()\n",
    "    sphere = py5.convert_shape(trimesh_sphere)\n",
    "\n",
    "\n",
    "def draw():\n",
    "    global y_rot\n",
    "    y_rot += 0.01\n",
    "\n",
    "    py5.background(\"gray\")\n",
    "    py5.translate(py5.width / 2, py5.height / 2)\n",
    "    py5.rotate_y(y_rot)\n",
    "    # use the converted trimesh sphere in draw()\n",
    "    py5.shape(sphere)\n",
    "\n",
    "\n",
    "py5.run_sketch()"
   ]
  },
  {
   "cell_type": "code",
   "execution_count": null,
   "id": "9ed91fa0-f209-4c84-a1e5-1d723753db61",
   "metadata": {
    "editable": true,
    "slideshow": {
     "slide_type": ""
    },
    "tags": [
     "remove-cell"
    ]
   },
   "outputs": [],
   "source": [
    "import time\n",
    "\n",
    "time.sleep(0.5)\n",
    "py5.exit_sketch()\n",
    "time.sleep(0.5)"
   ]
  },
  {
   "cell_type": "markdown",
   "id": "d6157ee1-4681-45c8-ab48-77a4570d8290",
   "metadata": {},
   "source": [
    "It is a bit tedious to write that `global` statement and object conversion in `setup()`. To simplify the Sketch, you might be tempted to move the [](/reference/sketch_convert_shape) call to the `draw()` function, like this:"
   ]
  },
  {
   "cell_type": "code",
   "execution_count": null,
   "id": "ff169d46-c1c3-48c5-925b-56581ffa66e1",
   "metadata": {
    "editable": true,
    "slideshow": {
     "slide_type": ""
    },
    "tags": []
   },
   "outputs": [],
   "source": [
    "def setup():\n",
    "    py5.size(500, 500, py5.P3D)\n",
    "\n",
    "\n",
    "def draw():\n",
    "    global y_rot\n",
    "    y_rot += 0.01\n",
    "\n",
    "    py5.background(\"gray\")\n",
    "    py5.translate(py5.width / 2, py5.height / 2)\n",
    "    py5.rotate_y(y_rot)\n",
    "    # repeatedly convert trimesh sphere to Py5Shape object in draw()\n",
    "    py5.shape(py5.convert_shape(trimesh_sphere))\n",
    "\n",
    "\n",
    "py5.run_sketch()"
   ]
  },
  {
   "cell_type": "code",
   "execution_count": null,
   "id": "bff2725a-193b-402e-ae25-575bd221e53f",
   "metadata": {
    "editable": true,
    "slideshow": {
     "slide_type": ""
    },
    "tags": [
     "remove-cell"
    ]
   },
   "outputs": [],
   "source": [
    "time.sleep(0.5)\n",
    "py5.exit_sketch()\n",
    "time.sleep(0.5)"
   ]
  },
  {
   "cell_type": "markdown",
   "id": "ef15ca40-59b1-463a-ae93-a9d83ae0a2fb",
   "metadata": {},
   "source": [
    "Less typing, but the problem with this is that object conversion will be done repeatedly in the `draw()` function, potentially making the Sketch run slowly. It doesn't make that much of a difference in this simple example. For more complex Sketches with multiple object conversions, it will be noticeable.\n",
    "\n",
    "As an alternative, you can use the [](/reference/sketch_convert_cached_shape) or [](/reference/sketch_convert_cached_image) methods. These methods do the same conversion as [](/reference/sketch_convert_shape) or [](/reference/sketch_convert_image), with the addition of caching functionality. This provides better Sketch performance. Both methods cache the results of the conversion and will retrieve converted objects on subsequent calls. Using these methods, you can write code that looks like this:"
   ]
  },
  {
   "cell_type": "code",
   "execution_count": null,
   "id": "a50143b2-a673-43ec-a0be-45d305b7f1d8",
   "metadata": {
    "editable": true,
    "slideshow": {
     "slide_type": ""
    },
    "tags": []
   },
   "outputs": [],
   "source": [
    "def setup():\n",
    "    py5.size(500, 500, py5.P3D)\n",
    "\n",
    "\n",
    "def draw():\n",
    "    global y_rot\n",
    "    y_rot += 0.01\n",
    "\n",
    "    py5.background(\"gray\")\n",
    "    py5.translate(py5.width / 2, py5.height / 2)\n",
    "    py5.rotate_y(y_rot)\n",
    "    # convert trimesh sphere to Py5Shape object one time in draw()\n",
    "    py5.shape(py5.convert_cached_shape(trimesh_sphere))\n",
    "\n",
    "\n",
    "py5.run_sketch()"
   ]
  },
  {
   "cell_type": "code",
   "execution_count": null,
   "id": "97805b1b-0be0-4d7e-93fb-6d220c4f7e9d",
   "metadata": {
    "editable": true,
    "slideshow": {
     "slide_type": ""
    },
    "tags": [
     "remove-cell"
    ]
   },
   "outputs": [],
   "source": [
    "time.sleep(0.5)\n",
    "py5.exit_sketch()\n",
    "time.sleep(0.5)"
   ]
  },
  {
   "cell_type": "markdown",
   "id": "30f09dff-6265-4cec-8eab-90d14914ecc4",
   "metadata": {},
   "source": [
    "The caching functionality only works if the converted objects are \"hashable\". Bottom line, it must be possible to use the object you pass to [](/reference/sketch_convert_shape) or [](/reference/sketch_convert_image) as the key of a dictionary. For the Python libraries relevant to py5 object conversion, only PIL Image objects are not hashable and have this limitation. You would see a warning message reminding you of this if you were to pass a PIL Image object with [](/reference/sketch_convert_cached_image)."
   ]
  }
 ],
 "metadata": {
  "jupytext": {
   "formats": "ipynb,md:myst"
  },
  "kernelspec": {
   "display_name": "Python 3 (ipykernel)",
   "language": "python",
   "name": "python3"
  },
  "language_info": {
   "codemirror_mode": {
    "name": "ipython",
    "version": 3
   },
   "file_extension": ".py",
   "mimetype": "text/x-python",
   "name": "python",
   "nbconvert_exporter": "python",
   "pygments_lexer": "ipython3",
   "version": "3.9.19"
  }
 },
 "nbformat": 4,
 "nbformat_minor": 5
}
