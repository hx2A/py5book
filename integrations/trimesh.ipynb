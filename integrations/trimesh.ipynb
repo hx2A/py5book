{
 "cells": [
  {
   "cell_type": "markdown",
   "id": "ad38d392",
   "metadata": {},
   "source": [
    "# 3D Shapes and Trimesh\n",
    "\n",
    "[Trimesh](https://trimesh.org/) is a well-known and well-maintained library for\n",
    "working with 3D geometry.\n",
    "\n",
    "The goal of Trimesh is to \"provide a full featured and well tested Trimesh\n",
    "object which allows for easy manipulation and analysis, in the style of the\n",
    "Polygon object in the Shapely library.\"\n",
    "\n",
    "Trimesh can greatly extend py5's ability to load 3D objects, far exceeding what\n",
    "can be achieved with [](/reference/sketch_load_shape.md).\n",
    "\n",
    "## Setup\n",
    "\n",
    "Installing Trimesh by itself is acceptable but Trimesh is much more useful if\n",
    "you install its dependent libraries. At a minimum, you should install the easy\n",
    "to install dependencies with this command:\n",
    "\n",
    "```bash\n",
    "pip install trimesh[easy]\n",
    "```\n",
    "\n",
    "Refer to the [Trimesh Installation page](https://trimesh.org/install.html) for\n",
    "more information about Trimesh's dependencies and installation options.\n",
    "\n",
    "Development of py5's integration code was done with Trimesh version 3.23.\n",
    "Version 4.0 was released shortly after but seems to work just as well as 3.23.\n",
    "\n",
    "Installing [OpenSCAD](https://openscad.org/) or\n",
    "[Blender](https://www.blender.org/) on your computer may also be useful. Trimesh\n",
    "can use these to perform boolean operations on 3D objects.\n",
    "\n",
    "If Trimesh is missing a dependent library needed for the functionality you want\n",
    "to use, it will provide you with an error message informing you of what you\n",
    "should install.\n",
    "\n",
    "## Convert Trimesh objects to Py5Shapely objects\n",
    "\n",
    "Example showing how to load a glb or gltf file with the texture\n",
    "\n",
    "Simple geometry examples, show boolean operations\n",
    "\n",
    "Include note about colors, may need to disable style. Sometimes trimesh adds a\n",
    "style to something. If the object has a style, py5 (should) pick up on that and\n",
    "use it.\n",
    "\n",
    "Scene, Trimesh, Path2D, Path3D\n",
    "\n",
    "## Options\n",
    "\n",
    "textures"
   ]
  }
 ],
 "metadata": {
  "jupytext": {
   "formats": "ipynb,md:myst"
  },
  "kernelspec": {
   "display_name": "Python 3",
   "language": "python",
   "name": "python3"
  }
 },
 "nbformat": 4,
 "nbformat_minor": 5
}
