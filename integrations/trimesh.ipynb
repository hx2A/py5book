{
 "cells": [
  {
   "cell_type": "markdown",
   "id": "7d28b7aa-e5a5-4c86-a4c4-4489282f7bf9",
   "metadata": {
    "editable": true,
    "slideshow": {
     "slide_type": ""
    },
    "tags": []
   },
   "source": [
    "# 3D Shapes and Trimesh\n",
    "\n",
    "[Trimesh](https://trimesh.org/) is a well-known and well-maintained library for working with 3D geometry.\n",
    "\n",
    "The goal of Trimesh is to \"provide a full featured and well tested Trimesh object which allows for easy manipulation and analysis, in the style of the Polygon object in the Shapely library.\"\n",
    "\n",
    "Trimesh and [](/reference/sketch_convert_shape) can greatly extend py5's ability to load 3D objects, far exceeding what can be achieved with [](/reference/sketch_load_shape).\n",
    "\n",
    "Finally, know that Trimesh is a large and complex library. It is possible (likely) that there are Trimesh features that don't work well with py5's [](/reference/sketch_convert_shape) method. If you find something that doesn't work but should or have ideas for how py5's Trimesh integrations can be improved, please let us know by [opening an issue](https://github.com/py5coding/py5generator/issues) or starting a thread in [GitHub Discussions](https://github.com/py5coding/py5generator/discussions).\n",
    "\n",
    "## Setup\n",
    "\n",
    "Installing Trimesh by itself is acceptable but Trimesh is much more useful if you install its dependent libraries. At a minimum, you should install the easy to install dependencies with this command:\n",
    "\n",
    "```bash\n",
    "pip install trimesh[easy]\n",
    "```\n",
    "\n",
    "Refer to the [Trimesh Installation page](https://trimesh.org/install.html) for more information about Trimesh's dependencies and installation options.\n",
    "\n",
    "Development of py5's integration code was done with Trimesh version 3.23. Version 4.0 was released shortly after but seems to work just as well as 3.23.\n",
    "\n",
    "Installing [OpenSCAD](https://openscad.org/) or [Blender](https://www.blender.org/) on your computer may also be useful. Trimesh can use these to perform boolean operations on 3D objects.\n",
    "\n",
    "If Trimesh is missing a dependent library needed for the functionality you want to use, it will provide you with an error message informing you of what you should install.\n",
    "\n",
    "## Convert `trimesh.Scene` objects to Py5Shapely objects\n",
    "\n",
    "Let's start by importing the Trimesh library and some classes we will use later."
   ]
  },
  {
   "cell_type": "code",
   "execution_count": null,
   "id": "c522d3e9-2ace-42bf-b70e-4a4085bb2894",
   "metadata": {
    "editable": true,
    "slideshow": {
     "slide_type": ""
    },
    "tags": []
   },
   "outputs": [],
   "source": [
    "import py5_tools\n",
    "import py5\n",
    "\n",
    "import trimesh\n",
    "from trimesh.path import Path2D, Path3D\n",
    "from trimesh.primitives import Box, Capsule, Cylinder, Sphere"
   ]
  },
  {
   "cell_type": "markdown",
   "id": "686848d6-b17b-433f-8807-657b5832e46c",
   "metadata": {
    "editable": true,
    "slideshow": {
     "slide_type": ""
    },
    "tags": []
   },
   "source": [
    "For our first example, we will use a 3D model file downloaded from [TurboSquid](https://www.turbosquid.com/). Our example is a\n",
    "[strawberry](https://www.turbosquid.com/3d-models/3d-strawberry-1962030) created by the artist [minimoku](https://www.turbosquid.com/Search/Artists/minimoku).\n",
    "\n",
    "Loading a complex 3D model in Trimesh may be slow. Don't load a model from within a Sketch unless absolutely necessary.  If you need to do this, load it once in `setup()`."
   ]
  },
  {
   "cell_type": "code",
   "execution_count": null,
   "id": "b9d38e18-c804-481c-a925-6d473d4fc0dc",
   "metadata": {
    "editable": true,
    "slideshow": {
     "slide_type": ""
    },
    "tags": []
   },
   "outputs": [],
   "source": [
    "strawberry_model = trimesh.load('models/Strawberry_gltf.gltf')\n",
    "\n",
    "print(type(strawberry_model))"
   ]
  },
  {
   "cell_type": "markdown",
   "id": "92e5fddc-8192-405b-9f03-69911157b16f",
   "metadata": {
    "editable": true,
    "slideshow": {
     "slide_type": ""
    },
    "tags": []
   },
   "source": [
    "A [trimesh.Scene](https://trimesh.org/trimesh.html#trimesh.Scene) object can contain one or more [trimesh.Trimesh](https://trimesh.org/trimesh.html#trimesh.Trimesh) objects. Both work equally well here.\n",
    "\n",
    "We can use the [](/reference/sketch_convert_shape) method to effortlessly convert this model into a `Py5Shape` object."
   ]
  },
  {
   "cell_type": "code",
   "execution_count": null,
   "id": "2c2ee079-c4ca-4284-bc78-e477b1b607a2",
   "metadata": {
    "editable": true,
    "slideshow": {
     "slide_type": ""
    },
    "tags": []
   },
   "outputs": [],
   "source": [
    "def setup():\n",
    "    global strawberry\n",
    "    py5.size(300, 500, py5.P3D)\n",
    "    strawberry = py5.convert_shape(strawberry_model)\n",
    "    assert isinstance(strawberry, py5.Py5Shape)\n",
    "\n",
    "    # increase the model's scale and change its orientation\n",
    "    strawberry.scale(50)\n",
    "    strawberry.rotate_z(-py5.radians(90))"
   ]
  },
  {
   "cell_type": "markdown",
   "id": "ed2bdd16-586d-47fd-a827-4cdd35cdf3fe",
   "metadata": {
    "editable": true,
    "slideshow": {
     "slide_type": ""
    },
    "tags": []
   },
   "source": [
    "After converting the model into a `Py5Shape` object, we need to increase the scale and rotate it to change its orientation. Consider py5's coordinate system: the positive Y axis points towards the bottom of the drawing surface. It is likely that the 3D modeling program used to create this strawberry had a different coordinate system, perhaps with the positive Z axis pointing towards the top of the screen. Therefore, when using this model in py5 you may need to do some rotations to get the result you want. Similarly, the scale may need to be some adjustments.\n",
    "\n",
    "When loading a model, you will often want to apply some transformations so it can be drawn as you intend for it to be drawn. These adjustments can be done after converting the model into a `Py5Shape` object, as we did here in our `setup()` function. Alternatively, we can do the adjustments in the `draw()` function before the drawing the `Py5Shape` object to the screen with [](/reference/sketch_shape).\n",
    "\n",
    "You can also adjust the Trimesh mesh object using Trimesh's transformation tools, before the call to [](/reference/sketch_convert_shape). You will use Trimesh's [apply_transform()](https://trimesh.org/trimesh.html#trimesh.Trimesh.apply_transform) method to apply a transformation matrix to a mesh.\n",
    "\n",
    "Now let's create a `draw()` method to draw the `Py5Shape` object with the [](/reference/sketch_shape) method."
   ]
  },
  {
   "cell_type": "code",
   "execution_count": null,
   "id": "9fac46c8-048d-4d0d-b2f4-c18e1116a991",
   "metadata": {
    "editable": true,
    "slideshow": {
     "slide_type": ""
    },
    "tags": []
   },
   "outputs": [],
   "source": [
    "y_rot = 0\n",
    "\n",
    "\n",
    "def draw():\n",
    "    global y_rot\n",
    "    y_rot += 1\n",
    "\n",
    "    py5.background(255)\n",
    "    py5.ambient_light(64, 64, 64)\n",
    "    py5.directional_light(220, 220, 220, 0, -1, -1)\n",
    "\n",
    "    py5.translate(225, 400, 0)\n",
    "\n",
    "    py5.rotate_z(py5.radians(-25))\n",
    "    py5.rotate_x(py5.radians(-25))\n",
    "    py5.rotate_y(py5.radians(y_rot))\n",
    "\n",
    "    py5.shape(strawberry)"
   ]
  },
  {
   "cell_type": "markdown",
   "id": "36260dd8-8a47-4a92-a621-e899499e09ad",
   "metadata": {
    "editable": true,
    "slideshow": {
     "slide_type": ""
    },
    "tags": []
   },
   "source": [
    "We need to invert the model's y axis because the top of the strawberry is oriented towards the positive y axis but Processing and therefore py5 has the positive y axis pointing towards the bottom of the drawing surface. You will frequently need to employ rotations and scale adjustments when working with models created outside of py5.\n",
    "\n",
    "When we run this, the strawberry will slowly rotate along its main axis."
   ]
  },
  {
   "cell_type": "code",
   "execution_count": null,
   "id": "88676b02-5603-4347-9ac6-0a030984888a",
   "metadata": {
    "editable": true,
    "slideshow": {
     "slide_type": ""
    },
    "tags": []
   },
   "outputs": [],
   "source": [
    "py5.run_sketch()"
   ]
  },
  {
   "cell_type": "markdown",
   "id": "cc519138-5296-4c18-ab4c-ab9494b42795",
   "metadata": {
    "editable": true,
    "slideshow": {
     "slide_type": ""
    },
    "tags": []
   },
   "source": [
    "The result looks like this:"
   ]
  },
  {
   "cell_type": "code",
   "execution_count": null,
   "id": "3b8b16cd-d354-471a-ad58-15b801c8a295",
   "metadata": {
    "editable": true,
    "slideshow": {
     "slide_type": ""
    },
    "tags": []
   },
   "outputs": [],
   "source": [
    "py5_tools.screenshot()"
   ]
  },
  {
   "cell_type": "code",
   "execution_count": null,
   "id": "5407ed2e-34db-4186-9cb2-420f91f5cdc0",
   "metadata": {
    "editable": true,
    "slideshow": {
     "slide_type": ""
    },
    "tags": [
     "remove-cell"
    ]
   },
   "outputs": [],
   "source": [
    "import time\n",
    "\n",
    "time.sleep(1)\n",
    "\n",
    "py5.exit_sketch()"
   ]
  },
  {
   "cell_type": "markdown",
   "id": "4bbbaa57-5708-4d0c-9975-d5c0a70f4afd",
   "metadata": {
    "editable": true,
    "slideshow": {
     "slide_type": ""
    },
    "tags": []
   },
   "source": [
    "Neat, huh? \n",
    "\n",
    "The [](/reference/sketch_convert_shape) method did all the heavy lifting to create the object and add apply the base color texture using the UV coordinates.\n",
    "\n",
    "Note that Trimesh objects can have additional texture maps for things such as surface normals or metallic roughness. Since the\n",
    "default py5 polygon shader cannot make use of these texture maps, py5's [](/reference/sketch_convert_shape) method will not add them to the created `Py5Shape` object. One could write additional code to make use of them, however."
   ]
  },
  {
   "cell_type": "markdown",
   "id": "21d64c46-52f3-4d3d-8bd5-6ba6cdd4d505",
   "metadata": {
    "editable": true,
    "slideshow": {
     "slide_type": ""
    },
    "tags": []
   },
   "source": [
    "## Using Trimesh Primitives\n",
    "\n",
    "Trimesh has a set of [primitive objects](https://trimesh.org/trimesh.primitives.html) such as [Box](https://trimesh.org/trimesh.primitives.html#trimesh.primitives.Box), [Capsule](https://trimesh.org/trimesh.primitives.html#trimesh.primitives.Capsule), [Cylinder](https://trimesh.org/trimesh.primitives.html#trimesh.primitives.Cylinder), and [Sphere](https://trimesh.org/trimesh.primitives.html#trimesh.primitives.Sphere).\n",
    "\n",
    "The arrangement of triangles in a Trimesh Sphere is different from the arrangement created by py5's [](/reference/sketch_sphere) method. Capsules are kind of like cylinders with two half-spheres on each end. These primitives extend the basic shapes you can work with in py5.\n",
    "\n",
    "Let's create a simple example showcasing these objects."
   ]
  },
  {
   "cell_type": "code",
   "execution_count": null,
   "id": "10472ee0-22b8-4b7a-b1de-dafc07f21608",
   "metadata": {
    "editable": true,
    "slideshow": {
     "slide_type": ""
    },
    "tags": []
   },
   "outputs": [],
   "source": [
    "rot_z = 0\n",
    "\n",
    "def setup():\n",
    "    global primitives\n",
    "    py5.size(500, 500, py5.P3D)\n",
    "\n",
    "    py5.stroke_weight(1.5)\n",
    "\n",
    "    primitives = py5.create_shape(py5.GROUP)\n",
    "\n",
    "    box = py5.convert_shape(Box((80, 120, 70)))\n",
    "    box.translate(150, 0, 0)\n",
    "    primitives.add_child(box)\n",
    "\n",
    "    # NOTE: Trimesh's sections parameter might have a bug\n",
    "    capsule = py5.convert_shape(Capsule(70, 40, sections=12))\n",
    "    capsule.translate(0, 150, 0)\n",
    "    primitives.add_child(capsule)\n",
    "    \n",
    "    cylinder = py5.convert_shape(Cylinder(50, 80, sections=12))\n",
    "    cylinder.translate(-150, 0, 0)\n",
    "    primitives.add_child(cylinder)\n",
    "\n",
    "    sphere = py5.convert_shape(Sphere(75, subdivisions=2))\n",
    "    sphere.translate(0, -150, 0)\n",
    "    primitives.add_child(sphere)\n",
    "    \n",
    "\n",
    "def draw():\n",
    "    global rot_z\n",
    "    rot_z += 1\n",
    "\n",
    "    py5.background(204)\n",
    "    py5.translate(py5.width / 2, py5.height / 2)\n",
    "    py5.rotate_x(py5.radians(60))\n",
    "    py5.rotate_z(py5.radians(rot_z))\n",
    "    py5.shape(primitives)"
   ]
  },
  {
   "cell_type": "markdown",
   "id": "cf12a8d6-949a-4b89-8f1b-59ff63e7cd2f",
   "metadata": {
    "editable": true,
    "slideshow": {
     "slide_type": ""
    },
    "tags": []
   },
   "source": [
    "Each of our primitives will inherit the drawing style active at the time [](/reference/sketch_convert_shape) is called.\n",
    "\n",
    "When we run this, the primitive shapes will rotate around for us to see."
   ]
  },
  {
   "cell_type": "code",
   "execution_count": null,
   "id": "7b1eb121-a341-40d2-aedb-4a54ade439df",
   "metadata": {
    "editable": true,
    "slideshow": {
     "slide_type": ""
    },
    "tags": []
   },
   "outputs": [],
   "source": [
    "py5.run_sketch()"
   ]
  },
  {
   "cell_type": "code",
   "execution_count": null,
   "id": "af19235d-9cc7-443a-a860-24d13275da22",
   "metadata": {
    "editable": true,
    "slideshow": {
     "slide_type": ""
    },
    "tags": [
     "remove-cell"
    ]
   },
   "outputs": [],
   "source": [
    "time.sleep(4)"
   ]
  },
  {
   "cell_type": "markdown",
   "id": "faff95b1-6c28-4daf-925a-c6b213528995",
   "metadata": {
    "editable": true,
    "slideshow": {
     "slide_type": ""
    },
    "tags": []
   },
   "source": [
    "Here's a screenshot of what it looks like:"
   ]
  },
  {
   "cell_type": "code",
   "execution_count": null,
   "id": "492f96fd-53e4-4633-802c-757873b27099",
   "metadata": {
    "editable": true,
    "slideshow": {
     "slide_type": ""
    },
    "tags": []
   },
   "outputs": [],
   "source": [
    "py5_tools.screenshot()"
   ]
  },
  {
   "cell_type": "code",
   "execution_count": null,
   "id": "9c62a433-bb7d-44db-b17b-901704247525",
   "metadata": {
    "editable": true,
    "slideshow": {
     "slide_type": ""
    },
    "tags": [
     "remove-cell"
    ]
   },
   "outputs": [],
   "source": [
    "time.sleep(1)\n",
    "\n",
    "py5.exit_sketch()"
   ]
  },
  {
   "cell_type": "markdown",
   "id": "e1c278b8-50cf-4b88-a256-4b04458b7cfb",
   "metadata": {
    "editable": true,
    "slideshow": {
     "slide_type": ""
    },
    "tags": []
   },
   "source": [
    "A final comment on drawing styles: Trimesh objects can have their own drawing style information ([ColorVisuals](https://trimesh.org/trimesh.visual.color.html#trimesh.visual.color.ColorVisuals)) instead of texture-based styles ([TextureVisuals](https://trimesh.org/trimesh.visual.texture.html#trimesh.visual.texture.TextureVisuals)). If [](/reference/sketch_convert_shape) detects a ColorVisuals object, it will use that drawing style information instead of py5's active drawing style. \n",
    "\n",
    "Also, some Trimesh library operations seem to add ColorVisuals objects to their output. This can be a bit confusing because your calls to py5's style methods such as [](/reference/sketch_stroke) and [](/reference/sketch_fill) will have no effect. Be aware of this possibility to avoid coding frustrations. If you suspect this is happening, one easy way to address this is to call the [](https://py5coding.org/reference/py5shape_disable_style.html) method to remove Trimesh's drawing style settings from the `Py5Shape` object and take control of the drawing style."
   ]
  },
  {
   "cell_type": "markdown",
   "id": "f7b159c8-5d42-40e4-a35e-3cabcb92977f",
   "metadata": {
    "editable": true,
    "slideshow": {
     "slide_type": ""
    },
    "tags": []
   },
   "source": [
    "Scene, Trimesh, Path2D, Path3D\n",
    "\n",
    "## Options\n",
    "\n",
    "textures"
   ]
  },
  {
   "cell_type": "code",
   "execution_count": null,
   "id": "2ed2d914-8f02-456b-a9cc-5541fdfc5966",
   "metadata": {},
   "outputs": [],
   "source": []
  }
 ],
 "metadata": {
  "jupytext": {
   "formats": "ipynb,md:myst"
  },
  "kernelspec": {
   "display_name": "Python 3 (ipykernel)",
   "language": "python",
   "name": "python3"
  },
  "language_info": {
   "codemirror_mode": {
    "name": "ipython",
    "version": 3
   },
   "file_extension": ".py",
   "mimetype": "text/x-python",
   "name": "python",
   "nbconvert_exporter": "python",
   "pygments_lexer": "ipython3",
   "version": "3.8.17"
  }
 },
 "nbformat": 4,
 "nbformat_minor": 5
}
