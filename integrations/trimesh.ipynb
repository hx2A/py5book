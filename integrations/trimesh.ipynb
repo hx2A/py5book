{
 "cells": [
  {
   "cell_type": "markdown",
   "id": "7d28b7aa-e5a5-4c86-a4c4-4489282f7bf9",
   "metadata": {
    "editable": true,
    "slideshow": {
     "slide_type": ""
    },
    "tags": []
   },
   "source": [
    "# 3D Shapes and Trimesh\n",
    "\n",
    "[Trimesh](https://trimesh.org/) is a well-known and well-maintained library for working with 3D geometry.\n",
    "\n",
    "The goal of Trimesh is to \"provide a full featured and well tested Trimesh object which allows for easy manipulation and analysis, in the style of the Polygon object in the Shapely library.\"\n",
    "\n",
    "Trimesh and [](/reference/sketch_convert_shape) can greatly extend py5's ability to load and manipulate 3D objects, far exceeding what can be achieved with [](/reference/sketch_load_shape) and other `Py5Shape` methods. Supported object types are [trimesh.Scene](https://trimesh.org/trimesh.html#trimesh.Scene), [trimesh.Trimesh](https://trimesh.org/trimesh.html#trimesh.Trimesh), [trimesh.path.Path2D](https://trimesh.org/trimesh.path.html#trimesh.path.Path2D), [trimesh.path.Path3D](https://trimesh.org/trimesh.path.html#trimesh.path.Path3D), and [trimesh.PointCloud](https://trimesh.org/trimesh.html#trimesh.PointCloud).\n",
    "\n",
    "\n",
    "Finally, know that Trimesh is a large and complex library. It is possible (likely) that there are Trimesh features that don't work well with py5's [](/reference/sketch_convert_shape) method. If you find something that doesn't work but probably should or have ideas for how py5's Trimesh integrations can be improved, please let us know by [opening an issue](https://github.com/py5coding/py5generator/issues) or starting a thread in [GitHub Discussions](https://github.com/py5coding/py5generator/discussions).\n",
    "\n",
    "## Setup\n",
    "\n",
    "Installing Trimesh by itself is acceptable but Trimesh is much more useful if you install its dependent libraries. At a minimum, you should install the easy to install dependencies with this command:\n",
    "\n",
    "```bash\n",
    "pip install trimesh[easy]\n",
    "```\n",
    "\n",
    "Refer to the [Trimesh Installation page](https://trimesh.org/install.html) for more information about Trimesh's dependencies and installation options.\n",
    "\n",
    "Development of py5's integration code was done with Trimesh version 3.23. Version 4.0 was released shortly after but seems to work just as well as 3.23.\n",
    "\n",
    "Installing [OpenSCAD](https://openscad.org/) or [Blender](https://www.blender.org/) on your computer may also be useful. Trimesh can use these to perform boolean operations on 3D objects.\n",
    "\n",
    "If Trimesh is missing a dependent library needed for the functionality you want to use, it will provide you with an error message informing you of what you should install.\n",
    "\n",
    "## Convert `trimesh.Scene` objects to `Py5Shapely` objects\n",
    "\n",
    "Let's start by importing the Trimesh library and some classes we will use later."
   ]
  },
  {
   "cell_type": "code",
   "execution_count": null,
   "id": "c522d3e9-2ace-42bf-b70e-4a4085bb2894",
   "metadata": {
    "editable": true,
    "slideshow": {
     "slide_type": ""
    },
    "tags": []
   },
   "outputs": [],
   "source": [
    "import numpy as np\n",
    "\n",
    "from PIL import Image\n",
    "\n",
    "import trimesh\n",
    "from trimesh.path import Path2D, Path3D\n",
    "from trimesh.path.entities import Line\n",
    "from trimesh.primitives import Box, Capsule, Cylinder, Sphere\n",
    "\n",
    "import py5_tools\n",
    "import py5"
   ]
  },
  {
   "cell_type": "markdown",
   "id": "686848d6-b17b-433f-8807-657b5832e46c",
   "metadata": {
    "editable": true,
    "slideshow": {
     "slide_type": ""
    },
    "tags": []
   },
   "source": [
    "For our first example, we will use a 3D model file in [glTF format](https://en.wikipedia.org/wiki/GlTF) downloaded from [TurboSquid](https://www.turbosquid.com/). Our example is a\n",
    "[Strawberry](https://www.turbosquid.com/3d-models/3d-strawberry-1962030) created by the artist [minimoku](https://www.turbosquid.com/Search/Artists/minimoku).\n",
    "\n",
    "This model format can contain embedded texture images. Trimesh stores this texture information in a [TextureVisuals](https://trimesh.org/trimesh.visual.texture.html#trimesh.visual.texture.TextureVisuals) object. The [](/reference/sketch_convert_shape) will detect this and create a `Py5Shape` object with the texture.\n",
    "\n",
    "Loading a complex 3D model in Trimesh may be slow. Don't load a model from within a Sketch unless absolutely necessary.  If you need to do this, load it once in `setup()`."
   ]
  },
  {
   "cell_type": "code",
   "execution_count": null,
   "id": "b9d38e18-c804-481c-a925-6d473d4fc0dc",
   "metadata": {
    "editable": true,
    "slideshow": {
     "slide_type": ""
    },
    "tags": []
   },
   "outputs": [],
   "source": [
    "strawberry_scene = trimesh.load('models/Strawberry_gltf.gltf')\n",
    "\n",
    "strawberry_scene"
   ]
  },
  {
   "cell_type": "markdown",
   "id": "92e5fddc-8192-405b-9f03-69911157b16f",
   "metadata": {
    "editable": true,
    "slideshow": {
     "slide_type": ""
    },
    "tags": []
   },
   "source": [
    "A [trimesh.Scene](https://trimesh.org/trimesh.html#trimesh.Scene) object can contain one or more [trimesh.Trimesh](https://trimesh.org/trimesh.html#trimesh.Trimesh) objects. Both work equally well here.\n",
    "\n",
    "We can use the [](/reference/sketch_convert_shape) method to effortlessly convert this model into a `Py5Shape` object."
   ]
  },
  {
   "cell_type": "code",
   "execution_count": null,
   "id": "2c2ee079-c4ca-4284-bc78-e477b1b607a2",
   "metadata": {
    "editable": true,
    "slideshow": {
     "slide_type": ""
    },
    "tags": []
   },
   "outputs": [],
   "source": [
    "def setup():\n",
    "    global strawberry\n",
    "    py5.size(300, 500, py5.P3D)\n",
    "    strawberry = py5.convert_shape(strawberry_scene)\n",
    "    assert isinstance(strawberry, py5.Py5Shape)\n",
    "\n",
    "    # increase the model's scale and change its orientation\n",
    "    strawberry.scale(50)\n",
    "    strawberry.rotate_z(-py5.radians(90))"
   ]
  },
  {
   "cell_type": "markdown",
   "id": "ed2bdd16-586d-47fd-a827-4cdd35cdf3fe",
   "metadata": {
    "editable": true,
    "slideshow": {
     "slide_type": ""
    },
    "tags": []
   },
   "source": [
    "After converting the model into a `Py5Shape` object, we need to increase the scale and rotate it to change its orientation. Consider py5's coordinate system: the positive Y axis points towards the bottom of the drawing surface. It is likely that the 3D modeling program used to create this strawberry had a different coordinate system, perhaps with the positive Z axis pointing towards the top of the screen. Therefore, you will often need to do some rotations to get the result you want. Similarly, you will often need to adjust the scale.\n",
    "\n",
    "These adjustments can be done to the model itself after converting the model into a `Py5Shape` object, as we did here in our `setup()` function. Alternatively, we can do global transformations in the `draw()` function with py5 methods such as [](/reference/sketch_rotate_x), [](/reference/sketch_scale), etc., before the drawing the `Py5Shape` object to the screen with [](/reference/sketch_shape).\n",
    "\n",
    "You can also adjust the `trimesh.Trimesh` object using Trimesh's transformation tools, before the call to [](/reference/sketch_convert_shape). You will use Trimesh's [apply_transform()](https://trimesh.org/trimesh.html#trimesh.Trimesh.apply_transform) method to apply a transformation matrix to `trimesh.Trimesh` objects.\n",
    "\n",
    "Now let's create a `draw()` method to draw the `Py5Shape` object with the [](/reference/sketch_shape) method."
   ]
  },
  {
   "cell_type": "code",
   "execution_count": null,
   "id": "9fac46c8-048d-4d0d-b2f4-c18e1116a991",
   "metadata": {
    "editable": true,
    "slideshow": {
     "slide_type": ""
    },
    "tags": []
   },
   "outputs": [],
   "source": [
    "y_rot = 0\n",
    "\n",
    "\n",
    "def draw():\n",
    "    global y_rot\n",
    "    y_rot += 1\n",
    "\n",
    "    py5.background(255)\n",
    "    py5.ambient_light(64, 64, 64)\n",
    "    py5.directional_light(220, 220, 220, 0, -1, -1)\n",
    "\n",
    "    py5.translate(225, 400, 0)\n",
    "\n",
    "    py5.rotate_z(py5.radians(-25))\n",
    "    py5.rotate_x(py5.radians(-25))\n",
    "    py5.rotate_y(py5.radians(y_rot))\n",
    "\n",
    "    py5.shape(strawberry)"
   ]
  },
  {
   "cell_type": "markdown",
   "id": "36260dd8-8a47-4a92-a621-e899499e09ad",
   "metadata": {
    "editable": true,
    "slideshow": {
     "slide_type": ""
    },
    "tags": []
   },
   "source": [
    "When we run this, the Strawberry will rotate along its main axis."
   ]
  },
  {
   "cell_type": "code",
   "execution_count": null,
   "id": "88676b02-5603-4347-9ac6-0a030984888a",
   "metadata": {
    "editable": true,
    "slideshow": {
     "slide_type": ""
    },
    "tags": []
   },
   "outputs": [],
   "source": [
    "py5.run_sketch()"
   ]
  },
  {
   "cell_type": "markdown",
   "id": "cc519138-5296-4c18-ab4c-ab9494b42795",
   "metadata": {
    "editable": true,
    "slideshow": {
     "slide_type": ""
    },
    "tags": []
   },
   "source": [
    "The result looks like this:"
   ]
  },
  {
   "cell_type": "code",
   "execution_count": null,
   "id": "3b8b16cd-d354-471a-ad58-15b801c8a295",
   "metadata": {
    "editable": true,
    "slideshow": {
     "slide_type": ""
    },
    "tags": []
   },
   "outputs": [],
   "source": [
    "py5_tools.screenshot()"
   ]
  },
  {
   "cell_type": "code",
   "execution_count": null,
   "id": "5407ed2e-34db-4186-9cb2-420f91f5cdc0",
   "metadata": {
    "editable": true,
    "slideshow": {
     "slide_type": ""
    },
    "tags": [
     "remove-cell"
    ]
   },
   "outputs": [],
   "source": [
    "import time\n",
    "\n",
    "time.sleep(1)\n",
    "\n",
    "py5.exit_sketch()"
   ]
  },
  {
   "cell_type": "markdown",
   "id": "4bbbaa57-5708-4d0c-9975-d5c0a70f4afd",
   "metadata": {
    "editable": true,
    "slideshow": {
     "slide_type": ""
    },
    "tags": []
   },
   "source": [
    "Neat, huh? The [](/reference/sketch_convert_shape) method did all the heavy lifting to create the object and apply the base color texture using the UV coordinates.\n",
    "\n",
    "Note that `trimesh.Trimesh` objects can have additional texture maps for things such as surface normals or metallic roughness. Since the\n",
    "default py5 polygon shader cannot make use of these texture maps, py5's [](/reference/sketch_convert_shape) method will not add them to the created `Py5Shape` object. One could write additional code to make use of them, however."
   ]
  },
  {
   "cell_type": "markdown",
   "id": "21d64c46-52f3-4d3d-8bd5-6ba6cdd4d505",
   "metadata": {
    "editable": true,
    "slideshow": {
     "slide_type": ""
    },
    "tags": []
   },
   "source": [
    "## Using Trimesh Primitives\n",
    "\n",
    "Trimesh has a set of [primitive objects](https://trimesh.org/trimesh.primitives.html) such as [Box](https://trimesh.org/trimesh.primitives.html#trimesh.primitives.Box), [Capsule](https://trimesh.org/trimesh.primitives.html#trimesh.primitives.Capsule), [Cylinder](https://trimesh.org/trimesh.primitives.html#trimesh.primitives.Cylinder), and [Sphere](https://trimesh.org/trimesh.primitives.html#trimesh.primitives.Sphere).\n",
    "\n",
    "The arrangement of triangles in a Trimesh Sphere is different from the arrangement created by py5's [](/reference/sketch_sphere) method. Capsules are kind of like cylinders with two half-spheres on each end. These primitives extend the basic shapes you can work with in py5.\n",
    "\n",
    "Let's create a simple example showcasing these objects."
   ]
  },
  {
   "cell_type": "code",
   "execution_count": null,
   "id": "10472ee0-22b8-4b7a-b1de-dafc07f21608",
   "metadata": {
    "editable": true,
    "slideshow": {
     "slide_type": ""
    },
    "tags": []
   },
   "outputs": [],
   "source": [
    "rot_z = 0\n",
    "\n",
    "def setup():\n",
    "    global primitives\n",
    "    py5.size(500, 500, py5.P3D)\n",
    "\n",
    "    py5.stroke_weight(1.5)\n",
    "\n",
    "    primitives = py5.create_shape(py5.GROUP)\n",
    "\n",
    "    box = py5.convert_shape(Box((80, 120, 70)))\n",
    "    box.translate(150, 0, 0)\n",
    "    primitives.add_child(box)\n",
    "\n",
    "    # NOTE: Trimesh's Capsule `sections` parameter might have a bug\n",
    "    capsule = py5.convert_shape(Capsule(70, 40, sections=12))\n",
    "    capsule.translate(0, 150, 0)\n",
    "    primitives.add_child(capsule)\n",
    "    \n",
    "    cylinder = py5.convert_shape(Cylinder(50, 80, sections=12))\n",
    "    cylinder.translate(-150, 0, 0)\n",
    "    primitives.add_child(cylinder)\n",
    "\n",
    "    sphere = py5.convert_shape(Sphere(75, subdivisions=2))\n",
    "    sphere.translate(0, -150, 0)\n",
    "    primitives.add_child(sphere)\n",
    "    \n",
    "\n",
    "def draw():\n",
    "    global rot_z\n",
    "    rot_z += 1\n",
    "\n",
    "    py5.background(204)\n",
    "    py5.translate(py5.width / 2, py5.height / 2)\n",
    "    py5.rotate_x(py5.radians(60))\n",
    "    py5.rotate_z(py5.radians(rot_z))\n",
    "    py5.shape(primitives)"
   ]
  },
  {
   "cell_type": "markdown",
   "id": "cf12a8d6-949a-4b89-8f1b-59ff63e7cd2f",
   "metadata": {
    "editable": true,
    "slideshow": {
     "slide_type": ""
    },
    "tags": []
   },
   "source": [
    "Each of these [trimesh.Trimesh](https://trimesh.org/trimesh.html#trimesh.Trimesh) object primitives will inherit the drawing style active at the time [](/reference/sketch_convert_shape) is called. In this example, the stroke weight will be set to `1.5`.\n",
    "\n",
    "When we run this, the primitive shapes will rotate around for us to see."
   ]
  },
  {
   "cell_type": "code",
   "execution_count": null,
   "id": "7b1eb121-a341-40d2-aedb-4a54ade439df",
   "metadata": {
    "editable": true,
    "slideshow": {
     "slide_type": ""
    },
    "tags": []
   },
   "outputs": [],
   "source": [
    "py5.run_sketch()"
   ]
  },
  {
   "cell_type": "code",
   "execution_count": null,
   "id": "af19235d-9cc7-443a-a860-24d13275da22",
   "metadata": {
    "editable": true,
    "slideshow": {
     "slide_type": ""
    },
    "tags": [
     "remove-cell"
    ]
   },
   "outputs": [],
   "source": [
    "time.sleep(4)"
   ]
  },
  {
   "cell_type": "markdown",
   "id": "faff95b1-6c28-4daf-925a-c6b213528995",
   "metadata": {
    "editable": true,
    "slideshow": {
     "slide_type": ""
    },
    "tags": []
   },
   "source": [
    "Here's a screenshot of what it looks like:"
   ]
  },
  {
   "cell_type": "code",
   "execution_count": null,
   "id": "492f96fd-53e4-4633-802c-757873b27099",
   "metadata": {
    "editable": true,
    "slideshow": {
     "slide_type": ""
    },
    "tags": []
   },
   "outputs": [],
   "source": [
    "py5_tools.screenshot()"
   ]
  },
  {
   "cell_type": "code",
   "execution_count": null,
   "id": "9c62a433-bb7d-44db-b17b-901704247525",
   "metadata": {
    "editable": true,
    "slideshow": {
     "slide_type": ""
    },
    "tags": [
     "remove-cell"
    ]
   },
   "outputs": [],
   "source": [
    "time.sleep(1)\n",
    "\n",
    "py5.exit_sketch()"
   ]
  },
  {
   "cell_type": "markdown",
   "id": "e1c278b8-50cf-4b88-a256-4b04458b7cfb",
   "metadata": {
    "editable": true,
    "slideshow": {
     "slide_type": ""
    },
    "tags": []
   },
   "source": [
    "A final comment on drawing styles: Trimesh objects can have their own drawing style information ([ColorVisuals](https://trimesh.org/trimesh.visual.color.html#trimesh.visual.color.ColorVisuals)) instead of texture-based styles ([TextureVisuals](https://trimesh.org/trimesh.visual.texture.html#trimesh.visual.texture.TextureVisuals)). If [](/reference/sketch_convert_shape) detects a`ColorVisuals` object, it will use that drawing style information instead of py5's active drawing style.\n",
    "\n",
    "Also, be aware that some Trimesh library operations seem to add `ColorVisuals` objects to their output. This can be a bit confusing because your calls to py5's style methods such as [](/reference/sketch_stroke) and [](/reference/sketch_fill) will have no effect. Be aware of this possibility to avoid coding frustrations. If you encounter this situation, one easy way to address this is to call the [](/reference/py5shape_disable_style) method to remove Trimesh's drawing style settings from the `Py5Shape` object and take control of the drawing style."
   ]
  },
  {
   "cell_type": "markdown",
   "id": "e513206a-9346-4bd2-a285-bdedf05c590b",
   "metadata": {
    "editable": true,
    "slideshow": {
     "slide_type": ""
    },
    "tags": []
   },
   "source": [
    "## `trimesh.path.Path2D` and `trimesh.path.Path3D` objects\n",
    "\n",
    "In addition to [trimesh.Scene](https://trimesh.org/trimesh.html#trimesh.Scene) and [trimesh.Trimesh](https://trimesh.org/trimesh.html#trimesh.Trimesh) objects, py5's [](/reference/sketch_convert_shape) method can also convert [trimesh.path.Path2D](https://trimesh.org/trimesh.path.html#trimesh.path.Path2D) and [trimesh.path.Path3D](https://trimesh.org/trimesh.path.html#trimesh.path.Path3D).\n",
    "\n",
    "Creating `Path2D` and `Path3D` objects directly is a bit tedious. You could do so with code like this:"
   ]
  },
  {
   "cell_type": "code",
   "execution_count": null,
   "id": "c17e80e7-8de9-42f0-a220-8b18ceb2c813",
   "metadata": {
    "editable": true,
    "slideshow": {
     "slide_type": ""
    },
    "tags": []
   },
   "outputs": [],
   "source": [
    "line1 = Line(\n",
    "    np.random.choice(np.arange(8), replace=False, size=4),\n",
    ")\n",
    "line2 = Line(\n",
    "    np.random.choice(np.arange(8), replace=False, size=4),\n",
    ")\n",
    "\n",
    "path2d = Path2D(\n",
    "    entities=[line1, line2],\n",
    "    vertices=250 * np.random.random((8, 2)),\n",
    "    colors=np.random.randint(255, size=(2, 3)).astype(np.uint8),\n",
    ")"
   ]
  },
  {
   "cell_type": "markdown",
   "id": "bd569997-78df-4e19-ad06-2bcc6f293edf",
   "metadata": {
    "editable": true,
    "slideshow": {
     "slide_type": ""
    },
    "tags": []
   },
   "source": [
    "Next, `path2d` could be converted to a `Py5Shape` object with [](/reference/sketch_convert_shape). It would look like a 2D line with random vertices and colors. However, that's a lot of code to create something that could be done more simply with the methods already provided by py5. Most likely you would never go through the trouble of creating a `Path2D` object like this.\n",
    "\n",
    "Instead, you can get `Path2D` or `Path3D` objects as the output of other Trimesh methods. Let's explore this by using Trimesh's [section_multiplane()](https://trimesh.org/trimesh.base.html#trimesh.base.Trimesh.section_multiplane) method to create slices of our Strawberry model.\n",
    "\n",
    "First we will need to extract the [trimesh.Trimesh](https://trimesh.org/trimesh.html#trimesh.Trimesh) object from the [trimesh.Scene](https://trimesh.org/trimesh.html#trimesh.Scene) object because [section_multiplane()](https://trimesh.org/trimesh.base.html#trimesh.base.Trimesh.section_multiplane) is a `trimesh.Trimesh` method."
   ]
  },
  {
   "cell_type": "code",
   "execution_count": null,
   "id": "35fcd8a3-b1ec-4e02-9609-db2d6be85bba",
   "metadata": {
    "editable": true,
    "slideshow": {
     "slide_type": ""
    },
    "tags": []
   },
   "outputs": [],
   "source": [
    "strawberry_model = strawberry_scene.geometry['strawberry']\n",
    "\n",
    "strawberry_model"
   ]
  },
  {
   "cell_type": "markdown",
   "id": "e9cfa3a2-5c43-45d4-a005-2ced9762d1c2",
   "metadata": {
    "editable": true,
    "slideshow": {
     "slide_type": ""
    },
    "tags": []
   },
   "source": [
    "Next we will create the 2D slices, which will then be converted to slices that exist in 3D space. We could also use the 2D slices here, but then we'd need to do an additional transformation to position each slice with the correct elevation."
   ]
  },
  {
   "cell_type": "code",
   "execution_count": null,
   "id": "6e468bc2-0e46-41ee-9011-c1bdbf90d065",
   "metadata": {
    "editable": true,
    "slideshow": {
     "slide_type": ""
    },
    "tags": []
   },
   "outputs": [],
   "source": [
    "xmin, xmax = strawberry_model.bounds[:, 0]\n",
    "\n",
    "strawberry_slices_2d = strawberry_model.section_multiplane(\n",
    "    (0, 0, 0), (1, 0, 0), np.linspace(xmin, xmax, num=40)\n",
    ")\n",
    "strawberry_slices_3d = [\n",
    "    slice.to_3D() for slice in strawberry_slices_2d if slice is not None\n",
    "]"
   ]
  },
  {
   "cell_type": "markdown",
   "id": "18b7c919-48c9-46a6-ada9-7a5c24af0d33",
   "metadata": {
    "editable": true,
    "slideshow": {
     "slide_type": ""
    },
    "tags": []
   },
   "source": [
    "In our `setup()` function we can convert each slice into a `Py5Shape` object and then add them to a `GROUP` shape."
   ]
  },
  {
   "cell_type": "code",
   "execution_count": null,
   "id": "2e6066be-82b4-42ca-b8b0-a9cf72e7b1fd",
   "metadata": {
    "editable": true,
    "slideshow": {
     "slide_type": ""
    },
    "tags": []
   },
   "outputs": [],
   "source": [
    "def setup():\n",
    "    global strawberry\n",
    "    py5.size(300, 500, py5.P3D)\n",
    "\n",
    "    # convert each slices into a Py5Shape object\n",
    "    strawberry_slices = [py5.convert_shape(slice) for slice in strawberry_slices_3d]\n",
    "    # assemble the Py5Shape objects into a GROUP Py5Shape object\n",
    "    strawberry = py5.create_shape(py5.GROUP)\n",
    "    for slice in strawberry_slices:\n",
    "        strawberry.add_child(slice)\n",
    "\n",
    "    # increase the model's scale and change its orientation\n",
    "    strawberry.scale(50)\n",
    "    strawberry.set_stroke_weight(0.025)\n",
    "    strawberry.rotate_z(-py5.radians(90))\n"
   ]
  },
  {
   "cell_type": "markdown",
   "id": "db955171-f7ab-417b-974e-056dd350faee",
   "metadata": {
    "editable": true,
    "slideshow": {
     "slide_type": ""
    },
    "tags": []
   },
   "source": [
    "Now we can create the `draw()` function and run the Sketch."
   ]
  },
  {
   "cell_type": "code",
   "execution_count": null,
   "id": "d487ce59-c3f7-42d9-a20a-00e2b3dc7f58",
   "metadata": {
    "editable": true,
    "slideshow": {
     "slide_type": ""
    },
    "tags": []
   },
   "outputs": [],
   "source": [
    "def draw():\n",
    "    global y_rot\n",
    "    y_rot += 1\n",
    "\n",
    "    py5.background(255)\n",
    "\n",
    "    py5.translate(225, 400, 0)\n",
    "    py5.rotate_z(py5.radians(-25))\n",
    "    py5.rotate_x(py5.radians(-25))\n",
    "    py5.rotate_y(py5.radians(y_rot))\n",
    "\n",
    "    py5.shape(strawberry)\n",
    "\n",
    "\n",
    "py5.run_sketch()"
   ]
  },
  {
   "cell_type": "markdown",
   "id": "2784b78f-ad40-49f2-b972-c69f58217059",
   "metadata": {
    "editable": true,
    "slideshow": {
     "slide_type": ""
    },
    "tags": []
   },
   "source": [
    "The Sketch will look like this:"
   ]
  },
  {
   "cell_type": "code",
   "execution_count": null,
   "id": "96c0f104-cd22-4a27-8ee9-200d35d8d5e7",
   "metadata": {
    "editable": true,
    "slideshow": {
     "slide_type": ""
    },
    "tags": []
   },
   "outputs": [],
   "source": [
    "py5_tools.screenshot()"
   ]
  },
  {
   "cell_type": "code",
   "execution_count": null,
   "id": "175ef358-f8cc-499f-9504-9f7a1ac40e81",
   "metadata": {
    "editable": true,
    "slideshow": {
     "slide_type": ""
    },
    "tags": [
     "remove-cell"
    ]
   },
   "outputs": [],
   "source": [
    "time.sleep(1)\n",
    "\n",
    "py5.exit_sketch()"
   ]
  },
  {
   "cell_type": "markdown",
   "id": "fc700042-d80f-4a49-b3d7-111b0f99a06c",
   "metadata": {
    "editable": true,
    "slideshow": {
     "slide_type": ""
    },
    "tags": []
   },
   "source": [
    "## `trimesh.PointCloud`\n",
    "\n",
    "Finally, py5's [](/reference/sketch_convert_shape) method supports [trimesh.PointCloud](https://trimesh.org/trimesh.html#trimesh.PointCloud) objects. To make this interesting, let's create a `trimesh.PointCloud` object from the Strawberry model's vertices."
   ]
  },
  {
   "cell_type": "code",
   "execution_count": null,
   "id": "3a7121e2-2173-472b-a4bd-9d390462d418",
   "metadata": {
    "editable": true,
    "slideshow": {
     "slide_type": ""
    },
    "tags": []
   },
   "outputs": [],
   "source": [
    "strawberry_pointcloud = trimesh.PointCloud(strawberry_model.vertices)"
   ]
  },
  {
   "cell_type": "markdown",
   "id": "4d454212-0b6c-48b4-b5ff-b4f5808be2e8",
   "metadata": {
    "editable": true,
    "slideshow": {
     "slide_type": ""
    },
    "tags": []
   },
   "source": [
    "In the `setup()` function we can convert the `trimesh.PointCloud` object to a `Py5Shape` object using [](/reference/sketch_convert_shape), just like before."
   ]
  },
  {
   "cell_type": "code",
   "execution_count": null,
   "id": "7916b8f0-1cf1-40cf-ad90-10079c7c51bc",
   "metadata": {
    "editable": true,
    "slideshow": {
     "slide_type": ""
    },
    "tags": []
   },
   "outputs": [],
   "source": [
    "def setup():\n",
    "    global strawberry\n",
    "    py5.size(300, 500, py5.P3D)\n",
    "\n",
    "    strawberry = py5.convert_shape(strawberry_pointcloud)\n",
    "    \n",
    "    # increase the model's scale and change its orientation\n",
    "    strawberry.scale(50)\n",
    "    strawberry.set_stroke_weight(0.0005)\n",
    "    strawberry.rotate_z(-py5.radians(90))"
   ]
  },
  {
   "cell_type": "markdown",
   "id": "21f672eb-83fc-4786-9f14-e530b0da8346",
   "metadata": {
    "editable": true,
    "slideshow": {
     "slide_type": ""
    },
    "tags": []
   },
   "source": [
    "Note that this example is a bit contrived in that we could have also created the `Py5Shape` object from the vertices directly, without using `trimesh.PointCloud`. That approach would be coded like this:\n",
    "\n",
    "```python\n",
    "    strawberry = py5.create_shape()\n",
    "    with strawberry.begin_shape(py5.POINTS):\n",
    "        strawberry.vertices(strawberry_model.vertices)\n",
    "```\n",
    "\n",
    "We can run the Sketch using the same `draw()` function as before."
   ]
  },
  {
   "cell_type": "code",
   "execution_count": null,
   "id": "d7df84e0-cec9-4524-860c-1220a4d37240",
   "metadata": {
    "editable": true,
    "slideshow": {
     "slide_type": ""
    },
    "tags": []
   },
   "outputs": [],
   "source": [
    "py5.run_sketch()"
   ]
  },
  {
   "cell_type": "markdown",
   "id": "8269d6a5-4df5-42bb-b4f9-2399086c38cb",
   "metadata": {
    "editable": true,
    "slideshow": {
     "slide_type": ""
    },
    "tags": []
   },
   "source": [
    "Here's what that looks like:"
   ]
  },
  {
   "cell_type": "code",
   "execution_count": null,
   "id": "dce28a5e-4468-4029-97ba-2aaecc427f37",
   "metadata": {
    "editable": true,
    "slideshow": {
     "slide_type": ""
    },
    "tags": []
   },
   "outputs": [],
   "source": [
    "py5_tools.screenshot()"
   ]
  },
  {
   "cell_type": "markdown",
   "id": "242d03f4-c2ce-4ded-adc1-45f241c6b022",
   "metadata": {
    "editable": true,
    "slideshow": {
     "slide_type": ""
    },
    "tags": []
   },
   "source": [
    "The point cloud is denser in areas where there are more vertices."
   ]
  },
  {
   "cell_type": "code",
   "execution_count": null,
   "id": "b037b070-2cec-4c31-8e10-dddeb48acc70",
   "metadata": {
    "editable": true,
    "slideshow": {
     "slide_type": ""
    },
    "tags": [
     "remove-cell"
    ]
   },
   "outputs": [],
   "source": [
    "time.sleep(1)\n",
    "\n",
    "py5.exit_sketch()"
   ]
  },
  {
   "cell_type": "markdown",
   "id": "4e09d2c3-9cc4-46dc-8daf-55b5ef2c4e63",
   "metadata": {
    "editable": true,
    "slideshow": {
     "slide_type": ""
    },
    "tags": []
   },
   "source": [
    "## `convert_shape()` Options\n",
    "\n",
    "The [](/reference/sketch_convert_shape) method has a few optional customization parameters.\n",
    "\n",
    "The first optional parameter is for textures. Our Strawberry model in [glTF format](https://en.wikipedia.org/wiki/GlTF) has embedded textures that are managed for you in [](/reference/sketch_convert_shape). Not every 3D model format has embedded textures though. If the model file was a [Wavefront OBJ file](https://en.wikipedia.org/wiki/Wavefront_.obj_file), you would need to apply the texture to the 3D mesh separately.\n",
    "\n",
    "One way to do that is with the [](/reference/py5shape_set_texture) method, called after converting the model to a `Py5Shape` instance [](/reference/sketch_convert_shape).\n",
    "\n",
    "Alternatively, you can use the [](/reference/sketch_convert_shape) method's `texture` keyword argument, like this:\n",
    "\n",
    "```python\n",
    "py5.convert_shape(strawberry_obj, texture=strawberry_texture)\n",
    "```\n",
    "\n",
    "Putting that in context, our first Strawberry model example could been implemented using the following `setup()` function:"
   ]
  },
  {
   "cell_type": "code",
   "execution_count": null,
   "id": "2ed2d914-8f02-456b-a9cc-5541fdfc5966",
   "metadata": {
    "editable": true,
    "slideshow": {
     "slide_type": ""
    },
    "tags": []
   },
   "outputs": [],
   "source": [
    "strawberry_obj = trimesh.load('models/Strawberry_obj.obj')\n",
    "strawberry_texture = Image.open('models/Strawberry_basecolor.jpg')\n",
    "\n",
    "\n",
    "def setup():\n",
    "    global strawberry\n",
    "    py5.size(300, 500, py5.P3D)\n",
    "    strawberry = py5.convert_shape(strawberry_obj, texture=strawberry_texture)\n",
    "    assert isinstance(strawberry, py5.Py5Shape)\n",
    "\n",
    "    # increase the model's scale and change its orientation\n",
    "    strawberry.scale(40)\n",
    "    strawberry.rotate_z(py5.radians(180))"
   ]
  },
  {
   "cell_type": "markdown",
   "id": "1c8b2662-60e6-47d7-8f59-0e179a3b2de7",
   "metadata": {
    "editable": true,
    "slideshow": {
     "slide_type": ""
    },
    "tags": []
   },
   "source": [
    "The other optional parameter is for filling the interior of [trimesh.path.Path2D](https://trimesh.org/trimesh.path.html#trimesh.path.Path2D) and [trimesh.path.Path3D](https://trimesh.org/trimesh.path.html#trimesh.path.Path3D) objects.\n",
    "\n",
    "Trimesh `Path2D` and `Path3D` objects can have stroke colors but they have no concept of filled lines like py5 does. By default, `Path2D` and `Path3D` objects will never have fill. Pass `True` to the optional keyword argument `lines_allow_fill` to change that.\n",
    "\n",
    "Using this feature, our previous sliced Strawberry example would look like this:"
   ]
  },
  {
   "cell_type": "code",
   "execution_count": null,
   "id": "b3ac0e88-25a5-44ec-9302-e6d12232fbab",
   "metadata": {
    "editable": true,
    "slideshow": {
     "slide_type": ""
    },
    "tags": []
   },
   "outputs": [],
   "source": [
    "def setup():\n",
    "    global strawberry\n",
    "    py5.size(300, 500, py5.P3D)\n",
    "\n",
    "    py5.fill(py5.xkcd_colors.STRAWBERRY, 64)\n",
    "    \n",
    "    # convert each slices into a Py5Shape object\n",
    "    strawberry_slices = [\n",
    "        py5.convert_shape(slice, lines_allow_fill=True)\n",
    "        for slice in strawberry_slices_3d\n",
    "    ]\n",
    "    # assemble the Py5Shape objects into a GROUP Py5Shape object\n",
    "    strawberry = py5.create_shape(py5.GROUP)\n",
    "    for slice in strawberry_slices:\n",
    "        strawberry.add_child(slice)\n",
    "\n",
    "    # increase the model's scale and change its orientation\n",
    "    strawberry.scale(50)\n",
    "    strawberry.set_stroke_weight(0.025)\n",
    "    strawberry.rotate_z(-py5.radians(90))\n",
    "\n",
    "\n",
    "def draw():\n",
    "    global y_rot\n",
    "    y_rot += 1\n",
    "\n",
    "    py5.background(255)\n",
    "\n",
    "    py5.translate(225, 400, 0)\n",
    "    py5.rotate_z(py5.radians(-25))\n",
    "    py5.rotate_x(py5.radians(-25))\n",
    "    py5.rotate_y(py5.radians(y_rot))\n",
    "\n",
    "    py5.shape(strawberry)\n",
    "\n",
    "\n",
    "py5.run_sketch()"
   ]
  },
  {
   "cell_type": "markdown",
   "id": "2dd0ce7e-3595-4014-bace-ed9c93a249d1",
   "metadata": {
    "editable": true,
    "slideshow": {
     "slide_type": ""
    },
    "tags": []
   },
   "source": [
    "The partially transparent fill has in interesting effect:"
   ]
  },
  {
   "cell_type": "code",
   "execution_count": null,
   "id": "80a862a0-3c6a-43da-903c-97a182db450e",
   "metadata": {
    "editable": true,
    "slideshow": {
     "slide_type": ""
    },
    "tags": []
   },
   "outputs": [],
   "source": [
    "py5_tools.screenshot()"
   ]
  },
  {
   "cell_type": "code",
   "execution_count": null,
   "id": "d1180f98-acd3-4789-ae41-26f7e5147aad",
   "metadata": {
    "editable": true,
    "slideshow": {
     "slide_type": ""
    },
    "tags": [
     "remove-cell"
    ]
   },
   "outputs": [],
   "source": [
    "time.sleep(1)\n",
    "\n",
    "py5.exit_sketch()"
   ]
  }
 ],
 "metadata": {
  "jupytext": {
   "formats": "ipynb,md:myst"
  },
  "kernelspec": {
   "display_name": "Python 3 (ipykernel)",
   "language": "python",
   "name": "python3"
  },
  "language_info": {
   "codemirror_mode": {
    "name": "ipython",
    "version": 3
   },
   "file_extension": ".py",
   "mimetype": "text/x-python",
   "name": "python",
   "nbconvert_exporter": "python",
   "pygments_lexer": "ipython3",
   "version": "3.8.17"
  }
 },
 "nbformat": 4,
 "nbformat_minor": 5
}
