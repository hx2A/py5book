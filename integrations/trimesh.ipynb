{
 "cells": [
  {
   "cell_type": "markdown",
   "id": "7d28b7aa-e5a5-4c86-a4c4-4489282f7bf9",
   "metadata": {},
   "source": [
    "# 3D Shapes and Trimesh\n",
    "\n",
    "[Trimesh](https://trimesh.org/) is a well-known and well-maintained library for working with 3D geometry.\n",
    "\n",
    "The goal of Trimesh is to \"provide a full featured and well tested Trimesh object which allows for easy manipulation and analysis, in the style of the Polygon object in the Shapely library.\"\n",
    "\n",
    "Trimesh and [](/reference/sketch_convert_shape) can greatly extend py5's ability to load 3D objects, far exceeding what can be achieved with [](/reference/sketch_load_shape).\n",
    "\n",
    "Finally, know that Trimesh is a large and complex library. It is possible (likely) that there are Trimesh features that don't work well with py5's [](/reference/sketch_convert_shape) method. If you find something that doesn't work but should or have ideas for how py5's Trimesh integrations can be improved, please let us know by [opening an issue](https://github.com/py5coding/py5generator/issues) or starting a thread in [GitHub Discussions](https://github.com/py5coding/py5generator/discussions).\n",
    "\n",
    "## Setup\n",
    "\n",
    "Installing Trimesh by itself is acceptable but Trimesh is much more useful if you install its dependent libraries. At a minimum, you should install the easy to install dependencies with this command:\n",
    "\n",
    "```bash\n",
    "pip install trimesh[easy]\n",
    "```\n",
    "\n",
    "Refer to the [Trimesh Installation page](https://trimesh.org/install.html) for more information about Trimesh's dependencies and installation options.\n",
    "\n",
    "Development of py5's integration code was done with Trimesh version 3.23. Version 4.0 was released shortly after but seems to work just as well as 3.23.\n",
    "\n",
    "Installing [OpenSCAD](https://openscad.org/) or [Blender](https://www.blender.org/) on your computer may also be useful. Trimesh can use these to perform boolean operations on 3D objects.\n",
    "\n",
    "If Trimesh is missing a dependent library needed for the functionality you want to use, it will provide you with an error message informing you of what you should install.\n",
    "\n",
    "## Convert Trimesh objects to Py5Shapely objects"
   ]
  },
  {
   "cell_type": "markdown",
   "id": "a472e7b5-d36c-4001-8711-38a5681d9f45",
   "metadata": {},
   "source": [
    "Let's start by importing the Trimesh library and some classes we will use later."
   ]
  },
  {
   "cell_type": "code",
   "execution_count": null,
   "id": "c522d3e9-2ace-42bf-b70e-4a4085bb2894",
   "metadata": {},
   "outputs": [],
   "source": [
    "import py5_tools\n",
    "import py5\n",
    "\n",
    "import trimesh"
   ]
  },
  {
   "cell_type": "markdown",
   "id": "686848d6-b17b-433f-8807-657b5832e46c",
   "metadata": {},
   "source": [
    "For our first example, we will use a 3D model file downloaded from [TurboSquid](https://www.turbosquid.com/). Our example is a\n",
    "[strawberry](https://www.turbosquid.com/3d-models/3d-strawberry-1962030) created by the artist [minimoku](https://www.turbosquid.com/Search/Artists/minimoku).\n",
    "\n",
    "Loading a complex 3D model in Trimesh may be slow. Don't load a model from within a Sketch unless absolutely necessary.  If you need to do this, load it once in `setup()`."
   ]
  },
  {
   "cell_type": "code",
   "execution_count": null,
   "id": "b9d38e18-c804-481c-a925-6d473d4fc0dc",
   "metadata": {},
   "outputs": [],
   "source": [
    "strawberry_model = trimesh.load('models/Strawberry_gltf.gltf')"
   ]
  },
  {
   "cell_type": "markdown",
   "id": "92e5fddc-8192-405b-9f03-69911157b16f",
   "metadata": {},
   "source": [
    "We can use the [](/reference/sketch_convert_shape) method to effortlessly\n",
    "convert this model into a `Py5Shape` object."
   ]
  },
  {
   "cell_type": "code",
   "execution_count": null,
   "id": "2c2ee079-c4ca-4284-bc78-e477b1b607a2",
   "metadata": {},
   "outputs": [],
   "source": [
    "def setup():\n",
    "    global strawberry\n",
    "    py5.size(300, 500, py5.P3D)\n",
    "    strawberry = py5.convert_shape(strawberry_model)\n",
    "    assert isinstance(strawberry, py5.Py5Shape)\n",
    "\n",
    "    # increase the model's scale and change its orientation\n",
    "    strawberry.scale(50)\n",
    "    strawberry.rotate_z(-py5.radians(90))"
   ]
  },
  {
   "cell_type": "markdown",
   "id": "ed2bdd16-586d-47fd-a827-4cdd35cdf3fe",
   "metadata": {},
   "source": [
    "After converting the model into a `Py5Shape` object, we need to increase the scale and rotate it to change its orientation. Consider py5's coordinate system: the positive Y axis points towards the bottom of the drawing surface, the positive X axis points towards the right side of the drawing surface, and the positive Z axis points away from the drawing surface, towards the viewer. The model may have been created with a different coordinate system in mind. The model may also have been created with a different scale.\n",
    "\n",
    "When loading a model, you will often want to apply some transformations so it can be drawn as you intend for it to be drawn. These adjustments can be done after converting the model into a `Py5Shape` object, as we did here in our `setup()` function. Alternatively, we can do the adjustments in the `draw()` function before the drawing the `Py5Shape` object to the screen with [](/reference/sketch_shape).\n",
    "\n",
    "You can also adjust the Trimesh mesh object using Trimesh's transformation tools, before the call to [](/reference/sketch_convert_shape). You will use Trimesh's [apply_transform()](https://trimesh.org/trimesh.html#trimesh.Trimesh.apply_transform) method to apply a transformation matrix to a mesh.\n",
    "\n",
    "Now let's create a `draw()` method to draw the `Py5Shape` object with the [](/reference/sketch_shape) method. "
   ]
  },
  {
   "cell_type": "code",
   "execution_count": null,
   "id": "9fac46c8-048d-4d0d-b2f4-c18e1116a991",
   "metadata": {},
   "outputs": [],
   "source": [
    "y_rot = 0\n",
    "\n",
    "\n",
    "def draw():\n",
    "    global y_rot\n",
    "    y_rot += 1\n",
    "\n",
    "    py5.background(255)\n",
    "    py5.ambient_light(64, 64, 64)\n",
    "    py5.directional_light(220, 220, 220, 0, -1, -1)\n",
    "\n",
    "    py5.translate(225, 400, 0)\n",
    "\n",
    "    py5.rotate_z(py5.radians(-25))\n",
    "    py5.rotate_x(py5.radians(-25))\n",
    "    py5.rotate_y(py5.radians(y_rot))\n",
    "\n",
    "    py5.shape(strawberry)"
   ]
  },
  {
   "cell_type": "markdown",
   "id": "36260dd8-8a47-4a92-a621-e899499e09ad",
   "metadata": {},
   "source": [
    "We need to invert the model's y axis because the top of the strawberry is oriented towards the positive y axis but Processing and therefore py5 has the positive y axis pointing towards the bottom of the drawing surface. You will frequently need to employ rotations and scale adjustments when working with models created outside of py5.\n",
    "\n",
    "When we run this, the strawberry will slowly rotate along its main axis."
   ]
  },
  {
   "cell_type": "code",
   "execution_count": null,
   "id": "88676b02-5603-4347-9ac6-0a030984888a",
   "metadata": {},
   "outputs": [],
   "source": [
    "py5.run_sketch()"
   ]
  },
  {
   "cell_type": "markdown",
   "id": "cc519138-5296-4c18-ab4c-ab9494b42795",
   "metadata": {},
   "source": [
    "The result looks like this:"
   ]
  },
  {
   "cell_type": "code",
   "execution_count": null,
   "id": "3b8b16cd-d354-471a-ad58-15b801c8a295",
   "metadata": {},
   "outputs": [],
   "source": [
    "py5_tools.screenshot()"
   ]
  },
  {
   "cell_type": "markdown",
   "id": "4bbbaa57-5708-4d0c-9975-d5c0a70f4afd",
   "metadata": {},
   "source": [
    "Neat, huh? \n",
    "\n",
    "The [](/reference/sketch_convert_shape) method did all the heavy lifting to create the object and add apply the base color texture using the UV coordinates.\n",
    "\n",
    "Note that Trimesh objects can have additional texture maps for things such as surface normals or metallic roughness. Since the\n",
    "default py5 polygon shader cannot make use of these, py5's [](/reference/sketch_convert_shape) method will not add them to the created `Py5Shape` object."
   ]
  },
  {
   "cell_type": "markdown",
   "id": "fcdebfd1-416d-4807-9af2-20b762259a75",
   "metadata": {},
   "source": [
    "Simple geometry examples, show boolean operations\n",
    "\n",
    "Include note about colors, may need to disable style. Sometimes trimesh adds a style to something. If the object has a style, py5 (should) pick up on that and use it.\n",
    "\n",
    "Scene, Trimesh, Path2D, Path3D\n",
    "\n",
    "## Options\n",
    "\n",
    "textures"
   ]
  },
  {
   "cell_type": "code",
   "execution_count": null,
   "id": "2ed2d914-8f02-456b-a9cc-5541fdfc5966",
   "metadata": {},
   "outputs": [],
   "source": []
  }
 ],
 "metadata": {
  "jupytext": {
   "formats": "ipynb,md:myst"
  },
  "kernelspec": {
   "display_name": "Python 3 (ipykernel)",
   "language": "python",
   "name": "python3"
  },
  "language_info": {
   "codemirror_mode": {
    "name": "ipython",
    "version": 3
   },
   "file_extension": ".py",
   "mimetype": "text/x-python",
   "name": "python",
   "nbconvert_exporter": "python",
   "pygments_lexer": "ipython3",
   "version": "3.8.17"
  }
 },
 "nbformat": 4,
 "nbformat_minor": 5
}
