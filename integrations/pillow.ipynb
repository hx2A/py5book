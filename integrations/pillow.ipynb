{
 "cells": [
  {
   "cell_type": "markdown",
   "id": "badf6d2d",
   "metadata": {
    "editable": true,
    "slideshow": {
     "slide_type": ""
    },
    "tags": []
   },
   "source": [
    "# Images and Pillow\n",
    "\n",
    "[Pillow](https://pillow.readthedocs.io/en/stable/) is a popular Python library for working with images. It is a friendly fork of a similar library called PIL.\n",
    "\n",
    "Pillow is one of py5's dependencies, so it will always be installed alongside py5.\n",
    "\n",
    "Internally, py5 uses Pillow to save frames. This enables py5 to save images in a wide variety of image formats, beyond what Processing supports.\n",
    "\n",
    "Py5's [](/reference/sketch_convert_shape) method enables py5 users to load images in any format Pillow supports and to convert them in to `Py5Image` objects.\n",
    "\n",
    "Let's experiment with the Pillow image library and py5, starting with the imports."
   ]
  },
  {
   "cell_type": "code",
   "execution_count": null,
   "id": "4124e5e3-9dd9-4830-aa2e-96e58b642260",
   "metadata": {
    "editable": true,
    "slideshow": {
     "slide_type": ""
    },
    "tags": []
   },
   "outputs": [],
   "source": [
    "from PIL import Image\n",
    "\n",
    "import py5_tools\n",
    "import py5"
   ]
  },
  {
   "cell_type": "markdown",
   "id": "99cfc659-144e-458c-ad2b-bb01618022ec",
   "metadata": {},
   "source": [
    "## Basic Image Example\n",
    "\n",
    "First we will load an image."
   ]
  },
  {
   "cell_type": "code",
   "execution_count": null,
   "id": "03d22af9-4268-4d1a-97c9-c1857763914a",
   "metadata": {
    "editable": true,
    "slideshow": {
     "slide_type": ""
    },
    "tags": []
   },
   "outputs": [],
   "source": [
    "logo = Image.open('images/logo.png')\n",
    "\n",
    "logo"
   ]
  },
  {
   "cell_type": "markdown",
   "id": "16e6c0dc-1687-4c84-81de-846632542345",
   "metadata": {},
   "source": [
    "We can then use this Pillow image in our Sketch."
   ]
  },
  {
   "cell_type": "code",
   "execution_count": null,
   "id": "8953a2eb-156e-45c8-8244-205c2f186a06",
   "metadata": {
    "editable": true,
    "slideshow": {
     "slide_type": ""
    },
    "tags": []
   },
   "outputs": [],
   "source": [
    "def setup():\n",
    "    py5.size(400, 400)\n",
    "    py5.background(64)\n",
    "    py5.image_mode(py5.CENTER)\n",
    "\n",
    "    img = py5.convert_image(logo)    \n",
    "    py5.image(img, 200, 200)\n",
    "\n",
    "\n",
    "py5.run_sketch()"
   ]
  },
  {
   "cell_type": "code",
   "execution_count": null,
   "id": "a7a913c7-f063-47d3-84b6-793fd3aef4eb",
   "metadata": {
    "editable": true,
    "slideshow": {
     "slide_type": ""
    },
    "tags": [
     "remove-cell"
    ]
   },
   "outputs": [],
   "source": [
    "import time\n",
    "\n",
    "time.sleep(1)"
   ]
  },
  {
   "cell_type": "markdown",
   "id": "e8e19d8e-74ae-4dc4-a1d5-72784982d88f",
   "metadata": {
    "editable": true,
    "slideshow": {
     "slide_type": ""
    },
    "tags": []
   },
   "source": [
    "It looks very much like what you'd expect."
   ]
  },
  {
   "cell_type": "code",
   "execution_count": null,
   "id": "7ab196d4-b3bd-463a-a52c-37a421c7f717",
   "metadata": {
    "editable": true,
    "slideshow": {
     "slide_type": ""
    },
    "tags": []
   },
   "outputs": [],
   "source": [
    "py5_tools.screenshot()"
   ]
  },
  {
   "cell_type": "code",
   "execution_count": null,
   "id": "e33bb7f7-c6b2-4fcc-888a-c6b4f296147b",
   "metadata": {
    "editable": true,
    "slideshow": {
     "slide_type": ""
    },
    "tags": [
     "remove-cell"
    ]
   },
   "outputs": [],
   "source": [
    "time.sleep(0.5)\n",
    "py5.exit_sketch()\n",
    "time.sleep(0.5)"
   ]
  },
  {
   "cell_type": "markdown",
   "id": "4a71ab27-d60d-45e3-8781-cd187a98c9f8",
   "metadata": {
    "editable": true,
    "slideshow": {
     "slide_type": ""
    },
    "tags": []
   },
   "source": [
    "Converting a Pillow image to a `Py5Image` object takes a small amount of time to complete but if you want to repeatedly draw your Pillow image to the screen, it is recommended that you do the conversion once in `setup()`. You can do this with the `global` keyword. For example:"
   ]
  },
  {
   "cell_type": "code",
   "execution_count": null,
   "id": "ba24075e-a361-49d1-8438-08504be484ee",
   "metadata": {
    "editable": true,
    "slideshow": {
     "slide_type": ""
    },
    "tags": []
   },
   "outputs": [],
   "source": [
    "def setup():\n",
    "    global img\n",
    "    py5.size(400, 400)\n",
    "    py5.background(64)\n",
    "    py5.image_mode(py5.CENTER)\n",
    "\n",
    "    img = py5.convert_image(logo)\n",
    "\n",
    "\n",
    "def draw():\n",
    "    xval = py5.random(py5.width)\n",
    "    yval = py5.random(py5.height)\n",
    "    py5.image(img, xval, yval)\n",
    "\n",
    "\n",
    "py5.run_sketch()"
   ]
  },
  {
   "cell_type": "code",
   "execution_count": null,
   "id": "b03e4a6b-cb43-44e9-b83f-5454161ea1a3",
   "metadata": {
    "editable": true,
    "slideshow": {
     "slide_type": ""
    },
    "tags": [
     "remove-cell"
    ]
   },
   "outputs": [],
   "source": [
    "time.sleep(3)"
   ]
  },
  {
   "cell_type": "markdown",
   "id": "0166541a-6e13-4c2b-8314-f31e25dfd2b6",
   "metadata": {
    "editable": true,
    "slideshow": {
     "slide_type": ""
    },
    "tags": []
   },
   "source": [
    "And here's what that looks like."
   ]
  },
  {
   "cell_type": "code",
   "execution_count": null,
   "id": "f15e5065-3117-4cfd-8455-ed2464d79edd",
   "metadata": {
    "editable": true,
    "slideshow": {
     "slide_type": ""
    },
    "tags": []
   },
   "outputs": [],
   "source": [
    "py5_tools.screenshot()"
   ]
  },
  {
   "cell_type": "code",
   "execution_count": null,
   "id": "bec9c3ac-76b5-4d43-b255-440e7710d7d0",
   "metadata": {
    "editable": true,
    "slideshow": {
     "slide_type": ""
    },
    "tags": [
     "remove-cell"
    ]
   },
   "outputs": [],
   "source": [
    "time.sleep(0.5)\n",
    "py5.exit_sketch()\n",
    "time.sleep(0.5)"
   ]
  }
 ],
 "metadata": {
  "jupytext": {
   "formats": "ipynb,md:myst"
  },
  "kernelspec": {
   "display_name": "Python 3 (ipykernel)",
   "language": "python",
   "name": "python3"
  },
  "language_info": {
   "codemirror_mode": {
    "name": "ipython",
    "version": 3
   },
   "file_extension": ".py",
   "mimetype": "text/x-python",
   "name": "python",
   "nbconvert_exporter": "python",
   "pygments_lexer": "ipython3",
   "version": "3.8.17"
  }
 },
 "nbformat": 4,
 "nbformat_minor": 5
}
