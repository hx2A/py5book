{
 "cells": [
  {
   "cell_type": "markdown",
   "id": "fcf1bdbe",
   "metadata": {},
   "source": [
    "# Converting SVG Images with Cairo\n",
    "\n",
    "[Cairo](https://www.cairographics.org/) is a widely used graphics library for\n",
    "working with SVG images. Cairo is written in C but there are several Python\n",
    "libraries available to make it accessible to py5.\n",
    "\n",
    "## Setup\n",
    "\n",
    "First you must install the 2D graphics library Cairo. The easiest way to do this\n",
    "is with conda using the conda-forge channel. This will work for any operating\n",
    "system.\n",
    "\n",
    "```bash\n",
    "conda install cairo --channel conda-forge\n",
    "```\n",
    "\n",
    "If you don't want to use conda, refer to the install instructions in the [Cairo\n",
    "documentation](https://www.cairographics.org/download/). Installing Cairo on\n",
    "Windows without conda is challenging.\n",
    "\n",
    "Next you will need to install a Python library that uses Cairo. Pick one (1) of\n",
    "the following options:\n",
    "\n",
    "```\n",
    "conda install --channel conda-forge cairosvg\n",
    "conda install --channel conda-forge pycairo\n",
    "conda install --channel conda-forge cairocffi\n",
    "```\n",
    "\n",
    "You can also install these with `pip`.\n",
    "\n",
    "There's no need to install more than one. While testing it seemed that\n",
    "installing more than one caused problems.\n",
    "\n",
    "TODO: remove this from the install page\n",
    "\n",
    "## Convert SVG images to Py5Image objects"
   ]
  }
 ],
 "metadata": {
  "jupytext": {
   "formats": "ipynb,md:myst"
  },
  "kernelspec": {
   "display_name": "Python 3",
   "language": "python",
   "name": "python3"
  }
 },
 "nbformat": 4,
 "nbformat_minor": 5
}
