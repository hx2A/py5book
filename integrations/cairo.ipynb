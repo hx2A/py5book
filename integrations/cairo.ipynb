{
 "cells": [
  {
   "cell_type": "markdown",
   "id": "fcf1bdbe",
   "metadata": {
    "editable": true,
    "slideshow": {
     "slide_type": ""
    },
    "tags": []
   },
   "source": [
    "# SVG Images and Cairo\n",
    "\n",
    "[Cairo](https://www.cairographics.org/) is a widely used graphics library for\n",
    "working with SVG images. Cairo is written in C but there are several Python\n",
    "libraries available to make it accessible to py5.\n",
    "\n",
    "Converting SVG Images to Py5Image objects with Cairo and\n",
    "[](/reference/sketch_convert_shape) is useful to py5 users that want to use SVG\n",
    "content in a Sketch that uses a rasterized renderer (such as the default JAVA2D\n",
    "renderer or the OpenGL renderers P2D or P3D).\n",
    "\n",
    "Processing can also load SVG images as Py5Shape objects with\n",
    "[](/reference/sketch_load_shape) but they will load correctly if the SVG code\n",
    "uses only a small subset of the full SVG specification. These limitations will\n",
    "result in problems when loading SVG files created in sophisticated SVG editors\n",
    "such as Inkscape or Adobe Illustrator.\n",
    "\n",
    "## Setup\n",
    "\n",
    "First you must install the 2D graphics library Cairo. The easiest way to do this\n",
    "is with conda using the conda-forge channel. This will work for any operating\n",
    "system.\n",
    "\n",
    "```bash\n",
    "conda install cairo --channel conda-forge\n",
    "```\n",
    "\n",
    "If you don't want to use conda, refer to the install instructions in the [Cairo\n",
    "documentation](https://www.cairographics.org/download/). Installing Cairo on\n",
    "Windows without conda is challenging.\n",
    "\n",
    "Next you will need to install the Python libraries that py5 uses to access Cairo.\n",
    "\n",
    "```bash\n",
    "conda install --channel conda-forge cairosvg cairocffi\n",
    "```\n",
    "\n",
    "You can also install these with `pip`.\n",
    "\n",
    "TODO: remove this from the install page\n",
    "\n",
    "## Convert SVG Images\n",
    "\n",
    "Let's start by importing the necessary libraries for this demonstration."
   ]
  },
  {
   "cell_type": "code",
   "execution_count": null,
   "id": "2c22bb34-2211-4da0-988e-44ecc71bad20",
   "metadata": {
    "editable": true,
    "slideshow": {
     "slide_type": ""
    },
    "tags": []
   },
   "outputs": [],
   "source": [
    "from IPython.display import SVG\n",
    "\n",
    "import py5_tools\n",
    "import py5"
   ]
  },
  {
   "cell_type": "markdown",
   "id": "50a46f6d-b409-454e-84bb-37ae6139e7fd",
   "metadata": {
    "editable": true,
    "slideshow": {
     "slide_type": ""
    },
    "tags": []
   },
   "source": [
    "Here is the SVG file we will be working with.\n",
    "\n",
    "TODO: make my own SVG file in Inscape that breaks this load_shape(). Use fonts"
   ]
  },
  {
   "cell_type": "code",
   "execution_count": null,
   "id": "1aec2bb7-3ba1-4c6f-b9c7-8ee83691eae1",
   "metadata": {
    "editable": true,
    "slideshow": {
     "slide_type": ""
    },
    "tags": []
   },
   "outputs": [],
   "source": [
    "with open('images/bot.svg') as f:\n",
    "    svg_code = f.read()\n",
    "\n",
    "SVG(svg_code)"
   ]
  },
  {
   "cell_type": "markdown",
   "id": "4de71b1c-f79d-41ee-af00-26cac020525a",
   "metadata": {
    "editable": true,
    "slideshow": {
     "slide_type": ""
    },
    "tags": []
   },
   "source": [
    "Now let's use that in our Sketch. Notice we are passing the SVG image path to\n",
    "[](/reference/convert_image). It will load the SVG file, send it to Cairo for\n",
    "rastorization, and return a `Py5Image` object."
   ]
  },
  {
   "cell_type": "code",
   "execution_count": null,
   "id": "a385211d-2621-4858-8eaa-397934ab3214",
   "metadata": {
    "editable": true,
    "slideshow": {
     "slide_type": ""
    },
    "tags": []
   },
   "outputs": [],
   "source": [
    "def setup():\n",
    "    py5.size(300, 300)\n",
    "\n",
    "    svg = py5.convert_image('images/us_map.svg', scale=0.3, background_color='red')\n",
    "    assert isinstance(svg, py5.Py5Image)\n",
    "\n",
    "    py5.image(svg, 0, 0)"
   ]
  },
  {
   "cell_type": "code",
   "execution_count": null,
   "id": "af99c68a-d0de-4bbe-b009-0b111d42b7ed",
   "metadata": {
    "editable": true,
    "slideshow": {
     "slide_type": ""
    },
    "tags": []
   },
   "outputs": [],
   "source": [
    "py5.run_sketch()"
   ]
  },
  {
   "cell_type": "markdown",
   "id": "0dfa95ba-6f76-4dff-af19-f679ab7edf9c",
   "metadata": {
    "editable": true,
    "slideshow": {
     "slide_type": ""
    },
    "tags": []
   },
   "source": [
    "Here's what that looks like:"
   ]
  },
  {
   "cell_type": "code",
   "execution_count": null,
   "id": "528e4e23-c001-4e23-9b03-40a246a488a8",
   "metadata": {
    "editable": true,
    "slideshow": {
     "slide_type": ""
    },
    "tags": []
   },
   "outputs": [],
   "source": [
    "py5_tools.screenshot()"
   ]
  },
  {
   "cell_type": "code",
   "execution_count": null,
   "id": "ff185532-0eb1-4fa8-8b81-fbb72646de30",
   "metadata": {
    "editable": true,
    "slideshow": {
     "slide_type": ""
    },
    "tags": [
     "remove-cell"
    ]
   },
   "outputs": [],
   "source": [
    "import time\n",
    "\n",
    "time.sleep(1)\n",
    "\n",
    "py5.exit_sketch()"
   ]
  },
  {
   "cell_type": "markdown",
   "id": "848a3cde-4b69-43d2-bfd4-606d2799d3d6",
   "metadata": {
    "editable": true,
    "slideshow": {
     "slide_type": ""
    },
    "tags": []
   },
   "source": [
    "If instead we had tried to load the SVG file as a Py5Shape object with\n",
    "[](/reference/sketch_load_shape), we would have seen this:"
   ]
  },
  {
   "cell_type": "code",
   "execution_count": null,
   "id": "33fd539f-b529-488a-9bf5-63f56261c5ff",
   "metadata": {
    "editable": true,
    "slideshow": {
     "slide_type": ""
    },
    "tags": []
   },
   "outputs": [],
   "source": [
    "def setup():\n",
    "    py5.size(300, 300)\n",
    "\n",
    "    svg = py5.load_shape('images/us_map.svg')\n",
    "\n",
    "    py5.shape(svg, 0, 0)\n",
    "\n",
    "\n",
    "py5.run_sketch()\n",
    "\n",
    "py5_tools.screenshot()"
   ]
  },
  {
   "cell_type": "code",
   "execution_count": null,
   "id": "cae71f0b-5464-4cd5-a7a1-7adc3e8b3817",
   "metadata": {
    "editable": true,
    "slideshow": {
     "slide_type": ""
    },
    "tags": [
     "remove-cell"
    ]
   },
   "outputs": [],
   "source": [
    "time.sleep(1)\n",
    "\n",
    "py5.exit_sketch()"
   ]
  },
  {
   "cell_type": "markdown",
   "id": "59b1321d-56ad-4de3-9648-1375c66b125d",
   "metadata": {
    "editable": true,
    "slideshow": {
     "slide_type": ""
    },
    "tags": []
   },
   "source": [
    "There are warnings, and it doesn't look as it should. Therefore, using [](/reference/convert_image) is a better option for working with this SVG image.\n",
    "\n",
    "## Cairo Surfaces"
   ]
  },
  {
   "cell_type": "code",
   "execution_count": null,
   "id": "8471a63e-1504-42ac-9d72-c3306c60c0d0",
   "metadata": {
    "editable": true,
    "slideshow": {
     "slide_type": ""
    },
    "tags": []
   },
   "outputs": [],
   "source": []
  },
  {
   "cell_type": "markdown",
   "id": "07983773-3b52-4a90-b536-38737f316314",
   "metadata": {
    "editable": true,
    "slideshow": {
     "slide_type": ""
    },
    "tags": []
   },
   "source": [
    "| keyword argument | description |\n",
    "|---|---|\n",
    "| parent_width | width of parent container in pixels |\n",
    "| parent_height | height of parent container in pixels |\n",
    "| dpi | ratio between 1 inch and 1 pixel |\n",
    "| scale | output scaling factor |\n",
    "| unsafe | resolve XML entities and allow very large files |\n",
    "| background_color | background color to replace transparent background |\n",
    "| negate_colors | negate SVG colors |\n",
    "| invert_images | negate colors in embedded images |\n",
    "| output_width | desired output width in pixels |\n",
    "| output_height | desired output height in pixels |\n"
   ]
  },
  {
   "cell_type": "markdown",
   "id": "585acebf-e96e-4c2e-a25f-851098000302",
   "metadata": {
    "editable": true,
    "slideshow": {
     "slide_type": ""
    },
    "tags": []
   },
   "source": [
    "```bash\n",
    "conda install --channel conda-forge pycairo\n",
    "```"
   ]
  },
  {
   "cell_type": "code",
   "execution_count": null,
   "id": "8080dffb-64be-48e7-a0d0-a2c76023a8a9",
   "metadata": {
    "editable": true,
    "slideshow": {
     "slide_type": ""
    },
    "tags": []
   },
   "outputs": [],
   "source": []
  }
 ],
 "metadata": {
  "jupytext": {
   "formats": "ipynb,md:myst"
  },
  "kernelspec": {
   "display_name": "Python 3 (ipykernel)",
   "language": "python",
   "name": "python3"
  },
  "language_info": {
   "codemirror_mode": {
    "name": "ipython",
    "version": 3
   },
   "file_extension": ".py",
   "mimetype": "text/x-python",
   "name": "python",
   "nbconvert_exporter": "python",
   "pygments_lexer": "ipython3",
   "version": "3.8.17"
  }
 },
 "nbformat": 4,
 "nbformat_minor": 5
}
