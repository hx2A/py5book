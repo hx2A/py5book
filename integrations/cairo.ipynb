{
 "cells": [
  {
   "cell_type": "markdown",
   "id": "fcf1bdbe",
   "metadata": {
    "editable": true,
    "slideshow": {
     "slide_type": ""
    },
    "tags": []
   },
   "source": [
    "# SVG Images and Cairo\n",
    "\n",
    "[Cairo](https://www.cairographics.org/) is a widely used graphics library for\n",
    "working with SVG (Scalable Vector Graphics) images. Cairo is written in C but\n",
    "there are several Python libraries available to make it accessible to py5.\n",
    "\n",
    "Converting SVG Images to Py5Image objects with Cairo and\n",
    "[](/reference/sketch_convert_shape) is useful to py5 users that want to use SVG\n",
    "content in a Sketch that uses a rasterized renderer (such as the default JAVA2D\n",
    "renderer or the OpenGL renderers P2D or P3D).\n",
    "\n",
    "Processing can also load SVG images as Py5Shape objects with\n",
    "[](/reference/sketch_load_shape) but the method supports only a small subset of\n",
    "the full SVG specification. The method is not intended to be a comprehensive SVG\n",
    "interpreter, as providing that functionality would be a significant undertaking.\n",
    "Nevertheless, the method's limitations will result in problems when loading SVG\n",
    "files created in sophisticated SVG editors such as Inkscape or Adobe Illustrator.\n",
    "\n",
    "## Setup\n",
    "\n",
    "First you must install the 2D graphics library Cairo. The easiest way to do this\n",
    "is with conda using the conda-forge channel. This will work for any operating\n",
    "system.\n",
    "\n",
    "```bash\n",
    "conda install cairo --channel conda-forge\n",
    "```\n",
    "\n",
    "If you don't want to use conda, refer to the install instructions in the [Cairo\n",
    "documentation](https://www.cairographics.org/download/). Installing Cairo on\n",
    "Windows without conda is challenging.\n",
    "\n",
    "Next you will need to install the Python libraries that py5 uses to access Cairo\n",
    "and work with SVG files. The cairosvg library depends on cairocffi.\n",
    "\n",
    "```bash\n",
    "conda install --channel conda-forge cairosvg cairocffi\n",
    "```\n",
    "\n",
    "You can also install these with `pip`.\n",
    "\n",
    "TODO: remove this from the install page\n",
    "\n",
    "## Convert SVG Images\n",
    "\n",
    "Let's start by importing the necessary libraries for this demonstration."
   ]
  },
  {
   "cell_type": "code",
   "execution_count": null,
   "id": "2c22bb34-2211-4da0-988e-44ecc71bad20",
   "metadata": {
    "editable": true,
    "slideshow": {
     "slide_type": ""
    },
    "tags": []
   },
   "outputs": [],
   "source": [
    "from IPython.display import SVG\n",
    "\n",
    "import py5_tools\n",
    "import py5"
   ]
  },
  {
   "cell_type": "markdown",
   "id": "50a46f6d-b409-454e-84bb-37ae6139e7fd",
   "metadata": {
    "editable": true,
    "slideshow": {
     "slide_type": ""
    },
    "tags": []
   },
   "source": [
    "Here is the SVG file we will be working with. Observe the SVG image uses a\n",
    "color gradient and has centered text."
   ]
  },
  {
   "cell_type": "code",
   "execution_count": null,
   "id": "1aec2bb7-3ba1-4c6f-b9c7-8ee83691eae1",
   "metadata": {
    "editable": true,
    "slideshow": {
     "slide_type": ""
    },
    "tags": []
   },
   "outputs": [],
   "source": [
    "with open('images/py5_is_awesome.svg') as f:\n",
    "    svg_code = f.read()\n",
    "\n",
    "SVG(svg_code)"
   ]
  },
  {
   "cell_type": "markdown",
   "id": "4de71b1c-f79d-41ee-af00-26cac020525a",
   "metadata": {
    "editable": true,
    "slideshow": {
     "slide_type": ""
    },
    "tags": []
   },
   "source": [
    "Now let's use that in our Sketch. Notice we are passing the SVG image path to\n",
    "[](/reference/convert_image). It will read the SVG file, and then the cairosvg\n",
    "library will send it to Cairo for rastorization via cairocffi. The method call\n",
    "returns a `Py5Image` object."
   ]
  },
  {
   "cell_type": "code",
   "execution_count": null,
   "id": "a385211d-2621-4858-8eaa-397934ab3214",
   "metadata": {
    "editable": true,
    "slideshow": {
     "slide_type": ""
    },
    "tags": []
   },
   "outputs": [],
   "source": [
    "def setup():\n",
    "    py5.size(500, 500)\n",
    "\n",
    "    svg = py5.convert_image('images/py5_is_awesome.svg')\n",
    "    assert isinstance(svg, py5.Py5Image)\n",
    "\n",
    "    py5.image(svg, 0, 0)\n",
    "\n",
    "\n",
    "py5.run_sketch()"
   ]
  },
  {
   "cell_type": "markdown",
   "id": "0dfa95ba-6f76-4dff-af19-f679ab7edf9c",
   "metadata": {
    "editable": true,
    "slideshow": {
     "slide_type": ""
    },
    "tags": []
   },
   "source": [
    "Here's what that looks like:"
   ]
  },
  {
   "cell_type": "code",
   "execution_count": null,
   "id": "528e4e23-c001-4e23-9b03-40a246a488a8",
   "metadata": {
    "editable": true,
    "slideshow": {
     "slide_type": ""
    },
    "tags": []
   },
   "outputs": [],
   "source": [
    "py5_tools.screenshot()"
   ]
  },
  {
   "cell_type": "code",
   "execution_count": null,
   "id": "ff185532-0eb1-4fa8-8b81-fbb72646de30",
   "metadata": {
    "editable": true,
    "slideshow": {
     "slide_type": ""
    },
    "tags": [
     "remove-cell"
    ]
   },
   "outputs": [],
   "source": [
    "import time\n",
    "\n",
    "time.sleep(1)\n",
    "\n",
    "py5.exit_sketch()"
   ]
  },
  {
   "cell_type": "markdown",
   "id": "848a3cde-4b69-43d2-bfd4-606d2799d3d6",
   "metadata": {
    "editable": true,
    "slideshow": {
     "slide_type": ""
    },
    "tags": []
   },
   "source": [
    "If instead we had tried to load the SVG file as a Py5Shape object with\n",
    "[](/reference/sketch_load_shape), we would have seen this:"
   ]
  },
  {
   "cell_type": "code",
   "execution_count": null,
   "id": "1d4738b7-2e86-4e9e-82be-1feb7dfbce29",
   "metadata": {
    "editable": true,
    "slideshow": {
     "slide_type": ""
    },
    "tags": []
   },
   "outputs": [],
   "source": [
    "def setup():\n",
    "    py5.size(500, 500)\n",
    "\n",
    "    svg = py5.load_shape('images/py5_is_awesome.svg')\n",
    "\n",
    "    py5.shape(svg, 0, 0)\n",
    "\n",
    "\n",
    "py5.run_sketch()"
   ]
  },
  {
   "cell_type": "code",
   "execution_count": null,
   "id": "b6dbc4a7-0a8c-4fc1-8bcb-03446d7cc293",
   "metadata": {
    "editable": true,
    "slideshow": {
     "slide_type": ""
    },
    "tags": []
   },
   "outputs": [],
   "source": [
    "py5_tools.screenshot()"
   ]
  },
  {
   "cell_type": "code",
   "execution_count": null,
   "id": "cae71f0b-5464-4cd5-a7a1-7adc3e8b3817",
   "metadata": {
    "editable": true,
    "slideshow": {
     "slide_type": ""
    },
    "tags": [
     "remove-cell"
    ]
   },
   "outputs": [],
   "source": [
    "time.sleep(1)\n",
    "\n",
    "py5.exit_sketch()"
   ]
  },
  {
   "cell_type": "markdown",
   "id": "59b1321d-56ad-4de3-9648-1375c66b125d",
   "metadata": {
    "editable": true,
    "slideshow": {
     "slide_type": ""
    },
    "tags": []
   },
   "source": [
    "It can't handle the color gradient and the text alignment is wrong. Therefore, using [](/reference/convert_image) is a better option for working with this SVG image.\n",
    "\n",
    "## Optional Conversion Parameters\n",
    "\n",
    "The [](/reference/sketch_convert_shape) method provides a few optional customization parameters for SVG files.\n",
    "\n",
    "The most useful optional parameter is `scale`, allowing you to change the scale of the\n",
    "converted SVG image. There are some others such as `negate_colors` that will invert\n",
    "the SVG's color palette."
   ]
  },
  {
   "cell_type": "code",
   "execution_count": null,
   "id": "8471a63e-1504-42ac-9d72-c3306c60c0d0",
   "metadata": {
    "editable": true,
    "slideshow": {
     "slide_type": ""
    },
    "tags": []
   },
   "outputs": [],
   "source": [
    "def setup():\n",
    "    py5.size(500, 500)\n",
    "\n",
    "    svg1 = py5.convert_image('images/py5_is_awesome.svg', scale=0.5)\n",
    "    svg2 = py5.convert_image('images/py5_is_awesome.svg', scale=0.5, negate_colors=True)\n",
    "\n",
    "    py5.image(svg1, 0, 0)\n",
    "    py5.image(svg2, 250, 0)\n",
    "    py5.image(svg2, 0, 250)\n",
    "    py5.image(svg1, 250, 250)\n",
    "\n",
    "\n",
    "py5.run_sketch()"
   ]
  },
  {
   "cell_type": "markdown",
   "id": "c4d48119-0fe2-481c-bdb0-d05a2125ef24",
   "metadata": {
    "editable": true,
    "slideshow": {
     "slide_type": ""
    },
    "tags": []
   },
   "source": [
    "Here's the result:"
   ]
  },
  {
   "cell_type": "code",
   "execution_count": null,
   "id": "3e3f2adf-2fc3-4102-b86c-23893276058f",
   "metadata": {
    "editable": true,
    "slideshow": {
     "slide_type": ""
    },
    "tags": []
   },
   "outputs": [],
   "source": [
    "py5_tools.screenshot()"
   ]
  },
  {
   "cell_type": "code",
   "execution_count": null,
   "id": "1e523b9a-9a7b-4646-a22e-48f09323c438",
   "metadata": {
    "editable": true,
    "slideshow": {
     "slide_type": ""
    },
    "tags": [
     "remove-cell"
    ]
   },
   "outputs": [],
   "source": [
    "time.sleep(1)\n",
    "\n",
    "py5.exit_sketch()"
   ]
  },
  {
   "cell_type": "markdown",
   "id": "099b28bd-2e1c-40c7-be09-75f8de71920d",
   "metadata": {
    "editable": true,
    "slideshow": {
     "slide_type": ""
    },
    "tags": []
   },
   "source": [
    "The full list of optional parameters is below."
   ]
  },
  {
   "cell_type": "markdown",
   "id": "07983773-3b52-4a90-b536-38737f316314",
   "metadata": {
    "editable": true,
    "slideshow": {
     "slide_type": ""
    },
    "tags": []
   },
   "source": [
    "| keyword argument | description |\n",
    "|---|---|\n",
    "| parent_width | width of parent container in pixels |\n",
    "| parent_height | height of parent container in pixels |\n",
    "| dpi | ratio between 1 inch and 1 pixel |\n",
    "| scale | output scaling factor |\n",
    "| unsafe | resolve XML entities and allow very large files |\n",
    "| background_color | background color to replace transparent background |\n",
    "| negate_colors | negate SVG colors |\n",
    "| invert_images | negate colors in embedded images |\n",
    "| output_width | desired output width in pixels |\n",
    "| output_height | desired output height in pixels |"
   ]
  },
  {
   "cell_type": "markdown",
   "id": "1bb8c220-53f5-4625-92ab-f8c5917ce926",
   "metadata": {},
   "source": [
    "## Cairo Surfaces"
   ]
  },
  {
   "cell_type": "markdown",
   "id": "585acebf-e96e-4c2e-a25f-851098000302",
   "metadata": {
    "editable": true,
    "slideshow": {
     "slide_type": ""
    },
    "tags": []
   },
   "source": [
    "```bash\n",
    "conda install --channel conda-forge pycairo\n",
    "```"
   ]
  },
  {
   "cell_type": "code",
   "execution_count": null,
   "id": "8080dffb-64be-48e7-a0d0-a2c76023a8a9",
   "metadata": {
    "editable": true,
    "slideshow": {
     "slide_type": ""
    },
    "tags": []
   },
   "outputs": [],
   "source": []
  }
 ],
 "metadata": {
  "jupytext": {
   "formats": "ipynb,md:myst"
  },
  "kernelspec": {
   "display_name": "Python 3 (ipykernel)",
   "language": "python",
   "name": "python3"
  },
  "language_info": {
   "codemirror_mode": {
    "name": "ipython",
    "version": 3
   },
   "file_extension": ".py",
   "mimetype": "text/x-python",
   "name": "python",
   "nbconvert_exporter": "python",
   "pygments_lexer": "ipython3",
   "version": "3.8.17"
  }
 },
 "nbformat": 4,
 "nbformat_minor": 5
}
